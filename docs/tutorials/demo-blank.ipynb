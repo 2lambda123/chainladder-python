{
 "cells": [
  {
   "cell_type": "markdown",
   "id": "681cc0c7-9312-41f6-8935-3e5cf2daa1c1",
   "metadata": {
    "tags": []
   },
   "source": [
    "# Try Online\n",
    "If you are here to try `chainladder-python` for the first time, you are in the right place!\n",
    "\n",
    "With the help of Google Colab, you will be able to try the package online, without any installation or additional setup.\n",
    "\n",
    "You should use a blank copy of this workbook.\n",
    "  - Open in [Google Colab](https://githubtocolab.com/casact/chainladder-python/blob/master/docs/tutorials/demo-blank.ipynb) (faster, Google Account required)\n",
    "  - Open in [Binder](https://mybinder.org/v2/gh/casact/chainladder-python/master?urlpath=tree/docs/tutorials/demo-blank.ipynb) (slower, no sign up required)\n",
    "\n",
    "It's best that you work on your version of the workbook, while comparing this site directly for additional commentary and check your solutions to the exercises."
   ]
  },
  {
   "cell_type": "markdown",
   "id": "d8f38e79-5010-4190-b38c-cbc1d85bde47",
   "metadata": {},
   "source": [
    "# Setting Up\n",
    "We will first need to install the package, as Google Colab's default enviroment doesn't have the chainladder package pre-installed. You will need to run this step using your terminal instead of using a python notebook when you are ready to install the package on your machine.\n",
    "\n",
    "Simply execute `pip install chainladder`, Colab is smart enough to know that this is not a piece of python code, but to execute it in shell. FYI, `pip` stands for \"Package Installer for Python\"."
   ]
  },
  {
   "cell_type": "code",
   "execution_count": null,
   "id": "be51a379-5efe-420e-b689-3bf93b96ebc8",
   "metadata": {},
   "outputs": [],
   "source": []
  },
  {
   "cell_type": "markdown",
   "id": "011ee825-ca6d-4efc-b782-5e6f2a14bead",
   "metadata": {},
   "source": [
    "Other commonly used packages, such as `numpy`, `pandas`, and `matplotlib` are already pre-installed, we just need to load them into our enviroment."
   ]
  },
  {
   "cell_type": "code",
   "execution_count": 1,
   "id": "03fdf8fd-ecd1-4df4-b9cf-a4bf01d978f0",
   "metadata": {},
   "outputs": [
    {
     "name": "stdout",
     "output_type": "stream",
     "text": [
      "chainladder 0.8.13\n"
     ]
    }
   ],
   "source": [
    "import numpy as np\n",
    "import pandas as pd\n",
    "import matplotlib.pyplot as plt\n",
    "import chainladder as cl\n",
    "\n",
    "print(\"chainladder\", cl.__version__)"
   ]
  },
  {
   "cell_type": "markdown",
   "id": "42e0f37f-6d82-46ed-9f80-647cc7233046",
   "metadata": {},
   "source": [
    "# Our Journey Begins"
   ]
  },
  {
   "cell_type": "markdown",
   "id": "c9a3a636-979a-4205-9762-469e8afb7e46",
   "metadata": {},
   "source": [
    "Let's begin by looking at a sample dataset, called `xyz`, which is hosted on https://raw.githubusercontent.com/casact/chainladder-python/master/chainladder/utils/data/xyz.csv.\n",
    "\n",
    "Let's load the dataset into the memory with `pandas`, then inspect it."
   ]
  },
  {
   "cell_type": "code",
   "execution_count": null,
   "id": "aa2c95b8-86b4-4846-b950-12c402477ec1",
   "metadata": {
    "tags": []
   },
   "outputs": [],
   "source": []
  },
  {
   "cell_type": "markdown",
   "id": "996795b6-9361-4b5c-a00d-d9b6391b115f",
   "metadata": {},
   "source": [
    "Can you list all of the unique accident years? How many are there?"
   ]
  },
  {
   "cell_type": "code",
   "execution_count": null,
   "id": "4c11052c-291e-439f-ac0f-6736bb2b0b68",
   "metadata": {},
   "outputs": [],
   "source": []
  },
  {
   "cell_type": "code",
   "execution_count": null,
   "id": "cfeca5a6-366f-4abb-b3e9-51c91e7b9336",
   "metadata": {},
   "outputs": [],
   "source": []
  },
  {
   "cell_type": "markdown",
   "id": "58d76c79-2dfc-4240-bb12-89f46d8e3faf",
   "metadata": {
    "tags": []
   },
   "source": [
    "## Exercise 1\n",
    "How many unique valuation years are there? Can you sort them?"
   ]
  },
  {
   "cell_type": "markdown",
   "id": "9d18a455-97fb-4d77-9f97-1d19e96662b6",
   "metadata": {},
   "source": [
    "```{admonition} Click to reveal the solution\n",
    ":class: dropdown\n",
    "`np.sort(xyz_df[\"DevelopmentYear\"].unique())`\n",
    "```"
   ]
  },
  {
   "cell_type": "code",
   "execution_count": null,
   "id": "e0c5c08c-355d-4ea6-a94c-00c53e6d9496",
   "metadata": {},
   "outputs": [],
   "source": []
  },
  {
   "cell_type": "markdown",
   "id": "8f870f4f-117c-467d-b3d7-d2941f964f23",
   "metadata": {},
   "source": [
    "# Triangle Basics"
   ]
  },
  {
   "cell_type": "markdown",
   "id": "4d4ebbf6-bcdc-4c4f-be8c-168c4e7883ea",
   "metadata": {},
   "source": [
    "Let's load the data into the chainladder triangle format. And let's call it `xyz_tri`."
   ]
  },
  {
   "cell_type": "code",
   "execution_count": null,
   "id": "2b51e0b6-c1d3-4976-8866-4800b15d27ec",
   "metadata": {},
   "outputs": [],
   "source": []
  },
  {
   "cell_type": "markdown",
   "id": "2c404d26-4418-43b8-8687-58be1b6423f1",
   "metadata": {},
   "source": [
    "What does the incurred triangle look like?"
   ]
  },
  {
   "cell_type": "code",
   "execution_count": null,
   "id": "fe9309fe-2744-4e4d-beff-0a36c1182386",
   "metadata": {},
   "outputs": [],
   "source": []
  },
  {
   "cell_type": "markdown",
   "id": "ed9811e6-5761-4258-9942-19a620540361",
   "metadata": {},
   "source": [
    "How about paid?"
   ]
  },
  {
   "cell_type": "code",
   "execution_count": null,
   "id": "278856cf-6d84-4fa6-ac57-4f57755580b8",
   "metadata": {},
   "outputs": [],
   "source": []
  },
  {
   "cell_type": "markdown",
   "id": "9db8a7f2-4d23-41d4-b1bc-82497669a3fb",
   "metadata": {
    "tags": []
   },
   "source": [
    "## Exercise 2\n",
    "What would the Reported triangle look like?"
   ]
  },
  {
   "cell_type": "markdown",
   "id": "0d134812-6530-49e2-bddf-2d659417d918",
   "metadata": {},
   "source": [
    "```{admonition} Click to reveal the solution\n",
    ":class: dropdown\n",
    "`xyz_tri[\"Reported\"]`\n",
    "```"
   ]
  },
  {
   "cell_type": "code",
   "execution_count": null,
   "id": "c6e4e007-6c07-40ef-b4eb-8b6c8e422510",
   "metadata": {},
   "outputs": [],
   "source": []
  },
  {
   "cell_type": "markdown",
   "id": "bb194f6b-8ab9-4206-adf2-85496c68f06a",
   "metadata": {
    "tags": []
   },
   "source": [
    "## Exercise 3\n",
    "What would the Open Claim Count triangle look like?"
   ]
  },
  {
   "cell_type": "markdown",
   "id": "bf70741e-f4a7-4bb7-b585-3c106d9dc5c1",
   "metadata": {},
   "source": [
    "```{admonition} Click to reveal the solution\n",
    ":class: dropdown\n",
    "`xyz_tri[\"Reported\"] - xyz_tri[\"Closed\"]`\n",
    "```"
   ]
  },
  {
   "cell_type": "code",
   "execution_count": null,
   "id": "9d5db0d3-0f6f-4cc8-ab15-c07d025748bc",
   "metadata": {},
   "outputs": [],
   "source": []
  },
  {
   "cell_type": "markdown",
   "id": "04114ff8-107a-4c56-ab9a-8c36f53553df",
   "metadata": {},
   "source": [
    "# Pandas-like Operations"
   ]
  },
  {
   "cell_type": "markdown",
   "id": "433b8ae8-1968-4dfc-a176-c8a8c93c5f97",
   "metadata": {},
   "source": [
    "Let's see how `.iloc[...]` and `.loc[...]` simiarly to pandas. They take 4 parameters: [index, column, origin, valuation]."
   ]
  },
  {
   "cell_type": "markdown",
   "id": "f0452527-796d-4185-929a-97241329b377",
   "metadata": {},
   "source": [
    "What if we want the row from AY 1998 Incurred data?"
   ]
  },
  {
   "cell_type": "code",
   "execution_count": null,
   "id": "a13a157b-3fe9-4254-bc72-11d4e1705f29",
   "metadata": {},
   "outputs": [],
   "source": []
  },
  {
   "cell_type": "markdown",
   "id": "08b8557c-66fe-4a25-a8bf-5413ca1c1fbb",
   "metadata": {},
   "source": [
    "What if you only want the valuation at age 60?"
   ]
  },
  {
   "cell_type": "code",
   "execution_count": null,
   "id": "fb20eda1-4e4a-431d-8c8a-21cc87b8c472",
   "metadata": {},
   "outputs": [],
   "source": []
  },
  {
   "cell_type": "markdown",
   "id": "6d04a3d3-20c9-4d53-9d81-a3ba5a127a55",
   "metadata": {
    "tags": []
   },
   "source": [
    "## Exercise 4\n",
    "How do we get the Incurred column at age 60?"
   ]
  },
  {
   "cell_type": "markdown",
   "id": "14b6a07d-f53e-41e8-9700-afc8105ea95f",
   "metadata": {},
   "source": [
    "```{admonition} Click to reveal the solution\n",
    ":class: dropdown\n",
    "`xyz_tri.iloc[:, 0, :, 4]`\n",
    "```"
   ]
  },
  {
   "cell_type": "code",
   "execution_count": null,
   "id": "ac6e1c92-0882-4134-aa19-bd47b69f45f4",
   "metadata": {},
   "outputs": [],
   "source": []
  },
  {
   "cell_type": "markdown",
   "id": "15e3b401-9006-4769-a239-81d8b971c294",
   "metadata": {
    "tags": []
   },
   "source": [
    "## Exercise 5\n",
    "How do we get the Incurred column at age 60, but discarding everything below origin 2005? Display the result in thousands."
   ]
  },
  {
   "cell_type": "markdown",
   "id": "e647675d-5c6d-4eff-8ee4-4948a1662220",
   "metadata": {},
   "source": [
    "```{admonition} Click to reveal the solution\n",
    ":class: dropdown\n",
    "`xyz_tri.iloc[:, 0, 0:7, 4] / 1000`\n",
    "```"
   ]
  },
  {
   "cell_type": "code",
   "execution_count": null,
   "id": "78469547-2bac-4461-ae8a-7e1b7310912d",
   "metadata": {},
   "outputs": [],
   "source": []
  },
  {
   "cell_type": "markdown",
   "id": "e886140e-a44a-4871-aa2f-14b3d4a2e5f7",
   "metadata": {
    "tags": []
   },
   "source": [
    "## Exercise 6\n",
    "How do we get the Paid values for all origins, but only the lastest 5 valuations?"
   ]
  },
  {
   "cell_type": "markdown",
   "id": "796b997a-81e6-47de-8086-21ac5cb9adc7",
   "metadata": {},
   "source": [
    "```{admonition} Click to reveal the solution\n",
    ":class: dropdown\n",
    "`xyz_tri.iloc[:, 1, :, -5:]`\n",
    "```"
   ]
  },
  {
   "cell_type": "code",
   "execution_count": null,
   "id": "98cb1ea9-1fc5-4238-af7b-a3cdfba58428",
   "metadata": {},
   "outputs": [],
   "source": []
  },
  {
   "cell_type": "markdown",
   "id": "56683ffb-01ef-4e18-ba27-1b8ab31b9ae7",
   "metadata": {},
   "source": [
    "Let's use `.loc[...]` to get the incurred triangle."
   ]
  },
  {
   "cell_type": "code",
   "execution_count": null,
   "id": "b8116ded-c788-483c-b2af-fde45b72ee4a",
   "metadata": {},
   "outputs": [],
   "source": []
  },
  {
   "cell_type": "markdown",
   "id": "4adf2d0a-4f5e-4aaf-93c1-9a74e040c3bb",
   "metadata": {
    "tags": []
   },
   "source": [
    "## Exercise 7\n",
    "What if we want the Paid value for AY 1999 at age 60?"
   ]
  },
  {
   "cell_type": "markdown",
   "id": "52f314b1-21d3-495a-b456-c9c901764a3c",
   "metadata": {},
   "source": [
    "```{admonition} Click to reveal the solution\n",
    ":class: dropdown\n",
    "`xyz_tri.loc[:, \"Paid\", \"1999\", 60]`\n",
    "```"
   ]
  },
  {
   "cell_type": "code",
   "execution_count": null,
   "id": "06c8c375-0f3a-43f1-99b4-355b49ce9655",
   "metadata": {},
   "outputs": [],
   "source": []
  },
  {
   "cell_type": "markdown",
   "id": "c9d515b7-c9a3-4045-ad79-78af1574be8a",
   "metadata": {},
   "source": [
    "How do we get the latest diagonal only?"
   ]
  },
  {
   "cell_type": "code",
   "execution_count": null,
   "id": "5bce08b8-bf34-418e-ac3b-db253db44898",
   "metadata": {},
   "outputs": [],
   "source": []
  },
  {
   "cell_type": "markdown",
   "id": "31b56210-cbcd-4bbb-af9f-063a3788867a",
   "metadata": {},
   "source": [
    "Very often, we want incremental triangles instead. Let's convert the Incurred triangle to the incremental form."
   ]
  },
  {
   "cell_type": "code",
   "execution_count": null,
   "id": "b2766e7b-b1e6-4574-bfa7-fd70ccd556d7",
   "metadata": {},
   "outputs": [],
   "source": []
  },
  {
   "cell_type": "markdown",
   "id": "cd20c60d-3727-4a55-8fa7-48bf9ea4f3d3",
   "metadata": {
    "tags": []
   },
   "source": [
    "## Exercise 8\n",
    "Can you cast the raw Incurred triangle to the incremental form, and the back to the cumulative form, and check if it mutated?"
   ]
  },
  {
   "cell_type": "markdown",
   "id": "5bbbccda-a266-44c6-9944-06cfdc5d35a7",
   "metadata": {},
   "source": [
    "```{admonition} Click to reveal the solution\n",
    ":class: dropdown\n",
    "`xyz_tri[\"Incurred\"].cum_to_incr().incr_to_cum() == xyz_tri[\"Incurred\"]`\n",
    "```"
   ]
  },
  {
   "cell_type": "code",
   "execution_count": null,
   "id": "47502dcd-4ad6-4388-9c77-94f70353d72e",
   "metadata": {},
   "outputs": [],
   "source": []
  },
  {
   "cell_type": "markdown",
   "id": "320d50d7-6899-4cce-b418-08ca19ed116e",
   "metadata": {
    "tags": []
   },
   "source": [
    "## Exercise 9\n",
    "If we assume that the ultimate claim count is 0.25 times current Open claim count, plus the current Reported claim count, what would the ultimate claim count by origin years look like?"
   ]
  },
  {
   "cell_type": "markdown",
   "id": "2bdda8df-6422-488f-9e56-e6953c0a2c72",
   "metadata": {},
   "source": [
    "```{admonition} Click to reveal the solution\n",
    ":class: dropdown\n",
    "`(xyz_tri[\"Reported\"] - xyz_tri[\"Closed\"]).latest_diagonal * 0.25 + xyz_tri[\"Reported\"].latest_diagonal`\n",
    "```"
   ]
  },
  {
   "cell_type": "code",
   "execution_count": null,
   "id": "37d6b09e-0494-4fab-b3f6-838bcc38fa47",
   "metadata": {},
   "outputs": [],
   "source": []
  },
  {
   "cell_type": "markdown",
   "id": "6235668f-9025-4108-b987-f867f93c8ce6",
   "metadata": {},
   "source": [
    "We can also convert the triangle to the valuation format, what we often see on Schedule Ps."
   ]
  },
  {
   "cell_type": "code",
   "execution_count": null,
   "id": "72487c9a-4438-4ab7-8a24-245485d4c637",
   "metadata": {},
   "outputs": [],
   "source": []
  },
  {
   "cell_type": "markdown",
   "id": "a57e256a-c49e-4e2c-b640-2f4746e095d1",
   "metadata": {
    "tags": []
   },
   "source": [
    "## Exercise 10\n",
    "Can you get the Incurred column for 2005 valuation?"
   ]
  },
  {
   "cell_type": "markdown",
   "id": "09f6914a-aa25-45e5-b462-749807e19516",
   "metadata": {},
   "source": [
    "```{admonition} Click to reveal the solution\n",
    ":class: dropdown\n",
    "`xyz_tri[\"Incurred\"].dev_to_val().loc[:, :, :, \"2005\"]`\n",
    "```"
   ]
  },
  {
   "cell_type": "code",
   "execution_count": null,
   "id": "e0230fba-2687-494e-b182-7e460968d950",
   "metadata": {},
   "outputs": [],
   "source": []
  },
  {
   "cell_type": "markdown",
   "id": "a3c2c8c9-c9bc-414d-8804-d0ccba665e94",
   "metadata": {
    "tags": []
   },
   "source": [
    "## Exercise 11\n",
    "Can you get the Incurred columns for 2005 through 2008?"
   ]
  },
  {
   "cell_type": "markdown",
   "id": "f99b4bb6-edbb-4ebb-8abb-a9f8259a4b1a",
   "metadata": {},
   "source": [
    "```{admonition} Click to reveal the solution\n",
    ":class: dropdown\n",
    "`xyz_tri[\"Incurred\"].dev_to_val().iloc[:, :, :, 7:]`\n",
    "```"
   ]
  },
  {
   "cell_type": "code",
   "execution_count": null,
   "id": "56856270-aaa4-4a67-8fe5-6587b2349164",
   "metadata": {},
   "outputs": [],
   "source": []
  },
  {
   "cell_type": "markdown",
   "id": "6e404747-8e22-42c0-a1b5-45c95d702730",
   "metadata": {},
   "source": [
    "Another function that is often useful is the `.heatmap()` method. Let's inspect the incurred amount and see if there are trends."
   ]
  },
  {
   "cell_type": "code",
   "execution_count": null,
   "id": "f20ed887-e5b1-40f7-81b5-14bd840cca23",
   "metadata": {},
   "outputs": [],
   "source": []
  },
  {
   "cell_type": "markdown",
   "id": "27d110d2-ee73-4bb5-a411-3d27c0dd7673",
   "metadata": {},
   "source": [
    "# Development"
   ]
  },
  {
   "cell_type": "markdown",
   "id": "a0d0950f-bec7-406d-b253-4cf1bfd925dd",
   "metadata": {},
   "source": [
    "How can we get the incurred link ratios?"
   ]
  },
  {
   "cell_type": "code",
   "execution_count": null,
   "id": "ec16d0fd-ac17-4280-aabf-ad5795114d5f",
   "metadata": {},
   "outputs": [],
   "source": []
  },
  {
   "cell_type": "markdown",
   "id": "c74c5352-a95b-4403-8322-962ded312e39",
   "metadata": {},
   "source": [
    "We can also apply a `.heatmap()` to make it too, to help us visulize the highs and lows."
   ]
  },
  {
   "cell_type": "code",
   "execution_count": null,
   "id": "172c70be-2324-472f-b89c-29963695179a",
   "metadata": {},
   "outputs": [],
   "source": []
  },
  {
   "cell_type": "markdown",
   "id": "f5f212b0-3769-49cd-b7cc-b484f2877aa2",
   "metadata": {},
   "source": [
    "Let's get a simple average LDFs for our Incurred triangle."
   ]
  },
  {
   "cell_type": "code",
   "execution_count": null,
   "id": "ba0b96cb-77eb-472c-84fd-c5c8c5c11e10",
   "metadata": {},
   "outputs": [],
   "source": []
  },
  {
   "cell_type": "markdown",
   "id": "0c4baafd-e141-4566-a4ae-2f0a44ef828e",
   "metadata": {},
   "source": [
    "How about the CDFs?"
   ]
  },
  {
   "cell_type": "code",
   "execution_count": null,
   "id": "b156f84b-dd0d-49d6-8eec-070d0143f40c",
   "metadata": {},
   "outputs": [],
   "source": []
  },
  {
   "cell_type": "markdown",
   "id": "cb55e68b-fe4e-4f89-a527-c61a8fb23bb8",
   "metadata": {
    "tags": []
   },
   "source": [
    "## Exercise 12\n",
    "Can you get the Incurred LDF but using `volume`-weighted average using all periods?"
   ]
  },
  {
   "cell_type": "markdown",
   "id": "702fd1a4-22c1-49b7-a8da-916c2b4d2848",
   "metadata": {},
   "source": [
    "```{admonition} Click to reveal the solution\n",
    ":class: dropdown\n",
    "`cl.Development(average=\"volume\").fit(xyz_tri[\"Incurred\"]).ldf_`\n",
    "```"
   ]
  },
  {
   "cell_type": "code",
   "execution_count": null,
   "id": "ce58efc4-5f58-4d7c-a888-35c34e33904f",
   "metadata": {},
   "outputs": [],
   "source": []
  },
  {
   "cell_type": "markdown",
   "id": "d51e5664-3106-41d1-b77f-8afa9ee94ff7",
   "metadata": {},
   "source": [
    "We can also use only the latest 3 periods in the calculation of LDFs."
   ]
  },
  {
   "cell_type": "code",
   "execution_count": null,
   "id": "de88fdad-5d89-4cc2-adb0-bbeb7c77bbcb",
   "metadata": {},
   "outputs": [],
   "source": []
  },
  {
   "cell_type": "markdown",
   "id": "65c89f77-6326-42c9-9652-26e11ab2a0da",
   "metadata": {
    "tags": []
   },
   "source": [
    "## Exercise 13\n",
    "How do we get the Incurred LDF using simple-weighted average but with only the latest 3 periods?"
   ]
  },
  {
   "cell_type": "markdown",
   "id": "07d82bc3-7267-4869-a194-6b0abf9b9159",
   "metadata": {},
   "source": [
    "```{admonition} Click to reveal the solution\n",
    ":class: dropdown\n",
    "`cl.Development(average=\"simple\", n_periods=3).fit(xyz_tri[\"Incurred\"]).ldf_`\n",
    "```"
   ]
  },
  {
   "cell_type": "code",
   "execution_count": null,
   "id": "950db7e5-4e51-4076-902b-391f104f20e1",
   "metadata": {},
   "outputs": [],
   "source": []
  },
  {
   "cell_type": "markdown",
   "id": "68338411-2309-4e06-8f9e-e5093c5da366",
   "metadata": {
    "tags": []
   },
   "source": [
    "## Exercise 14\n",
    "Try to cast the `ldf_` to cumlative factors and back to incremental factors, did it mutate?"
   ]
  },
  {
   "cell_type": "markdown",
   "id": "b7c7d023-9d4d-4808-87e5-8a86d3cca8fb",
   "metadata": {},
   "source": [
    "```{admonition} Click to reveal the solution\n",
    ":class: dropdown\n",
    "`cl.Development(average=\"simple\", n_periods=3).fit(\n",
    "    xyz_tri[\"Incurred\"]\n",
    ").ldf_.incr_to_cum().cum_to_incr() == cl.Development(average=\"simple\", n_periods=3).fit(\n",
    "    xyz_tri[\"Incurred\"]\n",
    ").ldf_`\n",
    "```"
   ]
  },
  {
   "cell_type": "code",
   "execution_count": null,
   "id": "cb6467fc-4f3f-4e87-8fba-7f35a47e8d30",
   "metadata": {},
   "outputs": [],
   "source": []
  },
  {
   "cell_type": "markdown",
   "id": "8267f9c0-894a-4c8e-9899-e1ab4768b189",
   "metadata": {
    "tags": []
   },
   "source": [
    "## Exercise 15\n",
    "Use the help of the [reference doc](https://chainladder-python.readthedocs.io/en/latest/modules/generated/chainladder.Development.html), see if you can figure out how to calculate the LDFs using simple average of all values, but discarding the highest and the lowest value. Did you get a warning? Make sure you understand what it means."
   ]
  },
  {
   "cell_type": "markdown",
   "id": "ad1b2780-9ecf-410d-ad1e-e462ddbdaae7",
   "metadata": {},
   "source": [
    "```{admonition} Click to reveal the solution\n",
    ":class: dropdown\n",
    "`cl.Development(average=\"simple\", drop_high=True, drop_low=True).fit(\n",
    "    xyz_tri[\"Incurred\"]\n",
    ").ldf_`\n",
    "```"
   ]
  },
  {
   "cell_type": "code",
   "execution_count": null,
   "id": "374cddaa-7e94-4230-96a6-92bbed42d9a1",
   "metadata": {},
   "outputs": [],
   "source": []
  },
  {
   "cell_type": "markdown",
   "id": "b018bae9-6070-4795-8af6-b5e196aa1af1",
   "metadata": {},
   "source": [
    "# Deterministic Models"
   ]
  },
  {
   "cell_type": "markdown",
   "id": "e7c7b88e-205d-45c8-b9e6-4586f29041a4",
   "metadata": {},
   "source": [
    "Before we can build any models, we need to use `fit_transform()`, so that the object is actually modified with our selected development pattern(s).\n",
    "\n",
    "Set the development of the triangle to use only 3 periods."
   ]
  },
  {
   "cell_type": "code",
   "execution_count": null,
   "id": "9e5136d2-0c3c-44da-8440-57ca3cfbbb9d",
   "metadata": {},
   "outputs": [],
   "source": []
  },
  {
   "cell_type": "markdown",
   "id": "1bd89481-e5c7-4a84-b2cc-a2e386ccdb15",
   "metadata": {},
   "source": [
    "Let's fit a chainladder model to our Incurred triangle."
   ]
  },
  {
   "cell_type": "code",
   "execution_count": null,
   "id": "022e22e9-92a8-427c-bf5c-cf352df1437c",
   "metadata": {},
   "outputs": [],
   "source": []
  },
  {
   "cell_type": "markdown",
   "id": "7b710342-5f86-408e-bf7e-76382b37f2d1",
   "metadata": {},
   "source": [
    "How can we get the model's ultimate estimate?"
   ]
  },
  {
   "cell_type": "code",
   "execution_count": null,
   "id": "69f18923-73b1-4b80-9148-60a7bab5b118",
   "metadata": {},
   "outputs": [],
   "source": []
  },
  {
   "cell_type": "markdown",
   "id": "b416a404-8d0f-46fc-a3e7-f5b5b884b4b4",
   "metadata": {},
   "source": [
    "How about just the IBNR?"
   ]
  },
  {
   "cell_type": "code",
   "execution_count": null,
   "id": "5fad3aa0-03bc-4f84-a8b7-1a00dbdebe8d",
   "metadata": {},
   "outputs": [],
   "source": []
  },
  {
   "cell_type": "markdown",
   "id": "ca445858-448e-4669-912e-dd092ca2fdc2",
   "metadata": {
    "tags": []
   },
   "source": [
    "## Exercise 16\n",
    "Can you calculate the IBNR using ultimate - the latest diagonal instead? Check it against the `ibnr_` attribute."
   ]
  },
  {
   "cell_type": "markdown",
   "id": "e0af728e-6755-421c-8c95-cd97acd6dc62",
   "metadata": {},
   "source": [
    "```{admonition} Click to reveal the solution\n",
    ":class: dropdown\n",
    "`cl_mod.ultimate_ - xyz_tri[\"Incurred\"].latest_diagonal == cl_mod.ibnr_`\n",
    "```"
   ]
  },
  {
   "cell_type": "code",
   "execution_count": null,
   "id": "6aec9107-8b5a-4d5c-aa1c-8888e84eaeaa",
   "metadata": {},
   "outputs": [],
   "source": []
  },
  {
   "cell_type": "markdown",
   "id": "a6528ccc-678d-4426-b800-bfd7a7e67edb",
   "metadata": {
    "tags": []
   },
   "source": [
    "## Exercise 17\n",
    "Fit the chainladder model to the paid triangle, what is the ultimate for origin year 2005?"
   ]
  },
  {
   "cell_type": "markdown",
   "id": "d3f50392-26e2-4ce2-b0b2-2afa87c2a57c",
   "metadata": {},
   "source": [
    "```{admonition} Click to reveal the solution\n",
    ":class: dropdown\n",
    "`cl.Chainladder().fit(xyz_tri[\"Paid\"]).ultimate_.loc[:, :, \"2005\", :]`\n",
    "```"
   ]
  },
  {
   "cell_type": "code",
   "execution_count": null,
   "id": "f8b69298-4af3-4f94-91fc-b5a44e1d1223",
   "metadata": {},
   "outputs": [],
   "source": []
  },
  {
   "cell_type": "markdown",
   "id": "70d8c018-21ca-4f2c-a764-433e310bb44a",
   "metadata": {},
   "source": [
    "Let's fit an Expected Loss model, with an aprior of 90% on Premium, and get its ultimates."
   ]
  },
  {
   "cell_type": "code",
   "execution_count": null,
   "id": "22eba9fa-1890-4f6f-8a10-281142d2d58d",
   "metadata": {},
   "outputs": [],
   "source": []
  },
  {
   "cell_type": "markdown",
   "id": "eb20b72a-4e49-4eaa-b8e8-d3801833e2d3",
   "metadata": {},
   "source": [
    "Try it on the Paid triangle, do you get the same ultimate?"
   ]
  },
  {
   "cell_type": "code",
   "execution_count": null,
   "id": "411f48b0-8b86-4175-80f2-f5f4a19e6c46",
   "metadata": {},
   "outputs": [],
   "source": []
  },
  {
   "cell_type": "markdown",
   "id": "76704bd0-9d95-42e8-b08b-ca9c6d6a4328",
   "metadata": {
    "tags": []
   },
   "source": [
    "## Exercise 18\n",
    "What would the ultimate amounts be if we assume that they are 50% of premium + $20,000?"
   ]
  },
  {
   "cell_type": "markdown",
   "id": "d241de6e-ac95-478d-9571-2075d8171f5d",
   "metadata": {},
   "source": [
    "```{admonition} Click to reveal the solution\n",
    ":class: dropdown\n",
    "`cl.ExpectedLoss(apriori=1.00).fit(\n",
    "    xyz_tri[\"Incurred\"], sample_weight=xyz_tri[\"Premium\"].latest_diagonal * 0.50 + 20000\n",
    ").ultimate_`\n",
    "```"
   ]
  },
  {
   "cell_type": "code",
   "execution_count": null,
   "id": "5f8b1629-d2fa-4461-a8f2-32021d13bb69",
   "metadata": {},
   "outputs": [],
   "source": []
  },
  {
   "cell_type": "markdown",
   "id": "fb1d7eda-f4c6-4990-9488-47235492001a",
   "metadata": {},
   "source": [
    "How about a Bornhuetter-Ferguson model?"
   ]
  },
  {
   "cell_type": "code",
   "execution_count": null,
   "id": "d66c7c9a-71eb-4d56-beea-f275da062fc0",
   "metadata": {},
   "outputs": [],
   "source": []
  },
  {
   "cell_type": "markdown",
   "id": "5564ead9-d059-4d2c-839a-f988238e50ee",
   "metadata": {},
   "source": [
    "How about Benktander, with 2 iterations?"
   ]
  },
  {
   "cell_type": "code",
   "execution_count": null,
   "id": "d504e48d-1f5d-4fd6-975b-155235ffb577",
   "metadata": {},
   "outputs": [],
   "source": []
  },
  {
   "cell_type": "markdown",
   "id": "9217ce02-5387-4d7d-8c5e-017a9a11fa35",
   "metadata": {
    "tags": []
   },
   "source": [
    "## Exercise 19\n",
    "Do you remember how many iterations of the Benktander method yields the same result as a BF model? Try to see if they reconcile."
   ]
  },
  {
   "cell_type": "markdown",
   "id": "e9990771-07c4-4b94-9043-cb201d056041",
   "metadata": {},
   "source": [
    "```{admonition} Click to reveal the solution\n",
    ":class: dropdown\n",
    "`cl.Benktander(apriori=0.90, n_iters=1).fit(\n",
    "    xyz_tri[\"Incurred\"], sample_weight=xyz_tri[\"Premium\"].latest_diagonal\n",
    ").ultimate_ == cl.BornhuetterFerguson(apriori=0.90).fit(\n",
    "    xyz_tri[\"Incurred\"], sample_weight=xyz_tri[\"Premium\"].latest_diagonal\n",
    ").ultimate_`\n",
    "```"
   ]
  },
  {
   "cell_type": "code",
   "execution_count": null,
   "id": "694f1a80-4206-4636-b857-128decb8bf94",
   "metadata": {},
   "outputs": [],
   "source": []
  },
  {
   "cell_type": "markdown",
   "id": "002a76c2-7989-46ba-954b-d84c09b4675a",
   "metadata": {},
   "source": [
    "How about Cape Cod?"
   ]
  },
  {
   "cell_type": "code",
   "execution_count": null,
   "id": "7089ea42-ad28-4edc-9e83-723a7bc25443",
   "metadata": {},
   "outputs": [],
   "source": []
  },
  {
   "cell_type": "markdown",
   "id": "5a0d73a2-0e05-4be2-91f0-9ef1ef56a7be",
   "metadata": {},
   "source": [
    "Let's store the Cape Cod model as `cc_result`, so and make a bar chart over origin years to see what they look like."
   ]
  },
  {
   "cell_type": "code",
   "execution_count": null,
   "id": "f2cd9f8c-454d-4b9f-b936-a2f39e8fefde",
   "metadata": {},
   "outputs": [],
   "source": []
  },
  {
   "cell_type": "markdown",
   "id": "f74097b3-8262-46a2-8d0c-3ceb98dce3e3",
   "metadata": {
    "tags": []
   },
   "source": [
    "## Exercise 20\n",
    "With so many models built, can you plot their ultimates on a line chart, and compare their estimates? Start with the following code:"
   ]
  },
  {
   "cell_type": "markdown",
   "id": "54e01171-d21c-4f55-9c13-c3ff551bcff8",
   "metadata": {},
   "source": [
    "```\n",
    "cl_result = cl.Chainladder().fit(xyz_tri[\"Incurred\"])\n",
    "el_result = cl.ExpectedLoss(apriori=0.90).fit(\n",
    "    xyz_tri[\"Incurred\"], sample_weight=xyz_tri[\"Premium\"].latest_diagonal\n",
    ")\n",
    "bf_result = cl.BornhuetterFerguson(apriori=0.90).fit(\n",
    "    xyz_tri[\"Incurred\"], sample_weight=xyz_tri[\"Premium\"].latest_diagonal\n",
    ")\n",
    "bk_result = cl.Benktander(apriori=0.90, n_iters=1).fit(\n",
    "    xyz_tri[\"Incurred\"], sample_weight=xyz_tri[\"Premium\"].latest_diagonal\n",
    ")\n",
    "cc_result = cl.CapeCod().fit(\n",
    "    xyz_tri[\"Incurred\"], sample_weight=xyz_tri[\"Premium\"].latest_diagonal\n",
    ")\n",
    "```"
   ]
  },
  {
   "cell_type": "markdown",
   "id": "fe407ce1-b1ba-4e93-a93b-ba2cb4419d3b",
   "metadata": {},
   "source": [
    "```{admonition} Click to reveal the solution\n",
    ":class: dropdown\n",
    "`\n",
    "plt.plot(\n",
    "    cl_result.ultimate_.to_frame(origin_as_datetime=True).index.year,\n",
    "    cl_result.ultimate_.to_frame(origin_as_datetime=True)[\"2261\"],\n",
    "    label=\"Chainladder\",\n",
    ")\n",
    "plt.plot(\n",
    "    el_result.ultimate_.to_frame(origin_as_datetime=True).index.year,\n",
    "    el_result.ultimate_.to_frame(origin_as_datetime=True)[\"2261\"],\n",
    "    label=\"Expected Loss\",\n",
    ")\n",
    "plt.plot(\n",
    "    bf_result.ultimate_.to_frame(origin_as_datetime=True).index.year,\n",
    "    bf_result.ultimate_.to_frame(origin_as_datetime=True)[\"2261\"],\n",
    "    label=\"Bornhuetter-Ferguson\",\n",
    ")\n",
    "plt.plot(\n",
    "    bk_result.ultimate_.to_frame(origin_as_datetime=True).index.year,\n",
    "    bk_result.ultimate_.to_frame(origin_as_datetime=True)[\"2261\"],\n",
    "    label=\"Benktander\",\n",
    ")\n",
    "plt.plot(\n",
    "    cc_result.ultimate_.to_frame(origin_as_datetime=True).index.year,\n",
    "    cc_result.ultimate_.to_frame(origin_as_datetime=True)[\"2261\"],\n",
    "    label=\"Cape Cod\",\n",
    ")\n",
    "\n",
    "plt.legend(loc=\"upper left\")\n",
    "`\n",
    "```"
   ]
  },
  {
   "cell_type": "code",
   "execution_count": null,
   "id": "f81875f1-7f41-46c9-94d8-267fa7aeef9f",
   "metadata": {},
   "outputs": [],
   "source": []
  },
  {
   "cell_type": "markdown",
   "id": "3f9e62f8-225b-4046-8847-a6e8d971e14d",
   "metadata": {},
   "source": [
    "# Stochastic Models"
   ]
  },
  {
   "cell_type": "markdown",
   "id": "36105614-e317-4a87-a42d-282f59b1d339",
   "metadata": {},
   "source": [
    "The Mack's Chainladder model is available."
   ]
  },
  {
   "cell_type": "code",
   "execution_count": null,
   "id": "e008ebdb-243d-4ed0-9256-86331df1070a",
   "metadata": {},
   "outputs": [],
   "source": []
  },
  {
   "cell_type": "markdown",
   "id": "3298c63c-5356-4d69-afa3-058b68daf777",
   "metadata": {},
   "source": [
    "There are many attributes that are available, such as `full_std_err_`, `total_process_risk_`, `total_parameter_risk_`, `mack_std_err_` and `total_mack_std_err_`."
   ]
  },
  {
   "cell_type": "code",
   "execution_count": null,
   "id": "67f5d99b-7a5e-4640-a6e0-f8b654e6ce27",
   "metadata": {},
   "outputs": [],
   "source": []
  },
  {
   "cell_type": "markdown",
   "id": "bdb08c81-5921-4c41-ad63-96168ffd48b7",
   "metadata": {},
   "source": [
    "MackChainladder also has a `summary_` attribute."
   ]
  },
  {
   "cell_type": "code",
   "execution_count": null,
   "id": "81fc38c1-d5b7-4262-94ae-bce5c7ac17e1",
   "metadata": {},
   "outputs": [],
   "source": []
  },
  {
   "cell_type": "markdown",
   "id": "0e285585-62b6-48e4-8b1d-c5824ae5df46",
   "metadata": {},
   "source": [
    "Let's make a graph, that shows the Paid and IBNR as stacked bars, and error bars showing Mack Standard Errors."
   ]
  },
  {
   "cell_type": "code",
   "execution_count": null,
   "id": "e615b86e-a907-4445-9e95-645090719f76",
   "metadata": {},
   "outputs": [],
   "source": []
  },
  {
   "cell_type": "markdown",
   "id": "785120ad-03cf-48a7-90d8-d1d56a75ef88",
   "metadata": {},
   "source": [
    "ODP Bootstrap is also available. Let's build sample 10,000 Incurred triangles."
   ]
  },
  {
   "cell_type": "code",
   "execution_count": null,
   "id": "859e19f3-d526-435c-a845-4845a7a3956d",
   "metadata": {},
   "outputs": [],
   "source": []
  },
  {
   "cell_type": "markdown",
   "id": "4391f730-5309-49b2-9c19-0801e3e66c7c",
   "metadata": {},
   "source": [
    "We can fit a basic chainladder to all sampled triangles. We now have 10,000 simulated chainladder models, all (most) with unique LDFs."
   ]
  },
  {
   "cell_type": "code",
   "execution_count": null,
   "id": "fe6dbe70-1b2a-4fb0-aa6b-56380534704f",
   "metadata": {},
   "outputs": [],
   "source": []
  },
  {
   "cell_type": "markdown",
   "id": "a6f81ac6-a2ab-496d-8d1f-4604aa464370",
   "metadata": {},
   "source": [
    "We can use `predict()` to use the model characteristics (their unique LDFs) to predict our basic Incurred triangle."
   ]
  },
  {
   "cell_type": "code",
   "execution_count": null,
   "id": "4f304cf4-f973-4e98-b76f-8266de8659b6",
   "metadata": {},
   "outputs": [],
   "source": []
  },
  {
   "cell_type": "markdown",
   "id": "bb3d7c32-9e75-4ae4-ab23-0ca3f2a436b5",
   "metadata": {},
   "source": [
    "Let's make another graph."
   ]
  },
  {
   "cell_type": "code",
   "execution_count": null,
   "id": "edeba1db-97e6-43df-b1c0-590c2d7cd098",
   "metadata": {},
   "outputs": [],
   "source": []
  }
 ],
 "metadata": {
  "kernelspec": {
   "display_name": "Python 3 (ipykernel)",
   "language": "python",
   "name": "python3"
  },
  "language_info": {
   "codemirror_mode": {
    "name": "ipython",
    "version": 3
   },
   "file_extension": ".py",
   "mimetype": "text/x-python",
   "name": "python",
   "nbconvert_exporter": "python",
   "pygments_lexer": "ipython3",
   "version": "3.9.12"
  }
 },
 "nbformat": 4,
 "nbformat_minor": 5
}
