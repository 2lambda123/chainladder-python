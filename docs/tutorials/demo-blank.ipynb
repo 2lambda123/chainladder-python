{
 "cells": [
  {
   "cell_type": "markdown",
   "id": "b8f3f4ac-6c32-4fa3-be83-a829c070e7aa",
   "metadata": {},
   "source": [
    "# Link to the Instruction Page\n",
    "[Click here](https://chainladder-python.readthedocs.io/en/latest/tutorials/demo.html) to view the demo code and solutions to the exercises."
   ]
  },
  {
   "cell_type": "markdown",
   "id": "d8f38e79-5010-4190-b38c-cbc1d85bde47",
   "metadata": {
    "tags": []
   },
   "source": [
    "# Setting Up\n",
    "We will first need to install the package, as Google Colab's default enviroment doesn't have the chainladder package pre-installed. You will need to run this step using your terminal instead of using a python notebook when you are ready to install the package on your machine.\n",
    "\n",
    "Simply execute `pip install chainladder`, Colab is smart enough to know that this is not a piece of python code, but to execute it in shell. FYI, `pip` stands for \"Package Installer for Python\"."
   ]
  },
  {
   "cell_type": "code",
   "execution_count": null,
   "id": "be51a379-5efe-420e-b689-3bf93b96ebc8",
   "metadata": {},
   "outputs": [],
   "source": []
  },
  {
   "cell_type": "markdown",
   "id": "011ee825-ca6d-4efc-b782-5e6f2a14bead",
   "metadata": {},
   "source": [
    "Other commonly used packages, such as `numpy`, `pandas`, and `matplotlib` are already pre-installed, we just need to load them into our enviroment."
   ]
  },
  {
   "cell_type": "code",
   "execution_count": 1,
   "id": "03fdf8fd-ecd1-4df4-b9cf-a4bf01d978f0",
   "metadata": {},
   "outputs": [
    {
     "name": "stdout",
     "output_type": "stream",
     "text": [
      "chainladder 0.8.13\n"
     ]
    }
   ],
   "source": [
    "import numpy as np\n",
    "import pandas as pd\n",
    "import matplotlib.pyplot as plt\n",
    "import chainladder as cl\n",
    "\n",
    "print(\"chainladder\", cl.__version__)"
   ]
  },
  {
   "cell_type": "markdown",
   "id": "42e0f37f-6d82-46ed-9f80-647cc7233046",
   "metadata": {},
   "source": [
    "# Your Journey Begins"
   ]
  },
  {
   "cell_type": "markdown",
   "id": "c9a3a636-979a-4205-9762-469e8afb7e46",
   "metadata": {},
   "source": [
    "Let's begin by looking at a sample dataset, called `xyz`, which is hosted on https://raw.githubusercontent.com/casact/chainladder-python/master/chainladder/utils/data/xyz.csv.\n",
    "\n",
    "Let's load the dataset into the memory with `pandas`, then inspect it."
   ]
  },
  {
   "cell_type": "code",
   "execution_count": null,
   "id": "aa2c95b8-86b4-4846-b950-12c402477ec1",
   "metadata": {
    "tags": []
   },
   "outputs": [],
   "source": []
  },
  {
   "cell_type": "markdown",
   "id": "996795b6-9361-4b5c-a00d-d9b6391b115f",
   "metadata": {},
   "source": [
    "Can you list all of the unique accident years? How many are there?"
   ]
  },
  {
   "cell_type": "code",
   "execution_count": null,
   "id": "4c11052c-291e-439f-ac0f-6736bb2b0b68",
   "metadata": {},
   "outputs": [],
   "source": []
  },
  {
   "cell_type": "code",
   "execution_count": null,
   "id": "cfeca5a6-366f-4abb-b3e9-51c91e7b9336",
   "metadata": {},
   "outputs": [],
   "source": []
  },
  {
   "cell_type": "markdown",
   "id": "46e2b7ba-ba47-459f-af8e-6b25581b4902",
   "metadata": {
    "tags": [
     "hide-cell"
    ]
   },
   "source": [
    "Exercise 1 :How many unique valuation years are there? Can you sort them?\n"
   ]
  },
  {
   "cell_type": "code",
   "execution_count": null,
   "id": "8de92d5a-b566-42f6-8257-b8902b98a0ac",
   "metadata": {},
   "outputs": [],
   "source": []
  },
  {
   "cell_type": "markdown",
   "id": "8f870f4f-117c-467d-b3d7-d2941f964f23",
   "metadata": {},
   "source": [
    "# Triangle Basics"
   ]
  },
  {
   "cell_type": "markdown",
   "id": "4d4ebbf6-bcdc-4c4f-be8c-168c4e7883ea",
   "metadata": {},
   "source": [
    "Let's load the data into the chainladder triangle format. And let's call it `xyz_tri`."
   ]
  },
  {
   "cell_type": "code",
   "execution_count": null,
   "id": "2b51e0b6-c1d3-4976-8866-4800b15d27ec",
   "metadata": {},
   "outputs": [],
   "source": []
  },
  {
   "cell_type": "markdown",
   "id": "2c404d26-4418-43b8-8687-58be1b6423f1",
   "metadata": {},
   "source": [
    "What does the incurred triangle look like?"
   ]
  },
  {
   "cell_type": "code",
   "execution_count": null,
   "id": "fe9309fe-2744-4e4d-beff-0a36c1182386",
   "metadata": {},
   "outputs": [],
   "source": []
  },
  {
   "cell_type": "markdown",
   "id": "ed9811e6-5761-4258-9942-19a620540361",
   "metadata": {},
   "source": [
    "How about paid?"
   ]
  },
  {
   "cell_type": "code",
   "execution_count": null,
   "id": "278856cf-6d84-4fa6-ac57-4f57755580b8",
   "metadata": {},
   "outputs": [],
   "source": []
  },
  {
   "cell_type": "markdown",
   "id": "6d9bc92b-5bcb-4845-910e-46cd26658de0",
   "metadata": {},
   "source": [
    "Exercise 2: What would the Reported triangle look like?"
   ]
  },
  {
   "cell_type": "code",
   "execution_count": null,
   "id": "628e7f65-63f6-42c4-b169-774c68d5b40b",
   "metadata": {},
   "outputs": [],
   "source": []
  },
  {
   "cell_type": "markdown",
   "id": "ed1e8b76-5ab4-4096-925f-1bb6e237c5e5",
   "metadata": {},
   "source": [
    "Exercise 3: What would the Open Claim Count triangle look like?"
   ]
  },
  {
   "cell_type": "code",
   "execution_count": null,
   "id": "7d2d4c41-afcd-4807-ba27-86c4e8b71669",
   "metadata": {},
   "outputs": [],
   "source": []
  },
  {
   "cell_type": "markdown",
   "id": "04114ff8-107a-4c56-ab9a-8c36f53553df",
   "metadata": {},
   "source": [
    "# Pandas-like Operations"
   ]
  },
  {
   "cell_type": "markdown",
   "id": "433b8ae8-1968-4dfc-a176-c8a8c93c5f97",
   "metadata": {},
   "source": [
    "Let's see how `.iloc[...]` and `.loc[...]` simiarly to pandas. They take 4 parameters: [index, column, origin, valuation]."
   ]
  },
  {
   "cell_type": "markdown",
   "id": "f0452527-796d-4185-929a-97241329b377",
   "metadata": {},
   "source": [
    "What if we want the row from AY 1998 Incurred data?"
   ]
  },
  {
   "cell_type": "code",
   "execution_count": null,
   "id": "a13a157b-3fe9-4254-bc72-11d4e1705f29",
   "metadata": {},
   "outputs": [],
   "source": []
  },
  {
   "cell_type": "markdown",
   "id": "08b8557c-66fe-4a25-a8bf-5413ca1c1fbb",
   "metadata": {},
   "source": [
    "What if you only want the valuation at age 60?"
   ]
  },
  {
   "cell_type": "code",
   "execution_count": null,
   "id": "fb20eda1-4e4a-431d-8c8a-21cc87b8c472",
   "metadata": {},
   "outputs": [],
   "source": []
  },
  {
   "cell_type": "markdown",
   "id": "4dd627f8-cb13-4e23-a91b-b0c7f98de589",
   "metadata": {},
   "source": [
    "Exercise 4: How do we get the Incurred column at age 60?"
   ]
  },
  {
   "cell_type": "code",
   "execution_count": null,
   "id": "01bdddff-a07d-456f-9310-3b174173376b",
   "metadata": {},
   "outputs": [],
   "source": []
  },
  {
   "cell_type": "markdown",
   "id": "8523d21a-324a-431a-a262-230016ab5633",
   "metadata": {},
   "source": [
    "Exercise 5: How do we get the Incurred column at age 60, but discarding everything below origin 2005? Display the result in thousands."
   ]
  },
  {
   "cell_type": "code",
   "execution_count": null,
   "id": "ccdb8d9a-9e10-435c-aeea-cf328f05c286",
   "metadata": {},
   "outputs": [],
   "source": []
  },
  {
   "cell_type": "markdown",
   "id": "d9c929d5-865f-4a10-910e-9cc918b9ed27",
   "metadata": {},
   "source": [
    "Exercise 6: How do we get the Paid loss ratios for all origins, but only the lastest 5 columns?"
   ]
  },
  {
   "cell_type": "code",
   "execution_count": null,
   "id": "7fad2453-61b0-4634-a60c-d02db8245283",
   "metadata": {},
   "outputs": [],
   "source": []
  },
  {
   "cell_type": "markdown",
   "id": "56683ffb-01ef-4e18-ba27-1b8ab31b9ae7",
   "metadata": {},
   "source": [
    "Let's use `.loc[...]` to get the incurred triangle."
   ]
  },
  {
   "cell_type": "code",
   "execution_count": null,
   "id": "b8116ded-c788-483c-b2af-fde45b72ee4a",
   "metadata": {},
   "outputs": [],
   "source": []
  },
  {
   "cell_type": "markdown",
   "id": "1b122231-dcdb-4ad4-a14f-ab79aa48abed",
   "metadata": {},
   "source": [
    "Exercise 7: What if we want the Paid value for AY 1999 at age 60?"
   ]
  },
  {
   "cell_type": "code",
   "execution_count": null,
   "id": "6a76eef5-34b7-4634-9bca-f51502c9e835",
   "metadata": {},
   "outputs": [],
   "source": []
  },
  {
   "cell_type": "markdown",
   "id": "c9d515b7-c9a3-4045-ad79-78af1574be8a",
   "metadata": {},
   "source": [
    "How do we get the latest incurred diagonal only?"
   ]
  },
  {
   "cell_type": "code",
   "execution_count": null,
   "id": "5bce08b8-bf34-418e-ac3b-db253db44898",
   "metadata": {},
   "outputs": [],
   "source": []
  },
  {
   "cell_type": "markdown",
   "id": "31b56210-cbcd-4bbb-af9f-063a3788867a",
   "metadata": {},
   "source": [
    "Very often, we want incremental triangles instead. Let's convert the Incurred triangle to the incremental form."
   ]
  },
  {
   "cell_type": "code",
   "execution_count": null,
   "id": "b2766e7b-b1e6-4574-bfa7-fd70ccd556d7",
   "metadata": {},
   "outputs": [],
   "source": []
  },
  {
   "cell_type": "markdown",
   "id": "1b4de3c4-5f88-476c-95f4-30721f59dee5",
   "metadata": {},
   "source": [
    "Exercise 8: Can you cast the raw Incurred triangle to the incremental form, and the back to the cumulative form, and check if it mutated?"
   ]
  },
  {
   "cell_type": "code",
   "execution_count": null,
   "id": "03c51b19-1dea-4bb3-a468-302ac711345f",
   "metadata": {},
   "outputs": [],
   "source": []
  },
  {
   "cell_type": "markdown",
   "id": "fe848f10-dcc6-45bc-b06e-017c1d1e8fb0",
   "metadata": {},
   "source": [
    "Exercise 9: If we assume that the ultimate claim count is 0.25 times current Open claim count, plus the current Reported claim count, what would the ultimate claim count by origin years look like?"
   ]
  },
  {
   "cell_type": "code",
   "execution_count": null,
   "id": "ee0dcaa6-eb82-418a-a647-be104cd3acfd",
   "metadata": {},
   "outputs": [],
   "source": []
  },
  {
   "cell_type": "markdown",
   "id": "6235668f-9025-4108-b987-f867f93c8ce6",
   "metadata": {},
   "source": [
    "We can also convert the triangle to the valuation format, what we often see on Schedule Ps."
   ]
  },
  {
   "cell_type": "code",
   "execution_count": null,
   "id": "72487c9a-4438-4ab7-8a24-245485d4c637",
   "metadata": {},
   "outputs": [],
   "source": []
  },
  {
   "cell_type": "markdown",
   "id": "f09c2e00-3b38-4b42-a994-cbf58ca57c99",
   "metadata": {},
   "source": [
    "Exercise 10: Can you get the Incurred column for 2005 valuation?"
   ]
  },
  {
   "cell_type": "code",
   "execution_count": null,
   "id": "95678a1e-7b01-47b5-a086-2ed657f023a4",
   "metadata": {},
   "outputs": [],
   "source": []
  },
  {
   "cell_type": "markdown",
   "id": "a51f14cf-4565-4d47-8ea6-31519a5ba3d3",
   "metadata": {},
   "source": [
    "Exercise 11: Can you get the Incurred columns for 2005 through 2008?"
   ]
  },
  {
   "cell_type": "code",
   "execution_count": null,
   "id": "d58f4f1c-5853-4766-a7d2-fe852b8a501e",
   "metadata": {},
   "outputs": [],
   "source": []
  },
  {
   "cell_type": "markdown",
   "id": "6e404747-8e22-42c0-a1b5-45c95d702730",
   "metadata": {},
   "source": [
    "Another function that is often useful is the `.heatmap()` method. Let's inspect the incurred amount and see if there are trends."
   ]
  },
  {
   "cell_type": "code",
   "execution_count": null,
   "id": "f20ed887-e5b1-40f7-81b5-14bd840cca23",
   "metadata": {},
   "outputs": [],
   "source": []
  },
  {
   "cell_type": "markdown",
   "id": "27d110d2-ee73-4bb5-a411-3d27c0dd7673",
   "metadata": {},
   "source": [
    "# Development"
   ]
  },
  {
   "cell_type": "markdown",
   "id": "a0d0950f-bec7-406d-b253-4cf1bfd925dd",
   "metadata": {},
   "source": [
    "How can we get the incurred link ratios?"
   ]
  },
  {
   "cell_type": "code",
   "execution_count": null,
   "id": "ec16d0fd-ac17-4280-aabf-ad5795114d5f",
   "metadata": {},
   "outputs": [],
   "source": []
  },
  {
   "cell_type": "markdown",
   "id": "c74c5352-a95b-4403-8322-962ded312e39",
   "metadata": {},
   "source": [
    "We can also apply a `.heatmap()` to make it too, to help us visulize the highs and lows."
   ]
  },
  {
   "cell_type": "code",
   "execution_count": null,
   "id": "172c70be-2324-472f-b89c-29963695179a",
   "metadata": {},
   "outputs": [],
   "source": []
  },
  {
   "cell_type": "markdown",
   "id": "f5f212b0-3769-49cd-b7cc-b484f2877aa2",
   "metadata": {},
   "source": [
    "Let's get a volume-weighted average LDFs for our Incurred triangle."
   ]
  },
  {
   "cell_type": "code",
   "execution_count": null,
   "id": "ba0b96cb-77eb-472c-84fd-c5c8c5c11e10",
   "metadata": {},
   "outputs": [],
   "source": []
  },
  {
   "cell_type": "markdown",
   "id": "0c4baafd-e141-4566-a4ae-2f0a44ef828e",
   "metadata": {},
   "source": [
    "How about the CDFs?"
   ]
  },
  {
   "cell_type": "code",
   "execution_count": null,
   "id": "b156f84b-dd0d-49d6-8eec-070d0143f40c",
   "metadata": {},
   "outputs": [],
   "source": []
  },
  {
   "cell_type": "markdown",
   "id": "e4074b6d-86dc-409b-af5e-b1015ed33053",
   "metadata": {},
   "source": [
    "Exercise 12: Can you get the Incurred LDF but using `simple`-weighted average using all periods?"
   ]
  },
  {
   "cell_type": "code",
   "execution_count": null,
   "id": "35d20f2d-0b1a-40cb-ac58-6f0d966539a9",
   "metadata": {},
   "outputs": [],
   "source": []
  },
  {
   "cell_type": "markdown",
   "id": "d51e5664-3106-41d1-b77f-8afa9ee94ff7",
   "metadata": {},
   "source": [
    "We can also use only the latest 3 periods in the calculation of LDFs."
   ]
  },
  {
   "cell_type": "code",
   "execution_count": null,
   "id": "de88fdad-5d89-4cc2-adb0-bbeb7c77bbcb",
   "metadata": {},
   "outputs": [],
   "source": []
  },
  {
   "cell_type": "markdown",
   "id": "cda09daa-d037-42e7-9344-e483a8ccfb72",
   "metadata": {},
   "source": [
    "Exercise 13: How do we get the Incurred LDF using simple-weighted average but with only the latest 3 periods?"
   ]
  },
  {
   "cell_type": "code",
   "execution_count": null,
   "id": "f7274d62-1def-4aff-8ddb-5b3b1b4f9153",
   "metadata": {},
   "outputs": [],
   "source": []
  },
  {
   "cell_type": "markdown",
   "id": "d6ecb9a8-0af5-4031-964c-2a1ade4fd8e9",
   "metadata": {},
   "source": [
    "Exercise 14: Try to cast the `ldf_` to cumlative factors and back to incremental factors, did it mutate?"
   ]
  },
  {
   "cell_type": "code",
   "execution_count": null,
   "id": "40724c1c-0e27-45a8-965d-8267729b3af1",
   "metadata": {},
   "outputs": [],
   "source": []
  },
  {
   "cell_type": "markdown",
   "id": "98986607-a1c1-4b67-9c44-8ba81556f8f8",
   "metadata": {},
   "source": [
    "Exercise 15: Use the [reference doc](https://chainladder-python.readthedocs.io/en/latest/modules/generated/chainladder.Development.html), see if you can figure out how to calculate the LDFs using volume-weighted average of all values, but discarding the highest and the lowest values. Did you get a warning? Make sure you understand what it means.\n"
   ]
  },
  {
   "cell_type": "code",
   "execution_count": null,
   "id": "d8eff466-d85b-46e9-8992-268a0d7b76bb",
   "metadata": {},
   "outputs": [],
   "source": []
  },
  {
   "cell_type": "markdown",
   "id": "b018bae9-6070-4795-8af6-b5e196aa1af1",
   "metadata": {},
   "source": [
    "# Deterministic Models"
   ]
  },
  {
   "cell_type": "markdown",
   "id": "e7c7b88e-205d-45c8-b9e6-4586f29041a4",
   "metadata": {},
   "source": [
    "Before we can build any models, we need to use `fit_transform()`, so that the object is actually modified with our selected development pattern(s).\n",
    "\n",
    "Set the development of the triangle to use only 3 periods."
   ]
  },
  {
   "cell_type": "code",
   "execution_count": null,
   "id": "9e5136d2-0c3c-44da-8440-57ca3cfbbb9d",
   "metadata": {},
   "outputs": [],
   "source": []
  },
  {
   "cell_type": "markdown",
   "id": "1bd89481-e5c7-4a84-b2cc-a2e386ccdb15",
   "metadata": {},
   "source": [
    "Let's fit a chainladder model to our Incurred triangle."
   ]
  },
  {
   "cell_type": "code",
   "execution_count": null,
   "id": "022e22e9-92a8-427c-bf5c-cf352df1437c",
   "metadata": {},
   "outputs": [],
   "source": []
  },
  {
   "cell_type": "markdown",
   "id": "7b710342-5f86-408e-bf7e-76382b37f2d1",
   "metadata": {},
   "source": [
    "How can we get the model's ultimate estimate?"
   ]
  },
  {
   "cell_type": "code",
   "execution_count": null,
   "id": "69f18923-73b1-4b80-9148-60a7bab5b118",
   "metadata": {},
   "outputs": [],
   "source": []
  },
  {
   "cell_type": "markdown",
   "id": "b416a404-8d0f-46fc-a3e7-f5b5b884b4b4",
   "metadata": {},
   "source": [
    "How about just the IBNR?"
   ]
  },
  {
   "cell_type": "code",
   "execution_count": null,
   "id": "5fad3aa0-03bc-4f84-a8b7-1a00dbdebe8d",
   "metadata": {},
   "outputs": [],
   "source": []
  },
  {
   "cell_type": "markdown",
   "id": "efa53f97-9e41-4870-b2b5-2496c35b2a9b",
   "metadata": {},
   "source": [
    "Exercise 16: Can you get the IBNR without using the `.ibnr_` attribute? Check it against `.ibnr_`."
   ]
  },
  {
   "cell_type": "code",
   "execution_count": null,
   "id": "67337284-6c7e-4cb6-bece-f08440176b66",
   "metadata": {},
   "outputs": [],
   "source": []
  },
  {
   "cell_type": "markdown",
   "id": "0778bb65-c5e7-4e35-b1eb-ae1e8934fac1",
   "metadata": {},
   "source": [
    "Exercise 17: Fit the chainladder model to the paid triangle, what is the ultimate for origin year 2005?"
   ]
  },
  {
   "cell_type": "code",
   "execution_count": null,
   "id": "2f489da2-dfe7-4392-ad79-600e4aba0be1",
   "metadata": {},
   "outputs": [],
   "source": []
  },
  {
   "cell_type": "markdown",
   "id": "70d8c018-21ca-4f2c-a764-433e310bb44a",
   "metadata": {},
   "source": [
    "Let's fit an Expected Loss model, with an aprior of 90% on Premium, and get its ultimates."
   ]
  },
  {
   "cell_type": "code",
   "execution_count": null,
   "id": "22eba9fa-1890-4f6f-8a10-281142d2d58d",
   "metadata": {},
   "outputs": [],
   "source": []
  },
  {
   "cell_type": "markdown",
   "id": "eb20b72a-4e49-4eaa-b8e8-d3801833e2d3",
   "metadata": {},
   "source": [
    "Try it on the Paid triangle, do you get the same ultimate?"
   ]
  },
  {
   "cell_type": "code",
   "execution_count": null,
   "id": "411f48b0-8b86-4175-80f2-f5f4a19e6c46",
   "metadata": {},
   "outputs": [],
   "source": []
  },
  {
   "cell_type": "markdown",
   "id": "085128ab-d760-4ce1-869b-16ec26f5d12e",
   "metadata": {},
   "source": [
    "Exercise 18: What would the ultimate amounts be if we assume that they are 50% of premium + $20,000?"
   ]
  },
  {
   "cell_type": "code",
   "execution_count": null,
   "id": "324dc873-87b1-44d3-8f79-a80a86f287c3",
   "metadata": {},
   "outputs": [],
   "source": []
  },
  {
   "cell_type": "markdown",
   "id": "fb1d7eda-f4c6-4990-9488-47235492001a",
   "metadata": {},
   "source": [
    "How about a Bornhuetter-Ferguson model?"
   ]
  },
  {
   "cell_type": "code",
   "execution_count": null,
   "id": "d66c7c9a-71eb-4d56-beea-f275da062fc0",
   "metadata": {},
   "outputs": [],
   "source": []
  },
  {
   "cell_type": "markdown",
   "id": "5564ead9-d059-4d2c-839a-f988238e50ee",
   "metadata": {},
   "source": [
    "How about Benktander, with 2 iterations?"
   ]
  },
  {
   "cell_type": "code",
   "execution_count": null,
   "id": "d504e48d-1f5d-4fd6-975b-155235ffb577",
   "metadata": {},
   "outputs": [],
   "source": []
  },
  {
   "cell_type": "markdown",
   "id": "960e9292-eb2c-422b-a18c-d5e6ceaaa4b7",
   "metadata": {},
   "source": [
    "Exercise 19: Do you remember how many iterations of the Benktander method yields the same result as a BF model? Try to see if they reconcile."
   ]
  },
  {
   "cell_type": "code",
   "execution_count": null,
   "id": "adc603d7-7fc9-460d-a782-c9dba5b7a298",
   "metadata": {},
   "outputs": [],
   "source": []
  },
  {
   "cell_type": "markdown",
   "id": "002a76c2-7989-46ba-954b-d84c09b4675a",
   "metadata": {},
   "source": [
    "How about Cape Cod?"
   ]
  },
  {
   "cell_type": "code",
   "execution_count": null,
   "id": "7089ea42-ad28-4edc-9e83-723a7bc25443",
   "metadata": {},
   "outputs": [],
   "source": []
  },
  {
   "cell_type": "markdown",
   "id": "5a0d73a2-0e05-4be2-91f0-9ef1ef56a7be",
   "metadata": {},
   "source": [
    "Let's store the Cape Cod model as `cc_result`, so and make a bar chart over origin years to see what they look like."
   ]
  },
  {
   "cell_type": "code",
   "execution_count": null,
   "id": "f2cd9f8c-454d-4b9f-b936-a2f39e8fefde",
   "metadata": {},
   "outputs": [],
   "source": []
  },
  {
   "cell_type": "markdown",
   "id": "22b85f66-28fa-4c04-9531-1b21ee085447",
   "metadata": {},
   "source": [
    "Exercise 20: With so many models built, can you plot their ultimates on a line chart, and compare their estimates? Start with the following code:\n",
    "\n",
    "```python\n",
    "cl_result = cl.Chainladder().fit(xyz_tri[\"Incurred\"])\n",
    "el_result = cl.ExpectedLoss(apriori=0.90).fit(xyz_tri[\"Incurred\"], sample_weight=xyz_tri[\"Premium\"].latest_diagonal)\n",
    "bf_result = cl.BornhuetterFerguson(apriori=0.90).fit(xyz_tri[\"Incurred\"], sample_weight=xyz_tri[\"Premium\"].latest_diagonal)\n",
    "bk_result = cl.Benktander(apriori=0.90, n_iters=1).fit(xyz_tri[\"Incurred\"], sample_weight=xyz_tri[\"Premium\"].latest_diagonal)\n",
    "cc_result = cl.CapeCod().fit(xyz_tri[\"Incurred\"], sample_weight=xyz_tri[\"Premium\"].latest_diagonal)\n",
    "```"
   ]
  },
  {
   "cell_type": "code",
   "execution_count": null,
   "id": "b520d3a9-b8be-4d3c-be20-0a15ae2a1e41",
   "metadata": {},
   "outputs": [],
   "source": []
  },
  {
   "cell_type": "markdown",
   "id": "3f9e62f8-225b-4046-8847-a6e8d971e14d",
   "metadata": {},
   "source": [
    "# Stochastic Models"
   ]
  },
  {
   "cell_type": "markdown",
   "id": "36105614-e317-4a87-a42d-282f59b1d339",
   "metadata": {},
   "source": [
    "The Mack's Chainladder model is available."
   ]
  },
  {
   "cell_type": "code",
   "execution_count": null,
   "id": "e008ebdb-243d-4ed0-9256-86331df1070a",
   "metadata": {},
   "outputs": [],
   "source": []
  },
  {
   "cell_type": "markdown",
   "id": "3298c63c-5356-4d69-afa3-058b68daf777",
   "metadata": {},
   "source": [
    "There are many attributes that are available, such as `full_std_err_`, `total_process_risk_`, `total_parameter_risk_`, `mack_std_err_` and `total_mack_std_err_`."
   ]
  },
  {
   "cell_type": "code",
   "execution_count": null,
   "id": "67f5d99b-7a5e-4640-a6e0-f8b654e6ce27",
   "metadata": {},
   "outputs": [],
   "source": []
  },
  {
   "cell_type": "markdown",
   "id": "bdb08c81-5921-4c41-ad63-96168ffd48b7",
   "metadata": {},
   "source": [
    "MackChainladder also has a `summary_` attribute."
   ]
  },
  {
   "cell_type": "code",
   "execution_count": null,
   "id": "81fc38c1-d5b7-4262-94ae-bce5c7ac17e1",
   "metadata": {},
   "outputs": [],
   "source": []
  },
  {
   "cell_type": "markdown",
   "id": "0e285585-62b6-48e4-8b1d-c5824ae5df46",
   "metadata": {},
   "source": [
    "Let's make a graph, that shows the Paid and IBNR as stacked bars, and error bars showing Mack Standard Errors."
   ]
  },
  {
   "cell_type": "code",
   "execution_count": null,
   "id": "e615b86e-a907-4445-9e95-645090719f76",
   "metadata": {},
   "outputs": [],
   "source": []
  },
  {
   "cell_type": "markdown",
   "id": "785120ad-03cf-48a7-90d8-d1d56a75ef88",
   "metadata": {},
   "source": [
    "ODP Bootstrap is also available. Let's build sample 10,000 Incurred triangles."
   ]
  },
  {
   "cell_type": "code",
   "execution_count": null,
   "id": "859e19f3-d526-435c-a845-4845a7a3956d",
   "metadata": {},
   "outputs": [],
   "source": []
  },
  {
   "cell_type": "markdown",
   "id": "4391f730-5309-49b2-9c19-0801e3e66c7c",
   "metadata": {},
   "source": [
    "We can fit a basic chainladder to all sampled triangles. We now have 10,000 simulated chainladder models, all (most) with unique LDFs."
   ]
  },
  {
   "cell_type": "code",
   "execution_count": null,
   "id": "fe6dbe70-1b2a-4fb0-aa6b-56380534704f",
   "metadata": {},
   "outputs": [],
   "source": []
  },
  {
   "cell_type": "markdown",
   "id": "a6f81ac6-a2ab-496d-8d1f-4604aa464370",
   "metadata": {},
   "source": [
    "We can use `predict()` to use the model characteristics (their unique LDFs) to predict our basic Incurred triangle."
   ]
  },
  {
   "cell_type": "code",
   "execution_count": null,
   "id": "4f304cf4-f973-4e98-b76f-8266de8659b6",
   "metadata": {},
   "outputs": [],
   "source": []
  },
  {
   "cell_type": "markdown",
   "id": "bb3d7c32-9e75-4ae4-ab23-0ca3f2a436b5",
   "metadata": {},
   "source": [
    "Let's make another graph."
   ]
  },
  {
   "cell_type": "code",
   "execution_count": null,
   "id": "edeba1db-97e6-43df-b1c0-590c2d7cd098",
   "metadata": {},
   "outputs": [],
   "source": []
  }
 ],
 "metadata": {
  "kernelspec": {
   "display_name": "Python 3 (ipykernel)",
   "language": "python",
   "name": "python3"
  },
  "language_info": {
   "codemirror_mode": {
    "name": "ipython",
    "version": 3
   },
   "file_extension": ".py",
   "mimetype": "text/x-python",
   "name": "python",
   "nbconvert_exporter": "python",
   "pygments_lexer": "ipython3",
   "version": "3.9.12"
  }
 },
 "nbformat": 4,
 "nbformat_minor": 5
}
