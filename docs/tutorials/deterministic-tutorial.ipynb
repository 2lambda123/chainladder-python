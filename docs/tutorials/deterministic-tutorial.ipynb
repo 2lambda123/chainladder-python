{
 "cells": [
  {
   "cell_type": "markdown",
   "metadata": {},
   "source": [
    "# Applying Deterministic Methods\n",
    "## Getting Started\n",
    "This tutorial focuses on using deterministic methods to square a triangle. \n",
    "\n",
    "Be sure to make sure your packages are updated. For more info on how to update your pakages, visit [Keeping Packages Updated](https://chainladder-python.readthedocs.io/en/latest/install.html#keeping-packages-updated)."
   ]
  },
  {
   "cell_type": "code",
   "execution_count": null,
   "metadata": {},
   "outputs": [],
   "source": [
    "# Black linter, optional\n",
    "%load_ext lab_black\n",
    "\n",
    "import pandas as pd\n",
    "import numpy as np\n",
    "import chainladder as cl\n",
    "import matplotlib.pyplot as plt\n",
    "\n",
    "print(\"pandas: \" + pd.__version__)\n",
    "print(\"numpy: \" + np.__version__)\n",
    "print(\"chainladder: \" + cl.__version__)"
   ]
  },
  {
   "cell_type": "markdown",
   "metadata": {},
   "source": [
    "## Disclaimer\n",
    "Note that a lot of the examples shown might not be applicable in a real world scenario, and is only meant to demonstrate some of the functionalities included in the package. The user should always follow all applicable laws, the Code of Professional Conduct, applicable Actuarial Standards of Practice, and exercise their best actuarial judgement."
   ]
  },
  {
   "cell_type": "markdown",
   "metadata": {},
   "source": [
    "## The Chainladder Method\n",
    "\n",
    "The basic chainladder method is entirely specified by its development pattern selections. For this reason, the `Chainladder` estimator takes no additional assumptions, i.e. no additional arguments. Let's start by loading an example dataset and creating an Triangle with `Development` patterns and a `TailCurve`.  Recall, we can bundle these two estimators into a single `Pipeline` if we wish."
   ]
  },
  {
   "cell_type": "code",
   "execution_count": null,
   "metadata": {},
   "outputs": [],
   "source": [
    "genins = cl.load_sample(\"genins\")\n",
    "\n",
    "genins_dev = cl.Pipeline(\n",
    "    [(\"dev\", cl.Development()), (\"tail\", cl.TailCurve())]\n",
    ").fit_transform(genins)"
   ]
  },
  {
   "cell_type": "markdown",
   "metadata": {},
   "source": [
    "We can now use the basic `Chainladder` estimator to estimate `ultimate_` values of our `Triangle`."
   ]
  },
  {
   "cell_type": "code",
   "execution_count": null,
   "metadata": {},
   "outputs": [],
   "source": [
    "genins_model = cl.Chainladder().fit(genins_dev)\n",
    "genins_model.ultimate_"
   ]
  },
  {
   "cell_type": "markdown",
   "metadata": {},
   "source": [
    "We can also view the `ibnr_`.  Techincally the term IBNR is reserved for Incurred but not Reported, but the `chainladder` models use it to describe the difference between the ultimate and the latest evaluation period."
   ]
  },
  {
   "cell_type": "code",
   "execution_count": null,
   "metadata": {},
   "outputs": [],
   "source": [
    "genins_model.ibnr_"
   ]
  },
  {
   "cell_type": "markdown",
   "metadata": {},
   "source": [
    "It is often useful to see the completed `Triangle` and this can be accomplished by inspecting the `full_triangle_`.  As with most other estimator properties, the `full_triangle_` is itself a `Triangle` and can be manipulated as such."
   ]
  },
  {
   "cell_type": "code",
   "execution_count": null,
   "metadata": {},
   "outputs": [],
   "source": [
    "genins"
   ]
  },
  {
   "cell_type": "code",
   "execution_count": null,
   "metadata": {},
   "outputs": [],
   "source": [
    "genins_model.full_triangle_"
   ]
  },
  {
   "cell_type": "code",
   "execution_count": null,
   "metadata": {},
   "outputs": [],
   "source": [
    "genins_model.full_triangle_.dev_to_val()"
   ]
  },
  {
   "cell_type": "markdown",
   "metadata": {},
   "source": [
    "Notice the calendar year of our ultimates.  While ultimates will generally be realized before this date, the `chainladder` package picks the highest allowable date available for its `ultimate_` valuation. "
   ]
  },
  {
   "cell_type": "code",
   "execution_count": null,
   "metadata": {},
   "outputs": [],
   "source": [
    "genins_model.full_triangle_.valuation_date"
   ]
  },
  {
   "cell_type": "markdown",
   "metadata": {},
   "source": [
    "We can further manipulate the \"triangle\", such as applying `cum_to_incr()`."
   ]
  },
  {
   "cell_type": "code",
   "execution_count": null,
   "metadata": {},
   "outputs": [],
   "source": [
    "genins_model.full_triangle_.dev_to_val().cum_to_incr()"
   ]
  },
  {
   "cell_type": "markdown",
   "metadata": {},
   "source": [
    "Another useful property is `full_expectation_`. Similar to the `full_triangle`, it \"squares\" the `Triangle`, but replaces the known data with expected values implied by the model and development pattern."
   ]
  },
  {
   "cell_type": "code",
   "execution_count": null,
   "metadata": {},
   "outputs": [],
   "source": [
    "genins_model.full_expectation_"
   ]
  },
  {
   "cell_type": "markdown",
   "metadata": {},
   "source": [
    "With some clever arithmetic, we can use these objects to give us other useful information.  For example, we can retrospectively review the actual `Triangle` against its modeled expectation."
   ]
  },
  {
   "cell_type": "code",
   "execution_count": null,
   "metadata": {},
   "outputs": [],
   "source": [
    "genins_model.full_triangle_ - genins_model.full_expectation_"
   ]
  },
  {
   "cell_type": "markdown",
   "metadata": {},
   "source": [
    "We can also filter out the lower right part of the triangle with `[genins_model.full_triangle_.valuation <= genins.valuation_date]`."
   ]
  },
  {
   "cell_type": "code",
   "execution_count": null,
   "metadata": {},
   "outputs": [],
   "source": [
    "(\n",
    "    genins_model.full_triangle_[\n",
    "        genins_model.full_triangle_.valuation <= genins.valuation_date\n",
    "    ]\n",
    "    - genins_model.full_expectation_[\n",
    "        genins_model.full_triangle_.valuation <= genins.valuation_date\n",
    "    ]\n",
    ")"
   ]
  },
  {
   "cell_type": "markdown",
   "metadata": {},
   "source": [
    "Getting comfortable with manipulating `Triangle`s will greatly improve our ability to extract value out of the `chainladder` package. Here is another way of getting the same answer."
   ]
  },
  {
   "cell_type": "code",
   "execution_count": null,
   "metadata": {},
   "outputs": [],
   "source": [
    "genins_AvE = genins - genins_model.full_expectation_\n",
    "genins_AvE[genins_AvE.valuation <= genins.valuation_date]"
   ]
  },
  {
   "cell_type": "markdown",
   "metadata": {},
   "source": [
    "We can also filter out the lower right part of the triangle with `[genins_model.full_triangle_.valuation <= genins.valuation_date]` before applying the `heatmap()`."
   ]
  },
  {
   "cell_type": "code",
   "execution_count": null,
   "metadata": {},
   "outputs": [],
   "source": [
    "genins_AvE[genins_AvE.valuation <= genins.valuation_date].heatmap()"
   ]
  },
  {
   "cell_type": "markdown",
   "metadata": {},
   "source": [
    "Can you figure out how to get the expected IBNR runoff in the upcoming year?"
   ]
  },
  {
   "cell_type": "code",
   "execution_count": null,
   "metadata": {},
   "outputs": [],
   "source": [
    "cal_yr_ibnr = genins_model.full_triangle_.dev_to_val().cum_to_incr()\n",
    "cal_yr_ibnr[cal_yr_ibnr.valuation.year == 2011]"
   ]
  },
  {
   "cell_type": "markdown",
   "metadata": {},
   "source": [
    "## The Bornhuetter-Ferguson method\n",
    "The `BornhuetterFerguson` estimator is another deterministic method having many of the same attributes as the `Chainladder` estimator. It comes with one input assumption, the a priori (`apriori`). This is a scalar multiplier that will be applied to an exposure vector, which will produce an a priori ultimate estimate vector that we can use for the model.\n",
    "\n",
    "Since the CAS Loss Reserve Database has premium, we will use it as an example.  Let's grab the paid loss and net earned premium  for the commercial auto line of business."
   ]
  },
  {
   "cell_type": "markdown",
   "metadata": {},
   "source": [
    "Remember that `apriori` is a scaler, which we need to apply it to a vector of exposures. Let's assume that the a priori is 0.75, for 75% loss ratio."
   ]
  },
  {
   "cell_type": "markdown",
   "metadata": {},
   "source": [
    "Let's set an apriori Loss Ratio estimate of 75%"
   ]
  },
  {
   "cell_type": "markdown",
   "metadata": {},
   "source": [
    "The `BornhuetterFerguson` method along with all other expected loss methods like `CapeCod` and `Benktander` (discussed later), need to take in an exposure vector. The exposure vector has to be a `Triangle` itself. Remember that the `Triangle` class supports single exposure vectors."
   ]
  },
  {
   "cell_type": "code",
   "execution_count": null,
   "metadata": {},
   "outputs": [],
   "source": [
    "comauto = cl.load_sample(\"clrd\").groupby(\"LOB\").sum().loc[\"comauto\"]\n",
    "\n",
    "bf_model = cl.BornhuetterFerguson(apriori=0.75)\n",
    "bf_model.fit(\n",
    "    comauto[\"CumPaidLoss\"], sample_weight=comauto[\"EarnedPremNet\"].latest_diagonal\n",
    ")"
   ]
  },
  {
   "cell_type": "code",
   "execution_count": null,
   "metadata": {},
   "outputs": [],
   "source": [
    "bf_model.ultimate_"
   ]
  },
  {
   "cell_type": "markdown",
   "metadata": {},
   "source": [
    "Having an `apriori` that takes on only a constant for all origins can be limiting.  This shouldn't stop the practitioner from exploiting the fact that the `apriori` can be embedded directly in the exposure vector itself allowing full cusomization of the `apriori`."
   ]
  },
  {
   "cell_type": "code",
   "execution_count": null,
   "metadata": {},
   "outputs": [],
   "source": [
    "b1 = cl.BornhuetterFerguson(apriori=0.75).fit(\n",
    "    comauto[\"CumPaidLoss\"], sample_weight=comauto[\"EarnedPremNet\"].latest_diagonal\n",
    ")\n",
    "\n",
    "b2 = cl.BornhuetterFerguson(apriori=1.00).fit(\n",
    "    comauto[\"CumPaidLoss\"],\n",
    "    sample_weight=0.75 * comauto[\"EarnedPremNet\"].latest_diagonal,\n",
    ")\n",
    "\n",
    "b1.ultimate_ == b2.ultimate_"
   ]
  },
  {
   "cell_type": "markdown",
   "metadata": {},
   "source": [
    "If we need to create a new colume, such as `AdjEarnedPrmNet` with varying implied loss ratios. It is recommend that we perform any data modification in `pandas` instead of `Triangle` forms.\n",
    "\n",
    "Let's perform the estimate using `Chainladder` and compare the results."
   ]
  },
  {
   "cell_type": "code",
   "execution_count": null,
   "metadata": {},
   "outputs": [],
   "source": [
    "cl_model = cl.Chainladder().fit(comauto[\"CumPaidLoss\"])\n",
    "\n",
    "plt.plot(\n",
    "    bf_model.ultimate_.to_frame().index.year, bf_model.ultimate_.to_frame(), label=\"BF\",\n",
    ")\n",
    "plt.plot(\n",
    "    cl_model.ultimate_.to_frame().index.year, cl_model.ultimate_.to_frame(), label=\"CL\",\n",
    ")\n",
    "plt.legend(loc=\"upper left\")"
   ]
  },
  {
   "cell_type": "markdown",
   "metadata": {},
   "source": [
    "## The Benktander Method"
   ]
  },
  {
   "cell_type": "markdown",
   "metadata": {},
   "source": [
    "The `Benktander` method is similar to the `BornhuetterFerguson` method, but allows for the specification of one additional assumption, `n_iters`, the number of iterations to recalculate the ultimates. The Benktander method generalizes both the `BornhuetterFerguson` and the `Chainladder` estimator through this assumption.\n",
    "\n",
    "- When `n_iters = 1`, the result is equivalent to the `BornhuetterFerguson` estimator.\n",
    "- When `n_iters` is sufficiently large, the result converges to the `Chainladder` estimator."
   ]
  },
  {
   "cell_type": "code",
   "execution_count": null,
   "metadata": {},
   "outputs": [],
   "source": [
    "bk_model = cl.Benktander(apriori=0.75, n_iters=2)\n",
    "bk_model.fit(\n",
    "    comauto[\"CumPaidLoss\"], sample_weight=comauto[\"EarnedPremNet\"].latest_diagonal\n",
    ")"
   ]
  },
  {
   "cell_type": "markdown",
   "metadata": {},
   "source": [
    "Fitting the `Benktander` method looks identical to the other methods."
   ]
  },
  {
   "cell_type": "code",
   "execution_count": null,
   "metadata": {},
   "outputs": [],
   "source": [
    "bk_model.fit(\n",
    "    X=comauto[\"CumPaidLoss\"], sample_weight=comauto[\"EarnedPremNet\"].latest_diagonal\n",
    ")"
   ]
  },
  {
   "cell_type": "code",
   "execution_count": null,
   "metadata": {},
   "outputs": [],
   "source": [
    "plt.plot(\n",
    "    bf_model.ultimate_.to_frame().index.year, bf_model.ultimate_.to_frame(), label=\"BF\"\n",
    ")\n",
    "plt.plot(\n",
    "    cl_model.ultimate_.to_frame().index.year, cl_model.ultimate_.to_frame(), label=\"CL\"\n",
    ")\n",
    "plt.plot(\n",
    "    bk_model.ultimate_.to_frame().index.year, bk_model.ultimate_.to_frame(), label=\"BK\"\n",
    ")\n",
    "plt.legend(loc=\"upper left\")"
   ]
  },
  {
   "cell_type": "markdown",
   "metadata": {},
   "source": [
    "## The Cape Cod Method\n",
    "The `CapeCod` method is similar to the `BornhuetterFerguson` method, except its `apriori` is computed from the `Triangle` itself. Instead of specifying an `apriori`, `decay` and `trend` need to be specified.  \n",
    "\n",
    " - `decay` is the rate that gives weights to earlier origin periods, this parameter is required by the Generalized Cape Cod Method, as discussed in [Using Best Practices to Determine a Best Reserve Estimate](https://www.casact.org/sites/default/files/database/forum_98fforum_struhuss.pdf) by Struzzieri and Hussian. As the `decay` factor approaches 1 (the default value), the result approaches the traditional Cape Cod method. As the `decay` factor approaches 0, the result approaches the `Chainladder` method. \n",
    " - `trend` is the trend rate along the origin axis to reflect systematic inflationary impacts on the a priori."
   ]
  },
  {
   "cell_type": "markdown",
   "metadata": {},
   "source": [
    "When we `fit` a `CapeCod` method, we can see the `apriori` it computes with the given `decay` and `trend` assumptions. Since it is an array of estimated parameters, this `CapeCod` attribute is called the `apriori_`, with a trailing underscore."
   ]
  },
  {
   "cell_type": "code",
   "execution_count": null,
   "metadata": {},
   "outputs": [],
   "source": [
    "cc_model = cl.CapeCod()\n",
    "cc_model.fit(\n",
    "    comauto[\"CumPaidLoss\"], sample_weight=comauto[\"EarnedPremNet\"].latest_diagonal\n",
    ")"
   ]
  },
  {
   "cell_type": "markdown",
   "metadata": {},
   "source": [
    "With `decay=1`, each `origin` period gets the same `apriori_` (this is the traditional Cape Cod). The `apriori_` is calculated using the latest diagonal over the used-up exposure, where the used-up exposure is the exposure vector / CDF. Let's validate the calculation of the a priori."
   ]
  },
  {
   "cell_type": "code",
   "execution_count": null,
   "metadata": {},
   "outputs": [],
   "source": [
    "latest_diagonal = comauto[\"CumPaidLoss\"].latest_diagonal\n",
    "\n",
    "cdf_as_origin_vector = (\n",
    "    cl.Chainladder().fit(comauto[\"CumPaidLoss\"]).ultimate_\n",
    "    / comauto[\"CumPaidLoss\"].latest_diagonal\n",
    ")\n",
    "\n",
    "latest_diagonal.sum() / (\n",
    "    comauto[\"EarnedPremNet\"].latest_diagonal / cdf_as_origin_vector\n",
    ").sum()"
   ]
  },
  {
   "cell_type": "markdown",
   "metadata": {},
   "source": [
    "With `decay=0`, the `apriori_` for each `origin` period stands on its own."
   ]
  },
  {
   "cell_type": "code",
   "execution_count": null,
   "metadata": {},
   "outputs": [],
   "source": [
    "cc_model = cl.CapeCod(decay=0, trend=0).fit(\n",
    "    X=comauto[\"CumPaidLoss\"], sample_weight=comauto[\"EarnedPremNet\"].latest_diagonal\n",
    ")\n",
    "cc_model.apriori_"
   ]
  },
  {
   "cell_type": "markdown",
   "metadata": {},
   "source": [
    "Doing the same on our manually calculated `apriori_` yields the same result."
   ]
  },
  {
   "cell_type": "code",
   "execution_count": null,
   "metadata": {},
   "outputs": [],
   "source": [
    "latest_diagonal / (comauto[\"EarnedPremNet\"].latest_diagonal / cdf_as_origin_vector)"
   ]
  },
  {
   "cell_type": "markdown",
   "metadata": {},
   "source": [
    "Let's verify the result of this Cape Cod model's result with the Chainladder's."
   ]
  },
  {
   "cell_type": "code",
   "execution_count": null,
   "metadata": {},
   "outputs": [],
   "source": [
    "cc_model.ultimate_ - cl_model.ultimate_"
   ]
  },
  {
   "cell_type": "markdown",
   "metadata": {},
   "source": [
    "We can examine the `apriori_`s to see whether there exhibit any trends over time."
   ]
  },
  {
   "cell_type": "code",
   "execution_count": null,
   "metadata": {},
   "outputs": [],
   "source": [
    "plt.plot(cc_model.apriori_.to_frame().index.year, cc_model.apriori_.to_frame())"
   ]
  },
  {
   "cell_type": "markdown",
   "metadata": {},
   "source": [
    "Looks like there is a small positive trend, let's judgementally select the `trend` as 1%."
   ]
  },
  {
   "cell_type": "code",
   "execution_count": null,
   "metadata": {},
   "outputs": [],
   "source": [
    "trended_cc_model = cl.CapeCod(decay=0, trend=0.01).fit(\n",
    "    X=comauto[\"CumPaidLoss\"], sample_weight=comauto[\"EarnedPremNet\"].latest_diagonal\n",
    ")\n",
    "\n",
    "plt.plot(\n",
    "    cc_model.apriori_.to_frame().index.year,\n",
    "    cc_model.apriori_.to_frame(),\n",
    "    label=\"Untrended\",\n",
    ")\n",
    "plt.plot(\n",
    "    trended_cc_model.apriori_.to_frame().index.year,\n",
    "    trended_cc_model.apriori_.to_frame(),\n",
    "    label=\"Trended\",\n",
    ")\n",
    "plt.legend(loc=\"lower right\")"
   ]
  },
  {
   "cell_type": "markdown",
   "metadata": {},
   "source": [
    "We can of course utilize both the `trend` and the `decay` parameters together. Adding `trend` to the `CapeCod` method is intended to adjust the `apriori_`s to a common level. Once at a common level, the `apriori_` can be estimated from multiple origin periods using the `decay` factor."
   ]
  },
  {
   "cell_type": "code",
   "execution_count": null,
   "metadata": {},
   "outputs": [],
   "source": [
    "trended_cc_model = cl.CapeCod(decay=0, trend=0.01).fit(\n",
    "    X=comauto[\"CumPaidLoss\"], sample_weight=comauto[\"EarnedPremNet\"].latest_diagonal\n",
    ")\n",
    "\n",
    "trended_decayed_cc_model = cl.CapeCod(decay=0.75, trend=0.01).fit(\n",
    "    X=comauto[\"CumPaidLoss\"], sample_weight=comauto[\"EarnedPremNet\"].latest_diagonal\n",
    ")\n",
    "\n",
    "plt.plot(\n",
    "    cc_model.apriori_.to_frame().index.year,\n",
    "    cc_model.apriori_.to_frame(),\n",
    "    label=\"Untrended\",\n",
    ")\n",
    "plt.plot(\n",
    "    trended_cc_model.apriori_.to_frame().index.year,\n",
    "    trended_cc_model.apriori_.to_frame(),\n",
    "    label=\"Trended\",\n",
    ")\n",
    "plt.plot(\n",
    "    trended_decayed_cc_model.apriori_.to_frame().index.year,\n",
    "    trended_decayed_cc_model.apriori_.to_frame(),\n",
    "    label=\"Trended and Decayed\",\n",
    ")\n",
    "plt.legend(loc=\"lower right\")"
   ]
  },
  {
   "cell_type": "markdown",
   "metadata": {},
   "source": [
    "Once estimated, it is necessary to detrend our `apriori_`s back to their untrended levels and these are contained in `detrended_apriori_`. It is the `detrended_apriori_` that gets used in the calculation of `ultimate_` losses."
   ]
  },
  {
   "cell_type": "code",
   "execution_count": null,
   "metadata": {},
   "outputs": [],
   "source": [
    "plt.plot(\n",
    "    trended_cc_model.apriori_.to_frame().index.year,\n",
    "    trended_cc_model.apriori_.to_frame(),\n",
    "    label=\"Trended\",\n",
    ")\n",
    "plt.plot(\n",
    "    trended_cc_model.detrended_apriori_.to_frame().index.year,\n",
    "    trended_cc_model.detrended_apriori_.to_frame(),\n",
    "    label=\"Detended to Original\",\n",
    ")\n",
    "plt.legend(loc=\"lower right\")"
   ]
  },
  {
   "cell_type": "markdown",
   "metadata": {},
   "source": [
    "The `detrended_apriori_` is a much smoother estimate of the initial expected `ultimate_`.  With the `detrended_apriori_` in hand, the `CapeCod` method estimator behaves exactly like our the `BornhuetterFerguson` model."
   ]
  },
  {
   "cell_type": "code",
   "execution_count": null,
   "metadata": {},
   "outputs": [],
   "source": [
    "bf_model = cl.BornhuetterFerguson().fit(\n",
    "    X=comauto[\"CumPaidLoss\"],\n",
    "    sample_weight=trended_cc_model.detrended_apriori_\n",
    "    * comauto[\"EarnedPremNet\"].latest_diagonal,\n",
    ")\n",
    "\n",
    "bf_model.ultimate_.sum() - trended_cc_model.ultimate_.sum()"
   ]
  },
  {
   "cell_type": "markdown",
   "metadata": {},
   "source": [
    "## Recap\n",
    "\n",
    "All the deterministic estimators have `ultimate_`, `ibnr_`, `full_expecation_` and `full_triangle_` attributes that are themselves `Triangle`s.  These can be manipulated in a variety of ways to gain additional insights from our model. The expected loss methods take in an exposure vector, which itself is a `Triangle` through the `sample_weight` argument of the `fit` method. The `CapeCod` method has the additional attributes `apriori_` and `detrended_apriori_` to accommodate the selection of its `trend` and `decay` assumptions.\n",
    "\n",
    "Finally, these estimators work very well with the transformers discussed in previous tutorials. Let's demonstrate the compositional nature of these estimators."
   ]
  },
  {
   "cell_type": "code",
   "execution_count": null,
   "metadata": {},
   "outputs": [],
   "source": [
    "wkcomp = (\n",
    "    cl.load_sample(\"clrd\")\n",
    "    .groupby(\"LOB\")\n",
    "    .sum()\n",
    "    .loc[\"wkcomp\"][[\"CumPaidLoss\", \"EarnedPremNet\"]]\n",
    ")\n",
    "wkcomp"
   ]
  },
  {
   "cell_type": "markdown",
   "metadata": {},
   "source": [
    "Let's calculate the age-to-age factors:\n",
    "- Without the the 1995 valuation period\n",
    "- Using volume weighted for the first 5 factors, and  simple average for the next 4 factors (for a total of 9 age-to-age factors)\n",
    "- Using no more than 7 periods (with `n_periods`)"
   ]
  },
  {
   "cell_type": "code",
   "execution_count": null,
   "metadata": {},
   "outputs": [],
   "source": [
    "patterns = cl.Pipeline(\n",
    "    [\n",
    "        (\n",
    "            \"dev\",\n",
    "            cl.Development(\n",
    "                average=[\"volume\"] * 5 + [\"simple\"] * 4,\n",
    "                n_periods=7,\n",
    "                drop_valuation=\"1995\",\n",
    "            ),\n",
    "        ),\n",
    "        (\"tail\", cl.TailCurve(curve=\"inverse_power\", extrap_periods=80)),\n",
    "    ]\n",
    ")"
   ]
  },
  {
   "cell_type": "code",
   "execution_count": null,
   "metadata": {},
   "outputs": [],
   "source": [
    "cc = cl.CapeCod(decay=0.8, trend=0.02).fit(\n",
    "    X=patterns.fit_transform(wkcomp[\"CumPaidLoss\"]),\n",
    "    sample_weight=wkcomp[\"EarnedPremNet\"].latest_diagonal,\n",
    ")\n",
    "cc.ultimate_"
   ]
  },
  {
   "cell_type": "code",
   "execution_count": null,
   "metadata": {},
   "outputs": [],
   "source": [
    "plt.bar(cc.ultimate_.to_frame().index.year, cc.ultimate_.to_frame()[\"2261\"])"
   ]
  },
  {
   "cell_type": "markdown",
   "metadata": {},
   "source": [
    "## Voting Chainladder\n",
    "\n",
    "A `VotingChainladder` is an ensemble meta-estimator that fits several base chainladder methods, each on the whole triangle. Then it combines the individual predictions based on a matrix of weights to form a final prediction.\n",
    "\n",
    "Let's begin by loading the `raa` dataset."
   ]
  },
  {
   "cell_type": "code",
   "execution_count": null,
   "metadata": {},
   "outputs": [],
   "source": [
    "raa = cl.load_sample(\"raa\")"
   ]
  },
  {
   "cell_type": "markdown",
   "metadata": {},
   "source": [
    "Instantiate the Chainladder's estimator."
   ]
  },
  {
   "cell_type": "code",
   "execution_count": null,
   "metadata": {},
   "outputs": [],
   "source": [
    "cl_mod = cl.Chainladder()"
   ]
  },
  {
   "cell_type": "markdown",
   "metadata": {},
   "source": [
    "Instantiate the Bornhuetter-Ferguson's estimator. Remember that the `BornhuetterFerguson` requires one argument, the `apriori`."
   ]
  },
  {
   "cell_type": "code",
   "execution_count": null,
   "metadata": {},
   "outputs": [],
   "source": [
    "bf_mod = cl.BornhuetterFerguson(apriori=1)"
   ]
  },
  {
   "cell_type": "markdown",
   "metadata": {},
   "source": [
    "Instantiate the Cape Cod's estimator and their required arguments."
   ]
  },
  {
   "cell_type": "code",
   "execution_count": null,
   "metadata": {},
   "outputs": [],
   "source": [
    "cc_mod = cl.CapeCod(decay=1, trend=0)"
   ]
  },
  {
   "cell_type": "markdown",
   "metadata": {},
   "source": [
    "Instantiate the Benktander's estimator and their required arguments."
   ]
  },
  {
   "cell_type": "code",
   "execution_count": null,
   "metadata": {},
   "outputs": [],
   "source": [
    "bk_mod = cl.Benktander(apriori=1, n_iters=2)"
   ]
  },
  {
   "cell_type": "markdown",
   "metadata": {},
   "source": [
    "Let's prepare the `estimators` variable. The `estimators` parameter in `VotingChainladder` must be in an array of tuples, with (estimator_name, estimator) pairing."
   ]
  },
  {
   "cell_type": "code",
   "execution_count": null,
   "metadata": {},
   "outputs": [],
   "source": [
    "estimators = [(\"cl\", cl_mod), (\"bf\", bf_mod), (\"cc\", cc_mod), (\"bk\", bk_mod)]"
   ]
  },
  {
   "cell_type": "markdown",
   "metadata": {},
   "source": [
    "Recall that some estimators (in this case, `BornhuetterFerguson`, `CapeCod`, and `Benktander`) also require the variable `sample_weight`, let's use the mean of `Chainladder`'s average ultimate estimate."
   ]
  },
  {
   "cell_type": "code",
   "execution_count": null,
   "metadata": {},
   "outputs": [],
   "source": [
    "sample_weight = cl_mod.fit(raa).ultimate_ * 0 + (\n",
    "    float(cl_mod.fit(raa).ultimate_.sum()) / 10\n",
    ")\n",
    "sample_weight"
   ]
  },
  {
   "cell_type": "code",
   "execution_count": null,
   "metadata": {},
   "outputs": [],
   "source": [
    "model_weights = np.array(\n",
    "    [[0.6, 0.2, 0.2, 0]] * 4 + [[0, 0.5, 0.5, 0]] * 3 + [[0, 0, 1, 0]] * 3\n",
    ")\n",
    "\n",
    "vot_mod = cl.VotingChainladder(estimators=estimators, weights=model_weights).fit(\n",
    "    raa, sample_weight=sample_weight\n",
    ")\n",
    "vot_mod.ultimate_"
   ]
  },
  {
   "cell_type": "code",
   "execution_count": null,
   "metadata": {},
   "outputs": [],
   "source": [
    "plt.plot(\n",
    "    vot_mod.ultimate_.to_frame().index.year,\n",
    "    cl_mod.fit(raa).ultimate_.to_frame(),\n",
    "    label=\"Chainladder\",\n",
    "    linestyle=\"dashed\",\n",
    "    marker=\"o\",\n",
    ")\n",
    "plt.plot(\n",
    "    vot_mod.ultimate_.to_frame().index.year,\n",
    "    bf_mod.fit(raa, sample_weight=sample_weight).ultimate_.to_frame(),\n",
    "    label=\"Bornhuetter-Ferguson\",\n",
    "    linestyle=\"dashed\",\n",
    "    marker=\"o\",\n",
    ")\n",
    "plt.plot(\n",
    "    vot_mod.ultimate_.to_frame().index.year,\n",
    "    cc_mod.fit(raa, sample_weight=sample_weight).ultimate_.to_frame(),\n",
    "    label=\"Cape Cod\",\n",
    "    linestyle=\"dashed\",\n",
    "    marker=\"o\",\n",
    ")\n",
    "plt.plot(\n",
    "    vot_mod.ultimate_.to_frame().index.year,\n",
    "    bk_mod.fit(raa, sample_weight=sample_weight).ultimate_.to_frame(),\n",
    "    label=\"Benktander\",\n",
    "    linestyle=\"dashed\",\n",
    "    marker=\"o\",\n",
    ")\n",
    "plt.plot(\n",
    "    vot_mod.ultimate_.to_frame().index.year,\n",
    "    vot_mod.ultimate_.to_frame(),\n",
    "    label=\"Selected\",\n",
    ")\n",
    "plt.legend(loc=\"best\")"
   ]
  },
  {
   "cell_type": "markdown",
   "metadata": {},
   "source": [
    "We can also call the `weights` attribute to confirm the weights being used by the `VotingChainladder` ensemble model."
   ]
  },
  {
   "cell_type": "code",
   "execution_count": null,
   "metadata": {},
   "outputs": [],
   "source": [
    "vot_mod.weights"
   ]
  }
 ],
 "metadata": {
  "kernelspec": {
   "display_name": "Python 3 (ipykernel)",
   "language": "python",
   "name": "python3"
  },
  "language_info": {
   "codemirror_mode": {
    "name": "ipython",
    "version": 3
   },
   "file_extension": ".py",
   "mimetype": "text/x-python",
   "name": "python",
   "nbconvert_exporter": "python",
   "pygments_lexer": "ipython3",
   "version": "3.7.7"
  }
 },
 "nbformat": 4,
 "nbformat_minor": 4
}
