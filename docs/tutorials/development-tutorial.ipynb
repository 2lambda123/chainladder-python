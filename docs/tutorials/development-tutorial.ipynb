{
 "cells": [
  {
   "cell_type": "markdown",
   "metadata": {},
   "source": [
    "## Development tutorial\n",
    "\n",
    "### Getting started\n",
    "All exercises rely on chainladder v0.5.2 and later."
   ]
  },
  {
   "cell_type": "code",
   "execution_count": 1,
   "metadata": {},
   "outputs": [
    {
     "data": {
      "text/plain": [
       "'0.4.7'"
      ]
     },
     "execution_count": 1,
     "metadata": {},
     "output_type": "execute_result"
    }
   ],
   "source": [
    "import chainladder as cl\n",
    "cl.__version__"
   ]
  },
  {
   "cell_type": "markdown",
   "metadata": {},
   "source": [
    "### Estimator Basics"
   ]
  },
  {
   "cell_type": "markdown",
   "metadata": {},
   "source": [
    "All development methods follow the `sklearn` estimator API.  These estimators have a few properties that are worth getting used to.\n",
    "\n",
    "You instiantiate the estimator with your choice of assumptions.  In the case where you don't opt for any assumptions, defaults are chosen for you."
   ]
  },
  {
   "cell_type": "code",
   "execution_count": 2,
   "metadata": {},
   "outputs": [
    {
     "data": {
      "text/plain": [
       "Development(average='volume', drop=None, drop_high=None, drop_low=None,\n",
       "      drop_valuation=None, n_periods=-1, sigma_interpolation='log-linear')"
      ]
     },
     "execution_count": 2,
     "metadata": {},
     "output_type": "execute_result"
    }
   ],
   "source": [
    "cl.Development()"
   ]
  },
  {
   "cell_type": "markdown",
   "metadata": {},
   "source": [
    "At this point, we've chosen an estimator and assumptions (even if default) but we have not shown our estimator a `Triangle`.  At this point it is merely instructions on how to fit development patterns, but no patterns exist as of yet.\n",
    "\n",
    "All estimators have a `fit` method and you can pass a triangle to your estimator.  Let's `fit` a `Triangle` in a `Development` estimator.  Let's also assign the estimator to a variable so we can reference attributes about it."
   ]
  },
  {
   "cell_type": "code",
   "execution_count": 3,
   "metadata": {},
   "outputs": [],
   "source": [
    "genins = cl.load_dataset('genins')\n",
    "dev = cl.Development().fit(genins)"
   ]
  },
  {
   "cell_type": "markdown",
   "metadata": {},
   "source": [
    "Now that we have `fit` a `Development` estimator, it has many additional properties that didn't exist before fitting.  For example, \n",
    "we ca view the `ldf_`"
   ]
  },
  {
   "cell_type": "code",
   "execution_count": 4,
   "metadata": {},
   "outputs": [
    {
     "data": {
      "text/html": [
       "<table border=\"1\" class=\"dataframe\">\n",
       "  <thead>\n",
       "    <tr style=\"text-align: right;\">\n",
       "      <th>Origin</th>\n",
       "      <th>12-24</th>\n",
       "      <th>24-36</th>\n",
       "      <th>36-48</th>\n",
       "      <th>48-60</th>\n",
       "      <th>60-72</th>\n",
       "      <th>72-84</th>\n",
       "      <th>84-96</th>\n",
       "      <th>96-108</th>\n",
       "      <th>108-120</th>\n",
       "    </tr>\n",
       "  </thead>\n",
       "  <tbody>\n",
       "    <tr>\n",
       "      <th>(All)</th>\n",
       "      <td>3.4906</td>\n",
       "      <td>1.7473</td>\n",
       "      <td>1.4574</td>\n",
       "      <td>1.1739</td>\n",
       "      <td>1.1038</td>\n",
       "      <td>1.0863</td>\n",
       "      <td>1.0539</td>\n",
       "      <td>1.0766</td>\n",
       "      <td>1.0177</td>\n",
       "    </tr>\n",
       "  </tbody>\n",
       "</table>"
      ],
      "text/plain": [
       "          12-24     24-36     36-48     48-60     60-72     72-84     84-96    96-108   108-120\n",
       "(All)  3.490607  1.747333  1.457413  1.173852  1.103824  1.086269  1.053874  1.076555  1.017725"
      ]
     },
     "execution_count": 4,
     "metadata": {},
     "output_type": "execute_result"
    }
   ],
   "source": [
    "dev.ldf_"
   ]
  },
  {
   "cell_type": "markdown",
   "metadata": {},
   "source": [
    "We can view the `cdf_`"
   ]
  },
  {
   "cell_type": "code",
   "execution_count": 5,
   "metadata": {},
   "outputs": [
    {
     "data": {
      "text/html": [
       "<table border=\"1\" class=\"dataframe\">\n",
       "  <thead>\n",
       "    <tr style=\"text-align: right;\">\n",
       "      <th>Origin</th>\n",
       "      <th>12-Ult</th>\n",
       "      <th>24-Ult</th>\n",
       "      <th>36-Ult</th>\n",
       "      <th>48-Ult</th>\n",
       "      <th>60-Ult</th>\n",
       "      <th>72-Ult</th>\n",
       "      <th>84-Ult</th>\n",
       "      <th>96-Ult</th>\n",
       "      <th>108-Ult</th>\n",
       "    </tr>\n",
       "  </thead>\n",
       "  <tbody>\n",
       "    <tr>\n",
       "      <th>(All)</th>\n",
       "      <td>14.4466</td>\n",
       "      <td>4.1387</td>\n",
       "      <td>2.3686</td>\n",
       "      <td>1.6252</td>\n",
       "      <td>1.3845</td>\n",
       "      <td>1.2543</td>\n",
       "      <td>1.1547</td>\n",
       "      <td>1.0956</td>\n",
       "      <td>1.0177</td>\n",
       "    </tr>\n",
       "  </tbody>\n",
       "</table>"
      ],
      "text/plain": [
       "          12-Ult    24-Ult    36-Ult    48-Ult    60-Ult    72-Ult    84-Ult    96-Ult   108-Ult\n",
       "(All)  14.446577  4.138701  2.368582  1.625196  1.384499  1.254276  1.154664  1.095637  1.017725"
      ]
     },
     "execution_count": 5,
     "metadata": {},
     "output_type": "execute_result"
    }
   ],
   "source": [
    "dev.cdf_"
   ]
  },
  {
   "cell_type": "markdown",
   "metadata": {},
   "source": [
    "Notice these extra attributes have a trailing underscore_.  This is `sklearn` API convention and it is used to quickly distinguish between attributes that are assumptions (i.e. that exist pre-fit), and those that are estimated from the data (only exist post-fit) "
   ]
  },
  {
   "cell_type": "code",
   "execution_count": 6,
   "metadata": {},
   "outputs": [
    {
     "name": "stdout",
     "output_type": "stream",
     "text": [
      "Assumption parameter (no underscore): volume\n",
      "Estimated parameter (underscore):\n",
      "           12-24     24-36     36-48     48-60     60-72     72-84     84-96    96-108   108-120\n",
      "(All)  3.490607  1.747333  1.457413  1.173852  1.103824  1.086269  1.053874  1.076555  1.017725\n"
     ]
    }
   ],
   "source": [
    "print('Assumption parameter (no underscore):', dev.average)\n",
    "print('Estimated parameter (underscore):\\n',   dev.ldf_)"
   ]
  },
  {
   "cell_type": "markdown",
   "metadata": {},
   "source": [
    "### Development Averaging"
   ]
  },
  {
   "cell_type": "markdown",
   "metadata": {},
   "source": [
    "Now that we have a grounding in triangle manipulation and the basics of estimators, we can start getting more creative with customizing our `Development` factors.\n",
    "\n",
    "The basic `Development` estimator uses a weighted regression through the origin for estimating parameters.  Mack showed that using weighted regressions allows for:\n",
    "1. `volume` weighted average development patterns<br>\n",
    "2. `simple` average development factors<br>\n",
    "3. OLS `regression` estimate of development factor where the regression equation is Y = mX + 0<br>\n",
    "\n",
    "While he posited this framework to suggest the `MackChainladder` stochastic method, it is an elegant form even for deterministic development pattern selection."
   ]
  },
  {
   "cell_type": "code",
   "execution_count": 7,
   "metadata": {},
   "outputs": [
    {
     "data": {
      "text/html": [
       "<table border=\"1\" class=\"dataframe\">\n",
       "  <thead>\n",
       "    <tr style=\"text-align: right;\">\n",
       "      <th>Origin</th>\n",
       "      <th>12-24</th>\n",
       "      <th>24-36</th>\n",
       "      <th>36-48</th>\n",
       "      <th>48-60</th>\n",
       "      <th>60-72</th>\n",
       "      <th>72-84</th>\n",
       "      <th>84-96</th>\n",
       "      <th>96-108</th>\n",
       "      <th>108-120</th>\n",
       "    </tr>\n",
       "  </thead>\n",
       "  <tbody>\n",
       "    <tr>\n",
       "      <th>(All)</th>\n",
       "      <td>3.4906</td>\n",
       "      <td>1.7473</td>\n",
       "      <td>1.4574</td>\n",
       "      <td>1.1739</td>\n",
       "      <td>1.1038</td>\n",
       "      <td>1.0863</td>\n",
       "      <td>1.0539</td>\n",
       "      <td>1.0766</td>\n",
       "      <td>1.0177</td>\n",
       "    </tr>\n",
       "  </tbody>\n",
       "</table>"
      ],
      "text/plain": [
       "          12-24     24-36     36-48     48-60     60-72     72-84     84-96    96-108   108-120\n",
       "(All)  3.490607  1.747333  1.457413  1.173852  1.103824  1.086269  1.053874  1.076555  1.017725"
      ]
     },
     "execution_count": 7,
     "metadata": {},
     "output_type": "execute_result"
    }
   ],
   "source": [
    "vol = cl.Development(average='volume').fit(genins).ldf_\n",
    "vol"
   ]
  },
  {
   "cell_type": "code",
   "execution_count": 8,
   "metadata": {},
   "outputs": [
    {
     "data": {
      "text/html": [
       "<table border=\"1\" class=\"dataframe\">\n",
       "  <thead>\n",
       "    <tr style=\"text-align: right;\">\n",
       "      <th>Origin</th>\n",
       "      <th>12-24</th>\n",
       "      <th>24-36</th>\n",
       "      <th>36-48</th>\n",
       "      <th>48-60</th>\n",
       "      <th>60-72</th>\n",
       "      <th>72-84</th>\n",
       "      <th>84-96</th>\n",
       "      <th>96-108</th>\n",
       "      <th>108-120</th>\n",
       "    </tr>\n",
       "  </thead>\n",
       "  <tbody>\n",
       "    <tr>\n",
       "      <th>(All)</th>\n",
       "      <td>3.5661</td>\n",
       "      <td>1.7456</td>\n",
       "      <td>1.4520</td>\n",
       "      <td>1.1810</td>\n",
       "      <td>1.1112</td>\n",
       "      <td>1.0848</td>\n",
       "      <td>1.0527</td>\n",
       "      <td>1.0748</td>\n",
       "      <td>1.0177</td>\n",
       "    </tr>\n",
       "  </tbody>\n",
       "</table>"
      ],
      "text/plain": [
       "          12-24     24-36     36-48     48-60     60-72     72-84     84-96    96-108   108-120\n",
       "(All)  3.566143  1.745557  1.451961  1.180984  1.111247  1.084818  1.052739  1.074753  1.017725"
      ]
     },
     "execution_count": 8,
     "metadata": {},
     "output_type": "execute_result"
    }
   ],
   "source": [
    "sim = cl.Development(average='simple').fit(genins).ldf_\n",
    "sim"
   ]
  },
  {
   "cell_type": "markdown",
   "metadata": {},
   "source": [
    "In most cases, estimator attributes are `Triangle`s themselves and can be manipulated with just like raw triangles."
   ]
  },
  {
   "cell_type": "code",
   "execution_count": 9,
   "metadata": {},
   "outputs": [
    {
     "name": "stdout",
     "output_type": "stream",
     "text": [
      "LDF Type:  <class 'chainladder.core.triangle.Triangle'>\n",
      "Difference between volume and simple average:\n"
     ]
    },
    {
     "data": {
      "text/html": [
       "<table border=\"1\" class=\"dataframe\">\n",
       "  <thead>\n",
       "    <tr style=\"text-align: right;\">\n",
       "      <th>Origin</th>\n",
       "      <th>12-24</th>\n",
       "      <th>24-36</th>\n",
       "      <th>36-48</th>\n",
       "      <th>48-60</th>\n",
       "      <th>60-72</th>\n",
       "      <th>72-84</th>\n",
       "      <th>84-96</th>\n",
       "      <th>96-108</th>\n",
       "      <th>108-120</th>\n",
       "    </tr>\n",
       "  </thead>\n",
       "  <tbody>\n",
       "    <tr>\n",
       "      <th>(All)</th>\n",
       "      <td>-0.0755</td>\n",
       "      <td>0.0018</td>\n",
       "      <td>0.0055</td>\n",
       "      <td>-0.0071</td>\n",
       "      <td>-0.0074</td>\n",
       "      <td>0.0015</td>\n",
       "      <td>0.0011</td>\n",
       "      <td>0.0018</td>\n",
       "      <td></td>\n",
       "    </tr>\n",
       "  </tbody>\n",
       "</table>"
      ],
      "text/plain": [
       "          12-24     24-36     36-48     48-60     60-72     72-84     84-96    96-108  108-120\n",
       "(All) -0.075536  0.001776  0.005452 -0.007132 -0.007423  0.001452  0.001135  0.001802      NaN"
      ]
     },
     "execution_count": 9,
     "metadata": {},
     "output_type": "execute_result"
    }
   ],
   "source": [
    "print('LDF Type: ', type(vol))\n",
    "print('Difference between volume and simple average:')\n",
    "vol-sim"
   ]
  },
  {
   "cell_type": "markdown",
   "metadata": {},
   "source": [
    "Choosing how you average your LDFs can be done independently for each age-to-age period.  For example, we can use `volume` averaging on the first pattern, `simple` the second, `regression` the third, and then repeat the cycle as follows:"
   ]
  },
  {
   "cell_type": "code",
   "execution_count": 10,
   "metadata": {},
   "outputs": [
    {
     "data": {
      "text/html": [
       "<table border=\"1\" class=\"dataframe\">\n",
       "  <thead>\n",
       "    <tr style=\"text-align: right;\">\n",
       "      <th>Origin</th>\n",
       "      <th>12-24</th>\n",
       "      <th>24-36</th>\n",
       "      <th>36-48</th>\n",
       "      <th>48-60</th>\n",
       "      <th>60-72</th>\n",
       "      <th>72-84</th>\n",
       "      <th>84-96</th>\n",
       "      <th>96-108</th>\n",
       "      <th>108-120</th>\n",
       "    </tr>\n",
       "  </thead>\n",
       "  <tbody>\n",
       "    <tr>\n",
       "      <th>(All)</th>\n",
       "      <td>3.4906</td>\n",
       "      <td>1.7456</td>\n",
       "      <td>1.4619</td>\n",
       "      <td>1.1739</td>\n",
       "      <td>1.1112</td>\n",
       "      <td>1.0873</td>\n",
       "      <td>1.0539</td>\n",
       "      <td>1.0748</td>\n",
       "      <td>1.0177</td>\n",
       "    </tr>\n",
       "  </tbody>\n",
       "</table>"
      ],
      "text/plain": [
       "          12-24     24-36     36-48     48-60     60-72     72-84     84-96    96-108   108-120\n",
       "(All)  3.490607  1.745557  1.461852  1.173852  1.111247  1.087341  1.053874  1.074753  1.017725"
      ]
     },
     "execution_count": 10,
     "metadata": {},
     "output_type": "execute_result"
    }
   ],
   "source": [
    "cl.Development(average=['volume', 'simple', 'regression']*3).fit(genins).ldf_"
   ]
  },
  {
   "cell_type": "markdown",
   "metadata": {},
   "source": [
    "Another example, using `volume`-weighting for the first and last three patterns with `simple` averaging in between."
   ]
  },
  {
   "cell_type": "code",
   "execution_count": 11,
   "metadata": {},
   "outputs": [
    {
     "data": {
      "text/html": [
       "<table border=\"1\" class=\"dataframe\">\n",
       "  <thead>\n",
       "    <tr style=\"text-align: right;\">\n",
       "      <th>Origin</th>\n",
       "      <th>12-24</th>\n",
       "      <th>24-36</th>\n",
       "      <th>36-48</th>\n",
       "      <th>48-60</th>\n",
       "      <th>60-72</th>\n",
       "      <th>72-84</th>\n",
       "      <th>84-96</th>\n",
       "      <th>96-108</th>\n",
       "      <th>108-120</th>\n",
       "    </tr>\n",
       "  </thead>\n",
       "  <tbody>\n",
       "    <tr>\n",
       "      <th>(All)</th>\n",
       "      <td>3.4906</td>\n",
       "      <td>1.7456</td>\n",
       "      <td>1.4520</td>\n",
       "      <td>1.1810</td>\n",
       "      <td>1.1112</td>\n",
       "      <td>1.0848</td>\n",
       "      <td>1.0539</td>\n",
       "      <td>1.0766</td>\n",
       "      <td>1.0177</td>\n",
       "    </tr>\n",
       "  </tbody>\n",
       "</table>"
      ],
      "text/plain": [
       "          12-24     24-36     36-48     48-60     60-72     72-84     84-96    96-108   108-120\n",
       "(All)  3.490607  1.745557  1.451961  1.180984  1.111247  1.084818  1.053874  1.076555  1.017725"
      ]
     },
     "execution_count": 11,
     "metadata": {},
     "output_type": "execute_result"
    }
   ],
   "source": [
    "cl.Development(average=['volume']+['simple']*5+['volume']*3).fit(genins).ldf_"
   ]
  },
  {
   "cell_type": "markdown",
   "metadata": {},
   "source": [
    "### Averaging Period"
   ]
  },
  {
   "cell_type": "markdown",
   "metadata": {},
   "source": [
    "`Development` comes with an `n_periods` parameter that allows you to select the latest `n` valuation periods for fitting your development patterns.  `n_periods=-1` is used to indicate the usage of all available periods."
   ]
  },
  {
   "cell_type": "code",
   "execution_count": 12,
   "metadata": {},
   "outputs": [
    {
     "data": {
      "text/html": [
       "<table border=\"1\" class=\"dataframe\">\n",
       "  <thead>\n",
       "    <tr style=\"text-align: right;\">\n",
       "      <th>Origin</th>\n",
       "      <th>12-24</th>\n",
       "      <th>24-36</th>\n",
       "      <th>36-48</th>\n",
       "      <th>48-60</th>\n",
       "      <th>60-72</th>\n",
       "      <th>72-84</th>\n",
       "      <th>84-96</th>\n",
       "      <th>96-108</th>\n",
       "      <th>108-120</th>\n",
       "    </tr>\n",
       "  </thead>\n",
       "  <tbody>\n",
       "    <tr>\n",
       "      <th>(All)</th>\n",
       "      <td>3.4604</td>\n",
       "      <td>1.8465</td>\n",
       "      <td>1.3920</td>\n",
       "      <td>1.1539</td>\n",
       "      <td>1.0849</td>\n",
       "      <td>1.0974</td>\n",
       "      <td>1.0539</td>\n",
       "      <td>1.0766</td>\n",
       "      <td>1.0177</td>\n",
       "    </tr>\n",
       "  </tbody>\n",
       "</table>"
      ],
      "text/plain": [
       "          12-24     24-36     36-48     48-60     60-72     72-84     84-96    96-108   108-120\n",
       "(All)  3.460401  1.846507  1.392009  1.153852  1.084915  1.097355  1.053874  1.076555  1.017725"
      ]
     },
     "execution_count": 12,
     "metadata": {},
     "output_type": "execute_result"
    }
   ],
   "source": [
    "cl.Development(n_periods=3).fit(genins).ldf_"
   ]
  },
  {
   "cell_type": "markdown",
   "metadata": {},
   "source": [
    "The units of `n_periods` follows the `origin_grain` of your triangle."
   ]
  },
  {
   "cell_type": "code",
   "execution_count": 13,
   "metadata": {},
   "outputs": [
    {
     "name": "stdout",
     "output_type": "stream",
     "text": [
      "Using 5Y Avg\n"
     ]
    },
    {
     "data": {
      "text/html": [
       "<table border=\"1\" class=\"dataframe\">\n",
       "  <thead>\n",
       "    <tr style=\"text-align: right;\">\n",
       "      <th>Origin</th>\n",
       "      <th>12-24</th>\n",
       "      <th>24-36</th>\n",
       "      <th>36-48</th>\n",
       "      <th>48-60</th>\n",
       "      <th>60-72</th>\n",
       "      <th>72-84</th>\n",
       "      <th>84-96</th>\n",
       "      <th>96-108</th>\n",
       "      <th>108-120</th>\n",
       "    </tr>\n",
       "  </thead>\n",
       "  <tbody>\n",
       "    <tr>\n",
       "      <th>(All)</th>\n",
       "      <td>3.2448</td>\n",
       "      <td>1.7867</td>\n",
       "      <td>1.4682</td>\n",
       "      <td>1.1651</td>\n",
       "      <td>1.1038</td>\n",
       "      <td>1.0863</td>\n",
       "      <td>1.0539</td>\n",
       "      <td>1.0766</td>\n",
       "      <td>1.0177</td>\n",
       "    </tr>\n",
       "  </tbody>\n",
       "</table>"
      ],
      "text/plain": [
       "          12-24     24-36     36-48     48-60     60-72     72-84     84-96    96-108   108-120\n",
       "(All)  3.244797  1.786666  1.468194  1.165122  1.103824  1.086269  1.053874  1.076555  1.017725"
      ]
     },
     "execution_count": 13,
     "metadata": {},
     "output_type": "execute_result"
    }
   ],
   "source": [
    "dev = cl.Development(n_periods=5).fit(genins)\n",
    "print('Using ' + str(dev.n_periods) + str(genins.origin_grain) + ' Avg')\n",
    "dev.ldf_"
   ]
  },
  {
   "cell_type": "markdown",
   "metadata": {},
   "source": [
    "Much like `average`, `n_periods` can also be set for each age-to-age individually."
   ]
  },
  {
   "cell_type": "code",
   "execution_count": 14,
   "metadata": {},
   "outputs": [
    {
     "data": {
      "text/html": [
       "<table border=\"1\" class=\"dataframe\">\n",
       "  <thead>\n",
       "    <tr style=\"text-align: right;\">\n",
       "      <th>Origin</th>\n",
       "      <th>12-24</th>\n",
       "      <th>24-36</th>\n",
       "      <th>36-48</th>\n",
       "      <th>48-60</th>\n",
       "      <th>60-72</th>\n",
       "      <th>72-84</th>\n",
       "      <th>84-96</th>\n",
       "      <th>96-108</th>\n",
       "      <th>108-120</th>\n",
       "    </tr>\n",
       "  </thead>\n",
       "  <tbody>\n",
       "    <tr>\n",
       "      <th>(All)</th>\n",
       "      <td>3.5325</td>\n",
       "      <td>1.9502</td>\n",
       "      <td>1.4808</td>\n",
       "      <td>1.1651</td>\n",
       "      <td>1.1038</td>\n",
       "      <td>1.0825</td>\n",
       "      <td>1.0539</td>\n",
       "      <td>1.0766</td>\n",
       "      <td>1.0177</td>\n",
       "    </tr>\n",
       "  </tbody>\n",
       "</table>"
      ],
      "text/plain": [
       "          12-24     24-36     36-48     48-60     60-72     72-84     84-96    96-108   108-120\n",
       "(All)  3.532471  1.950242  1.480761  1.165122  1.103824  1.082476  1.053874  1.076555  1.017725"
      ]
     },
     "execution_count": 14,
     "metadata": {},
     "output_type": "execute_result"
    }
   ],
   "source": [
    "cl.Development(n_periods=[8,2,6,5,-1,2,-1,-1,5]).fit(genins).ldf_"
   ]
  },
  {
   "cell_type": "markdown",
   "metadata": {},
   "source": [
    "Note that if you want more `n_periods` than are available for any particular age-to-age period, all available periods will be used instead."
   ]
  },
  {
   "cell_type": "code",
   "execution_count": 15,
   "metadata": {},
   "outputs": [
    {
     "data": {
      "text/plain": [
       "True"
      ]
     },
     "execution_count": 15,
     "metadata": {},
     "output_type": "execute_result"
    }
   ],
   "source": [
    "cl.Development(n_periods=[1,2,3,4,5,6,7,8,9]).fit(genins).ldf_ == \\\n",
    "cl.Development(n_periods=[1,2,3,4,5,4,3,2,1]).fit(genins).ldf_"
   ]
  },
  {
   "cell_type": "markdown",
   "metadata": {},
   "source": [
    "### Dropping problematic link-ratios\n",
    "\n",
    "Even with `n_periods`, there are situations where you might want to be more surgical in your picks.  For example, you could have a valuation period with bad data and wish to omit the entire diagonal from your averaging."
   ]
  },
  {
   "cell_type": "code",
   "execution_count": 16,
   "metadata": {},
   "outputs": [
    {
     "data": {
      "text/html": [
       "<table border=\"1\" class=\"dataframe\">\n",
       "  <thead>\n",
       "    <tr style=\"text-align: right;\">\n",
       "      <th>Origin</th>\n",
       "      <th>12-24</th>\n",
       "      <th>24-36</th>\n",
       "      <th>36-48</th>\n",
       "      <th>48-60</th>\n",
       "      <th>60-72</th>\n",
       "      <th>72-84</th>\n",
       "      <th>84-96</th>\n",
       "      <th>96-108</th>\n",
       "      <th>108-120</th>\n",
       "    </tr>\n",
       "  </thead>\n",
       "  <tbody>\n",
       "    <tr>\n",
       "      <th>(All)</th>\n",
       "      <td>3.3797</td>\n",
       "      <td>1.7517</td>\n",
       "      <td>1.4426</td>\n",
       "      <td>1.1651</td>\n",
       "      <td>1.1038</td>\n",
       "      <td>1.0863</td>\n",
       "      <td>1.0539</td>\n",
       "      <td>1.0766</td>\n",
       "      <td>1.0177</td>\n",
       "    </tr>\n",
       "  </tbody>\n",
       "</table>"
      ],
      "text/plain": [
       "          12-24     24-36     36-48     48-60     60-72     72-84     84-96    96-108   108-120\n",
       "(All)  3.379677  1.751749  1.442605  1.165122  1.103824  1.086269  1.053874  1.076555  1.017725"
      ]
     },
     "execution_count": 16,
     "metadata": {},
     "output_type": "execute_result"
    }
   ],
   "source": [
    "cl.Development(drop_valuation='2004').fit(genins).ldf_"
   ]
  },
  {
   "cell_type": "markdown",
   "metadata": {},
   "source": [
    "Maybe you want do do olympic averaging (i.e. exluding high and low from each period)"
   ]
  },
  {
   "cell_type": "code",
   "execution_count": 17,
   "metadata": {},
   "outputs": [
    {
     "name": "stderr",
     "output_type": "stream",
     "text": [
      "c:\\users\\jboga\\onedrive\\documents\\github\\chainladder-python\\chainladder\\development\\base.py:155: UserWarning: drop_high and drop_low cannot be computed when less than three LDFs are present. Ignoring exclusions in some cases.\n",
      "  warnings.warn('drop_high and drop_low cannot be computed '\n"
     ]
    },
    {
     "data": {
      "text/html": [
       "<table border=\"1\" class=\"dataframe\">\n",
       "  <thead>\n",
       "    <tr style=\"text-align: right;\">\n",
       "      <th>Origin</th>\n",
       "      <th>12-24</th>\n",
       "      <th>24-36</th>\n",
       "      <th>36-48</th>\n",
       "      <th>48-60</th>\n",
       "      <th>60-72</th>\n",
       "      <th>72-84</th>\n",
       "      <th>84-96</th>\n",
       "      <th>96-108</th>\n",
       "      <th>108-120</th>\n",
       "    </tr>\n",
       "  </thead>\n",
       "  <tbody>\n",
       "    <tr>\n",
       "      <th>(All)</th>\n",
       "      <td>3.5201</td>\n",
       "      <td>1.7277</td>\n",
       "      <td>1.4351</td>\n",
       "      <td>1.1930</td>\n",
       "      <td>1.1018</td>\n",
       "      <td>1.0825</td>\n",
       "      <td>1.0573</td>\n",
       "      <td>1.0766</td>\n",
       "      <td>1.0177</td>\n",
       "    </tr>\n",
       "  </tbody>\n",
       "</table>"
      ],
      "text/plain": [
       "          12-24     24-36     36-48     48-60     60-72     72-84     84-96    96-108   108-120\n",
       "(All)  3.520098  1.727701  1.435147  1.193021  1.101827  1.082476  1.057268  1.076555  1.017725"
      ]
     },
     "execution_count": 17,
     "metadata": {},
     "output_type": "execute_result"
    }
   ],
   "source": [
    "cl.Development(drop_high=True, drop_low=True).fit(genins).ldf_"
   ]
  },
  {
   "cell_type": "markdown",
   "metadata": {},
   "source": [
    "Or maybe there is just a single outlier link-ratio that you don't think is indicative of future development.  For these, you can specify the intersection of the origin and development age of the **denominator** of the link-ratio to `drop`."
   ]
  },
  {
   "cell_type": "code",
   "execution_count": 18,
   "metadata": {},
   "outputs": [
    {
     "data": {
      "text/html": [
       "<table border=\"1\" class=\"dataframe\">\n",
       "  <thead>\n",
       "    <tr style=\"text-align: right;\">\n",
       "      <th>Origin</th>\n",
       "      <th>12-24</th>\n",
       "      <th>24-36</th>\n",
       "      <th>36-48</th>\n",
       "      <th>48-60</th>\n",
       "      <th>60-72</th>\n",
       "      <th>72-84</th>\n",
       "      <th>84-96</th>\n",
       "      <th>96-108</th>\n",
       "      <th>108-120</th>\n",
       "    </tr>\n",
       "  </thead>\n",
       "  <tbody>\n",
       "    <tr>\n",
       "      <th>(All)</th>\n",
       "      <td>3.3797</td>\n",
       "      <td>1.7473</td>\n",
       "      <td>1.4574</td>\n",
       "      <td>1.1739</td>\n",
       "      <td>1.1038</td>\n",
       "      <td>1.0863</td>\n",
       "      <td>1.0539</td>\n",
       "      <td>1.0766</td>\n",
       "      <td>1.0177</td>\n",
       "    </tr>\n",
       "  </tbody>\n",
       "</table>"
      ],
      "text/plain": [
       "          12-24     24-36     36-48     48-60     60-72     72-84     84-96    96-108   108-120\n",
       "(All)  3.379677  1.747333  1.457413  1.173852  1.103824  1.086269  1.053874  1.076555  1.017725"
      ]
     },
     "execution_count": 18,
     "metadata": {},
     "output_type": "execute_result"
    }
   ],
   "source": [
    "cl.Development(drop=('2004', 12)).fit(genins).ldf_"
   ]
  },
  {
   "cell_type": "markdown",
   "metadata": {},
   "source": [
    "If there are more than one troublesome outliers, you cal also pass a list to the `drop` argument."
   ]
  },
  {
   "cell_type": "code",
   "execution_count": 19,
   "metadata": {},
   "outputs": [
    {
     "data": {
      "text/html": [
       "<table border=\"1\" class=\"dataframe\">\n",
       "  <thead>\n",
       "    <tr style=\"text-align: right;\">\n",
       "      <th>Origin</th>\n",
       "      <th>12-24</th>\n",
       "      <th>24-36</th>\n",
       "      <th>36-48</th>\n",
       "      <th>48-60</th>\n",
       "      <th>60-72</th>\n",
       "      <th>72-84</th>\n",
       "      <th>84-96</th>\n",
       "      <th>96-108</th>\n",
       "      <th>108-120</th>\n",
       "    </tr>\n",
       "  </thead>\n",
       "  <tbody>\n",
       "    <tr>\n",
       "      <th>(All)</th>\n",
       "      <td>3.3797</td>\n",
       "      <td>1.7517</td>\n",
       "      <td>1.4574</td>\n",
       "      <td>1.1739</td>\n",
       "      <td>1.1038</td>\n",
       "      <td>1.0863</td>\n",
       "      <td>1.0539</td>\n",
       "      <td>1.0766</td>\n",
       "      <td>1.0177</td>\n",
       "    </tr>\n",
       "  </tbody>\n",
       "</table>"
      ],
      "text/plain": [
       "          12-24     24-36     36-48     48-60     60-72     72-84     84-96    96-108   108-120\n",
       "(All)  3.379677  1.751749  1.457413  1.173852  1.103824  1.086269  1.053874  1.076555  1.017725"
      ]
     },
     "execution_count": 19,
     "metadata": {},
     "output_type": "execute_result"
    }
   ],
   "source": [
    "cl.Development(drop=[('2004', 12), ('2003', 24)]).fit(genins).ldf_"
   ]
  },
  {
   "cell_type": "markdown",
   "metadata": {},
   "source": [
    "### Transformers\n",
    "In `sklearn` parlance, there are two types of estimators.  They are Transformers (which `Development` is) and Predictors.  The `Development` object is a means to creating development patterns, but itself is not an reserving model.  Transformers come with the `tranform` and `fit_transform` method.  These will return a `Triangle` object but augment it with additional information for use in a subsequent IBNR model."
   ]
  },
  {
   "cell_type": "code",
   "execution_count": 20,
   "metadata": {},
   "outputs": [
    {
     "data": {
      "text/html": [
       "<table border=\"1\" class=\"dataframe\">\n",
       "  <thead>\n",
       "    <tr style=\"text-align: right;\">\n",
       "      <th>Origin</th>\n",
       "      <th>12</th>\n",
       "      <th>24</th>\n",
       "      <th>36</th>\n",
       "      <th>48</th>\n",
       "      <th>60</th>\n",
       "      <th>72</th>\n",
       "      <th>84</th>\n",
       "      <th>96</th>\n",
       "      <th>108</th>\n",
       "      <th>120</th>\n",
       "    </tr>\n",
       "  </thead>\n",
       "  <tbody>\n",
       "    <tr>\n",
       "      <th>2001</th>\n",
       "      <td>357,848</td>\n",
       "      <td>1,124,788</td>\n",
       "      <td>1,735,330</td>\n",
       "      <td>2,218,270</td>\n",
       "      <td>2,745,596</td>\n",
       "      <td>3,319,994</td>\n",
       "      <td>3,466,336</td>\n",
       "      <td>3,606,286</td>\n",
       "      <td>3,833,515</td>\n",
       "      <td>3,901,463</td>\n",
       "    </tr>\n",
       "    <tr>\n",
       "      <th>2002</th>\n",
       "      <td>352,118</td>\n",
       "      <td>1,236,139</td>\n",
       "      <td>2,170,033</td>\n",
       "      <td>3,353,322</td>\n",
       "      <td>3,799,067</td>\n",
       "      <td>4,120,063</td>\n",
       "      <td>4,647,867</td>\n",
       "      <td>4,914,039</td>\n",
       "      <td>5,339,085</td>\n",
       "      <td></td>\n",
       "    </tr>\n",
       "    <tr>\n",
       "      <th>2003</th>\n",
       "      <td>290,507</td>\n",
       "      <td>1,292,306</td>\n",
       "      <td>2,218,525</td>\n",
       "      <td>3,235,179</td>\n",
       "      <td>3,985,995</td>\n",
       "      <td>4,132,918</td>\n",
       "      <td>4,628,910</td>\n",
       "      <td>4,909,315</td>\n",
       "      <td></td>\n",
       "      <td></td>\n",
       "    </tr>\n",
       "    <tr>\n",
       "      <th>2004</th>\n",
       "      <td>310,608</td>\n",
       "      <td>1,418,858</td>\n",
       "      <td>2,195,047</td>\n",
       "      <td>3,757,447</td>\n",
       "      <td>4,029,929</td>\n",
       "      <td>4,381,982</td>\n",
       "      <td>4,588,268</td>\n",
       "      <td></td>\n",
       "      <td></td>\n",
       "      <td></td>\n",
       "    </tr>\n",
       "    <tr>\n",
       "      <th>2005</th>\n",
       "      <td>443,160</td>\n",
       "      <td>1,136,350</td>\n",
       "      <td>2,128,333</td>\n",
       "      <td>2,897,821</td>\n",
       "      <td>3,402,672</td>\n",
       "      <td>3,873,311</td>\n",
       "      <td></td>\n",
       "      <td></td>\n",
       "      <td></td>\n",
       "      <td></td>\n",
       "    </tr>\n",
       "    <tr>\n",
       "      <th>2006</th>\n",
       "      <td>396,132</td>\n",
       "      <td>1,333,217</td>\n",
       "      <td>2,180,715</td>\n",
       "      <td>2,985,752</td>\n",
       "      <td>3,691,712</td>\n",
       "      <td></td>\n",
       "      <td></td>\n",
       "      <td></td>\n",
       "      <td></td>\n",
       "      <td></td>\n",
       "    </tr>\n",
       "    <tr>\n",
       "      <th>2007</th>\n",
       "      <td>440,832</td>\n",
       "      <td>1,288,463</td>\n",
       "      <td>2,419,861</td>\n",
       "      <td>3,483,130</td>\n",
       "      <td></td>\n",
       "      <td></td>\n",
       "      <td></td>\n",
       "      <td></td>\n",
       "      <td></td>\n",
       "      <td></td>\n",
       "    </tr>\n",
       "    <tr>\n",
       "      <th>2008</th>\n",
       "      <td>359,480</td>\n",
       "      <td>1,421,128</td>\n",
       "      <td>2,864,498</td>\n",
       "      <td></td>\n",
       "      <td></td>\n",
       "      <td></td>\n",
       "      <td></td>\n",
       "      <td></td>\n",
       "      <td></td>\n",
       "      <td></td>\n",
       "    </tr>\n",
       "    <tr>\n",
       "      <th>2009</th>\n",
       "      <td>376,686</td>\n",
       "      <td>1,363,294</td>\n",
       "      <td></td>\n",
       "      <td></td>\n",
       "      <td></td>\n",
       "      <td></td>\n",
       "      <td></td>\n",
       "      <td></td>\n",
       "      <td></td>\n",
       "      <td></td>\n",
       "    </tr>\n",
       "    <tr>\n",
       "      <th>2010</th>\n",
       "      <td>344,014</td>\n",
       "      <td></td>\n",
       "      <td></td>\n",
       "      <td></td>\n",
       "      <td></td>\n",
       "      <td></td>\n",
       "      <td></td>\n",
       "      <td></td>\n",
       "      <td></td>\n",
       "      <td></td>\n",
       "    </tr>\n",
       "  </tbody>\n",
       "</table>"
      ],
      "text/plain": [
       "           12         24         36         48         60         72         84         96         108        120\n",
       "2001  357848.0  1124788.0  1735330.0  2218270.0  2745596.0  3319994.0  3466336.0  3606286.0  3833515.0  3901463.0\n",
       "2002  352118.0  1236139.0  2170033.0  3353322.0  3799067.0  4120063.0  4647867.0  4914039.0  5339085.0        NaN\n",
       "2003  290507.0  1292306.0  2218525.0  3235179.0  3985995.0  4132918.0  4628910.0  4909315.0        NaN        NaN\n",
       "2004  310608.0  1418858.0  2195047.0  3757447.0  4029929.0  4381982.0  4588268.0        NaN        NaN        NaN\n",
       "2005  443160.0  1136350.0  2128333.0  2897821.0  3402672.0  3873311.0        NaN        NaN        NaN        NaN\n",
       "2006  396132.0  1333217.0  2180715.0  2985752.0  3691712.0        NaN        NaN        NaN        NaN        NaN\n",
       "2007  440832.0  1288463.0  2419861.0  3483130.0        NaN        NaN        NaN        NaN        NaN        NaN\n",
       "2008  359480.0  1421128.0  2864498.0        NaN        NaN        NaN        NaN        NaN        NaN        NaN\n",
       "2009  376686.0  1363294.0        NaN        NaN        NaN        NaN        NaN        NaN        NaN        NaN\n",
       "2010  344014.0        NaN        NaN        NaN        NaN        NaN        NaN        NaN        NaN        NaN"
      ]
     },
     "execution_count": 20,
     "metadata": {},
     "output_type": "execute_result"
    }
   ],
   "source": [
    "transformed_triangle = cl.Development().fit_transform(genins)\n",
    "transformed_triangle"
   ]
  },
  {
   "cell_type": "markdown",
   "metadata": {},
   "source": [
    "Our transformed triangle behaves as our original `genins` triangle."
   ]
  },
  {
   "cell_type": "code",
   "execution_count": 21,
   "metadata": {},
   "outputs": [
    {
     "name": "stdout",
     "output_type": "stream",
     "text": [
      "<class 'chainladder.core.triangle.Triangle'>\n"
     ]
    },
    {
     "data": {
      "text/html": [
       "<table border=\"1\" class=\"dataframe\">\n",
       "  <thead>\n",
       "    <tr style=\"text-align: right;\">\n",
       "      <th>Origin</th>\n",
       "      <th>values</th>\n",
       "    </tr>\n",
       "  </thead>\n",
       "  <tbody>\n",
       "    <tr>\n",
       "      <th>2001</th>\n",
       "      <td>3,901,463</td>\n",
       "    </tr>\n",
       "    <tr>\n",
       "      <th>2002</th>\n",
       "      <td>5,339,085</td>\n",
       "    </tr>\n",
       "    <tr>\n",
       "      <th>2003</th>\n",
       "      <td>4,909,315</td>\n",
       "    </tr>\n",
       "    <tr>\n",
       "      <th>2004</th>\n",
       "      <td>4,588,268</td>\n",
       "    </tr>\n",
       "    <tr>\n",
       "      <th>2005</th>\n",
       "      <td>3,873,311</td>\n",
       "    </tr>\n",
       "    <tr>\n",
       "      <th>2006</th>\n",
       "      <td>3,691,712</td>\n",
       "    </tr>\n",
       "    <tr>\n",
       "      <th>2007</th>\n",
       "      <td>3,483,130</td>\n",
       "    </tr>\n",
       "    <tr>\n",
       "      <th>2008</th>\n",
       "      <td>2,864,498</td>\n",
       "    </tr>\n",
       "    <tr>\n",
       "      <th>2009</th>\n",
       "      <td>1,363,294</td>\n",
       "    </tr>\n",
       "    <tr>\n",
       "      <th>2010</th>\n",
       "      <td>344,014</td>\n",
       "    </tr>\n",
       "  </tbody>\n",
       "</table>"
      ],
      "text/plain": [
       "         values\n",
       "2001  3901463.0\n",
       "2002  5339085.0\n",
       "2003  4909315.0\n",
       "2004  4588268.0\n",
       "2005  3873311.0\n",
       "2006  3691712.0\n",
       "2007  3483130.0\n",
       "2008  2864498.0\n",
       "2009  1363294.0\n",
       "2010   344014.0"
      ]
     },
     "execution_count": 21,
     "metadata": {},
     "output_type": "execute_result"
    }
   ],
   "source": [
    "print(type(transformed_triangle))\n",
    "transformed_triangle.latest_diagonal"
   ]
  },
  {
   "cell_type": "markdown",
   "metadata": {},
   "source": [
    "However, it has other attributes that make it IBNR model-ready."
   ]
  },
  {
   "cell_type": "code",
   "execution_count": 22,
   "metadata": {},
   "outputs": [
    {
     "data": {
      "text/html": [
       "<table border=\"1\" class=\"dataframe\">\n",
       "  <thead>\n",
       "    <tr style=\"text-align: right;\">\n",
       "      <th>Origin</th>\n",
       "      <th>12-Ult</th>\n",
       "      <th>24-Ult</th>\n",
       "      <th>36-Ult</th>\n",
       "      <th>48-Ult</th>\n",
       "      <th>60-Ult</th>\n",
       "      <th>72-Ult</th>\n",
       "      <th>84-Ult</th>\n",
       "      <th>96-Ult</th>\n",
       "      <th>108-Ult</th>\n",
       "    </tr>\n",
       "  </thead>\n",
       "  <tbody>\n",
       "    <tr>\n",
       "      <th>(All)</th>\n",
       "      <td>14.4466</td>\n",
       "      <td>4.1387</td>\n",
       "      <td>2.3686</td>\n",
       "      <td>1.6252</td>\n",
       "      <td>1.3845</td>\n",
       "      <td>1.2543</td>\n",
       "      <td>1.1547</td>\n",
       "      <td>1.0956</td>\n",
       "      <td>1.0177</td>\n",
       "    </tr>\n",
       "  </tbody>\n",
       "</table>"
      ],
      "text/plain": [
       "          12-Ult    24-Ult    36-Ult    48-Ult    60-Ult    72-Ult    84-Ult    96-Ult   108-Ult\n",
       "(All)  14.446577  4.138701  2.368582  1.625196  1.384499  1.254276  1.154664  1.095637  1.017725"
      ]
     },
     "execution_count": 22,
     "metadata": {},
     "output_type": "execute_result"
    }
   ],
   "source": [
    "transformed_triangle.cdf_"
   ]
  },
  {
   "cell_type": "markdown",
   "metadata": {},
   "source": [
    "`fit_transform()` is equivalent to calling `fit` and `transform` in succession on the same triangle.  Again, this should feel very familiar to the `sklearn` practitioner."
   ]
  },
  {
   "cell_type": "code",
   "execution_count": 23,
   "metadata": {},
   "outputs": [
    {
     "data": {
      "text/plain": [
       "True"
      ]
     },
     "execution_count": 23,
     "metadata": {},
     "output_type": "execute_result"
    }
   ],
   "source": [
    "cl.Development().fit_transform(genins) == cl.Development().fit(genins).transform(genins)"
   ]
  },
  {
   "cell_type": "markdown",
   "metadata": {},
   "source": [
    "The reason you might want want to use `fit` and `transform` separately would be when you want to apply development patterns to a a different triangle.  For examlple, we can:\n",
    "\n",
    "1. Extract the commercial auto triangles from the `clrd` dataset<br>\n",
    "2. Summarize to an industry level and `fit` a `Development` object<br>\n",
    "3. We can then `transform` the individual company triangles with the industry development patterns<br>"
   ]
  },
  {
   "cell_type": "code",
   "execution_count": 24,
   "metadata": {},
   "outputs": [
    {
     "data": {
      "text/html": [
       "<table border=\"1\" class=\"dataframe\">\n",
       "  <thead>\n",
       "    <tr style=\"text-align: right;\">\n",
       "      <th></th>\n",
       "      <th>Triangle Summary</th>\n",
       "    </tr>\n",
       "  </thead>\n",
       "  <tbody>\n",
       "    <tr>\n",
       "      <th>Valuation:</th>\n",
       "      <td>1997-12</td>\n",
       "    </tr>\n",
       "    <tr>\n",
       "      <th>Grain:</th>\n",
       "      <td>OYDY</td>\n",
       "    </tr>\n",
       "    <tr>\n",
       "      <th>Shape:</th>\n",
       "      <td>(157, 1, 10, 10)</td>\n",
       "    </tr>\n",
       "    <tr>\n",
       "      <th>Index:</th>\n",
       "      <td>[GRNAME, LOB]</td>\n",
       "    </tr>\n",
       "    <tr>\n",
       "      <th>Columns:</th>\n",
       "      <td>[CumPaidLoss]</td>\n",
       "    </tr>\n",
       "  </tbody>\n",
       "</table>"
      ],
      "text/plain": [
       "Valuation: 1997-12\n",
       "Grain:     OYDY\n",
       "Shape:     (157, 1, 10, 10)\n",
       "Index:      ['GRNAME', 'LOB']\n",
       "Columns:    ['CumPaidLoss']"
      ]
     },
     "execution_count": 24,
     "metadata": {},
     "output_type": "execute_result"
    }
   ],
   "source": [
    "clrd = cl.load_dataset('clrd')\n",
    "comauto = clrd[clrd['LOB']=='comauto']['CumPaidLoss']\n",
    "\n",
    "comauto_industry = comauto.sum()\n",
    "industry_dev = cl.Development().fit(comauto_industry)\n",
    "\n",
    "industry_dev.transform(comauto)"
   ]
  },
  {
   "cell_type": "markdown",
   "metadata": {},
   "source": [
    "### Working with multidimensional triangles\n",
    "\n",
    "Several (though not all) of the estimators in `chainlader` can be fit to several triangles simultaneously.  While this can be a convenient shorthand, it will use the same assumptions across every triangle."
   ]
  },
  {
   "cell_type": "code",
   "execution_count": 25,
   "metadata": {},
   "outputs": [
    {
     "name": "stdout",
     "output_type": "stream",
     "text": [
      "Fitting to 6 industries simultaneously.\n"
     ]
    },
    {
     "data": {
      "text/html": [
       "<table border=\"1\" class=\"dataframe\">\n",
       "  <thead>\n",
       "    <tr style=\"text-align: right;\">\n",
       "      <th></th>\n",
       "      <th>Triangle Summary</th>\n",
       "    </tr>\n",
       "  </thead>\n",
       "  <tbody>\n",
       "    <tr>\n",
       "      <th>Valuation:</th>\n",
       "      <td>1997-12</td>\n",
       "    </tr>\n",
       "    <tr>\n",
       "      <th>Grain:</th>\n",
       "      <td>OYDY</td>\n",
       "    </tr>\n",
       "    <tr>\n",
       "      <th>Shape:</th>\n",
       "      <td>(6, 1, 10, 9)</td>\n",
       "    </tr>\n",
       "    <tr>\n",
       "      <th>Index:</th>\n",
       "      <td>[LOB]</td>\n",
       "    </tr>\n",
       "    <tr>\n",
       "      <th>Columns:</th>\n",
       "      <td>[CumPaidLoss]</td>\n",
       "    </tr>\n",
       "  </tbody>\n",
       "</table>"
      ],
      "text/plain": [
       "Valuation: 1997-12\n",
       "Grain:     OYDY\n",
       "Shape:     (6, 1, 10, 9)\n",
       "Index:      ['LOB']\n",
       "Columns:    ['CumPaidLoss']"
      ]
     },
     "execution_count": 25,
     "metadata": {},
     "output_type": "execute_result"
    }
   ],
   "source": [
    "clrd = cl.load_dataset('clrd').groupby('LOB').sum()['CumPaidLoss']\n",
    "print('Fitting to ' + str(len(clrd.index)) + ' industries simultaneously.')\n",
    "cl.Development().fit_transform(clrd).cdf_"
   ]
  },
  {
   "cell_type": "markdown",
   "metadata": {},
   "source": [
    "For greater control, you can slice individual triangles out and fit separate patterns to each."
   ]
  },
  {
   "cell_type": "code",
   "execution_count": 26,
   "metadata": {},
   "outputs": [
    {
     "name": "stdout",
     "output_type": "stream",
     "text": [
      "Development(average='simple', drop=None, drop_high=None, drop_low=None,\n",
      "      drop_valuation=None, n_periods=-1, sigma_interpolation='log-linear')\n",
      "Development(average='volume', drop=None, drop_high=None, drop_low=None,\n",
      "      drop_valuation=None, n_periods=4, sigma_interpolation='log-linear')\n",
      "Development(average='regression', drop=None, drop_high=None, drop_low=None,\n",
      "      drop_valuation=None, n_periods=6, sigma_interpolation='log-linear')\n"
     ]
    }
   ],
   "source": [
    "print(cl.Development(average='simple').fit(clrd.loc['wkcomp']))\n",
    "print(cl.Development(n_periods=4).fit(clrd.loc['ppauto']))\n",
    "print(cl.Development(average='regression', n_periods=6).fit(clrd.loc['comauto']))"
   ]
  }
 ],
 "metadata": {
  "kernelspec": {
   "display_name": "Python 3",
   "language": "python",
   "name": "python3"
  },
  "language_info": {
   "codemirror_mode": {
    "name": "ipython",
    "version": 3
   },
   "file_extension": ".py",
   "mimetype": "text/x-python",
   "name": "python",
   "nbconvert_exporter": "python",
   "pygments_lexer": "ipython3",
   "version": "3.6.3"
  }
 },
 "nbformat": 4,
 "nbformat_minor": 4
}
