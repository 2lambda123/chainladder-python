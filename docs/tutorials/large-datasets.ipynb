{
 "cells": [
  {
   "cell_type": "markdown",
   "metadata": {},
   "source": [
    "# Working with Large Datasets\n",
    "### Getting started\n",
    "All exercises rely on chainladder v0.7.5 and later. There have also been breaking changes with pandas 1.0 and if you are using an earlier version, date slicing may behave differently."
   ]
  },
  {
   "cell_type": "code",
   "execution_count": 1,
   "metadata": {},
   "outputs": [
    {
     "name": "stdout",
     "output_type": "stream",
     "text": [
      "pandas: 1.3.4\n",
      "numpy: 1.21.2\n",
      "chainladder: 0.8.10\n"
     ]
    }
   ],
   "source": [
    "# Black linter, optional\n",
    "%load_ext lab_black\n",
    "\n",
    "import pandas as pd\n",
    "import numpy as np\n",
    "import chainladder as cl\n",
    "\n",
    "print(\"pandas: \" + pd.__version__)\n",
    "print(\"numpy: \" + np.__version__)\n",
    "print(\"chainladder: \" + cl.__version__)"
   ]
  },
  {
   "cell_type": "markdown",
   "metadata": {},
   "source": [
    "### Sparse triangles\n",
    "By default, the chainladder `Triangle` is a wrapper around a numpy array.  Numpy is optimized for high performance and this allows chainladder to achieve decent compute speeds.  Despite being fast, numpy can become memory inefficient with triangle data because triangles are inherently sparse.\n",
    "\n",
    "The lower half of a an incomplete triangle is generally blank and that means about 50% of an array size is wasted on empty space.  As we include granular index and column values in our `Triangle`, the sparsity of the triangle increases further consuming RAM unnecessarily.  Chainladder automatically eliminates this extraneous consumption of memory by resorting to a sparse array representation when the Triangle becomes sufficiently large.\n",
    "\n",
    "Let's load the 'prism' dataset and include each claim number in the index of the Triangle. The dataset is claim level and includes over 130,000 triangles."
   ]
  },
  {
   "cell_type": "code",
   "execution_count": 2,
   "metadata": {},
   "outputs": [
    {
     "data": {
      "text/html": [
       "<table border=\"1\" class=\"dataframe\">\n",
       "  <thead>\n",
       "    <tr style=\"text-align: right;\">\n",
       "      <th></th>\n",
       "      <th>Triangle Summary</th>\n",
       "    </tr>\n",
       "  </thead>\n",
       "  <tbody>\n",
       "    <tr>\n",
       "      <th>Valuation:</th>\n",
       "      <td>2017-12</td>\n",
       "    </tr>\n",
       "    <tr>\n",
       "      <th>Grain:</th>\n",
       "      <td>OMDM</td>\n",
       "    </tr>\n",
       "    <tr>\n",
       "      <th>Shape:</th>\n",
       "      <td>(34244, 4, 120, 120)</td>\n",
       "    </tr>\n",
       "    <tr>\n",
       "      <th>Index:</th>\n",
       "      <td>[ClaimNo, Line, Type, ClaimLiability, Limit, Deductible]</td>\n",
       "    </tr>\n",
       "    <tr>\n",
       "      <th>Columns:</th>\n",
       "      <td>[reportedCount, closedPaidCount, Paid, Incurred]</td>\n",
       "    </tr>\n",
       "  </tbody>\n",
       "</table>"
      ],
      "text/plain": [
       "                                             Triangle Summary\n",
       "Valuation:                                            2017-12\n",
       "Grain:                                                   OMDM\n",
       "Shape:                                   (34244, 4, 120, 120)\n",
       "Index:      [ClaimNo, Line, Type, ClaimLiability, Limit, D...\n",
       "Columns:     [reportedCount, closedPaidCount, Paid, Incurred]"
      ]
     },
     "execution_count": 2,
     "metadata": {},
     "output_type": "execute_result"
    }
   ],
   "source": [
    "prism = cl.load_sample(\"prism\")\n",
    "prism"
   ]
  },
  {
   "cell_type": "markdown",
   "metadata": {},
   "source": [
    "Let's also look at the array representation of the Triangle and notice how it is no longer a numpy array, but instead a sparse array."
   ]
  },
  {
   "cell_type": "code",
   "execution_count": 3,
   "metadata": {},
   "outputs": [
    {
     "data": {
      "text/html": [
       "<table><tbody><tr><th style=\"text-align: left\">Format</th><td style=\"text-align: left\">coo</td></tr><tr><th style=\"text-align: left\">Data Type</th><td style=\"text-align: left\">float64</td></tr><tr><th style=\"text-align: left\">Shape</th><td style=\"text-align: left\">(34244, 4, 120, 120)</td></tr><tr><th style=\"text-align: left\">nnz</th><td style=\"text-align: left\">121178</td></tr><tr><th style=\"text-align: left\">Density</th><td style=\"text-align: left\">6.143513381095148e-05</td></tr><tr><th style=\"text-align: left\">Read-only</th><td style=\"text-align: left\">True</td></tr><tr><th style=\"text-align: left\">Size</th><td style=\"text-align: left\">4.6M</td></tr><tr><th style=\"text-align: left\">Storage ratio</th><td style=\"text-align: left\">0.0</td></tr></tbody></table>"
      ],
      "text/plain": [
       "<COO: shape=(34244, 4, 120, 120), dtype=float64, nnz=121178, fill_value=nan>"
      ]
     },
     "execution_count": 3,
     "metadata": {},
     "output_type": "execute_result"
    }
   ],
   "source": [
    "prism.values"
   ]
  },
  {
   "cell_type": "markdown",
   "metadata": {},
   "source": [
    "The sparse array consumes about 4.6Mb of memory. We can also see its density is very low, this is because individual claims will at most exist in only one origin period.  Let's approximate the size of this Triangle assuming we used a dense array representation.  Approximation can be done by assuming 8 bytes (for float64) of memory are used for each cell in the array."
   ]
  },
  {
   "cell_type": "code",
   "execution_count": 4,
   "metadata": {},
   "outputs": [
    {
     "name": "stdout",
     "output_type": "stream",
     "text": [
      "Dense array size: 15.7796352 GB\n",
      "Sparse array size: 4.84712 MB\n",
      "Dense array is 3255.5 times larger !!!\n"
     ]
    }
   ],
   "source": [
    "print(\"Dense array size:\", np.prod(prism.shape) / 1e9 * 8, \"GB\")\n",
    "print(\"Sparse array size:\", prism.values.nbytes / 1e6, \"MB\")\n",
    "print(\n",
    "    \"Dense array is\",\n",
    "    round((np.prod(prism.shape) / 1e6 * 8) / (prism.values.nbytes / 1e6), 1),\n",
    "    \"times larger !!!\",\n",
    ")"
   ]
  },
  {
   "cell_type": "markdown",
   "metadata": {},
   "source": [
    "### Incremental vs Cumulative Triangles\n",
    "Cumulative triangles are naturally denser than those stored in an incremental fashion.  While almost all actuarial techniques rely on cumulative triangles, it may be worthwhile to maintain and manipulate triangles as incremental triangles until you are ready to apply a model.\n",
    "\n",
    "Our incremental triangle is under 5MB, but when we convert to a cumulative triangle it becomes an astonishingly large 219MB and this is despite still maintaining a sparsity of under 0.3%!"
   ]
  },
  {
   "cell_type": "code",
   "execution_count": 5,
   "metadata": {},
   "outputs": [
    {
     "data": {
      "text/html": [
       "<table><tbody><tr><th style=\"text-align: left\">Format</th><td style=\"text-align: left\">coo</td></tr><tr><th style=\"text-align: left\">Data Type</th><td style=\"text-align: left\">float64</td></tr><tr><th style=\"text-align: left\">Shape</th><td style=\"text-align: left\">(34244, 4, 120, 120)</td></tr><tr><th style=\"text-align: left\">nnz</th><td style=\"text-align: left\">5750047</td></tr><tr><th style=\"text-align: left\">Density</th><td style=\"text-align: left\">0.00291517360299939</td></tr><tr><th style=\"text-align: left\">Read-only</th><td style=\"text-align: left\">True</td></tr><tr><th style=\"text-align: left\">Size</th><td style=\"text-align: left\">219.3M</td></tr><tr><th style=\"text-align: left\">Storage ratio</th><td style=\"text-align: left\">0.0</td></tr></tbody></table>"
      ],
      "text/plain": [
       "<COO: shape=(34244, 4, 120, 120), dtype=float64, nnz=5750047, fill_value=nan>"
      ]
     },
     "execution_count": 5,
     "metadata": {},
     "output_type": "execute_result"
    }
   ],
   "source": [
    "prism = prism.incr_to_cum()\n",
    "prism.values"
   ]
  },
  {
   "cell_type": "markdown",
   "metadata": {},
   "source": [
    "### Claim level data\n",
    "The sparse representation of triangles allows for substantially more data to be pushed through chainladder.  This gives us some nice capabilities that we would not otherwise be able to do with aggregate data.\n",
    "\n",
    "For example, we can now drill into the individual claim makeup of any cell in our Triangle.  Let's look at January 2017 claim details at age 12."
   ]
  },
  {
   "cell_type": "code",
   "execution_count": 6,
   "metadata": {},
   "outputs": [
    {
     "data": {
      "text/html": [
       "<div>\n",
       "<style scoped>\n",
       "    .dataframe tbody tr th:only-of-type {\n",
       "        vertical-align: middle;\n",
       "    }\n",
       "\n",
       "    .dataframe tbody tr th {\n",
       "        vertical-align: top;\n",
       "    }\n",
       "\n",
       "    .dataframe thead th {\n",
       "        text-align: right;\n",
       "    }\n",
       "</style>\n",
       "<table border=\"1\" class=\"dataframe\">\n",
       "  <thead>\n",
       "    <tr style=\"text-align: right;\">\n",
       "      <th></th>\n",
       "      <th>ClaimNo</th>\n",
       "      <th>Line</th>\n",
       "      <th>Type</th>\n",
       "      <th>ClaimLiability</th>\n",
       "      <th>Limit</th>\n",
       "      <th>Deductible</th>\n",
       "      <th>reportedCount</th>\n",
       "      <th>closedPaidCount</th>\n",
       "      <th>Paid</th>\n",
       "      <th>Incurred</th>\n",
       "    </tr>\n",
       "  </thead>\n",
       "  <tbody>\n",
       "    <tr>\n",
       "      <th>0</th>\n",
       "      <td>38339</td>\n",
       "      <td>Auto</td>\n",
       "      <td>PD</td>\n",
       "      <td>False</td>\n",
       "      <td>8000.0</td>\n",
       "      <td>1000</td>\n",
       "      <td>1.0</td>\n",
       "      <td>0.0</td>\n",
       "      <td>0.000000</td>\n",
       "      <td>0.000000</td>\n",
       "    </tr>\n",
       "    <tr>\n",
       "      <th>1</th>\n",
       "      <td>38436</td>\n",
       "      <td>Auto</td>\n",
       "      <td>PD</td>\n",
       "      <td>True</td>\n",
       "      <td>15000.0</td>\n",
       "      <td>1000</td>\n",
       "      <td>1.0</td>\n",
       "      <td>1.0</td>\n",
       "      <td>8337.875863</td>\n",
       "      <td>8337.875863</td>\n",
       "    </tr>\n",
       "    <tr>\n",
       "      <th>2</th>\n",
       "      <td>38142</td>\n",
       "      <td>Auto</td>\n",
       "      <td>PD</td>\n",
       "      <td>True</td>\n",
       "      <td>8000.0</td>\n",
       "      <td>1000</td>\n",
       "      <td>1.0</td>\n",
       "      <td>1.0</td>\n",
       "      <td>7000.000000</td>\n",
       "      <td>7000.000000</td>\n",
       "    </tr>\n",
       "    <tr>\n",
       "      <th>3</th>\n",
       "      <td>38195</td>\n",
       "      <td>Auto</td>\n",
       "      <td>PD</td>\n",
       "      <td>True</td>\n",
       "      <td>20000.0</td>\n",
       "      <td>1000</td>\n",
       "      <td>1.0</td>\n",
       "      <td>1.0</td>\n",
       "      <td>19000.000000</td>\n",
       "      <td>19000.000000</td>\n",
       "    </tr>\n",
       "    <tr>\n",
       "      <th>4</th>\n",
       "      <td>38158</td>\n",
       "      <td>Auto</td>\n",
       "      <td>PD</td>\n",
       "      <td>True</td>\n",
       "      <td>20000.0</td>\n",
       "      <td>1000</td>\n",
       "      <td>1.0</td>\n",
       "      <td>1.0</td>\n",
       "      <td>10686.229420</td>\n",
       "      <td>10686.229420</td>\n",
       "    </tr>\n",
       "    <tr>\n",
       "      <th>...</th>\n",
       "      <td>...</td>\n",
       "      <td>...</td>\n",
       "      <td>...</td>\n",
       "      <td>...</td>\n",
       "      <td>...</td>\n",
       "      <td>...</td>\n",
       "      <td>...</td>\n",
       "      <td>...</td>\n",
       "      <td>...</td>\n",
       "      <td>...</td>\n",
       "    </tr>\n",
       "    <tr>\n",
       "      <th>155</th>\n",
       "      <td>38393</td>\n",
       "      <td>Auto</td>\n",
       "      <td>PD</td>\n",
       "      <td>True</td>\n",
       "      <td>8000.0</td>\n",
       "      <td>1000</td>\n",
       "      <td>1.0</td>\n",
       "      <td>1.0</td>\n",
       "      <td>7000.000000</td>\n",
       "      <td>7000.000000</td>\n",
       "    </tr>\n",
       "    <tr>\n",
       "      <th>156</th>\n",
       "      <td>38396</td>\n",
       "      <td>Auto</td>\n",
       "      <td>PD</td>\n",
       "      <td>True</td>\n",
       "      <td>8000.0</td>\n",
       "      <td>1000</td>\n",
       "      <td>1.0</td>\n",
       "      <td>1.0</td>\n",
       "      <td>7000.000000</td>\n",
       "      <td>7000.000000</td>\n",
       "    </tr>\n",
       "    <tr>\n",
       "      <th>157</th>\n",
       "      <td>38455</td>\n",
       "      <td>Auto</td>\n",
       "      <td>PD</td>\n",
       "      <td>True</td>\n",
       "      <td>20000.0</td>\n",
       "      <td>1000</td>\n",
       "      <td>1.0</td>\n",
       "      <td>1.0</td>\n",
       "      <td>9927.351224</td>\n",
       "      <td>9927.351224</td>\n",
       "    </tr>\n",
       "    <tr>\n",
       "      <th>158</th>\n",
       "      <td>38457</td>\n",
       "      <td>Auto</td>\n",
       "      <td>PD</td>\n",
       "      <td>True</td>\n",
       "      <td>15000.0</td>\n",
       "      <td>1000</td>\n",
       "      <td>1.0</td>\n",
       "      <td>1.0</td>\n",
       "      <td>7874.879070</td>\n",
       "      <td>7874.879070</td>\n",
       "    </tr>\n",
       "    <tr>\n",
       "      <th>159</th>\n",
       "      <td>38460</td>\n",
       "      <td>Auto</td>\n",
       "      <td>PD</td>\n",
       "      <td>True</td>\n",
       "      <td>15000.0</td>\n",
       "      <td>1000</td>\n",
       "      <td>1.0</td>\n",
       "      <td>1.0</td>\n",
       "      <td>3125.840672</td>\n",
       "      <td>3125.840672</td>\n",
       "    </tr>\n",
       "  </tbody>\n",
       "</table>\n",
       "<p>160 rows × 10 columns</p>\n",
       "</div>"
      ],
      "text/plain": [
       "     ClaimNo  Line Type  ClaimLiability    Limit  Deductible  reportedCount  \\\n",
       "0      38339  Auto   PD           False   8000.0        1000            1.0   \n",
       "1      38436  Auto   PD            True  15000.0        1000            1.0   \n",
       "2      38142  Auto   PD            True   8000.0        1000            1.0   \n",
       "3      38195  Auto   PD            True  20000.0        1000            1.0   \n",
       "4      38158  Auto   PD            True  20000.0        1000            1.0   \n",
       "..       ...   ...  ...             ...      ...         ...            ...   \n",
       "155    38393  Auto   PD            True   8000.0        1000            1.0   \n",
       "156    38396  Auto   PD            True   8000.0        1000            1.0   \n",
       "157    38455  Auto   PD            True  20000.0        1000            1.0   \n",
       "158    38457  Auto   PD            True  15000.0        1000            1.0   \n",
       "159    38460  Auto   PD            True  15000.0        1000            1.0   \n",
       "\n",
       "     closedPaidCount          Paid      Incurred  \n",
       "0                0.0      0.000000      0.000000  \n",
       "1                1.0   8337.875863   8337.875863  \n",
       "2                1.0   7000.000000   7000.000000  \n",
       "3                1.0  19000.000000  19000.000000  \n",
       "4                1.0  10686.229420  10686.229420  \n",
       "..               ...           ...           ...  \n",
       "155              1.0   7000.000000   7000.000000  \n",
       "156              1.0   7000.000000   7000.000000  \n",
       "157              1.0   9927.351224   9927.351224  \n",
       "158              1.0   7874.879070   7874.879070  \n",
       "159              1.0   3125.840672   3125.840672  \n",
       "\n",
       "[160 rows x 10 columns]"
      ]
     },
     "execution_count": 6,
     "metadata": {},
     "output_type": "execute_result"
    }
   ],
   "source": [
    "claims = prism[prism.origin == \"2017-01\"][prism.development == 12].to_frame()\n",
    "claims[abs(claims).sum(axis=\"columns\") != 0].reset_index()"
   ]
  },
  {
   "cell_type": "markdown",
   "metadata": {},
   "source": [
    "We can also examine the data as the usual aggregate Triangle."
   ]
  },
  {
   "cell_type": "code",
   "execution_count": 7,
   "metadata": {},
   "outputs": [
    {
     "data": {
      "text/plain": [
       "<AxesSubplot:title={'center':'Prism Paid'}>"
      ]
     },
     "execution_count": 7,
     "metadata": {},
     "output_type": "execute_result"
    },
    {
     "data": {
      "image/png": "[encoded data removed]",
      "text/plain": [
       "<Figure size 432x288 with 1 Axes>"
      ]
     },
     "metadata": {
      "needs_background": "light"
     },
     "output_type": "display_data"
    }
   ],
   "source": [
    "prism[\"Paid\"].sum().grain(\"OYDM\").T.plot(title=\"Prism Paid\", grid=True)"
   ]
  },
  {
   "cell_type": "markdown",
   "metadata": {},
   "source": [
    "With claim level data, we can set a claim large loss cap or create an excess Triangle on the fly."
   ]
  },
  {
   "cell_type": "code",
   "execution_count": null,
   "metadata": {},
   "outputs": [],
   "source": [
    "prism[\"Capped 100k Paid\"] = cl.minimum(prism[\"Paid\"], 100000)\n",
    "prism[\"Excess 100k Paid\"] = prism[\"Paid\"] - prism[\"Capped 100k Paid\"]\n",
    "prism[\"Excess 100k Paid\"].sum().grain(\"OYDM\").T.plot(title=\"Prism Paid\", grid=True)"
   ]
  },
  {
   "cell_type": "markdown",
   "metadata": {},
   "source": [
    "Let's see how we can use the API to create claim-level IBNR estimates.  When using aggregate actuarial techniques, it really makes sense to perform the model fitting at an aggregate level.  \n",
    "\n",
    "We use aggregate data to fit the model to generate reasonable development patterns."
   ]
  },
  {
   "cell_type": "code",
   "execution_count": null,
   "metadata": {},
   "outputs": [],
   "source": [
    "agg_data = prism.sum()[[\"Paid\", \"reportedCount\"]]\n",
    "model_cl = cl.Chainladder().fit(agg_data)"
   ]
  },
  {
   "cell_type": "markdown",
   "metadata": {},
   "source": [
    "With the fitted model, we are not limited to predicting ultimates at the aggregate grain.  Let's predict chainladder ultimates at a claim level."
   ]
  },
  {
   "cell_type": "code",
   "execution_count": null,
   "metadata": {},
   "outputs": [],
   "source": [
    "cl_ults = model_cl.predict(prism[[\"Paid\", \"reportedCount\"]]).ultimate_\n",
    "cl_ults"
   ]
  },
  {
   "cell_type": "markdown",
   "metadata": {},
   "source": [
    "We could stop here, but let's try a BornhuetterFerguson method as well.  We will infer an apriori severity from our chainladder model above.\n",
    "\n",
    "40K seems a reasonable apriori (at least for the last two years)."
   ]
  },
  {
   "cell_type": "code",
   "execution_count": null,
   "metadata": {},
   "outputs": [],
   "source": [
    "(model_cl.ultimate_[\"Paid\"] / model_cl.ultimate_[\"reportedCount\"]).plot(\n",
    "    grid=True, legend=False, title=\"Ultimate Severity\"\n",
    ")"
   ]
  },
  {
   "cell_type": "markdown",
   "metadata": {},
   "source": [
    "Now, let's fit an aggregate BornhuetterFerguson model.  Like the chainladder example, we fit the model in aggregate (summing all claims) to create a stable model from which we can generate granular predictions.  We will use our Chainladder ultimate claim counts as our `sample_weight` (exposure) for the BornhuetterFerguson method."
   ]
  },
  {
   "cell_type": "code",
   "execution_count": null,
   "metadata": {},
   "outputs": [],
   "source": [
    "paid_bf = cl.BornhuetterFerguson(apriori=40000).fit(\n",
    "    X=prism[\"Paid\"].sum().incr_to_cum(), sample_weight=cl_ults[\"reportedCount\"].sum()\n",
    ")"
   ]
  },
  {
   "cell_type": "code",
   "execution_count": null,
   "metadata": {},
   "outputs": [],
   "source": [
    "paid_bf.ultimate_.grain(\"OYDM\").plot(\n",
    "    kind=\"bar\",\n",
    "    grid=True,\n",
    "    legend=False,\n",
    "    title=\"BornhuetterFerguson Ultimates (Aggregate)\",\n",
    ")"
   ]
  },
  {
   "cell_type": "markdown",
   "metadata": {},
   "source": [
    "We can now create claim-level BornhuetterFerguson predictions using our claim-level Triangle.  Ideally, the results should tie to the aggregate results."
   ]
  },
  {
   "cell_type": "code",
   "execution_count": null,
   "metadata": {},
   "outputs": [],
   "source": [
    "bf_ults = paid_bf.predict(\n",
    "    prism[\"Paid\"].incr_to_cum(), sample_weight=cl_ults[\"reportedCount\"]\n",
    ").ultimate_\n",
    "\n",
    "bf_ults.sum().grain(\"OYDM\").plot(\n",
    "    kind=\"bar\",\n",
    "    grid=True,\n",
    "    legend=False,\n",
    "    title=\"BornhuetterFerguson Ultimates (Claim Level)\",\n",
    ")"
   ]
  },
  {
   "cell_type": "markdown",
   "metadata": {},
   "source": [
    "Let's do a 50/50 blend of the Chainladder and BornhuetterFerguson ultimates at a claim level "
   ]
  },
  {
   "cell_type": "code",
   "execution_count": null,
   "metadata": {},
   "outputs": [],
   "source": [
    "selected = (\n",
    "    ((cl_ults[\"Paid\"] + bf_ults[\"Paid\"]) / 2)\n",
    "    .sum(\"origin\")\n",
    "    .to_frame()\n",
    "    .rename(\"Selected Ultimate\")\n",
    ")\n",
    "selected.head()"
   ]
  },
  {
   "cell_type": "markdown",
   "metadata": {},
   "source": [
    "With individual claim ultimates, let's just take a quick peek at the distribution of our ultimate claims by claim size."
   ]
  },
  {
   "cell_type": "code",
   "execution_count": null,
   "metadata": {},
   "outputs": [],
   "source": [
    "selected.plot(kind=\"hist\", bins=500, xlim=(0, 350000), grid=True)"
   ]
  },
  {
   "cell_type": "markdown",
   "metadata": {},
   "source": [
    "### Finer controls\n",
    "Whether chainladder uses a dense or sparse representation shouldn't matter too much to you.  Behind the scenes, chainladder will convert between sparse and dense arrays for you and your code should just work.  However, if you'd like to force the package to use specific array types, you can disable the automatic sparse/dense conversions globally as follows:\n",
    "```python\n",
    "cl.auto_sparse(False)\n",
    "```\n",
    "The `cupy` backend currently does not support a sparse representation using the GPU can only.  In these cases, the `auto_sparse` property will be ignored.\n",
    "\n",
    "You can also convert any Triangle array representation manually calling the `set_backend` method.\n",
    "```python\n",
    "triangle.set_backend('sparse')\n",
    "triangle.set_backend('numpy')\n",
    "triangle.set_backend('cupy')\n",
    "```\n",
    "This too can be done globally:\n",
    "```python\n",
    "cl.array_backend('cupy')\n",
    "```\n"
   ]
  },
  {
   "cell_type": "markdown",
   "metadata": {},
   "source": [
    "### Conclusion\n",
    "* We can substantially increase the size of data that can be put into the `chainladder` package.\n",
    "* Fitting a model in aggregate and predicting at a more granular level implicitly allows for IBNR allocation to the lowest grain possible.  This can be very useful to allow for reaggregation of IBNR across various cuts of your data and/or storing in a database."
   ]
  }
 ],
 "metadata": {
  "kernelspec": {
   "display_name": "Python 3 (ipykernel)",
   "language": "python",
   "name": "python3"
  },
  "language_info": {
   "codemirror_mode": {
    "name": "ipython",
    "version": 3
   },
   "file_extension": ".py",
   "mimetype": "text/x-python",
   "name": "python",
   "nbconvert_exporter": "python",
   "pygments_lexer": "ipython3",
   "version": "3.7.7"
  }
 },
 "nbformat": 4,
 "nbformat_minor": 4
}
