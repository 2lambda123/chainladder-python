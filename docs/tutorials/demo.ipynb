{
 "cells": [
  {
   "cell_type": "markdown",
   "id": "681cc0c7-9312-41f6-8935-3e5cf2daa1c1",
   "metadata": {
    "tags": []
   },
   "source": [
    "# Try Chainladder-Python Online\n",
    "If you are here to try `chainladder-python` for the first time, you are in the right place!\n",
    "\n",
    "With the help of Google Colab, you will be able to try the package online, without any installation or additional setup.\n",
    "\n",
    "You should use a blank copy of this workbook.\n",
    "\n",
    "It's best that you work on your version of the workbook, while comparing this site directly for additional commentary and check your solutions to the exercises."
   ]
  },
  {
   "cell_type": "markdown",
   "id": "245eb9d8-55e3-46ec-943b-a3f73baf70f3",
   "metadata": {},
   "source": [
    "# Disclaimer\n",
    "Note that a lot of the examples shown might not be applicable in a real world scenario, and is only meant to demonstrate some of the functionalities included in the package. The user should always follow all applicable laws, the Code of Professional Conduct, applicable Actuarial Standards of Practice, and exercise their best actuarial judgement."
   ]
  },
  {
   "cell_type": "markdown",
   "id": "d8f38e79-5010-4190-b38c-cbc1d85bde47",
   "metadata": {},
   "source": [
    "# Setting Up\n",
    "We will first need to install the package, as Google Colab's default environment doesn't have the chainladder package pre-installed. You will need to run this step using your terminal instead of using a python notebook when you are ready to install the package on your machine.\n",
    "\n",
    "Simply execute `pip install chainladder`, Colab is smart enough to know that this is not a piece of python code, but to execute it in shell. FYI, `pip` stands for \"Package Installer for Python\"."
   ]
  },
  {
   "cell_type": "code",
   "execution_count": 1,
   "id": "be51a379-5efe-420e-b689-3bf93b96ebc8",
   "metadata": {},
   "outputs": [
    {
     "name": "stdout",
     "output_type": "stream",
     "text": [
      "Requirement already satisfied: chainladder in /Users/kennethhsu/opt/anaconda3/lib/python3.9/site-packages (0.8.13)\n",
      "Requirement already satisfied: numba in /Users/kennethhsu/opt/anaconda3/lib/python3.9/site-packages (from chainladder) (0.56.4)\n",
      "Requirement already satisfied: scikit-learn>=0.23 in /Users/kennethhsu/opt/anaconda3/lib/python3.9/site-packages (from chainladder) (1.1.3)\n",
      "Requirement already satisfied: dill in /Users/kennethhsu/opt/anaconda3/lib/python3.9/site-packages (from chainladder) (0.3.6)\n",
      "Requirement already satisfied: sparse>=0.9 in /Users/kennethhsu/opt/anaconda3/lib/python3.9/site-packages (from chainladder) (0.13.0)\n",
      "Requirement already satisfied: patsy in /Users/kennethhsu/opt/anaconda3/lib/python3.9/site-packages (from chainladder) (0.5.3)\n",
      "Requirement already satisfied: matplotlib in /Users/kennethhsu/opt/anaconda3/lib/python3.9/site-packages (from chainladder) (3.7.1)\n",
      "Requirement already satisfied: pandas>=0.23 in /Users/kennethhsu/opt/anaconda3/lib/python3.9/site-packages (from chainladder) (1.5.3)\n",
      "Requirement already satisfied: python-dateutil>=2.8.1 in /Users/kennethhsu/opt/anaconda3/lib/python3.9/site-packages (from pandas>=0.23->chainladder) (2.8.2)\n",
      "Requirement already satisfied: pytz>=2020.1 in /Users/kennethhsu/opt/anaconda3/lib/python3.9/site-packages (from pandas>=0.23->chainladder) (2022.7)\n",
      "Requirement already satisfied: numpy>=1.20.3 in /Users/kennethhsu/opt/anaconda3/lib/python3.9/site-packages (from pandas>=0.23->chainladder) (1.22.4)\n",
      "Requirement already satisfied: threadpoolctl>=2.0.0 in /Users/kennethhsu/opt/anaconda3/lib/python3.9/site-packages (from scikit-learn>=0.23->chainladder) (3.1.0)\n",
      "Requirement already satisfied: scipy>=1.3.2 in /Users/kennethhsu/opt/anaconda3/lib/python3.9/site-packages (from scikit-learn>=0.23->chainladder) (1.9.3)\n",
      "Requirement already satisfied: joblib>=1.0.0 in /Users/kennethhsu/opt/anaconda3/lib/python3.9/site-packages (from scikit-learn>=0.23->chainladder) (1.2.0)\n",
      "Requirement already satisfied: setuptools in /Users/kennethhsu/opt/anaconda3/lib/python3.9/site-packages (from numba->chainladder) (65.6.3)\n",
      "Requirement already satisfied: llvmlite<0.40,>=0.39.0dev0 in /Users/kennethhsu/opt/anaconda3/lib/python3.9/site-packages (from numba->chainladder) (0.39.1)\n",
      "Requirement already satisfied: contourpy>=1.0.1 in /Users/kennethhsu/opt/anaconda3/lib/python3.9/site-packages (from matplotlib->chainladder) (1.0.6)\n",
      "Requirement already satisfied: fonttools>=4.22.0 in /Users/kennethhsu/opt/anaconda3/lib/python3.9/site-packages (from matplotlib->chainladder) (4.38.0)\n",
      "Requirement already satisfied: importlib-resources>=3.2.0 in /Users/kennethhsu/opt/anaconda3/lib/python3.9/site-packages (from matplotlib->chainladder) (5.2.0)\n",
      "Requirement already satisfied: kiwisolver>=1.0.1 in /Users/kennethhsu/opt/anaconda3/lib/python3.9/site-packages (from matplotlib->chainladder) (1.4.4)\n",
      "Requirement already satisfied: pyparsing>=2.3.1 in /Users/kennethhsu/opt/anaconda3/lib/python3.9/site-packages (from matplotlib->chainladder) (3.0.9)\n",
      "Requirement already satisfied: cycler>=0.10 in /Users/kennethhsu/opt/anaconda3/lib/python3.9/site-packages (from matplotlib->chainladder) (0.11.0)\n",
      "Requirement already satisfied: pillow>=6.2.0 in /Users/kennethhsu/opt/anaconda3/lib/python3.9/site-packages (from matplotlib->chainladder) (9.4.0)\n",
      "Requirement already satisfied: packaging>=20.0 in /Users/kennethhsu/opt/anaconda3/lib/python3.9/site-packages (from matplotlib->chainladder) (23.0)\n",
      "Requirement already satisfied: six in /Users/kennethhsu/opt/anaconda3/lib/python3.9/site-packages (from patsy->chainladder) (1.16.0)\n",
      "Requirement already satisfied: zipp>=3.1.0 in /Users/kennethhsu/opt/anaconda3/lib/python3.9/site-packages (from importlib-resources>=3.2.0->matplotlib->chainladder) (3.11.0)\n",
      "Note: you may need to restart the kernel to use updated packages.\n"
     ]
    }
   ],
   "source": [
    "pip install chainladder"
   ]
  },
  {
   "cell_type": "markdown",
   "id": "011ee825-ca6d-4efc-b782-5e6f2a14bead",
   "metadata": {},
   "source": [
    "Other commonly used packages, such as `numpy`, `pandas`, and `matplotlib` are already pre-installed, we just need to load them into our environment."
   ]
  },
  {
   "cell_type": "code",
   "execution_count": 2,
   "id": "03fdf8fd-ecd1-4df4-b9cf-a4bf01d978f0",
   "metadata": {},
   "outputs": [
    {
     "data": {
      "application/javascript": [
       "\n",
       "            setTimeout(function() {\n",
       "                var nbb_cell_id = 2;\n",
       "                var nbb_unformatted_code = \"import numpy as np\\nimport pandas as pd\\nimport matplotlib.pyplot as plt\\nimport chainladder as cl\\n\\n%load_ext nb_black\";\n",
       "                var nbb_formatted_code = \"import numpy as np\\nimport pandas as pd\\nimport matplotlib.pyplot as plt\\nimport chainladder as cl\\n\\n%load_ext nb_black\";\n",
       "                var nbb_cells = Jupyter.notebook.get_cells();\n",
       "                for (var i = 0; i < nbb_cells.length; ++i) {\n",
       "                    if (nbb_cells[i].input_prompt_number == nbb_cell_id) {\n",
       "                        if (nbb_cells[i].get_text() == nbb_unformatted_code) {\n",
       "                             nbb_cells[i].set_text(nbb_formatted_code);\n",
       "                        }\n",
       "                        break;\n",
       "                    }\n",
       "                }\n",
       "            }, 500);\n",
       "            "
      ],
      "text/plain": [
       "<IPython.core.display.Javascript object>"
      ]
     },
     "metadata": {},
     "output_type": "display_data"
    }
   ],
   "source": [
    "import numpy as np\n",
    "import pandas as pd\n",
    "import matplotlib.pyplot as plt\n",
    "import chainladder as cl"
   ]
  },
  {
   "cell_type": "markdown",
   "id": "fc9db757-81d0-46cc-bc1a-608bac9e661c",
   "metadata": {},
   "source": [
    "Let's check the version of chainladder that we have."
   ]
  },
  {
   "cell_type": "code",
   "execution_count": 3,
   "id": "53af1c0f-7dfd-45ac-b8d1-e9334656eaae",
   "metadata": {},
   "outputs": [
    {
     "name": "stdout",
     "output_type": "stream",
     "text": [
      "chainladder 0.8.13\n"
     ]
    },
    {
     "data": {
      "application/javascript": [
       "\n",
       "            setTimeout(function() {\n",
       "                var nbb_cell_id = 3;\n",
       "                var nbb_unformatted_code = \"print(\\\"chainladder\\\", cl.__version__)\";\n",
       "                var nbb_formatted_code = \"print(\\\"chainladder\\\", cl.__version__)\";\n",
       "                var nbb_cells = Jupyter.notebook.get_cells();\n",
       "                for (var i = 0; i < nbb_cells.length; ++i) {\n",
       "                    if (nbb_cells[i].input_prompt_number == nbb_cell_id) {\n",
       "                        if (nbb_cells[i].get_text() == nbb_unformatted_code) {\n",
       "                             nbb_cells[i].set_text(nbb_formatted_code);\n",
       "                        }\n",
       "                        break;\n",
       "                    }\n",
       "                }\n",
       "            }, 500);\n",
       "            "
      ],
      "text/plain": [
       "<IPython.core.display.Javascript object>"
      ]
     },
     "metadata": {},
     "output_type": "display_data"
    }
   ],
   "source": [
    "print(\"chainladder\", cl.__version__)"
   ]
  },
  {
   "cell_type": "markdown",
   "id": "42e0f37f-6d82-46ed-9f80-647cc7233046",
   "metadata": {},
   "source": [
    "# Your Journey Begins"
   ]
  },
  {
   "cell_type": "markdown",
   "id": "c9a3a636-979a-4205-9762-469e8afb7e46",
   "metadata": {},
   "source": [
    "Let's begin by looking at a sample dataset, called `clrd`, which is hosted on https://raw.githubusercontent.com/casact/chainladder-python/master/chainladder/utils/data/clrd.csv.\n",
    "\n",
    "Let's load the dataset into the memory with `pandas`, then inspect it."
   ]
  },
  {
   "cell_type": "code",
   "execution_count": 4,
   "id": "aa2c95b8-86b4-4846-b950-12c402477ec1",
   "metadata": {
    "tags": []
   },
   "outputs": [
    {
     "data": {
      "text/html": [
       "<div>\n",
       "<style scoped>\n",
       "    .dataframe tbody tr th:only-of-type {\n",
       "        vertical-align: middle;\n",
       "    }\n",
       "\n",
       "    .dataframe tbody tr th {\n",
       "        vertical-align: top;\n",
       "    }\n",
       "\n",
       "    .dataframe thead th {\n",
       "        text-align: right;\n",
       "    }\n",
       "</style>\n",
       "<table border=\"1\" class=\"dataframe\">\n",
       "  <thead>\n",
       "    <tr style=\"text-align: right;\">\n",
       "      <th></th>\n",
       "      <th>GRCODE</th>\n",
       "      <th>GRNAME</th>\n",
       "      <th>AccidentYear</th>\n",
       "      <th>DevelopmentYear</th>\n",
       "      <th>DevelopmentLag</th>\n",
       "      <th>IncurLoss</th>\n",
       "      <th>CumPaidLoss</th>\n",
       "      <th>BulkLoss</th>\n",
       "      <th>EarnedPremDIR</th>\n",
       "      <th>EarnedPremCeded</th>\n",
       "      <th>EarnedPremNet</th>\n",
       "      <th>Single</th>\n",
       "      <th>PostedReserve97</th>\n",
       "      <th>LOB</th>\n",
       "    </tr>\n",
       "  </thead>\n",
       "  <tbody>\n",
       "    <tr>\n",
       "      <th>0</th>\n",
       "      <td>86</td>\n",
       "      <td>Allstate Ins Co Grp</td>\n",
       "      <td>1988</td>\n",
       "      <td>1988</td>\n",
       "      <td>1</td>\n",
       "      <td>367404</td>\n",
       "      <td>70571</td>\n",
       "      <td>127737</td>\n",
       "      <td>400699</td>\n",
       "      <td>5957</td>\n",
       "      <td>394742</td>\n",
       "      <td>0</td>\n",
       "      <td>281872</td>\n",
       "      <td>wkcomp</td>\n",
       "    </tr>\n",
       "    <tr>\n",
       "      <th>1</th>\n",
       "      <td>86</td>\n",
       "      <td>Allstate Ins Co Grp</td>\n",
       "      <td>1988</td>\n",
       "      <td>1989</td>\n",
       "      <td>2</td>\n",
       "      <td>362988</td>\n",
       "      <td>155905</td>\n",
       "      <td>60173</td>\n",
       "      <td>400699</td>\n",
       "      <td>5957</td>\n",
       "      <td>394742</td>\n",
       "      <td>0</td>\n",
       "      <td>281872</td>\n",
       "      <td>wkcomp</td>\n",
       "    </tr>\n",
       "    <tr>\n",
       "      <th>2</th>\n",
       "      <td>86</td>\n",
       "      <td>Allstate Ins Co Grp</td>\n",
       "      <td>1988</td>\n",
       "      <td>1990</td>\n",
       "      <td>3</td>\n",
       "      <td>347288</td>\n",
       "      <td>220744</td>\n",
       "      <td>27763</td>\n",
       "      <td>400699</td>\n",
       "      <td>5957</td>\n",
       "      <td>394742</td>\n",
       "      <td>0</td>\n",
       "      <td>281872</td>\n",
       "      <td>wkcomp</td>\n",
       "    </tr>\n",
       "    <tr>\n",
       "      <th>3</th>\n",
       "      <td>86</td>\n",
       "      <td>Allstate Ins Co Grp</td>\n",
       "      <td>1988</td>\n",
       "      <td>1991</td>\n",
       "      <td>4</td>\n",
       "      <td>330648</td>\n",
       "      <td>251595</td>\n",
       "      <td>15280</td>\n",
       "      <td>400699</td>\n",
       "      <td>5957</td>\n",
       "      <td>394742</td>\n",
       "      <td>0</td>\n",
       "      <td>281872</td>\n",
       "      <td>wkcomp</td>\n",
       "    </tr>\n",
       "    <tr>\n",
       "      <th>4</th>\n",
       "      <td>86</td>\n",
       "      <td>Allstate Ins Co Grp</td>\n",
       "      <td>1988</td>\n",
       "      <td>1992</td>\n",
       "      <td>5</td>\n",
       "      <td>354690</td>\n",
       "      <td>274156</td>\n",
       "      <td>27689</td>\n",
       "      <td>400699</td>\n",
       "      <td>5957</td>\n",
       "      <td>394742</td>\n",
       "      <td>0</td>\n",
       "      <td>281872</td>\n",
       "      <td>wkcomp</td>\n",
       "    </tr>\n",
       "  </tbody>\n",
       "</table>\n",
       "</div>"
      ],
      "text/plain": [
       "   GRCODE               GRNAME  AccidentYear  DevelopmentYear  DevelopmentLag  \\\n",
       "0      86  Allstate Ins Co Grp          1988             1988               1   \n",
       "1      86  Allstate Ins Co Grp          1988             1989               2   \n",
       "2      86  Allstate Ins Co Grp          1988             1990               3   \n",
       "3      86  Allstate Ins Co Grp          1988             1991               4   \n",
       "4      86  Allstate Ins Co Grp          1988             1992               5   \n",
       "\n",
       "   IncurLoss  CumPaidLoss  BulkLoss  EarnedPremDIR  EarnedPremCeded  \\\n",
       "0     367404        70571    127737         400699             5957   \n",
       "1     362988       155905     60173         400699             5957   \n",
       "2     347288       220744     27763         400699             5957   \n",
       "3     330648       251595     15280         400699             5957   \n",
       "4     354690       274156     27689         400699             5957   \n",
       "\n",
       "   EarnedPremNet  Single  PostedReserve97     LOB  \n",
       "0         394742       0           281872  wkcomp  \n",
       "1         394742       0           281872  wkcomp  \n",
       "2         394742       0           281872  wkcomp  \n",
       "3         394742       0           281872  wkcomp  \n",
       "4         394742       0           281872  wkcomp  "
      ]
     },
     "execution_count": 4,
     "metadata": {},
     "output_type": "execute_result"
    },
    {
     "data": {
      "application/javascript": [
       "\n",
       "            setTimeout(function() {\n",
       "                var nbb_cell_id = 4;\n",
       "                var nbb_unformatted_code = \"clrd_df = pd.read_csv(\\n    \\\"https://raw.githubusercontent.com/casact/chainladder-python/master/chainladder/utils/data/clrd.csv\\\"\\n)\\nclrd_df.head()\";\n",
       "                var nbb_formatted_code = \"clrd_df = pd.read_csv(\\n    \\\"https://raw.githubusercontent.com/casact/chainladder-python/master/chainladder/utils/data/clrd.csv\\\"\\n)\\nclrd_df.head()\";\n",
       "                var nbb_cells = Jupyter.notebook.get_cells();\n",
       "                for (var i = 0; i < nbb_cells.length; ++i) {\n",
       "                    if (nbb_cells[i].input_prompt_number == nbb_cell_id) {\n",
       "                        if (nbb_cells[i].get_text() == nbb_unformatted_code) {\n",
       "                             nbb_cells[i].set_text(nbb_formatted_code);\n",
       "                        }\n",
       "                        break;\n",
       "                    }\n",
       "                }\n",
       "            }, 500);\n",
       "            "
      ],
      "text/plain": [
       "<IPython.core.display.Javascript object>"
      ]
     },
     "metadata": {},
     "output_type": "display_data"
    }
   ],
   "source": [
    "clrd_df = pd.read_csv(\n",
    "    \"https://raw.githubusercontent.com/casact/chainladder-python/master/chainladder/utils/data/clrd.csv\"\n",
    ")\n",
    "clrd_df.head()"
   ]
  },
  {
   "cell_type": "markdown",
   "id": "996795b6-9361-4b5c-a00d-d9b6391b115f",
   "metadata": {},
   "source": [
    "Can you list all of the unique accident years? How many are there?"
   ]
  },
  {
   "cell_type": "code",
   "execution_count": 5,
   "id": "4c11052c-291e-439f-ac0f-6736bb2b0b68",
   "metadata": {},
   "outputs": [
    {
     "data": {
      "text/plain": [
       "array([1988, 1989, 1990, 1991, 1992, 1993, 1994, 1995, 1996, 1997])"
      ]
     },
     "execution_count": 5,
     "metadata": {},
     "output_type": "execute_result"
    },
    {
     "data": {
      "application/javascript": [
       "\n",
       "            setTimeout(function() {\n",
       "                var nbb_cell_id = 5;\n",
       "                var nbb_unformatted_code = \"clrd_df[\\\"AccidentYear\\\"].unique()\";\n",
       "                var nbb_formatted_code = \"clrd_df[\\\"AccidentYear\\\"].unique()\";\n",
       "                var nbb_cells = Jupyter.notebook.get_cells();\n",
       "                for (var i = 0; i < nbb_cells.length; ++i) {\n",
       "                    if (nbb_cells[i].input_prompt_number == nbb_cell_id) {\n",
       "                        if (nbb_cells[i].get_text() == nbb_unformatted_code) {\n",
       "                             nbb_cells[i].set_text(nbb_formatted_code);\n",
       "                        }\n",
       "                        break;\n",
       "                    }\n",
       "                }\n",
       "            }, 500);\n",
       "            "
      ],
      "text/plain": [
       "<IPython.core.display.Javascript object>"
      ]
     },
     "metadata": {},
     "output_type": "display_data"
    }
   ],
   "source": [
    "clrd_df[\"AccidentYear\"].unique()"
   ]
  },
  {
   "cell_type": "code",
   "execution_count": 6,
   "id": "cfeca5a6-366f-4abb-b3e9-51c91e7b9336",
   "metadata": {},
   "outputs": [
    {
     "data": {
      "text/plain": [
       "10"
      ]
     },
     "execution_count": 6,
     "metadata": {},
     "output_type": "execute_result"
    },
    {
     "data": {
      "application/javascript": [
       "\n",
       "            setTimeout(function() {\n",
       "                var nbb_cell_id = 6;\n",
       "                var nbb_unformatted_code = \"clrd_df[\\\"AccidentYear\\\"].nunique()\";\n",
       "                var nbb_formatted_code = \"clrd_df[\\\"AccidentYear\\\"].nunique()\";\n",
       "                var nbb_cells = Jupyter.notebook.get_cells();\n",
       "                for (var i = 0; i < nbb_cells.length; ++i) {\n",
       "                    if (nbb_cells[i].input_prompt_number == nbb_cell_id) {\n",
       "                        if (nbb_cells[i].get_text() == nbb_unformatted_code) {\n",
       "                             nbb_cells[i].set_text(nbb_formatted_code);\n",
       "                        }\n",
       "                        break;\n",
       "                    }\n",
       "                }\n",
       "            }, 500);\n",
       "            "
      ],
      "text/plain": [
       "<IPython.core.display.Javascript object>"
      ]
     },
     "metadata": {},
     "output_type": "display_data"
    }
   ],
   "source": [
    "clrd_df[\"AccidentYear\"].nunique()"
   ]
  },
  {
   "cell_type": "markdown",
   "id": "8f870f4f-117c-467d-b3d7-d2941f964f23",
   "metadata": {},
   "source": [
    "# Triangle Basics"
   ]
  },
  {
   "cell_type": "markdown",
   "id": "4d4ebbf6-bcdc-4c4f-be8c-168c4e7883ea",
   "metadata": {},
   "source": [
    "Let's instantiate the `clrd_df` dataset and build a triangle object. Let's call it `clrd_tri`."
   ]
  },
  {
   "cell_type": "code",
   "execution_count": 7,
   "id": "0a5af8fa-9fc3-464c-b187-28e0793d3d92",
   "metadata": {},
   "outputs": [
    {
     "data": {
      "text/html": [
       "<table border=\"1\" class=\"dataframe\">\n",
       "  <thead>\n",
       "    <tr style=\"text-align: right;\">\n",
       "      <th></th>\n",
       "      <th>Triangle Summary</th>\n",
       "    </tr>\n",
       "  </thead>\n",
       "  <tbody>\n",
       "    <tr>\n",
       "      <th>Valuation:</th>\n",
       "      <td>1997-12</td>\n",
       "    </tr>\n",
       "    <tr>\n",
       "      <th>Grain:</th>\n",
       "      <td>OYDY</td>\n",
       "    </tr>\n",
       "    <tr>\n",
       "      <th>Shape:</th>\n",
       "      <td>(6, 6, 10, 10)</td>\n",
       "    </tr>\n",
       "    <tr>\n",
       "      <th>Index:</th>\n",
       "      <td>[LOB]</td>\n",
       "    </tr>\n",
       "    <tr>\n",
       "      <th>Columns:</th>\n",
       "      <td>[IncurLoss, CumPaidLoss, BulkLoss, EarnedPremDIR, EarnedPremCeded, EarnedPremNet]</td>\n",
       "    </tr>\n",
       "  </tbody>\n",
       "</table>"
      ],
      "text/plain": [
       "                                             Triangle Summary\n",
       "Valuation:                                            1997-12\n",
       "Grain:                                                   OYDY\n",
       "Shape:                                         (6, 6, 10, 10)\n",
       "Index:                                                  [LOB]\n",
       "Columns:    [IncurLoss, CumPaidLoss, BulkLoss, EarnedPremD..."
      ]
     },
     "execution_count": 7,
     "metadata": {},
     "output_type": "execute_result"
    },
    {
     "data": {
      "application/javascript": [
       "\n",
       "            setTimeout(function() {\n",
       "                var nbb_cell_id = 7;\n",
       "                var nbb_unformatted_code = \"clrd_tri = cl.Triangle(\\n    clrd_df,\\n    origin=\\\"AccidentYear\\\",\\n    development=\\\"DevelopmentYear\\\",\\n    columns=[\\\"IncurLoss\\\", \\\"CumPaidLoss\\\", \\\"BulkLoss\\\", \\\"EarnedPremDIR\\\", \\\"EarnedPremCeded\\\", \\\"EarnedPremNet\\\"],\\n    index = \\\"LOB\\\",\\n    cumulative=True,\\n)\\nclrd_tri\";\n",
       "                var nbb_formatted_code = \"clrd_tri = cl.Triangle(\\n    clrd_df,\\n    origin=\\\"AccidentYear\\\",\\n    development=\\\"DevelopmentYear\\\",\\n    columns=[\\n        \\\"IncurLoss\\\",\\n        \\\"CumPaidLoss\\\",\\n        \\\"BulkLoss\\\",\\n        \\\"EarnedPremDIR\\\",\\n        \\\"EarnedPremCeded\\\",\\n        \\\"EarnedPremNet\\\",\\n    ],\\n    index=\\\"LOB\\\",\\n    cumulative=True,\\n)\\nclrd_tri\";\n",
       "                var nbb_cells = Jupyter.notebook.get_cells();\n",
       "                for (var i = 0; i < nbb_cells.length; ++i) {\n",
       "                    if (nbb_cells[i].input_prompt_number == nbb_cell_id) {\n",
       "                        if (nbb_cells[i].get_text() == nbb_unformatted_code) {\n",
       "                             nbb_cells[i].set_text(nbb_formatted_code);\n",
       "                        }\n",
       "                        break;\n",
       "                    }\n",
       "                }\n",
       "            }, 500);\n",
       "            "
      ],
      "text/plain": [
       "<IPython.core.display.Javascript object>"
      ]
     },
     "metadata": {},
     "output_type": "display_data"
    }
   ],
   "source": [
    "clrd_tri = cl.Triangle(\n",
    "    clrd_df,\n",
    "    origin=\"AccidentYear\",\n",
    "    development=\"DevelopmentYear\",\n",
    "    columns=[\"IncurLoss\", \"CumPaidLoss\", \"BulkLoss\", \"EarnedPremDIR\", \"EarnedPremCeded\", \"EarnedPremNet\"],\n",
    "    index = \"LOB\",\n",
    "    cumulative=True,\n",
    ")\n",
    "clrd_tri"
   ]
  },
  {
   "cell_type": "markdown",
   "id": "2c404d26-4418-43b8-8687-58be1b6423f1",
   "metadata": {},
   "source": [
    "What does the paid triangle look like?"
   ]
  },
  {
   "cell_type": "code",
   "execution_count": 8,
   "id": "fe9309fe-2744-4e4d-beff-0a36c1182386",
   "metadata": {},
   "outputs": [
    {
     "data": {
      "text/html": [
       "<table border=\"1\" class=\"dataframe\">\n",
       "  <thead>\n",
       "    <tr style=\"text-align: right;\">\n",
       "      <th></th>\n",
       "      <th>12</th>\n",
       "      <th>24</th>\n",
       "      <th>36</th>\n",
       "      <th>48</th>\n",
       "      <th>60</th>\n",
       "      <th>72</th>\n",
       "      <th>84</th>\n",
       "      <th>96</th>\n",
       "      <th>108</th>\n",
       "      <th>120</th>\n",
       "    </tr>\n",
       "  </thead>\n",
       "  <tbody>\n",
       "    <tr>\n",
       "      <th>1988</th>\n",
       "      <td>3,577,780</td>\n",
       "      <td>7,059,966</td>\n",
       "      <td>8,826,151</td>\n",
       "      <td>9,862,687</td>\n",
       "      <td>10,474,698</td>\n",
       "      <td>10,814,576</td>\n",
       "      <td>10,994,014</td>\n",
       "      <td>11,091,363</td>\n",
       "      <td>11,171,590</td>\n",
       "      <td>11,203,949</td>\n",
       "    </tr>\n",
       "    <tr>\n",
       "      <th>1989</th>\n",
       "      <td>4,090,680</td>\n",
       "      <td>7,964,702</td>\n",
       "      <td>9,937,520</td>\n",
       "      <td>11,098,588</td>\n",
       "      <td>11,766,488</td>\n",
       "      <td>12,118,790</td>\n",
       "      <td>12,311,629</td>\n",
       "      <td>12,434,826</td>\n",
       "      <td>12,492,899</td>\n",
       "      <td></td>\n",
       "    </tr>\n",
       "    <tr>\n",
       "      <th>1990</th>\n",
       "      <td>4,578,442</td>\n",
       "      <td>8,808,486</td>\n",
       "      <td>10,985,347</td>\n",
       "      <td>12,229,001</td>\n",
       "      <td>12,878,545</td>\n",
       "      <td>13,238,667</td>\n",
       "      <td>13,452,993</td>\n",
       "      <td>13,559,557</td>\n",
       "      <td></td>\n",
       "      <td></td>\n",
       "    </tr>\n",
       "    <tr>\n",
       "      <th>1991</th>\n",
       "      <td>4,648,756</td>\n",
       "      <td>8,961,755</td>\n",
       "      <td>11,154,244</td>\n",
       "      <td>12,409,592</td>\n",
       "      <td>13,092,037</td>\n",
       "      <td>13,447,481</td>\n",
       "      <td>13,642,414</td>\n",
       "      <td></td>\n",
       "      <td></td>\n",
       "      <td></td>\n",
       "    </tr>\n",
       "    <tr>\n",
       "      <th>1992</th>\n",
       "      <td>5,139,142</td>\n",
       "      <td>9,757,699</td>\n",
       "      <td>12,027,983</td>\n",
       "      <td>13,289,485</td>\n",
       "      <td>13,992,821</td>\n",
       "      <td>14,347,271</td>\n",
       "      <td></td>\n",
       "      <td></td>\n",
       "      <td></td>\n",
       "      <td></td>\n",
       "    </tr>\n",
       "    <tr>\n",
       "      <th>1993</th>\n",
       "      <td>5,653,379</td>\n",
       "      <td>10,599,423</td>\n",
       "      <td>12,953,812</td>\n",
       "      <td>14,292,516</td>\n",
       "      <td>15,005,138</td>\n",
       "      <td></td>\n",
       "      <td></td>\n",
       "      <td></td>\n",
       "      <td></td>\n",
       "      <td></td>\n",
       "    </tr>\n",
       "    <tr>\n",
       "      <th>1994</th>\n",
       "      <td>6,246,447</td>\n",
       "      <td>11,394,960</td>\n",
       "      <td>13,845,764</td>\n",
       "      <td>15,249,326</td>\n",
       "      <td></td>\n",
       "      <td></td>\n",
       "      <td></td>\n",
       "      <td></td>\n",
       "      <td></td>\n",
       "      <td></td>\n",
       "    </tr>\n",
       "    <tr>\n",
       "      <th>1995</th>\n",
       "      <td>6,473,843</td>\n",
       "      <td>11,612,151</td>\n",
       "      <td>14,010,098</td>\n",
       "      <td></td>\n",
       "      <td></td>\n",
       "      <td></td>\n",
       "      <td></td>\n",
       "      <td></td>\n",
       "      <td></td>\n",
       "      <td></td>\n",
       "    </tr>\n",
       "    <tr>\n",
       "      <th>1996</th>\n",
       "      <td>6,591,599</td>\n",
       "      <td>11,473,912</td>\n",
       "      <td></td>\n",
       "      <td></td>\n",
       "      <td></td>\n",
       "      <td></td>\n",
       "      <td></td>\n",
       "      <td></td>\n",
       "      <td></td>\n",
       "      <td></td>\n",
       "    </tr>\n",
       "    <tr>\n",
       "      <th>1997</th>\n",
       "      <td>6,451,896</td>\n",
       "      <td></td>\n",
       "      <td></td>\n",
       "      <td></td>\n",
       "      <td></td>\n",
       "      <td></td>\n",
       "      <td></td>\n",
       "      <td></td>\n",
       "      <td></td>\n",
       "      <td></td>\n",
       "    </tr>\n",
       "  </tbody>\n",
       "</table>"
      ],
      "text/plain": [
       "            12          24          36          48          60          72          84          96          108         120\n",
       "1988  3577780.0   7059966.0   8826151.0   9862687.0  10474698.0  10814576.0  10994014.0  11091363.0  11171590.0  11203949.0\n",
       "1989  4090680.0   7964702.0   9937520.0  11098588.0  11766488.0  12118790.0  12311629.0  12434826.0  12492899.0         NaN\n",
       "1990  4578442.0   8808486.0  10985347.0  12229001.0  12878545.0  13238667.0  13452993.0  13559557.0         NaN         NaN\n",
       "1991  4648756.0   8961755.0  11154244.0  12409592.0  13092037.0  13447481.0  13642414.0         NaN         NaN         NaN\n",
       "1992  5139142.0   9757699.0  12027983.0  13289485.0  13992821.0  14347271.0         NaN         NaN         NaN         NaN\n",
       "1993  5653379.0  10599423.0  12953812.0  14292516.0  15005138.0         NaN         NaN         NaN         NaN         NaN\n",
       "1994  6246447.0  11394960.0  13845764.0  15249326.0         NaN         NaN         NaN         NaN         NaN         NaN\n",
       "1995  6473843.0  11612151.0  14010098.0         NaN         NaN         NaN         NaN         NaN         NaN         NaN\n",
       "1996  6591599.0  11473912.0         NaN         NaN         NaN         NaN         NaN         NaN         NaN         NaN\n",
       "1997  6451896.0         NaN         NaN         NaN         NaN         NaN         NaN         NaN         NaN         NaN"
      ]
     },
     "execution_count": 8,
     "metadata": {},
     "output_type": "execute_result"
    },
    {
     "data": {
      "application/javascript": [
       "\n",
       "            setTimeout(function() {\n",
       "                var nbb_cell_id = 8;\n",
       "                var nbb_unformatted_code = \"clrd_tri[\\\"CumPaidLoss\\\"].sum()\";\n",
       "                var nbb_formatted_code = \"clrd_tri[\\\"CumPaidLoss\\\"].sum()\";\n",
       "                var nbb_cells = Jupyter.notebook.get_cells();\n",
       "                for (var i = 0; i < nbb_cells.length; ++i) {\n",
       "                    if (nbb_cells[i].input_prompt_number == nbb_cell_id) {\n",
       "                        if (nbb_cells[i].get_text() == nbb_unformatted_code) {\n",
       "                             nbb_cells[i].set_text(nbb_formatted_code);\n",
       "                        }\n",
       "                        break;\n",
       "                    }\n",
       "                }\n",
       "            }, 500);\n",
       "            "
      ],
      "text/plain": [
       "<IPython.core.display.Javascript object>"
      ]
     },
     "metadata": {},
     "output_type": "display_data"
    }
   ],
   "source": [
    "clrd_tri[\"CumPaidLoss\"].sum()"
   ]
  },
  {
   "cell_type": "markdown",
   "id": "ed9811e6-5761-4258-9942-19a620540361",
   "metadata": {},
   "source": [
    "How about incurred?"
   ]
  },
  {
   "cell_type": "code",
   "execution_count": 9,
   "id": "278856cf-6d84-4fa6-ac57-4f57755580b8",
   "metadata": {},
   "outputs": [
    {
     "data": {
      "text/html": [
       "<table border=\"1\" class=\"dataframe\">\n",
       "  <thead>\n",
       "    <tr style=\"text-align: right;\">\n",
       "      <th></th>\n",
       "      <th>12</th>\n",
       "      <th>24</th>\n",
       "      <th>36</th>\n",
       "      <th>48</th>\n",
       "      <th>60</th>\n",
       "      <th>72</th>\n",
       "      <th>84</th>\n",
       "      <th>96</th>\n",
       "      <th>108</th>\n",
       "      <th>120</th>\n",
       "    </tr>\n",
       "  </thead>\n",
       "  <tbody>\n",
       "    <tr>\n",
       "      <th>1988</th>\n",
       "      <td>11,644,995</td>\n",
       "      <td>11,674,240</td>\n",
       "      <td>11,653,597</td>\n",
       "      <td>11,630,882</td>\n",
       "      <td>11,593,868</td>\n",
       "      <td>11,551,625</td>\n",
       "      <td>11,463,312</td>\n",
       "      <td>11,420,238</td>\n",
       "      <td>11,415,560</td>\n",
       "      <td>11,396,981</td>\n",
       "    </tr>\n",
       "    <tr>\n",
       "      <th>1989</th>\n",
       "      <td>13,123,290</td>\n",
       "      <td>13,118,789</td>\n",
       "      <td>13,113,024</td>\n",
       "      <td>13,050,144</td>\n",
       "      <td>12,959,037</td>\n",
       "      <td>12,866,709</td>\n",
       "      <td>12,787,372</td>\n",
       "      <td>12,757,420</td>\n",
       "      <td>12,743,440</td>\n",
       "      <td></td>\n",
       "    </tr>\n",
       "    <tr>\n",
       "      <th>1990</th>\n",
       "      <td>14,776,079</td>\n",
       "      <td>14,670,690</td>\n",
       "      <td>14,479,699</td>\n",
       "      <td>14,324,680</td>\n",
       "      <td>14,183,178</td>\n",
       "      <td>14,033,498</td>\n",
       "      <td>13,948,139</td>\n",
       "      <td>13,925,679</td>\n",
       "      <td></td>\n",
       "      <td></td>\n",
       "    </tr>\n",
       "    <tr>\n",
       "      <th>1991</th>\n",
       "      <td>15,318,373</td>\n",
       "      <td>15,112,547</td>\n",
       "      <td>14,877,662</td>\n",
       "      <td>14,615,540</td>\n",
       "      <td>14,380,205</td>\n",
       "      <td>14,205,778</td>\n",
       "      <td>14,154,882</td>\n",
       "      <td></td>\n",
       "      <td></td>\n",
       "      <td></td>\n",
       "    </tr>\n",
       "    <tr>\n",
       "      <th>1992</th>\n",
       "      <td>16,828,857</td>\n",
       "      <td>16,457,307</td>\n",
       "      <td>15,999,385</td>\n",
       "      <td>15,538,214</td>\n",
       "      <td>15,249,286</td>\n",
       "      <td>15,161,066</td>\n",
       "      <td></td>\n",
       "      <td></td>\n",
       "      <td></td>\n",
       "      <td></td>\n",
       "    </tr>\n",
       "    <tr>\n",
       "      <th>1993</th>\n",
       "      <td>18,169,370</td>\n",
       "      <td>17,590,902</td>\n",
       "      <td>17,080,187</td>\n",
       "      <td>16,485,467</td>\n",
       "      <td>16,281,774</td>\n",
       "      <td></td>\n",
       "      <td></td>\n",
       "      <td></td>\n",
       "      <td></td>\n",
       "      <td></td>\n",
       "    </tr>\n",
       "    <tr>\n",
       "      <th>1994</th>\n",
       "      <td>19,414,898</td>\n",
       "      <td>18,609,089</td>\n",
       "      <td>17,854,178</td>\n",
       "      <td>17,521,037</td>\n",
       "      <td></td>\n",
       "      <td></td>\n",
       "      <td></td>\n",
       "      <td></td>\n",
       "      <td></td>\n",
       "      <td></td>\n",
       "    </tr>\n",
       "    <tr>\n",
       "      <th>1995</th>\n",
       "      <td>19,502,850</td>\n",
       "      <td>18,668,388</td>\n",
       "      <td>17,901,550</td>\n",
       "      <td></td>\n",
       "      <td></td>\n",
       "      <td></td>\n",
       "      <td></td>\n",
       "      <td></td>\n",
       "      <td></td>\n",
       "      <td></td>\n",
       "    </tr>\n",
       "    <tr>\n",
       "      <th>1996</th>\n",
       "      <td>19,142,090</td>\n",
       "      <td>17,910,743</td>\n",
       "      <td></td>\n",
       "      <td></td>\n",
       "      <td></td>\n",
       "      <td></td>\n",
       "      <td></td>\n",
       "      <td></td>\n",
       "      <td></td>\n",
       "      <td></td>\n",
       "    </tr>\n",
       "    <tr>\n",
       "      <th>1997</th>\n",
       "      <td>18,113,581</td>\n",
       "      <td></td>\n",
       "      <td></td>\n",
       "      <td></td>\n",
       "      <td></td>\n",
       "      <td></td>\n",
       "      <td></td>\n",
       "      <td></td>\n",
       "      <td></td>\n",
       "      <td></td>\n",
       "    </tr>\n",
       "  </tbody>\n",
       "</table>"
      ],
      "text/plain": [
       "             12          24          36          48          60          72          84          96          108         120\n",
       "1988  11644995.0  11674240.0  11653597.0  11630882.0  11593868.0  11551625.0  11463312.0  11420238.0  11415560.0  11396981.0\n",
       "1989  13123290.0  13118789.0  13113024.0  13050144.0  12959037.0  12866709.0  12787372.0  12757420.0  12743440.0         NaN\n",
       "1990  14776079.0  14670690.0  14479699.0  14324680.0  14183178.0  14033498.0  13948139.0  13925679.0         NaN         NaN\n",
       "1991  15318373.0  15112547.0  14877662.0  14615540.0  14380205.0  14205778.0  14154882.0         NaN         NaN         NaN\n",
       "1992  16828857.0  16457307.0  15999385.0  15538214.0  15249286.0  15161066.0         NaN         NaN         NaN         NaN\n",
       "1993  18169370.0  17590902.0  17080187.0  16485467.0  16281774.0         NaN         NaN         NaN         NaN         NaN\n",
       "1994  19414898.0  18609089.0  17854178.0  17521037.0         NaN         NaN         NaN         NaN         NaN         NaN\n",
       "1995  19502850.0  18668388.0  17901550.0         NaN         NaN         NaN         NaN         NaN         NaN         NaN\n",
       "1996  19142090.0  17910743.0         NaN         NaN         NaN         NaN         NaN         NaN         NaN         NaN\n",
       "1997  18113581.0         NaN         NaN         NaN         NaN         NaN         NaN         NaN         NaN         NaN"
      ]
     },
     "execution_count": 9,
     "metadata": {},
     "output_type": "execute_result"
    },
    {
     "data": {
      "application/javascript": [
       "\n",
       "            setTimeout(function() {\n",
       "                var nbb_cell_id = 9;\n",
       "                var nbb_unformatted_code = \"clrd_tri[\\\"IncurLoss\\\"].sum()\";\n",
       "                var nbb_formatted_code = \"clrd_tri[\\\"IncurLoss\\\"].sum()\";\n",
       "                var nbb_cells = Jupyter.notebook.get_cells();\n",
       "                for (var i = 0; i < nbb_cells.length; ++i) {\n",
       "                    if (nbb_cells[i].input_prompt_number == nbb_cell_id) {\n",
       "                        if (nbb_cells[i].get_text() == nbb_unformatted_code) {\n",
       "                             nbb_cells[i].set_text(nbb_formatted_code);\n",
       "                        }\n",
       "                        break;\n",
       "                    }\n",
       "                }\n",
       "            }, 500);\n",
       "            "
      ],
      "text/plain": [
       "<IPython.core.display.Javascript object>"
      ]
     },
     "metadata": {},
     "output_type": "display_data"
    }
   ],
   "source": [
    "clrd_tri[\"IncurLoss\"].sum()"
   ]
  },
  {
   "cell_type": "markdown",
   "id": "a7f48065-9a14-4f0b-b2b5-a33cc0740531",
   "metadata": {},
   "source": [
    "The `clrd` dataset's `IncurLoss` actually includes IBNR, to get the case incurred, we would have to take out `BulkLoss`. Let's try to get the case incurred triangle."
   ]
  },
  {
   "cell_type": "code",
   "execution_count": 10,
   "id": "c26ac035-0e72-461b-ae70-1f94c8eed136",
   "metadata": {},
   "outputs": [
    {
     "data": {
      "text/html": [
       "<table border=\"1\" class=\"dataframe\">\n",
       "  <thead>\n",
       "    <tr style=\"text-align: right;\">\n",
       "      <th></th>\n",
       "      <th>12</th>\n",
       "      <th>24</th>\n",
       "      <th>36</th>\n",
       "      <th>48</th>\n",
       "      <th>60</th>\n",
       "      <th>72</th>\n",
       "      <th>84</th>\n",
       "      <th>96</th>\n",
       "      <th>108</th>\n",
       "      <th>120</th>\n",
       "    </tr>\n",
       "  </thead>\n",
       "  <tbody>\n",
       "    <tr>\n",
       "      <th>1988</th>\n",
       "      <td>7,778,398</td>\n",
       "      <td>9,872,876</td>\n",
       "      <td>10,537,707</td>\n",
       "      <td>10,973,808</td>\n",
       "      <td>11,175,391</td>\n",
       "      <td>11,265,524</td>\n",
       "      <td>11,288,288</td>\n",
       "      <td>11,305,023</td>\n",
       "      <td>11,323,995</td>\n",
       "      <td>11,327,627</td>\n",
       "    </tr>\n",
       "    <tr>\n",
       "      <th>1989</th>\n",
       "      <td>8,734,319</td>\n",
       "      <td>10,844,720</td>\n",
       "      <td>11,822,136</td>\n",
       "      <td>12,279,311</td>\n",
       "      <td>12,481,505</td>\n",
       "      <td>12,567,543</td>\n",
       "      <td>12,608,487</td>\n",
       "      <td>12,633,539</td>\n",
       "      <td>12,639,258</td>\n",
       "      <td></td>\n",
       "    </tr>\n",
       "    <tr>\n",
       "      <th>1990</th>\n",
       "      <td>9,325,252</td>\n",
       "      <td>11,913,461</td>\n",
       "      <td>12,985,113</td>\n",
       "      <td>13,459,843</td>\n",
       "      <td>13,646,077</td>\n",
       "      <td>13,718,445</td>\n",
       "      <td>13,755,879</td>\n",
       "      <td>13,768,960</td>\n",
       "      <td></td>\n",
       "      <td></td>\n",
       "    </tr>\n",
       "    <tr>\n",
       "      <th>1991</th>\n",
       "      <td>9,564,486</td>\n",
       "      <td>12,159,826</td>\n",
       "      <td>13,216,383</td>\n",
       "      <td>13,659,541</td>\n",
       "      <td>13,821,032</td>\n",
       "      <td>13,903,084</td>\n",
       "      <td>13,964,163</td>\n",
       "      <td></td>\n",
       "      <td></td>\n",
       "      <td></td>\n",
       "    </tr>\n",
       "    <tr>\n",
       "      <th>1992</th>\n",
       "      <td>10,539,619</td>\n",
       "      <td>13,125,930</td>\n",
       "      <td>14,120,971</td>\n",
       "      <td>14,563,964</td>\n",
       "      <td>14,755,405</td>\n",
       "      <td>14,850,140</td>\n",
       "      <td></td>\n",
       "      <td></td>\n",
       "      <td></td>\n",
       "      <td></td>\n",
       "    </tr>\n",
       "    <tr>\n",
       "      <th>1993</th>\n",
       "      <td>11,402,448</td>\n",
       "      <td>14,043,343</td>\n",
       "      <td>15,095,232</td>\n",
       "      <td>15,576,086</td>\n",
       "      <td>15,775,057</td>\n",
       "      <td></td>\n",
       "      <td></td>\n",
       "      <td></td>\n",
       "      <td></td>\n",
       "      <td></td>\n",
       "    </tr>\n",
       "    <tr>\n",
       "      <th>1994</th>\n",
       "      <td>12,411,107</td>\n",
       "      <td>15,005,424</td>\n",
       "      <td>16,095,699</td>\n",
       "      <td>16,650,937</td>\n",
       "      <td></td>\n",
       "      <td></td>\n",
       "      <td></td>\n",
       "      <td></td>\n",
       "      <td></td>\n",
       "      <td></td>\n",
       "    </tr>\n",
       "    <tr>\n",
       "      <th>1995</th>\n",
       "      <td>12,686,394</td>\n",
       "      <td>15,140,099</td>\n",
       "      <td>16,223,016</td>\n",
       "      <td></td>\n",
       "      <td></td>\n",
       "      <td></td>\n",
       "      <td></td>\n",
       "      <td></td>\n",
       "      <td></td>\n",
       "      <td></td>\n",
       "    </tr>\n",
       "    <tr>\n",
       "      <th>1996</th>\n",
       "      <td>12,627,293</td>\n",
       "      <td>14,956,778</td>\n",
       "      <td></td>\n",
       "      <td></td>\n",
       "      <td></td>\n",
       "      <td></td>\n",
       "      <td></td>\n",
       "      <td></td>\n",
       "      <td></td>\n",
       "      <td></td>\n",
       "    </tr>\n",
       "    <tr>\n",
       "      <th>1997</th>\n",
       "      <td>12,705,993</td>\n",
       "      <td></td>\n",
       "      <td></td>\n",
       "      <td></td>\n",
       "      <td></td>\n",
       "      <td></td>\n",
       "      <td></td>\n",
       "      <td></td>\n",
       "      <td></td>\n",
       "      <td></td>\n",
       "    </tr>\n",
       "  </tbody>\n",
       "</table>"
      ],
      "text/plain": [
       "             12          24          36          48          60          72          84          96          108         120\n",
       "1988   7778398.0   9872876.0  10537707.0  10973808.0  11175391.0  11265524.0  11288288.0  11305023.0  11323995.0  11327627.0\n",
       "1989   8734319.0  10844720.0  11822136.0  12279311.0  12481505.0  12567543.0  12608487.0  12633539.0  12639258.0         NaN\n",
       "1990   9325252.0  11913461.0  12985113.0  13459843.0  13646077.0  13718445.0  13755879.0  13768960.0         NaN         NaN\n",
       "1991   9564486.0  12159826.0  13216383.0  13659541.0  13821032.0  13903084.0  13964163.0         NaN         NaN         NaN\n",
       "1992  10539619.0  13125930.0  14120971.0  14563964.0  14755405.0  14850140.0         NaN         NaN         NaN         NaN\n",
       "1993  11402448.0  14043343.0  15095232.0  15576086.0  15775057.0         NaN         NaN         NaN         NaN         NaN\n",
       "1994  12411107.0  15005424.0  16095699.0  16650937.0         NaN         NaN         NaN         NaN         NaN         NaN\n",
       "1995  12686394.0  15140099.0  16223016.0         NaN         NaN         NaN         NaN         NaN         NaN         NaN\n",
       "1996  12627293.0  14956778.0         NaN         NaN         NaN         NaN         NaN         NaN         NaN         NaN\n",
       "1997  12705993.0         NaN         NaN         NaN         NaN         NaN         NaN         NaN         NaN         NaN"
      ]
     },
     "execution_count": 10,
     "metadata": {},
     "output_type": "execute_result"
    },
    {
     "data": {
      "application/javascript": [
       "\n",
       "            setTimeout(function() {\n",
       "                var nbb_cell_id = 10;\n",
       "                var nbb_unformatted_code = \"clrd_tri[\\\"IncurLoss\\\"].sum() - clrd_tri[\\\"BulkLoss\\\"].sum()\";\n",
       "                var nbb_formatted_code = \"clrd_tri[\\\"IncurLoss\\\"].sum() - clrd_tri[\\\"BulkLoss\\\"].sum()\";\n",
       "                var nbb_cells = Jupyter.notebook.get_cells();\n",
       "                for (var i = 0; i < nbb_cells.length; ++i) {\n",
       "                    if (nbb_cells[i].input_prompt_number == nbb_cell_id) {\n",
       "                        if (nbb_cells[i].get_text() == nbb_unformatted_code) {\n",
       "                             nbb_cells[i].set_text(nbb_formatted_code);\n",
       "                        }\n",
       "                        break;\n",
       "                    }\n",
       "                }\n",
       "            }, 500);\n",
       "            "
      ],
      "text/plain": [
       "<IPython.core.display.Javascript object>"
      ]
     },
     "metadata": {},
     "output_type": "display_data"
    }
   ],
   "source": [
    "clrd_tri[\"IncurLoss\"].sum() - clrd_tri[\"BulkLoss\"].sum()"
   ]
  },
  {
   "cell_type": "markdown",
   "id": "04114ff8-107a-4c56-ab9a-8c36f53553df",
   "metadata": {},
   "source": [
    "# Pandas-like Operations"
   ]
  },
  {
   "cell_type": "markdown",
   "id": "433b8ae8-1968-4dfc-a176-c8a8c93c5f97",
   "metadata": {},
   "source": [
    "Let's see how `.iloc[...]` and `.loc[...]` similarly to pandas. They take 4 parameters: [index, column, origin, valuation]."
   ]
  },
  {
   "cell_type": "markdown",
   "id": "f0452527-796d-4185-929a-97241329b377",
   "metadata": {},
   "source": [
    "What if we want the row from AY 1998 `CumPaidLoss` data?"
   ]
  },
  {
   "cell_type": "code",
   "execution_count": 11,
   "id": "a13a157b-3fe9-4254-bc72-11d4e1705f29",
   "metadata": {},
   "outputs": [
    {
     "data": {
      "text/html": [
       "<table border=\"1\" class=\"dataframe\">\n",
       "  <thead>\n",
       "    <tr style=\"text-align: right;\">\n",
       "      <th></th>\n",
       "      <th>12</th>\n",
       "      <th>24</th>\n",
       "      <th>36</th>\n",
       "      <th>48</th>\n",
       "      <th>60</th>\n",
       "      <th>72</th>\n",
       "      <th>84</th>\n",
       "      <th>96</th>\n",
       "      <th>108</th>\n",
       "      <th>120</th>\n",
       "    </tr>\n",
       "  </thead>\n",
       "  <tbody>\n",
       "    <tr>\n",
       "      <th>1988</th>\n",
       "      <td>3,577,780</td>\n",
       "      <td>7,059,966</td>\n",
       "      <td>8,826,151</td>\n",
       "      <td>9,862,687</td>\n",
       "      <td>10,474,698</td>\n",
       "      <td>10,814,576</td>\n",
       "      <td>10,994,014</td>\n",
       "      <td>11,091,363</td>\n",
       "      <td>11,171,590</td>\n",
       "      <td>11,203,949</td>\n",
       "    </tr>\n",
       "  </tbody>\n",
       "</table>"
      ],
      "text/plain": [
       "            12         24         36         48          60          72          84          96          108         120\n",
       "1988  3577780.0  7059966.0  8826151.0  9862687.0  10474698.0  10814576.0  10994014.0  11091363.0  11171590.0  11203949.0"
      ]
     },
     "execution_count": 11,
     "metadata": {},
     "output_type": "execute_result"
    },
    {
     "data": {
      "application/javascript": [
       "\n",
       "            setTimeout(function() {\n",
       "                var nbb_cell_id = 11;\n",
       "                var nbb_unformatted_code = \"clrd_tri.iloc[:, 1, 0, :].sum()\";\n",
       "                var nbb_formatted_code = \"clrd_tri.iloc[:, 1, 0, :].sum()\";\n",
       "                var nbb_cells = Jupyter.notebook.get_cells();\n",
       "                for (var i = 0; i < nbb_cells.length; ++i) {\n",
       "                    if (nbb_cells[i].input_prompt_number == nbb_cell_id) {\n",
       "                        if (nbb_cells[i].get_text() == nbb_unformatted_code) {\n",
       "                             nbb_cells[i].set_text(nbb_formatted_code);\n",
       "                        }\n",
       "                        break;\n",
       "                    }\n",
       "                }\n",
       "            }, 500);\n",
       "            "
      ],
      "text/plain": [
       "<IPython.core.display.Javascript object>"
      ]
     },
     "metadata": {},
     "output_type": "display_data"
    }
   ],
   "source": [
    "clrd_tri.iloc[:, 1, 0, :].sum()"
   ]
  },
  {
   "cell_type": "markdown",
   "id": "08b8557c-66fe-4a25-a8bf-5413ca1c1fbb",
   "metadata": {},
   "source": [
    "What if you only want the value at age 60?"
   ]
  },
  {
   "cell_type": "code",
   "execution_count": 12,
   "id": "fb20eda1-4e4a-431d-8c8a-21cc87b8c472",
   "metadata": {},
   "outputs": [
    {
     "data": {
      "text/plain": [
       "10474698.0"
      ]
     },
     "execution_count": 12,
     "metadata": {},
     "output_type": "execute_result"
    },
    {
     "data": {
      "application/javascript": [
       "\n",
       "            setTimeout(function() {\n",
       "                var nbb_cell_id = 12;\n",
       "                var nbb_unformatted_code = \"clrd_tri.iloc[:, 1, 0, 4].sum()\";\n",
       "                var nbb_formatted_code = \"clrd_tri.iloc[:, 1, 0, 4].sum()\";\n",
       "                var nbb_cells = Jupyter.notebook.get_cells();\n",
       "                for (var i = 0; i < nbb_cells.length; ++i) {\n",
       "                    if (nbb_cells[i].input_prompt_number == nbb_cell_id) {\n",
       "                        if (nbb_cells[i].get_text() == nbb_unformatted_code) {\n",
       "                             nbb_cells[i].set_text(nbb_formatted_code);\n",
       "                        }\n",
       "                        break;\n",
       "                    }\n",
       "                }\n",
       "            }, 500);\n",
       "            "
      ],
      "text/plain": [
       "<IPython.core.display.Javascript object>"
      ]
     },
     "metadata": {},
     "output_type": "display_data"
    }
   ],
   "source": [
    "clrd_tri.iloc[:, 1, 0, 4].sum()"
   ]
  },
  {
   "cell_type": "markdown",
   "id": "56683ffb-01ef-4e18-ba27-1b8ab31b9ae7",
   "metadata": {},
   "source": [
    "Let's use `.loc[...]` to get the `CumPaidLoss` triangle."
   ]
  },
  {
   "cell_type": "code",
   "execution_count": 13,
   "id": "b8116ded-c788-483c-b2af-fde45b72ee4a",
   "metadata": {},
   "outputs": [
    {
     "data": {
      "text/html": [
       "<table border=\"1\" class=\"dataframe\">\n",
       "  <thead>\n",
       "    <tr style=\"text-align: right;\">\n",
       "      <th></th>\n",
       "      <th>12</th>\n",
       "      <th>24</th>\n",
       "      <th>36</th>\n",
       "      <th>48</th>\n",
       "      <th>60</th>\n",
       "      <th>72</th>\n",
       "      <th>84</th>\n",
       "      <th>96</th>\n",
       "      <th>108</th>\n",
       "      <th>120</th>\n",
       "    </tr>\n",
       "  </thead>\n",
       "  <tbody>\n",
       "    <tr>\n",
       "      <th>1988</th>\n",
       "      <td>3,577,780</td>\n",
       "      <td>7,059,966</td>\n",
       "      <td>8,826,151</td>\n",
       "      <td>9,862,687</td>\n",
       "      <td>10,474,698</td>\n",
       "      <td>10,814,576</td>\n",
       "      <td>10,994,014</td>\n",
       "      <td>11,091,363</td>\n",
       "      <td>11,171,590</td>\n",
       "      <td>11,203,949</td>\n",
       "    </tr>\n",
       "    <tr>\n",
       "      <th>1989</th>\n",
       "      <td>4,090,680</td>\n",
       "      <td>7,964,702</td>\n",
       "      <td>9,937,520</td>\n",
       "      <td>11,098,588</td>\n",
       "      <td>11,766,488</td>\n",
       "      <td>12,118,790</td>\n",
       "      <td>12,311,629</td>\n",
       "      <td>12,434,826</td>\n",
       "      <td>12,492,899</td>\n",
       "      <td></td>\n",
       "    </tr>\n",
       "    <tr>\n",
       "      <th>1990</th>\n",
       "      <td>4,578,442</td>\n",
       "      <td>8,808,486</td>\n",
       "      <td>10,985,347</td>\n",
       "      <td>12,229,001</td>\n",
       "      <td>12,878,545</td>\n",
       "      <td>13,238,667</td>\n",
       "      <td>13,452,993</td>\n",
       "      <td>13,559,557</td>\n",
       "      <td></td>\n",
       "      <td></td>\n",
       "    </tr>\n",
       "    <tr>\n",
       "      <th>1991</th>\n",
       "      <td>4,648,756</td>\n",
       "      <td>8,961,755</td>\n",
       "      <td>11,154,244</td>\n",
       "      <td>12,409,592</td>\n",
       "      <td>13,092,037</td>\n",
       "      <td>13,447,481</td>\n",
       "      <td>13,642,414</td>\n",
       "      <td></td>\n",
       "      <td></td>\n",
       "      <td></td>\n",
       "    </tr>\n",
       "    <tr>\n",
       "      <th>1992</th>\n",
       "      <td>5,139,142</td>\n",
       "      <td>9,757,699</td>\n",
       "      <td>12,027,983</td>\n",
       "      <td>13,289,485</td>\n",
       "      <td>13,992,821</td>\n",
       "      <td>14,347,271</td>\n",
       "      <td></td>\n",
       "      <td></td>\n",
       "      <td></td>\n",
       "      <td></td>\n",
       "    </tr>\n",
       "    <tr>\n",
       "      <th>1993</th>\n",
       "      <td>5,653,379</td>\n",
       "      <td>10,599,423</td>\n",
       "      <td>12,953,812</td>\n",
       "      <td>14,292,516</td>\n",
       "      <td>15,005,138</td>\n",
       "      <td></td>\n",
       "      <td></td>\n",
       "      <td></td>\n",
       "      <td></td>\n",
       "      <td></td>\n",
       "    </tr>\n",
       "    <tr>\n",
       "      <th>1994</th>\n",
       "      <td>6,246,447</td>\n",
       "      <td>11,394,960</td>\n",
       "      <td>13,845,764</td>\n",
       "      <td>15,249,326</td>\n",
       "      <td></td>\n",
       "      <td></td>\n",
       "      <td></td>\n",
       "      <td></td>\n",
       "      <td></td>\n",
       "      <td></td>\n",
       "    </tr>\n",
       "    <tr>\n",
       "      <th>1995</th>\n",
       "      <td>6,473,843</td>\n",
       "      <td>11,612,151</td>\n",
       "      <td>14,010,098</td>\n",
       "      <td></td>\n",
       "      <td></td>\n",
       "      <td></td>\n",
       "      <td></td>\n",
       "      <td></td>\n",
       "      <td></td>\n",
       "      <td></td>\n",
       "    </tr>\n",
       "    <tr>\n",
       "      <th>1996</th>\n",
       "      <td>6,591,599</td>\n",
       "      <td>11,473,912</td>\n",
       "      <td></td>\n",
       "      <td></td>\n",
       "      <td></td>\n",
       "      <td></td>\n",
       "      <td></td>\n",
       "      <td></td>\n",
       "      <td></td>\n",
       "      <td></td>\n",
       "    </tr>\n",
       "    <tr>\n",
       "      <th>1997</th>\n",
       "      <td>6,451,896</td>\n",
       "      <td></td>\n",
       "      <td></td>\n",
       "      <td></td>\n",
       "      <td></td>\n",
       "      <td></td>\n",
       "      <td></td>\n",
       "      <td></td>\n",
       "      <td></td>\n",
       "      <td></td>\n",
       "    </tr>\n",
       "  </tbody>\n",
       "</table>"
      ],
      "text/plain": [
       "            12          24          36          48          60          72          84          96          108         120\n",
       "1988  3577780.0   7059966.0   8826151.0   9862687.0  10474698.0  10814576.0  10994014.0  11091363.0  11171590.0  11203949.0\n",
       "1989  4090680.0   7964702.0   9937520.0  11098588.0  11766488.0  12118790.0  12311629.0  12434826.0  12492899.0         NaN\n",
       "1990  4578442.0   8808486.0  10985347.0  12229001.0  12878545.0  13238667.0  13452993.0  13559557.0         NaN         NaN\n",
       "1991  4648756.0   8961755.0  11154244.0  12409592.0  13092037.0  13447481.0  13642414.0         NaN         NaN         NaN\n",
       "1992  5139142.0   9757699.0  12027983.0  13289485.0  13992821.0  14347271.0         NaN         NaN         NaN         NaN\n",
       "1993  5653379.0  10599423.0  12953812.0  14292516.0  15005138.0         NaN         NaN         NaN         NaN         NaN\n",
       "1994  6246447.0  11394960.0  13845764.0  15249326.0         NaN         NaN         NaN         NaN         NaN         NaN\n",
       "1995  6473843.0  11612151.0  14010098.0         NaN         NaN         NaN         NaN         NaN         NaN         NaN\n",
       "1996  6591599.0  11473912.0         NaN         NaN         NaN         NaN         NaN         NaN         NaN         NaN\n",
       "1997  6451896.0         NaN         NaN         NaN         NaN         NaN         NaN         NaN         NaN         NaN"
      ]
     },
     "execution_count": 13,
     "metadata": {},
     "output_type": "execute_result"
    },
    {
     "data": {
      "application/javascript": [
       "\n",
       "            setTimeout(function() {\n",
       "                var nbb_cell_id = 13;\n",
       "                var nbb_unformatted_code = \"clrd_tri.loc[:, \\\"CumPaidLoss\\\", :, :].sum()\";\n",
       "                var nbb_formatted_code = \"clrd_tri.loc[:, \\\"CumPaidLoss\\\", :, :].sum()\";\n",
       "                var nbb_cells = Jupyter.notebook.get_cells();\n",
       "                for (var i = 0; i < nbb_cells.length; ++i) {\n",
       "                    if (nbb_cells[i].input_prompt_number == nbb_cell_id) {\n",
       "                        if (nbb_cells[i].get_text() == nbb_unformatted_code) {\n",
       "                             nbb_cells[i].set_text(nbb_formatted_code);\n",
       "                        }\n",
       "                        break;\n",
       "                    }\n",
       "                }\n",
       "            }, 500);\n",
       "            "
      ],
      "text/plain": [
       "<IPython.core.display.Javascript object>"
      ]
     },
     "metadata": {},
     "output_type": "display_data"
    }
   ],
   "source": [
    "clrd_tri.loc[:, \"CumPaidLoss\", :, :].sum()"
   ]
  },
  {
   "cell_type": "markdown",
   "id": "39c240e0-a910-4d14-98bc-23ae9387b0f9",
   "metadata": {},
   "source": [
    "What if you only want the row from 1992 accident year?"
   ]
  },
  {
   "cell_type": "code",
   "execution_count": 14,
   "id": "2d07e862-368a-472d-b3ca-76e50adef5dd",
   "metadata": {},
   "outputs": [
    {
     "data": {
      "text/html": [
       "<table border=\"1\" class=\"dataframe\">\n",
       "  <thead>\n",
       "    <tr style=\"text-align: right;\">\n",
       "      <th></th>\n",
       "      <th>12</th>\n",
       "      <th>24</th>\n",
       "      <th>36</th>\n",
       "      <th>48</th>\n",
       "      <th>60</th>\n",
       "      <th>72</th>\n",
       "      <th>84</th>\n",
       "      <th>96</th>\n",
       "      <th>108</th>\n",
       "      <th>120</th>\n",
       "    </tr>\n",
       "  </thead>\n",
       "  <tbody>\n",
       "    <tr>\n",
       "      <th>1992</th>\n",
       "      <td>5,139,142</td>\n",
       "      <td>9,757,699</td>\n",
       "      <td>12,027,983</td>\n",
       "      <td>13,289,485</td>\n",
       "      <td>13,992,821</td>\n",
       "      <td>14,347,271</td>\n",
       "      <td></td>\n",
       "      <td></td>\n",
       "      <td></td>\n",
       "      <td></td>\n",
       "    </tr>\n",
       "  </tbody>\n",
       "</table>"
      ],
      "text/plain": [
       "            12         24          36          48          60          72   84   96   108  120\n",
       "1992  5139142.0  9757699.0  12027983.0  13289485.0  13992821.0  14347271.0  NaN  NaN  NaN  NaN"
      ]
     },
     "execution_count": 14,
     "metadata": {},
     "output_type": "execute_result"
    },
    {
     "data": {
      "application/javascript": [
       "\n",
       "            setTimeout(function() {\n",
       "                var nbb_cell_id = 14;\n",
       "                var nbb_unformatted_code = \"clrd_tri.loc[:, \\\"CumPaidLoss\\\", \\\"1992\\\", :].sum()\";\n",
       "                var nbb_formatted_code = \"clrd_tri.loc[:, \\\"CumPaidLoss\\\", \\\"1992\\\", :].sum()\";\n",
       "                var nbb_cells = Jupyter.notebook.get_cells();\n",
       "                for (var i = 0; i < nbb_cells.length; ++i) {\n",
       "                    if (nbb_cells[i].input_prompt_number == nbb_cell_id) {\n",
       "                        if (nbb_cells[i].get_text() == nbb_unformatted_code) {\n",
       "                             nbb_cells[i].set_text(nbb_formatted_code);\n",
       "                        }\n",
       "                        break;\n",
       "                    }\n",
       "                }\n",
       "            }, 500);\n",
       "            "
      ],
      "text/plain": [
       "<IPython.core.display.Javascript object>"
      ]
     },
     "metadata": {},
     "output_type": "display_data"
    }
   ],
   "source": [
    "clrd_tri.loc[:, \"CumPaidLoss\", \"1992\", :].sum()"
   ]
  },
  {
   "cell_type": "markdown",
   "id": "c9d515b7-c9a3-4045-ad79-78af1574be8a",
   "metadata": {},
   "source": [
    "How do we get the latest `CumPaidLoss` diagonal only?"
   ]
  },
  {
   "cell_type": "code",
   "execution_count": 15,
   "id": "5bce08b8-bf34-418e-ac3b-db253db44898",
   "metadata": {},
   "outputs": [
    {
     "data": {
      "text/html": [
       "<table border=\"1\" class=\"dataframe\">\n",
       "  <thead>\n",
       "    <tr style=\"text-align: right;\">\n",
       "      <th></th>\n",
       "      <th>1997</th>\n",
       "    </tr>\n",
       "  </thead>\n",
       "  <tbody>\n",
       "    <tr>\n",
       "      <th>1988</th>\n",
       "      <td>11,203,949</td>\n",
       "    </tr>\n",
       "    <tr>\n",
       "      <th>1989</th>\n",
       "      <td>12,492,899</td>\n",
       "    </tr>\n",
       "    <tr>\n",
       "      <th>1990</th>\n",
       "      <td>13,559,557</td>\n",
       "    </tr>\n",
       "    <tr>\n",
       "      <th>1991</th>\n",
       "      <td>13,642,414</td>\n",
       "    </tr>\n",
       "    <tr>\n",
       "      <th>1992</th>\n",
       "      <td>14,347,271</td>\n",
       "    </tr>\n",
       "    <tr>\n",
       "      <th>1993</th>\n",
       "      <td>15,005,138</td>\n",
       "    </tr>\n",
       "    <tr>\n",
       "      <th>1994</th>\n",
       "      <td>15,249,326</td>\n",
       "    </tr>\n",
       "    <tr>\n",
       "      <th>1995</th>\n",
       "      <td>14,010,098</td>\n",
       "    </tr>\n",
       "    <tr>\n",
       "      <th>1996</th>\n",
       "      <td>11,473,912</td>\n",
       "    </tr>\n",
       "    <tr>\n",
       "      <th>1997</th>\n",
       "      <td>6,451,896</td>\n",
       "    </tr>\n",
       "  </tbody>\n",
       "</table>"
      ],
      "text/plain": [
       "            1997\n",
       "1988  11203949.0\n",
       "1989  12492899.0\n",
       "1990  13559557.0\n",
       "1991  13642414.0\n",
       "1992  14347271.0\n",
       "1993  15005138.0\n",
       "1994  15249326.0\n",
       "1995  14010098.0\n",
       "1996  11473912.0\n",
       "1997   6451896.0"
      ]
     },
     "execution_count": 15,
     "metadata": {},
     "output_type": "execute_result"
    },
    {
     "data": {
      "application/javascript": [
       "\n",
       "            setTimeout(function() {\n",
       "                var nbb_cell_id = 15;\n",
       "                var nbb_unformatted_code = \"clrd_tri[\\\"CumPaidLoss\\\"].sum().latest_diagonal\";\n",
       "                var nbb_formatted_code = \"clrd_tri[\\\"CumPaidLoss\\\"].sum().latest_diagonal\";\n",
       "                var nbb_cells = Jupyter.notebook.get_cells();\n",
       "                for (var i = 0; i < nbb_cells.length; ++i) {\n",
       "                    if (nbb_cells[i].input_prompt_number == nbb_cell_id) {\n",
       "                        if (nbb_cells[i].get_text() == nbb_unformatted_code) {\n",
       "                             nbb_cells[i].set_text(nbb_formatted_code);\n",
       "                        }\n",
       "                        break;\n",
       "                    }\n",
       "                }\n",
       "            }, 500);\n",
       "            "
      ],
      "text/plain": [
       "<IPython.core.display.Javascript object>"
      ]
     },
     "metadata": {},
     "output_type": "display_data"
    }
   ],
   "source": [
    "clrd_tri[\"CumPaidLoss\"].sum().latest_diagonal"
   ]
  },
  {
   "cell_type": "markdown",
   "id": "31b56210-cbcd-4bbb-af9f-063a3788867a",
   "metadata": {},
   "source": [
    "Very often, we want incremental triangles instead. Let's convert the `CumPaidLoss` triangle to the incremental form."
   ]
  },
  {
   "cell_type": "code",
   "execution_count": 16,
   "id": "b2766e7b-b1e6-4574-bfa7-fd70ccd556d7",
   "metadata": {},
   "outputs": [
    {
     "data": {
      "text/html": [
       "<table border=\"1\" class=\"dataframe\">\n",
       "  <thead>\n",
       "    <tr style=\"text-align: right;\">\n",
       "      <th></th>\n",
       "      <th>12</th>\n",
       "      <th>24</th>\n",
       "      <th>36</th>\n",
       "      <th>48</th>\n",
       "      <th>60</th>\n",
       "      <th>72</th>\n",
       "      <th>84</th>\n",
       "      <th>96</th>\n",
       "      <th>108</th>\n",
       "      <th>120</th>\n",
       "    </tr>\n",
       "  </thead>\n",
       "  <tbody>\n",
       "    <tr>\n",
       "      <th>1988</th>\n",
       "      <td>3,577,780</td>\n",
       "      <td>3,482,186</td>\n",
       "      <td>1,766,185</td>\n",
       "      <td>1,036,536</td>\n",
       "      <td>612,011</td>\n",
       "      <td>339,878</td>\n",
       "      <td>179,438</td>\n",
       "      <td>97,349</td>\n",
       "      <td>80,227</td>\n",
       "      <td>32,359</td>\n",
       "    </tr>\n",
       "    <tr>\n",
       "      <th>1989</th>\n",
       "      <td>4,090,680</td>\n",
       "      <td>3,874,022</td>\n",
       "      <td>1,972,818</td>\n",
       "      <td>1,161,068</td>\n",
       "      <td>667,900</td>\n",
       "      <td>352,302</td>\n",
       "      <td>192,839</td>\n",
       "      <td>123,197</td>\n",
       "      <td>58,073</td>\n",
       "      <td></td>\n",
       "    </tr>\n",
       "    <tr>\n",
       "      <th>1990</th>\n",
       "      <td>4,578,442</td>\n",
       "      <td>4,230,044</td>\n",
       "      <td>2,176,861</td>\n",
       "      <td>1,243,654</td>\n",
       "      <td>649,544</td>\n",
       "      <td>360,122</td>\n",
       "      <td>214,326</td>\n",
       "      <td>106,564</td>\n",
       "      <td></td>\n",
       "      <td></td>\n",
       "    </tr>\n",
       "    <tr>\n",
       "      <th>1991</th>\n",
       "      <td>4,648,756</td>\n",
       "      <td>4,312,999</td>\n",
       "      <td>2,192,489</td>\n",
       "      <td>1,255,348</td>\n",
       "      <td>682,445</td>\n",
       "      <td>355,444</td>\n",
       "      <td>194,933</td>\n",
       "      <td></td>\n",
       "      <td></td>\n",
       "      <td></td>\n",
       "    </tr>\n",
       "    <tr>\n",
       "      <th>1992</th>\n",
       "      <td>5,139,142</td>\n",
       "      <td>4,618,557</td>\n",
       "      <td>2,270,284</td>\n",
       "      <td>1,261,502</td>\n",
       "      <td>703,336</td>\n",
       "      <td>354,450</td>\n",
       "      <td></td>\n",
       "      <td></td>\n",
       "      <td></td>\n",
       "      <td></td>\n",
       "    </tr>\n",
       "    <tr>\n",
       "      <th>1993</th>\n",
       "      <td>5,653,379</td>\n",
       "      <td>4,946,044</td>\n",
       "      <td>2,354,389</td>\n",
       "      <td>1,338,704</td>\n",
       "      <td>712,622</td>\n",
       "      <td></td>\n",
       "      <td></td>\n",
       "      <td></td>\n",
       "      <td></td>\n",
       "      <td></td>\n",
       "    </tr>\n",
       "    <tr>\n",
       "      <th>1994</th>\n",
       "      <td>6,246,447</td>\n",
       "      <td>5,148,513</td>\n",
       "      <td>2,450,804</td>\n",
       "      <td>1,403,562</td>\n",
       "      <td></td>\n",
       "      <td></td>\n",
       "      <td></td>\n",
       "      <td></td>\n",
       "      <td></td>\n",
       "      <td></td>\n",
       "    </tr>\n",
       "    <tr>\n",
       "      <th>1995</th>\n",
       "      <td>6,473,843</td>\n",
       "      <td>5,138,308</td>\n",
       "      <td>2,397,947</td>\n",
       "      <td></td>\n",
       "      <td></td>\n",
       "      <td></td>\n",
       "      <td></td>\n",
       "      <td></td>\n",
       "      <td></td>\n",
       "      <td></td>\n",
       "    </tr>\n",
       "    <tr>\n",
       "      <th>1996</th>\n",
       "      <td>6,591,599</td>\n",
       "      <td>4,882,313</td>\n",
       "      <td></td>\n",
       "      <td></td>\n",
       "      <td></td>\n",
       "      <td></td>\n",
       "      <td></td>\n",
       "      <td></td>\n",
       "      <td></td>\n",
       "      <td></td>\n",
       "    </tr>\n",
       "    <tr>\n",
       "      <th>1997</th>\n",
       "      <td>6,451,896</td>\n",
       "      <td></td>\n",
       "      <td></td>\n",
       "      <td></td>\n",
       "      <td></td>\n",
       "      <td></td>\n",
       "      <td></td>\n",
       "      <td></td>\n",
       "      <td></td>\n",
       "      <td></td>\n",
       "    </tr>\n",
       "  </tbody>\n",
       "</table>"
      ],
      "text/plain": [
       "            12         24         36         48        60        72        84        96       108      120\n",
       "1988  3577780.0  3482186.0  1766185.0  1036536.0  612011.0  339878.0  179438.0   97349.0  80227.0  32359.0\n",
       "1989  4090680.0  3874022.0  1972818.0  1161068.0  667900.0  352302.0  192839.0  123197.0  58073.0      NaN\n",
       "1990  4578442.0  4230044.0  2176861.0  1243654.0  649544.0  360122.0  214326.0  106564.0      NaN      NaN\n",
       "1991  4648756.0  4312999.0  2192489.0  1255348.0  682445.0  355444.0  194933.0       NaN      NaN      NaN\n",
       "1992  5139142.0  4618557.0  2270284.0  1261502.0  703336.0  354450.0       NaN       NaN      NaN      NaN\n",
       "1993  5653379.0  4946044.0  2354389.0  1338704.0  712622.0       NaN       NaN       NaN      NaN      NaN\n",
       "1994  6246447.0  5148513.0  2450804.0  1403562.0       NaN       NaN       NaN       NaN      NaN      NaN\n",
       "1995  6473843.0  5138308.0  2397947.0        NaN       NaN       NaN       NaN       NaN      NaN      NaN\n",
       "1996  6591599.0  4882313.0        NaN        NaN       NaN       NaN       NaN       NaN      NaN      NaN\n",
       "1997  6451896.0        NaN        NaN        NaN       NaN       NaN       NaN       NaN      NaN      NaN"
      ]
     },
     "execution_count": 16,
     "metadata": {},
     "output_type": "execute_result"
    },
    {
     "data": {
      "application/javascript": [
       "\n",
       "            setTimeout(function() {\n",
       "                var nbb_cell_id = 16;\n",
       "                var nbb_unformatted_code = \"clrd_tri[\\\"CumPaidLoss\\\"].sum().cum_to_incr()\";\n",
       "                var nbb_formatted_code = \"clrd_tri[\\\"CumPaidLoss\\\"].sum().cum_to_incr()\";\n",
       "                var nbb_cells = Jupyter.notebook.get_cells();\n",
       "                for (var i = 0; i < nbb_cells.length; ++i) {\n",
       "                    if (nbb_cells[i].input_prompt_number == nbb_cell_id) {\n",
       "                        if (nbb_cells[i].get_text() == nbb_unformatted_code) {\n",
       "                             nbb_cells[i].set_text(nbb_formatted_code);\n",
       "                        }\n",
       "                        break;\n",
       "                    }\n",
       "                }\n",
       "            }, 500);\n",
       "            "
      ],
      "text/plain": [
       "<IPython.core.display.Javascript object>"
      ]
     },
     "metadata": {},
     "output_type": "display_data"
    }
   ],
   "source": [
    "clrd_tri[\"CumPaidLoss\"].sum().cum_to_incr()"
   ]
  },
  {
   "cell_type": "markdown",
   "id": "6235668f-9025-4108-b987-f867f93c8ce6",
   "metadata": {},
   "source": [
    "We can also convert the triangle to the valuation format, what we often see on Schedule Ps."
   ]
  },
  {
   "cell_type": "code",
   "execution_count": 17,
   "id": "72487c9a-4438-4ab7-8a24-245485d4c637",
   "metadata": {},
   "outputs": [
    {
     "data": {
      "text/html": [
       "<table border=\"1\" class=\"dataframe\">\n",
       "  <thead>\n",
       "    <tr style=\"text-align: right;\">\n",
       "      <th></th>\n",
       "      <th>1988</th>\n",
       "      <th>1989</th>\n",
       "      <th>1990</th>\n",
       "      <th>1991</th>\n",
       "      <th>1992</th>\n",
       "      <th>1993</th>\n",
       "      <th>1994</th>\n",
       "      <th>1995</th>\n",
       "      <th>1996</th>\n",
       "      <th>1997</th>\n",
       "    </tr>\n",
       "  </thead>\n",
       "  <tbody>\n",
       "    <tr>\n",
       "      <th>1988</th>\n",
       "      <td>3,577,780</td>\n",
       "      <td>7,059,966</td>\n",
       "      <td>8,826,151</td>\n",
       "      <td>9,862,687</td>\n",
       "      <td>10,474,698</td>\n",
       "      <td>10,814,576</td>\n",
       "      <td>10,994,014</td>\n",
       "      <td>11,091,363</td>\n",
       "      <td>11,171,590</td>\n",
       "      <td>11,203,949</td>\n",
       "    </tr>\n",
       "    <tr>\n",
       "      <th>1989</th>\n",
       "      <td></td>\n",
       "      <td>4,090,680</td>\n",
       "      <td>7,964,702</td>\n",
       "      <td>9,937,520</td>\n",
       "      <td>11,098,588</td>\n",
       "      <td>11,766,488</td>\n",
       "      <td>12,118,790</td>\n",
       "      <td>12,311,629</td>\n",
       "      <td>12,434,826</td>\n",
       "      <td>12,492,899</td>\n",
       "    </tr>\n",
       "    <tr>\n",
       "      <th>1990</th>\n",
       "      <td></td>\n",
       "      <td></td>\n",
       "      <td>4,578,442</td>\n",
       "      <td>8,808,486</td>\n",
       "      <td>10,985,347</td>\n",
       "      <td>12,229,001</td>\n",
       "      <td>12,878,545</td>\n",
       "      <td>13,238,667</td>\n",
       "      <td>13,452,993</td>\n",
       "      <td>13,559,557</td>\n",
       "    </tr>\n",
       "    <tr>\n",
       "      <th>1991</th>\n",
       "      <td></td>\n",
       "      <td></td>\n",
       "      <td></td>\n",
       "      <td>4,648,756</td>\n",
       "      <td>8,961,755</td>\n",
       "      <td>11,154,244</td>\n",
       "      <td>12,409,592</td>\n",
       "      <td>13,092,037</td>\n",
       "      <td>13,447,481</td>\n",
       "      <td>13,642,414</td>\n",
       "    </tr>\n",
       "    <tr>\n",
       "      <th>1992</th>\n",
       "      <td></td>\n",
       "      <td></td>\n",
       "      <td></td>\n",
       "      <td></td>\n",
       "      <td>5,139,142</td>\n",
       "      <td>9,757,699</td>\n",
       "      <td>12,027,983</td>\n",
       "      <td>13,289,485</td>\n",
       "      <td>13,992,821</td>\n",
       "      <td>14,347,271</td>\n",
       "    </tr>\n",
       "    <tr>\n",
       "      <th>1993</th>\n",
       "      <td></td>\n",
       "      <td></td>\n",
       "      <td></td>\n",
       "      <td></td>\n",
       "      <td></td>\n",
       "      <td>5,653,379</td>\n",
       "      <td>10,599,423</td>\n",
       "      <td>12,953,812</td>\n",
       "      <td>14,292,516</td>\n",
       "      <td>15,005,138</td>\n",
       "    </tr>\n",
       "    <tr>\n",
       "      <th>1994</th>\n",
       "      <td></td>\n",
       "      <td></td>\n",
       "      <td></td>\n",
       "      <td></td>\n",
       "      <td></td>\n",
       "      <td></td>\n",
       "      <td>6,246,447</td>\n",
       "      <td>11,394,960</td>\n",
       "      <td>13,845,764</td>\n",
       "      <td>15,249,326</td>\n",
       "    </tr>\n",
       "    <tr>\n",
       "      <th>1995</th>\n",
       "      <td></td>\n",
       "      <td></td>\n",
       "      <td></td>\n",
       "      <td></td>\n",
       "      <td></td>\n",
       "      <td></td>\n",
       "      <td></td>\n",
       "      <td>6,473,843</td>\n",
       "      <td>11,612,151</td>\n",
       "      <td>14,010,098</td>\n",
       "    </tr>\n",
       "    <tr>\n",
       "      <th>1996</th>\n",
       "      <td></td>\n",
       "      <td></td>\n",
       "      <td></td>\n",
       "      <td></td>\n",
       "      <td></td>\n",
       "      <td></td>\n",
       "      <td></td>\n",
       "      <td></td>\n",
       "      <td>6,591,599</td>\n",
       "      <td>11,473,912</td>\n",
       "    </tr>\n",
       "    <tr>\n",
       "      <th>1997</th>\n",
       "      <td></td>\n",
       "      <td></td>\n",
       "      <td></td>\n",
       "      <td></td>\n",
       "      <td></td>\n",
       "      <td></td>\n",
       "      <td></td>\n",
       "      <td></td>\n",
       "      <td></td>\n",
       "      <td>6,451,896</td>\n",
       "    </tr>\n",
       "  </tbody>\n",
       "</table>"
      ],
      "text/plain": [
       "           1988       1989       1990       1991        1992        1993        1994        1995        1996        1997\n",
       "1988  3577780.0  7059966.0  8826151.0  9862687.0  10474698.0  10814576.0  10994014.0  11091363.0  11171590.0  11203949.0\n",
       "1989        NaN  4090680.0  7964702.0  9937520.0  11098588.0  11766488.0  12118790.0  12311629.0  12434826.0  12492899.0\n",
       "1990        NaN        NaN  4578442.0  8808486.0  10985347.0  12229001.0  12878545.0  13238667.0  13452993.0  13559557.0\n",
       "1991        NaN        NaN        NaN  4648756.0   8961755.0  11154244.0  12409592.0  13092037.0  13447481.0  13642414.0\n",
       "1992        NaN        NaN        NaN        NaN   5139142.0   9757699.0  12027983.0  13289485.0  13992821.0  14347271.0\n",
       "1993        NaN        NaN        NaN        NaN         NaN   5653379.0  10599423.0  12953812.0  14292516.0  15005138.0\n",
       "1994        NaN        NaN        NaN        NaN         NaN         NaN   6246447.0  11394960.0  13845764.0  15249326.0\n",
       "1995        NaN        NaN        NaN        NaN         NaN         NaN         NaN   6473843.0  11612151.0  14010098.0\n",
       "1996        NaN        NaN        NaN        NaN         NaN         NaN         NaN         NaN   6591599.0  11473912.0\n",
       "1997        NaN        NaN        NaN        NaN         NaN         NaN         NaN         NaN         NaN   6451896.0"
      ]
     },
     "execution_count": 17,
     "metadata": {},
     "output_type": "execute_result"
    },
    {
     "data": {
      "application/javascript": [
       "\n",
       "            setTimeout(function() {\n",
       "                var nbb_cell_id = 17;\n",
       "                var nbb_unformatted_code = \"clrd_tri[\\\"CumPaidLoss\\\"].sum().dev_to_val()\";\n",
       "                var nbb_formatted_code = \"clrd_tri[\\\"CumPaidLoss\\\"].sum().dev_to_val()\";\n",
       "                var nbb_cells = Jupyter.notebook.get_cells();\n",
       "                for (var i = 0; i < nbb_cells.length; ++i) {\n",
       "                    if (nbb_cells[i].input_prompt_number == nbb_cell_id) {\n",
       "                        if (nbb_cells[i].get_text() == nbb_unformatted_code) {\n",
       "                             nbb_cells[i].set_text(nbb_formatted_code);\n",
       "                        }\n",
       "                        break;\n",
       "                    }\n",
       "                }\n",
       "            }, 500);\n",
       "            "
      ],
      "text/plain": [
       "<IPython.core.display.Javascript object>"
      ]
     },
     "metadata": {},
     "output_type": "display_data"
    }
   ],
   "source": [
    "clrd_tri[\"CumPaidLoss\"].sum().dev_to_val()"
   ]
  },
  {
   "cell_type": "markdown",
   "id": "6e404747-8e22-42c0-a1b5-45c95d702730",
   "metadata": {},
   "source": [
    "Another function that is often useful is the `.heatmap()` method. Let's inspect the incremental paid amount and see if there are trends."
   ]
  },
  {
   "cell_type": "code",
   "execution_count": 18,
   "id": "f20ed887-e5b1-40f7-81b5-14bd840cca23",
   "metadata": {},
   "outputs": [
    {
     "data": {
      "text/html": [
       "<style type=\"text/css\">\n",
       "#T_e527a_row0_col0, #T_e527a_row0_col1, #T_e527a_row0_col2, #T_e527a_row0_col3, #T_e527a_row0_col4, #T_e527a_row0_col5, #T_e527a_row0_col6, #T_e527a_row0_col7, #T_e527a_row1_col8 {\n",
       "  background-color: #3b4cc0;\n",
       "  color: #f1f1f1;\n",
       "}\n",
       "#T_e527a_row0_col8, #T_e527a_row1_col7, #T_e527a_row2_col5, #T_e527a_row2_col6, #T_e527a_row5_col4, #T_e527a_row6_col1, #T_e527a_row6_col2, #T_e527a_row6_col3, #T_e527a_row8_col0 {\n",
       "  background-color: #b40426;\n",
       "  color: #f1f1f1;\n",
       "}\n",
       "#T_e527a_row0_col9, #T_e527a_row1_col9, #T_e527a_row2_col7, #T_e527a_row2_col8, #T_e527a_row2_col9, #T_e527a_row3_col3, #T_e527a_row3_col7, #T_e527a_row3_col8, #T_e527a_row3_col9, #T_e527a_row4_col1, #T_e527a_row4_col5, #T_e527a_row4_col6, #T_e527a_row4_col7, #T_e527a_row4_col8, #T_e527a_row4_col9, #T_e527a_row5_col5, #T_e527a_row5_col6, #T_e527a_row5_col7, #T_e527a_row5_col8, #T_e527a_row5_col9, #T_e527a_row6_col4, #T_e527a_row6_col5, #T_e527a_row6_col6, #T_e527a_row6_col7, #T_e527a_row6_col8, #T_e527a_row6_col9, #T_e527a_row7_col3, #T_e527a_row7_col4, #T_e527a_row7_col5, #T_e527a_row7_col6, #T_e527a_row7_col7, #T_e527a_row7_col8, #T_e527a_row7_col9, #T_e527a_row8_col2, #T_e527a_row8_col3, #T_e527a_row8_col4, #T_e527a_row8_col5, #T_e527a_row8_col6, #T_e527a_row8_col7, #T_e527a_row8_col8, #T_e527a_row8_col9, #T_e527a_row9_col1, #T_e527a_row9_col2, #T_e527a_row9_col3, #T_e527a_row9_col4, #T_e527a_row9_col5, #T_e527a_row9_col6, #T_e527a_row9_col7, #T_e527a_row9_col8, #T_e527a_row9_col9 {\n",
       "  background-color: #dddcdc;\n",
       "  color: #000000;\n",
       "}\n",
       "#T_e527a_row1_col0 {\n",
       "  background-color: #5d7ce6;\n",
       "  color: #f1f1f1;\n",
       "}\n",
       "#T_e527a_row1_col1 {\n",
       "  background-color: #6282ea;\n",
       "  color: #f1f1f1;\n",
       "}\n",
       "#T_e527a_row1_col2 {\n",
       "  background-color: #6788ee;\n",
       "  color: #f1f1f1;\n",
       "}\n",
       "#T_e527a_row1_col3 {\n",
       "  background-color: #6f92f3;\n",
       "  color: #f1f1f1;\n",
       "}\n",
       "#T_e527a_row1_col4 {\n",
       "  background-color: #c0d4f5;\n",
       "  color: #000000;\n",
       "}\n",
       "#T_e527a_row1_col5, #T_e527a_row2_col1 {\n",
       "  background-color: #8db0fe;\n",
       "  color: #000000;\n",
       "}\n",
       "#T_e527a_row1_col6, #T_e527a_row2_col3, #T_e527a_row3_col0 {\n",
       "  background-color: #aac7fd;\n",
       "  color: #000000;\n",
       "}\n",
       "#T_e527a_row2_col0 {\n",
       "  background-color: #82a6fb;\n",
       "  color: #f1f1f1;\n",
       "}\n",
       "#T_e527a_row2_col2 {\n",
       "  background-color: #9abbff;\n",
       "  color: #000000;\n",
       "}\n",
       "#T_e527a_row2_col4 {\n",
       "  background-color: #7b9ff9;\n",
       "  color: #f1f1f1;\n",
       "}\n",
       "#T_e527a_row3_col1 {\n",
       "  background-color: #b9d0f9;\n",
       "  color: #000000;\n",
       "}\n",
       "#T_e527a_row3_col2 {\n",
       "  background-color: #c9d7f0;\n",
       "  color: #000000;\n",
       "}\n",
       "#T_e527a_row3_col4 {\n",
       "  background-color: #f2cbb7;\n",
       "  color: #000000;\n",
       "}\n",
       "#T_e527a_row3_col5, #T_e527a_row5_col1 {\n",
       "  background-color: #f4987a;\n",
       "  color: #000000;\n",
       "}\n",
       "#T_e527a_row3_col6, #T_e527a_row4_col3, #T_e527a_row6_col0 {\n",
       "  background-color: #f7b89c;\n",
       "  color: #000000;\n",
       "}\n",
       "#T_e527a_row4_col0 {\n",
       "  background-color: #cdd9ec;\n",
       "  color: #000000;\n",
       "}\n",
       "#T_e527a_row4_col2 {\n",
       "  background-color: #edd1c2;\n",
       "  color: #000000;\n",
       "}\n",
       "#T_e527a_row4_col4 {\n",
       "  background-color: #ee8468;\n",
       "  color: #f1f1f1;\n",
       "}\n",
       "#T_e527a_row5_col0 {\n",
       "  background-color: #ead4c8;\n",
       "  color: #000000;\n",
       "}\n",
       "#T_e527a_row5_col2 {\n",
       "  background-color: #f7a889;\n",
       "  color: #000000;\n",
       "}\n",
       "#T_e527a_row5_col3 {\n",
       "  background-color: #e7745b;\n",
       "  color: #f1f1f1;\n",
       "}\n",
       "#T_e527a_row7_col0 {\n",
       "  background-color: #d95847;\n",
       "  color: #f1f1f1;\n",
       "}\n",
       "#T_e527a_row7_col1 {\n",
       "  background-color: #dd5f4b;\n",
       "  color: #f1f1f1;\n",
       "}\n",
       "#T_e527a_row7_col2 {\n",
       "  background-color: #e26952;\n",
       "  color: #f1f1f1;\n",
       "}\n",
       "#T_e527a_row8_col1 {\n",
       "  background-color: #f5c4ac;\n",
       "  color: #000000;\n",
       "}\n",
       "#T_e527a_row9_col0 {\n",
       "  background-color: #f18d6f;\n",
       "  color: #f1f1f1;\n",
       "}\n",
       "</style>\n",
       "<table id=\"T_e527a\">\n",
       "  <thead>\n",
       "    <tr>\n",
       "      <th class=\"blank level0\" >&nbsp;</th>\n",
       "      <th id=\"T_e527a_level0_col0\" class=\"col_heading level0 col0\" >12</th>\n",
       "      <th id=\"T_e527a_level0_col1\" class=\"col_heading level0 col1\" >24</th>\n",
       "      <th id=\"T_e527a_level0_col2\" class=\"col_heading level0 col2\" >36</th>\n",
       "      <th id=\"T_e527a_level0_col3\" class=\"col_heading level0 col3\" >48</th>\n",
       "      <th id=\"T_e527a_level0_col4\" class=\"col_heading level0 col4\" >60</th>\n",
       "      <th id=\"T_e527a_level0_col5\" class=\"col_heading level0 col5\" >72</th>\n",
       "      <th id=\"T_e527a_level0_col6\" class=\"col_heading level0 col6\" >84</th>\n",
       "      <th id=\"T_e527a_level0_col7\" class=\"col_heading level0 col7\" >96</th>\n",
       "      <th id=\"T_e527a_level0_col8\" class=\"col_heading level0 col8\" >108</th>\n",
       "      <th id=\"T_e527a_level0_col9\" class=\"col_heading level0 col9\" >120</th>\n",
       "    </tr>\n",
       "  </thead>\n",
       "  <tbody>\n",
       "    <tr>\n",
       "      <th id=\"T_e527a_level0_row0\" class=\"row_heading level0 row0\" >1988</th>\n",
       "      <td id=\"T_e527a_row0_col0\" class=\"data row0 col0\" >3,577,780</td>\n",
       "      <td id=\"T_e527a_row0_col1\" class=\"data row0 col1\" >3,482,186</td>\n",
       "      <td id=\"T_e527a_row0_col2\" class=\"data row0 col2\" >1,766,185</td>\n",
       "      <td id=\"T_e527a_row0_col3\" class=\"data row0 col3\" >1,036,536</td>\n",
       "      <td id=\"T_e527a_row0_col4\" class=\"data row0 col4\" >612,011</td>\n",
       "      <td id=\"T_e527a_row0_col5\" class=\"data row0 col5\" >339,878</td>\n",
       "      <td id=\"T_e527a_row0_col6\" class=\"data row0 col6\" >179,438</td>\n",
       "      <td id=\"T_e527a_row0_col7\" class=\"data row0 col7\" >97,349</td>\n",
       "      <td id=\"T_e527a_row0_col8\" class=\"data row0 col8\" >80,227</td>\n",
       "      <td id=\"T_e527a_row0_col9\" class=\"data row0 col9\" >32,359</td>\n",
       "    </tr>\n",
       "    <tr>\n",
       "      <th id=\"T_e527a_level0_row1\" class=\"row_heading level0 row1\" >1989</th>\n",
       "      <td id=\"T_e527a_row1_col0\" class=\"data row1 col0\" >4,090,680</td>\n",
       "      <td id=\"T_e527a_row1_col1\" class=\"data row1 col1\" >3,874,022</td>\n",
       "      <td id=\"T_e527a_row1_col2\" class=\"data row1 col2\" >1,972,818</td>\n",
       "      <td id=\"T_e527a_row1_col3\" class=\"data row1 col3\" >1,161,068</td>\n",
       "      <td id=\"T_e527a_row1_col4\" class=\"data row1 col4\" >667,900</td>\n",
       "      <td id=\"T_e527a_row1_col5\" class=\"data row1 col5\" >352,302</td>\n",
       "      <td id=\"T_e527a_row1_col6\" class=\"data row1 col6\" >192,839</td>\n",
       "      <td id=\"T_e527a_row1_col7\" class=\"data row1 col7\" >123,197</td>\n",
       "      <td id=\"T_e527a_row1_col8\" class=\"data row1 col8\" >58,073</td>\n",
       "      <td></td>\n",
       "    </tr>\n",
       "    <tr>\n",
       "      <th id=\"T_e527a_level0_row2\" class=\"row_heading level0 row2\" >1990</th>\n",
       "      <td id=\"T_e527a_row2_col0\" class=\"data row2 col0\" >4,578,442</td>\n",
       "      <td id=\"T_e527a_row2_col1\" class=\"data row2 col1\" >4,230,044</td>\n",
       "      <td id=\"T_e527a_row2_col2\" class=\"data row2 col2\" >2,176,861</td>\n",
       "      <td id=\"T_e527a_row2_col3\" class=\"data row2 col3\" >1,243,654</td>\n",
       "      <td id=\"T_e527a_row2_col4\" class=\"data row2 col4\" >649,544</td>\n",
       "      <td id=\"T_e527a_row2_col5\" class=\"data row2 col5\" >360,122</td>\n",
       "      <td id=\"T_e527a_row2_col6\" class=\"data row2 col6\" >214,326</td>\n",
       "      <td id=\"T_e527a_row2_col7\" class=\"data row2 col7\" >106,564</td>\n",
       "      <td></td>\n",
       "      <td></td>\n",
       "    </tr>\n",
       "    <tr>\n",
       "      <th id=\"T_e527a_level0_row3\" class=\"row_heading level0 row3\" >1991</th>\n",
       "      <td id=\"T_e527a_row3_col0\" class=\"data row3 col0\" >4,648,756</td>\n",
       "      <td id=\"T_e527a_row3_col1\" class=\"data row3 col1\" >4,312,999</td>\n",
       "      <td id=\"T_e527a_row3_col2\" class=\"data row3 col2\" >2,192,489</td>\n",
       "      <td id=\"T_e527a_row3_col3\" class=\"data row3 col3\" >1,255,348</td>\n",
       "      <td id=\"T_e527a_row3_col4\" class=\"data row3 col4\" >682,445</td>\n",
       "      <td id=\"T_e527a_row3_col5\" class=\"data row3 col5\" >355,444</td>\n",
       "      <td id=\"T_e527a_row3_col6\" class=\"data row3 col6\" >194,933</td>\n",
       "      <td></td>\n",
       "      <td></td>\n",
       "      <td></td>\n",
       "    </tr>\n",
       "    <tr>\n",
       "      <th id=\"T_e527a_level0_row4\" class=\"row_heading level0 row4\" >1992</th>\n",
       "      <td id=\"T_e527a_row4_col0\" class=\"data row4 col0\" >5,139,142</td>\n",
       "      <td id=\"T_e527a_row4_col1\" class=\"data row4 col1\" >4,618,557</td>\n",
       "      <td id=\"T_e527a_row4_col2\" class=\"data row4 col2\" >2,270,284</td>\n",
       "      <td id=\"T_e527a_row4_col3\" class=\"data row4 col3\" >1,261,502</td>\n",
       "      <td id=\"T_e527a_row4_col4\" class=\"data row4 col4\" >703,336</td>\n",
       "      <td id=\"T_e527a_row4_col5\" class=\"data row4 col5\" >354,450</td>\n",
       "      <td></td>\n",
       "      <td></td>\n",
       "      <td></td>\n",
       "      <td></td>\n",
       "    </tr>\n",
       "    <tr>\n",
       "      <th id=\"T_e527a_level0_row5\" class=\"row_heading level0 row5\" >1993</th>\n",
       "      <td id=\"T_e527a_row5_col0\" class=\"data row5 col0\" >5,653,379</td>\n",
       "      <td id=\"T_e527a_row5_col1\" class=\"data row5 col1\" >4,946,044</td>\n",
       "      <td id=\"T_e527a_row5_col2\" class=\"data row5 col2\" >2,354,389</td>\n",
       "      <td id=\"T_e527a_row5_col3\" class=\"data row5 col3\" >1,338,704</td>\n",
       "      <td id=\"T_e527a_row5_col4\" class=\"data row5 col4\" >712,622</td>\n",
       "      <td></td>\n",
       "      <td></td>\n",
       "      <td></td>\n",
       "      <td></td>\n",
       "      <td></td>\n",
       "    </tr>\n",
       "    <tr>\n",
       "      <th id=\"T_e527a_level0_row6\" class=\"row_heading level0 row6\" >1994</th>\n",
       "      <td id=\"T_e527a_row6_col0\" class=\"data row6 col0\" >6,246,447</td>\n",
       "      <td id=\"T_e527a_row6_col1\" class=\"data row6 col1\" >5,148,513</td>\n",
       "      <td id=\"T_e527a_row6_col2\" class=\"data row6 col2\" >2,450,804</td>\n",
       "      <td id=\"T_e527a_row6_col3\" class=\"data row6 col3\" >1,403,562</td>\n",
       "      <td></td>\n",
       "      <td></td>\n",
       "      <td></td>\n",
       "      <td></td>\n",
       "      <td></td>\n",
       "      <td></td>\n",
       "    </tr>\n",
       "    <tr>\n",
       "      <th id=\"T_e527a_level0_row7\" class=\"row_heading level0 row7\" >1995</th>\n",
       "      <td id=\"T_e527a_row7_col0\" class=\"data row7 col0\" >6,473,843</td>\n",
       "      <td id=\"T_e527a_row7_col1\" class=\"data row7 col1\" >5,138,308</td>\n",
       "      <td id=\"T_e527a_row7_col2\" class=\"data row7 col2\" >2,397,947</td>\n",
       "      <td></td>\n",
       "      <td></td>\n",
       "      <td></td>\n",
       "      <td></td>\n",
       "      <td></td>\n",
       "      <td></td>\n",
       "      <td></td>\n",
       "    </tr>\n",
       "    <tr>\n",
       "      <th id=\"T_e527a_level0_row8\" class=\"row_heading level0 row8\" >1996</th>\n",
       "      <td id=\"T_e527a_row8_col0\" class=\"data row8 col0\" >6,591,599</td>\n",
       "      <td id=\"T_e527a_row8_col1\" class=\"data row8 col1\" >4,882,313</td>\n",
       "      <td></td>\n",
       "      <td></td>\n",
       "      <td></td>\n",
       "      <td></td>\n",
       "      <td></td>\n",
       "      <td></td>\n",
       "      <td></td>\n",
       "      <td></td>\n",
       "    </tr>\n",
       "    <tr>\n",
       "      <th id=\"T_e527a_level0_row9\" class=\"row_heading level0 row9\" >1997</th>\n",
       "      <td id=\"T_e527a_row9_col0\" class=\"data row9 col0\" >6,451,896</td>\n",
       "      <td></td>\n",
       "      <td></td>\n",
       "      <td></td>\n",
       "      <td></td>\n",
       "      <td></td>\n",
       "      <td></td>\n",
       "      <td></td>\n",
       "      <td></td>\n",
       "      <td></td>\n",
       "    </tr>\n",
       "  </tbody>\n",
       "</table>\n"
      ],
      "text/plain": [
       "<IPython.core.display.HTML object>"
      ]
     },
     "execution_count": 18,
     "metadata": {},
     "output_type": "execute_result"
    },
    {
     "data": {
      "application/javascript": [
       "\n",
       "            setTimeout(function() {\n",
       "                var nbb_cell_id = 18;\n",
       "                var nbb_unformatted_code = \"clrd_tri[\\\"CumPaidLoss\\\"].sum().cum_to_incr().heatmap()\";\n",
       "                var nbb_formatted_code = \"clrd_tri[\\\"CumPaidLoss\\\"].sum().cum_to_incr().heatmap()\";\n",
       "                var nbb_cells = Jupyter.notebook.get_cells();\n",
       "                for (var i = 0; i < nbb_cells.length; ++i) {\n",
       "                    if (nbb_cells[i].input_prompt_number == nbb_cell_id) {\n",
       "                        if (nbb_cells[i].get_text() == nbb_unformatted_code) {\n",
       "                             nbb_cells[i].set_text(nbb_formatted_code);\n",
       "                        }\n",
       "                        break;\n",
       "                    }\n",
       "                }\n",
       "            }, 500);\n",
       "            "
      ],
      "text/plain": [
       "<IPython.core.display.Javascript object>"
      ]
     },
     "metadata": {},
     "output_type": "display_data"
    }
   ],
   "source": [
    "clrd_tri[\"CumPaidLoss\"].sum().cum_to_incr().heatmap()"
   ]
  },
  {
   "cell_type": "markdown",
   "id": "27d110d2-ee73-4bb5-a411-3d27c0dd7673",
   "metadata": {},
   "source": [
    "# Development"
   ]
  },
  {
   "cell_type": "markdown",
   "id": "a0d0950f-bec7-406d-b253-4cf1bfd925dd",
   "metadata": {},
   "source": [
    "How can we get the `CumPaidLoss` link ratios?"
   ]
  },
  {
   "cell_type": "code",
   "execution_count": 19,
   "id": "ec16d0fd-ac17-4280-aabf-ad5795114d5f",
   "metadata": {},
   "outputs": [
    {
     "data": {
      "text/html": [
       "<table border=\"1\" class=\"dataframe\">\n",
       "  <thead>\n",
       "    <tr style=\"text-align: right;\">\n",
       "      <th></th>\n",
       "      <th>12-24</th>\n",
       "      <th>24-36</th>\n",
       "      <th>36-48</th>\n",
       "      <th>48-60</th>\n",
       "      <th>60-72</th>\n",
       "      <th>72-84</th>\n",
       "      <th>84-96</th>\n",
       "      <th>96-108</th>\n",
       "      <th>108-120</th>\n",
       "    </tr>\n",
       "  </thead>\n",
       "  <tbody>\n",
       "    <tr>\n",
       "      <th>1988</th>\n",
       "      <td>1.9733</td>\n",
       "      <td>1.2502</td>\n",
       "      <td>1.1174</td>\n",
       "      <td>1.0621</td>\n",
       "      <td>1.0324</td>\n",
       "      <td>1.0166</td>\n",
       "      <td>1.0089</td>\n",
       "      <td>1.0072</td>\n",
       "      <td>1.0029</td>\n",
       "    </tr>\n",
       "    <tr>\n",
       "      <th>1989</th>\n",
       "      <td>1.9470</td>\n",
       "      <td>1.2477</td>\n",
       "      <td>1.1168</td>\n",
       "      <td>1.0602</td>\n",
       "      <td>1.0299</td>\n",
       "      <td>1.0159</td>\n",
       "      <td>1.0100</td>\n",
       "      <td>1.0047</td>\n",
       "      <td></td>\n",
       "    </tr>\n",
       "    <tr>\n",
       "      <th>1990</th>\n",
       "      <td>1.9239</td>\n",
       "      <td>1.2471</td>\n",
       "      <td>1.1132</td>\n",
       "      <td>1.0531</td>\n",
       "      <td>1.0280</td>\n",
       "      <td>1.0162</td>\n",
       "      <td>1.0079</td>\n",
       "      <td></td>\n",
       "      <td></td>\n",
       "    </tr>\n",
       "    <tr>\n",
       "      <th>1991</th>\n",
       "      <td>1.9278</td>\n",
       "      <td>1.2446</td>\n",
       "      <td>1.1125</td>\n",
       "      <td>1.0550</td>\n",
       "      <td>1.0271</td>\n",
       "      <td>1.0145</td>\n",
       "      <td></td>\n",
       "      <td></td>\n",
       "      <td></td>\n",
       "    </tr>\n",
       "    <tr>\n",
       "      <th>1992</th>\n",
       "      <td>1.8987</td>\n",
       "      <td>1.2327</td>\n",
       "      <td>1.1049</td>\n",
       "      <td>1.0529</td>\n",
       "      <td>1.0253</td>\n",
       "      <td></td>\n",
       "      <td></td>\n",
       "      <td></td>\n",
       "      <td></td>\n",
       "    </tr>\n",
       "    <tr>\n",
       "      <th>1993</th>\n",
       "      <td>1.8749</td>\n",
       "      <td>1.2221</td>\n",
       "      <td>1.1033</td>\n",
       "      <td>1.0499</td>\n",
       "      <td></td>\n",
       "      <td></td>\n",
       "      <td></td>\n",
       "      <td></td>\n",
       "      <td></td>\n",
       "    </tr>\n",
       "    <tr>\n",
       "      <th>1994</th>\n",
       "      <td>1.8242</td>\n",
       "      <td>1.2151</td>\n",
       "      <td>1.1014</td>\n",
       "      <td></td>\n",
       "      <td></td>\n",
       "      <td></td>\n",
       "      <td></td>\n",
       "      <td></td>\n",
       "      <td></td>\n",
       "    </tr>\n",
       "    <tr>\n",
       "      <th>1995</th>\n",
       "      <td>1.7937</td>\n",
       "      <td>1.2065</td>\n",
       "      <td></td>\n",
       "      <td></td>\n",
       "      <td></td>\n",
       "      <td></td>\n",
       "      <td></td>\n",
       "      <td></td>\n",
       "      <td></td>\n",
       "    </tr>\n",
       "    <tr>\n",
       "      <th>1996</th>\n",
       "      <td>1.7407</td>\n",
       "      <td></td>\n",
       "      <td></td>\n",
       "      <td></td>\n",
       "      <td></td>\n",
       "      <td></td>\n",
       "      <td></td>\n",
       "      <td></td>\n",
       "      <td></td>\n",
       "    </tr>\n",
       "  </tbody>\n",
       "</table>"
      ],
      "text/plain": [
       "         12-24     24-36     36-48     48-60     60-72     72-84     84-96    96-108   108-120\n",
       "1988  1.973281  1.250169  1.117439  1.062053  1.032448  1.016592  1.008855  1.007233  1.002897\n",
       "1989  1.947036  1.247695  1.116837  1.060179  1.029941  1.015912  1.010007  1.004670       NaN\n",
       "1990  1.923905  1.247132  1.113210  1.053115  1.027963  1.016189  1.007921       NaN       NaN\n",
       "1991  1.927775  1.244650  1.112544  1.054993  1.027150  1.014496       NaN       NaN       NaN\n",
       "1992  1.898702  1.232666  1.104881  1.052924  1.025331       NaN       NaN       NaN       NaN\n",
       "1993  1.874883  1.222124  1.103344  1.049860       NaN       NaN       NaN       NaN       NaN\n",
       "1994  1.824231  1.215078  1.101371       NaN       NaN       NaN       NaN       NaN       NaN\n",
       "1995  1.793703  1.206503       NaN       NaN       NaN       NaN       NaN       NaN       NaN\n",
       "1996  1.740687       NaN       NaN       NaN       NaN       NaN       NaN       NaN       NaN"
      ]
     },
     "execution_count": 19,
     "metadata": {},
     "output_type": "execute_result"
    },
    {
     "data": {
      "application/javascript": [
       "\n",
       "            setTimeout(function() {\n",
       "                var nbb_cell_id = 19;\n",
       "                var nbb_unformatted_code = \"clrd_tri[\\\"CumPaidLoss\\\"].sum().link_ratio\";\n",
       "                var nbb_formatted_code = \"clrd_tri[\\\"CumPaidLoss\\\"].sum().link_ratio\";\n",
       "                var nbb_cells = Jupyter.notebook.get_cells();\n",
       "                for (var i = 0; i < nbb_cells.length; ++i) {\n",
       "                    if (nbb_cells[i].input_prompt_number == nbb_cell_id) {\n",
       "                        if (nbb_cells[i].get_text() == nbb_unformatted_code) {\n",
       "                             nbb_cells[i].set_text(nbb_formatted_code);\n",
       "                        }\n",
       "                        break;\n",
       "                    }\n",
       "                }\n",
       "            }, 500);\n",
       "            "
      ],
      "text/plain": [
       "<IPython.core.display.Javascript object>"
      ]
     },
     "metadata": {},
     "output_type": "display_data"
    }
   ],
   "source": [
    "clrd_tri[\"CumPaidLoss\"].sum().link_ratio"
   ]
  },
  {
   "cell_type": "markdown",
   "id": "c74c5352-a95b-4403-8322-962ded312e39",
   "metadata": {},
   "source": [
    "We can also apply a `.heatmap()` to make it too, to help us visualize the highs and lows."
   ]
  },
  {
   "cell_type": "code",
   "execution_count": 20,
   "id": "172c70be-2324-472f-b89c-29963695179a",
   "metadata": {},
   "outputs": [
    {
     "data": {
      "text/html": [
       "<style type=\"text/css\">\n",
       "#T_3e9d5_row0_col0, #T_3e9d5_row0_col1, #T_3e9d5_row0_col2, #T_3e9d5_row0_col3, #T_3e9d5_row0_col4, #T_3e9d5_row0_col5, #T_3e9d5_row0_col7, #T_3e9d5_row1_col6 {\n",
       "  background-color: #b40426;\n",
       "  color: #f1f1f1;\n",
       "}\n",
       "#T_3e9d5_row0_col6, #T_3e9d5_row0_col8, #T_3e9d5_row1_col8, #T_3e9d5_row2_col4, #T_3e9d5_row2_col7, #T_3e9d5_row2_col8, #T_3e9d5_row3_col2, #T_3e9d5_row3_col6, #T_3e9d5_row3_col7, #T_3e9d5_row3_col8, #T_3e9d5_row4_col0, #T_3e9d5_row4_col5, #T_3e9d5_row4_col6, #T_3e9d5_row4_col7, #T_3e9d5_row4_col8, #T_3e9d5_row5_col4, #T_3e9d5_row5_col5, #T_3e9d5_row5_col6, #T_3e9d5_row5_col7, #T_3e9d5_row5_col8, #T_3e9d5_row6_col3, #T_3e9d5_row6_col4, #T_3e9d5_row6_col5, #T_3e9d5_row6_col6, #T_3e9d5_row6_col7, #T_3e9d5_row6_col8, #T_3e9d5_row7_col2, #T_3e9d5_row7_col3, #T_3e9d5_row7_col4, #T_3e9d5_row7_col5, #T_3e9d5_row7_col6, #T_3e9d5_row7_col7, #T_3e9d5_row7_col8, #T_3e9d5_row8_col1, #T_3e9d5_row8_col2, #T_3e9d5_row8_col3, #T_3e9d5_row8_col4, #T_3e9d5_row8_col5, #T_3e9d5_row8_col6, #T_3e9d5_row8_col7, #T_3e9d5_row8_col8 {\n",
       "  background-color: #dddcdc;\n",
       "  color: #000000;\n",
       "}\n",
       "#T_3e9d5_row1_col0 {\n",
       "  background-color: #dd5f4b;\n",
       "  color: #f1f1f1;\n",
       "}\n",
       "#T_3e9d5_row1_col1 {\n",
       "  background-color: #e26952;\n",
       "  color: #f1f1f1;\n",
       "}\n",
       "#T_3e9d5_row1_col2 {\n",
       "  background-color: #e7745b;\n",
       "  color: #f1f1f1;\n",
       "}\n",
       "#T_3e9d5_row1_col3 {\n",
       "  background-color: #ee8468;\n",
       "  color: #f1f1f1;\n",
       "}\n",
       "#T_3e9d5_row1_col4, #T_3e9d5_row3_col0 {\n",
       "  background-color: #f4987a;\n",
       "  color: #000000;\n",
       "}\n",
       "#T_3e9d5_row1_col5, #T_3e9d5_row4_col2 {\n",
       "  background-color: #aac7fd;\n",
       "  color: #000000;\n",
       "}\n",
       "#T_3e9d5_row1_col7, #T_3e9d5_row2_col6, #T_3e9d5_row3_col5, #T_3e9d5_row4_col4, #T_3e9d5_row5_col3, #T_3e9d5_row6_col2, #T_3e9d5_row7_col1, #T_3e9d5_row8_col0 {\n",
       "  background-color: #3b4cc0;\n",
       "  color: #f1f1f1;\n",
       "}\n",
       "#T_3e9d5_row2_col0 {\n",
       "  background-color: #f5c4ac;\n",
       "  color: #000000;\n",
       "}\n",
       "#T_3e9d5_row2_col1 {\n",
       "  background-color: #f7a889;\n",
       "  color: #000000;\n",
       "}\n",
       "#T_3e9d5_row2_col2, #T_3e9d5_row2_col5 {\n",
       "  background-color: #f7b89c;\n",
       "  color: #000000;\n",
       "}\n",
       "#T_3e9d5_row2_col3 {\n",
       "  background-color: #c0d4f5;\n",
       "  color: #000000;\n",
       "}\n",
       "#T_3e9d5_row3_col1 {\n",
       "  background-color: #edd1c2;\n",
       "  color: #000000;\n",
       "}\n",
       "#T_3e9d5_row3_col3 {\n",
       "  background-color: #f2cbb7;\n",
       "  color: #000000;\n",
       "}\n",
       "#T_3e9d5_row3_col4, #T_3e9d5_row6_col0 {\n",
       "  background-color: #8db0fe;\n",
       "  color: #000000;\n",
       "}\n",
       "#T_3e9d5_row4_col1 {\n",
       "  background-color: #c9d7f0;\n",
       "  color: #000000;\n",
       "}\n",
       "#T_3e9d5_row4_col3 {\n",
       "  background-color: #7b9ff9;\n",
       "  color: #f1f1f1;\n",
       "}\n",
       "#T_3e9d5_row5_col0 {\n",
       "  background-color: #b9d0f9;\n",
       "  color: #000000;\n",
       "}\n",
       "#T_3e9d5_row5_col1 {\n",
       "  background-color: #9abbff;\n",
       "  color: #000000;\n",
       "}\n",
       "#T_3e9d5_row5_col2 {\n",
       "  background-color: #6f92f3;\n",
       "  color: #f1f1f1;\n",
       "}\n",
       "#T_3e9d5_row6_col1 {\n",
       "  background-color: #6788ee;\n",
       "  color: #f1f1f1;\n",
       "}\n",
       "#T_3e9d5_row7_col0 {\n",
       "  background-color: #6282ea;\n",
       "  color: #f1f1f1;\n",
       "}\n",
       "</style>\n",
       "<table id=\"T_3e9d5\">\n",
       "  <thead>\n",
       "    <tr>\n",
       "      <th class=\"blank level0\" >&nbsp;</th>\n",
       "      <th id=\"T_3e9d5_level0_col0\" class=\"col_heading level0 col0\" >12-24</th>\n",
       "      <th id=\"T_3e9d5_level0_col1\" class=\"col_heading level0 col1\" >24-36</th>\n",
       "      <th id=\"T_3e9d5_level0_col2\" class=\"col_heading level0 col2\" >36-48</th>\n",
       "      <th id=\"T_3e9d5_level0_col3\" class=\"col_heading level0 col3\" >48-60</th>\n",
       "      <th id=\"T_3e9d5_level0_col4\" class=\"col_heading level0 col4\" >60-72</th>\n",
       "      <th id=\"T_3e9d5_level0_col5\" class=\"col_heading level0 col5\" >72-84</th>\n",
       "      <th id=\"T_3e9d5_level0_col6\" class=\"col_heading level0 col6\" >84-96</th>\n",
       "      <th id=\"T_3e9d5_level0_col7\" class=\"col_heading level0 col7\" >96-108</th>\n",
       "      <th id=\"T_3e9d5_level0_col8\" class=\"col_heading level0 col8\" >108-120</th>\n",
       "    </tr>\n",
       "  </thead>\n",
       "  <tbody>\n",
       "    <tr>\n",
       "      <th id=\"T_3e9d5_level0_row0\" class=\"row_heading level0 row0\" >1988</th>\n",
       "      <td id=\"T_3e9d5_row0_col0\" class=\"data row0 col0\" >1.9733</td>\n",
       "      <td id=\"T_3e9d5_row0_col1\" class=\"data row0 col1\" >1.2502</td>\n",
       "      <td id=\"T_3e9d5_row0_col2\" class=\"data row0 col2\" >1.1174</td>\n",
       "      <td id=\"T_3e9d5_row0_col3\" class=\"data row0 col3\" >1.0621</td>\n",
       "      <td id=\"T_3e9d5_row0_col4\" class=\"data row0 col4\" >1.0324</td>\n",
       "      <td id=\"T_3e9d5_row0_col5\" class=\"data row0 col5\" >1.0166</td>\n",
       "      <td id=\"T_3e9d5_row0_col6\" class=\"data row0 col6\" >1.0089</td>\n",
       "      <td id=\"T_3e9d5_row0_col7\" class=\"data row0 col7\" >1.0072</td>\n",
       "      <td id=\"T_3e9d5_row0_col8\" class=\"data row0 col8\" >1.0029</td>\n",
       "    </tr>\n",
       "    <tr>\n",
       "      <th id=\"T_3e9d5_level0_row1\" class=\"row_heading level0 row1\" >1989</th>\n",
       "      <td id=\"T_3e9d5_row1_col0\" class=\"data row1 col0\" >1.9470</td>\n",
       "      <td id=\"T_3e9d5_row1_col1\" class=\"data row1 col1\" >1.2477</td>\n",
       "      <td id=\"T_3e9d5_row1_col2\" class=\"data row1 col2\" >1.1168</td>\n",
       "      <td id=\"T_3e9d5_row1_col3\" class=\"data row1 col3\" >1.0602</td>\n",
       "      <td id=\"T_3e9d5_row1_col4\" class=\"data row1 col4\" >1.0299</td>\n",
       "      <td id=\"T_3e9d5_row1_col5\" class=\"data row1 col5\" >1.0159</td>\n",
       "      <td id=\"T_3e9d5_row1_col6\" class=\"data row1 col6\" >1.0100</td>\n",
       "      <td id=\"T_3e9d5_row1_col7\" class=\"data row1 col7\" >1.0047</td>\n",
       "      <td></td>\n",
       "    </tr>\n",
       "    <tr>\n",
       "      <th id=\"T_3e9d5_level0_row2\" class=\"row_heading level0 row2\" >1990</th>\n",
       "      <td id=\"T_3e9d5_row2_col0\" class=\"data row2 col0\" >1.9239</td>\n",
       "      <td id=\"T_3e9d5_row2_col1\" class=\"data row2 col1\" >1.2471</td>\n",
       "      <td id=\"T_3e9d5_row2_col2\" class=\"data row2 col2\" >1.1132</td>\n",
       "      <td id=\"T_3e9d5_row2_col3\" class=\"data row2 col3\" >1.0531</td>\n",
       "      <td id=\"T_3e9d5_row2_col4\" class=\"data row2 col4\" >1.0280</td>\n",
       "      <td id=\"T_3e9d5_row2_col5\" class=\"data row2 col5\" >1.0162</td>\n",
       "      <td id=\"T_3e9d5_row2_col6\" class=\"data row2 col6\" >1.0079</td>\n",
       "      <td></td>\n",
       "      <td></td>\n",
       "    </tr>\n",
       "    <tr>\n",
       "      <th id=\"T_3e9d5_level0_row3\" class=\"row_heading level0 row3\" >1991</th>\n",
       "      <td id=\"T_3e9d5_row3_col0\" class=\"data row3 col0\" >1.9278</td>\n",
       "      <td id=\"T_3e9d5_row3_col1\" class=\"data row3 col1\" >1.2446</td>\n",
       "      <td id=\"T_3e9d5_row3_col2\" class=\"data row3 col2\" >1.1125</td>\n",
       "      <td id=\"T_3e9d5_row3_col3\" class=\"data row3 col3\" >1.0550</td>\n",
       "      <td id=\"T_3e9d5_row3_col4\" class=\"data row3 col4\" >1.0271</td>\n",
       "      <td id=\"T_3e9d5_row3_col5\" class=\"data row3 col5\" >1.0145</td>\n",
       "      <td></td>\n",
       "      <td></td>\n",
       "      <td></td>\n",
       "    </tr>\n",
       "    <tr>\n",
       "      <th id=\"T_3e9d5_level0_row4\" class=\"row_heading level0 row4\" >1992</th>\n",
       "      <td id=\"T_3e9d5_row4_col0\" class=\"data row4 col0\" >1.8987</td>\n",
       "      <td id=\"T_3e9d5_row4_col1\" class=\"data row4 col1\" >1.2327</td>\n",
       "      <td id=\"T_3e9d5_row4_col2\" class=\"data row4 col2\" >1.1049</td>\n",
       "      <td id=\"T_3e9d5_row4_col3\" class=\"data row4 col3\" >1.0529</td>\n",
       "      <td id=\"T_3e9d5_row4_col4\" class=\"data row4 col4\" >1.0253</td>\n",
       "      <td></td>\n",
       "      <td></td>\n",
       "      <td></td>\n",
       "      <td></td>\n",
       "    </tr>\n",
       "    <tr>\n",
       "      <th id=\"T_3e9d5_level0_row5\" class=\"row_heading level0 row5\" >1993</th>\n",
       "      <td id=\"T_3e9d5_row5_col0\" class=\"data row5 col0\" >1.8749</td>\n",
       "      <td id=\"T_3e9d5_row5_col1\" class=\"data row5 col1\" >1.2221</td>\n",
       "      <td id=\"T_3e9d5_row5_col2\" class=\"data row5 col2\" >1.1033</td>\n",
       "      <td id=\"T_3e9d5_row5_col3\" class=\"data row5 col3\" >1.0499</td>\n",
       "      <td></td>\n",
       "      <td></td>\n",
       "      <td></td>\n",
       "      <td></td>\n",
       "      <td></td>\n",
       "    </tr>\n",
       "    <tr>\n",
       "      <th id=\"T_3e9d5_level0_row6\" class=\"row_heading level0 row6\" >1994</th>\n",
       "      <td id=\"T_3e9d5_row6_col0\" class=\"data row6 col0\" >1.8242</td>\n",
       "      <td id=\"T_3e9d5_row6_col1\" class=\"data row6 col1\" >1.2151</td>\n",
       "      <td id=\"T_3e9d5_row6_col2\" class=\"data row6 col2\" >1.1014</td>\n",
       "      <td></td>\n",
       "      <td></td>\n",
       "      <td></td>\n",
       "      <td></td>\n",
       "      <td></td>\n",
       "      <td></td>\n",
       "    </tr>\n",
       "    <tr>\n",
       "      <th id=\"T_3e9d5_level0_row7\" class=\"row_heading level0 row7\" >1995</th>\n",
       "      <td id=\"T_3e9d5_row7_col0\" class=\"data row7 col0\" >1.7937</td>\n",
       "      <td id=\"T_3e9d5_row7_col1\" class=\"data row7 col1\" >1.2065</td>\n",
       "      <td></td>\n",
       "      <td></td>\n",
       "      <td></td>\n",
       "      <td></td>\n",
       "      <td></td>\n",
       "      <td></td>\n",
       "      <td></td>\n",
       "    </tr>\n",
       "    <tr>\n",
       "      <th id=\"T_3e9d5_level0_row8\" class=\"row_heading level0 row8\" >1996</th>\n",
       "      <td id=\"T_3e9d5_row8_col0\" class=\"data row8 col0\" >1.7407</td>\n",
       "      <td></td>\n",
       "      <td></td>\n",
       "      <td></td>\n",
       "      <td></td>\n",
       "      <td></td>\n",
       "      <td></td>\n",
       "      <td></td>\n",
       "      <td></td>\n",
       "    </tr>\n",
       "  </tbody>\n",
       "</table>\n"
      ],
      "text/plain": [
       "<IPython.core.display.HTML object>"
      ]
     },
     "execution_count": 20,
     "metadata": {},
     "output_type": "execute_result"
    },
    {
     "data": {
      "application/javascript": [
       "\n",
       "            setTimeout(function() {\n",
       "                var nbb_cell_id = 20;\n",
       "                var nbb_unformatted_code = \"clrd_tri[\\\"CumPaidLoss\\\"].sum().link_ratio.heatmap()\";\n",
       "                var nbb_formatted_code = \"clrd_tri[\\\"CumPaidLoss\\\"].sum().link_ratio.heatmap()\";\n",
       "                var nbb_cells = Jupyter.notebook.get_cells();\n",
       "                for (var i = 0; i < nbb_cells.length; ++i) {\n",
       "                    if (nbb_cells[i].input_prompt_number == nbb_cell_id) {\n",
       "                        if (nbb_cells[i].get_text() == nbb_unformatted_code) {\n",
       "                             nbb_cells[i].set_text(nbb_formatted_code);\n",
       "                        }\n",
       "                        break;\n",
       "                    }\n",
       "                }\n",
       "            }, 500);\n",
       "            "
      ],
      "text/plain": [
       "<IPython.core.display.Javascript object>"
      ]
     },
     "metadata": {},
     "output_type": "display_data"
    }
   ],
   "source": [
    "clrd_tri[\"CumPaidLoss\"].sum().link_ratio.heatmap()"
   ]
  },
  {
   "cell_type": "markdown",
   "id": "f5f212b0-3769-49cd-b7cc-b484f2877aa2",
   "metadata": {},
   "source": [
    "Let's get the LDFs for our paid triangle."
   ]
  },
  {
   "cell_type": "code",
   "execution_count": 21,
   "id": "ba0b96cb-77eb-472c-84fd-c5c8c5c11e10",
   "metadata": {},
   "outputs": [
    {
     "data": {
      "text/html": [
       "<table border=\"1\" class=\"dataframe\">\n",
       "  <thead>\n",
       "    <tr style=\"text-align: right;\">\n",
       "      <th></th>\n",
       "      <th>12-24</th>\n",
       "      <th>24-36</th>\n",
       "      <th>36-48</th>\n",
       "      <th>48-60</th>\n",
       "      <th>60-72</th>\n",
       "      <th>72-84</th>\n",
       "      <th>84-96</th>\n",
       "      <th>96-108</th>\n",
       "      <th>108-120</th>\n",
       "    </tr>\n",
       "  </thead>\n",
       "  <tbody>\n",
       "    <tr>\n",
       "      <th>(All)</th>\n",
       "      <td>1.8645</td>\n",
       "      <td>1.2309</td>\n",
       "      <td>1.1091</td>\n",
       "      <td>1.0550</td>\n",
       "      <td>1.0283</td>\n",
       "      <td>1.0158</td>\n",
       "      <td>1.0089</td>\n",
       "      <td>1.0059</td>\n",
       "      <td>1.0029</td>\n",
       "    </tr>\n",
       "  </tbody>\n",
       "</table>"
      ],
      "text/plain": [
       "         12-24     24-36     36-48     48-60     60-72     72-84     84-96    96-108   108-120\n",
       "(All)  1.86453  1.230856  1.109122  1.055039  1.028329  1.015751  1.008899  1.005879  1.002897"
      ]
     },
     "execution_count": 21,
     "metadata": {},
     "output_type": "execute_result"
    },
    {
     "data": {
      "application/javascript": [
       "\n",
       "            setTimeout(function() {\n",
       "                var nbb_cell_id = 21;\n",
       "                var nbb_unformatted_code = \"cl.Development().fit(clrd_tri[\\\"CumPaidLoss\\\"].sum()).ldf_\";\n",
       "                var nbb_formatted_code = \"cl.Development().fit(clrd_tri[\\\"CumPaidLoss\\\"].sum()).ldf_\";\n",
       "                var nbb_cells = Jupyter.notebook.get_cells();\n",
       "                for (var i = 0; i < nbb_cells.length; ++i) {\n",
       "                    if (nbb_cells[i].input_prompt_number == nbb_cell_id) {\n",
       "                        if (nbb_cells[i].get_text() == nbb_unformatted_code) {\n",
       "                             nbb_cells[i].set_text(nbb_formatted_code);\n",
       "                        }\n",
       "                        break;\n",
       "                    }\n",
       "                }\n",
       "            }, 500);\n",
       "            "
      ],
      "text/plain": [
       "<IPython.core.display.Javascript object>"
      ]
     },
     "metadata": {},
     "output_type": "display_data"
    }
   ],
   "source": [
    "cl.Development().fit(clrd_tri[\"CumPaidLoss\"].sum()).ldf_"
   ]
  },
  {
   "cell_type": "markdown",
   "id": "0c4baafd-e141-4566-a4ae-2f0a44ef828e",
   "metadata": {},
   "source": [
    "How about the CDFs?"
   ]
  },
  {
   "cell_type": "code",
   "execution_count": 22,
   "id": "b156f84b-dd0d-49d6-8eec-070d0143f40c",
   "metadata": {},
   "outputs": [
    {
     "data": {
      "text/html": [
       "<table border=\"1\" class=\"dataframe\">\n",
       "  <thead>\n",
       "    <tr style=\"text-align: right;\">\n",
       "      <th></th>\n",
       "      <th>12-Ult</th>\n",
       "      <th>24-Ult</th>\n",
       "      <th>36-Ult</th>\n",
       "      <th>48-Ult</th>\n",
       "      <th>60-Ult</th>\n",
       "      <th>72-Ult</th>\n",
       "      <th>84-Ult</th>\n",
       "      <th>96-Ult</th>\n",
       "      <th>108-Ult</th>\n",
       "    </tr>\n",
       "  </thead>\n",
       "  <tbody>\n",
       "    <tr>\n",
       "      <th>(All)</th>\n",
       "      <td>2.8549</td>\n",
       "      <td>1.5312</td>\n",
       "      <td>1.2440</td>\n",
       "      <td>1.1216</td>\n",
       "      <td>1.0631</td>\n",
       "      <td>1.0338</td>\n",
       "      <td>1.0178</td>\n",
       "      <td>1.0088</td>\n",
       "      <td>1.0029</td>\n",
       "    </tr>\n",
       "  </tbody>\n",
       "</table>"
      ],
      "text/plain": [
       "         12-Ult   24-Ult    36-Ult    48-Ult    60-Ult  72-Ult    84-Ult    96-Ult   108-Ult\n",
       "(All)  2.854913  1.53117  1.243988  1.121597  1.063086  1.0338  1.017769  1.008792  1.002897"
      ]
     },
     "execution_count": 22,
     "metadata": {},
     "output_type": "execute_result"
    },
    {
     "data": {
      "application/javascript": [
       "\n",
       "            setTimeout(function() {\n",
       "                var nbb_cell_id = 22;\n",
       "                var nbb_unformatted_code = \"cl.Development().fit(clrd_tri[\\\"CumPaidLoss\\\"].sum()).cdf_\";\n",
       "                var nbb_formatted_code = \"cl.Development().fit(clrd_tri[\\\"CumPaidLoss\\\"].sum()).cdf_\";\n",
       "                var nbb_cells = Jupyter.notebook.get_cells();\n",
       "                for (var i = 0; i < nbb_cells.length; ++i) {\n",
       "                    if (nbb_cells[i].input_prompt_number == nbb_cell_id) {\n",
       "                        if (nbb_cells[i].get_text() == nbb_unformatted_code) {\n",
       "                             nbb_cells[i].set_text(nbb_formatted_code);\n",
       "                        }\n",
       "                        break;\n",
       "                    }\n",
       "                }\n",
       "            }, 500);\n",
       "            "
      ],
      "text/plain": [
       "<IPython.core.display.Javascript object>"
      ]
     },
     "metadata": {},
     "output_type": "display_data"
    }
   ],
   "source": [
    "cl.Development().fit(clrd_tri[\"CumPaidLoss\"].sum()).cdf_"
   ]
  },
  {
   "cell_type": "markdown",
   "id": "d51e5664-3106-41d1-b77f-8afa9ee94ff7",
   "metadata": {},
   "source": [
    "We can also use only the latest 3 periods in the calculation of LDFs."
   ]
  },
  {
   "cell_type": "code",
   "execution_count": 23,
   "id": "de88fdad-5d89-4cc2-adb0-bbeb7c77bbcb",
   "metadata": {},
   "outputs": [
    {
     "data": {
      "text/html": [
       "<table border=\"1\" class=\"dataframe\">\n",
       "  <thead>\n",
       "    <tr style=\"text-align: right;\">\n",
       "      <th></th>\n",
       "      <th>12-24</th>\n",
       "      <th>24-36</th>\n",
       "      <th>36-48</th>\n",
       "      <th>48-60</th>\n",
       "      <th>60-72</th>\n",
       "      <th>72-84</th>\n",
       "      <th>84-96</th>\n",
       "      <th>96-108</th>\n",
       "      <th>108-120</th>\n",
       "    </tr>\n",
       "  </thead>\n",
       "  <tbody>\n",
       "    <tr>\n",
       "      <th>(All)</th>\n",
       "      <td>1.7855</td>\n",
       "      <td>1.2143</td>\n",
       "      <td>1.1031</td>\n",
       "      <td>1.0525</td>\n",
       "      <td>1.0268</td>\n",
       "      <td>1.0155</td>\n",
       "      <td>1.0089</td>\n",
       "      <td>1.0059</td>\n",
       "      <td>1.0029</td>\n",
       "    </tr>\n",
       "  </tbody>\n",
       "</table>"
      ],
      "text/plain": [
       "          12-24     24-36     36-48     48-60     60-72     72-84     84-96    96-108   108-120\n",
       "(All)  1.785482  1.214337  1.103117  1.052471  1.026775  1.015516  1.008899  1.005879  1.002897"
      ]
     },
     "execution_count": 23,
     "metadata": {},
     "output_type": "execute_result"
    },
    {
     "data": {
      "application/javascript": [
       "\n",
       "            setTimeout(function() {\n",
       "                var nbb_cell_id = 23;\n",
       "                var nbb_unformatted_code = \"cl.Development(n_periods=3).fit(clrd_tri[\\\"CumPaidLoss\\\"].sum()).ldf_\";\n",
       "                var nbb_formatted_code = \"cl.Development(n_periods=3).fit(clrd_tri[\\\"CumPaidLoss\\\"].sum()).ldf_\";\n",
       "                var nbb_cells = Jupyter.notebook.get_cells();\n",
       "                for (var i = 0; i < nbb_cells.length; ++i) {\n",
       "                    if (nbb_cells[i].input_prompt_number == nbb_cell_id) {\n",
       "                        if (nbb_cells[i].get_text() == nbb_unformatted_code) {\n",
       "                             nbb_cells[i].set_text(nbb_formatted_code);\n",
       "                        }\n",
       "                        break;\n",
       "                    }\n",
       "                }\n",
       "            }, 500);\n",
       "            "
      ],
      "text/plain": [
       "<IPython.core.display.Javascript object>"
      ]
     },
     "metadata": {},
     "output_type": "display_data"
    }
   ],
   "source": [
    "cl.Development(n_periods=3).fit(clrd_tri[\"CumPaidLoss\"].sum()).ldf_"
   ]
  },
  {
   "cell_type": "markdown",
   "id": "b018bae9-6070-4795-8af6-b5e196aa1af1",
   "metadata": {},
   "source": [
    "# Deterministic Models"
   ]
  },
  {
   "cell_type": "markdown",
   "id": "e7c7b88e-205d-45c8-b9e6-4586f29041a4",
   "metadata": {},
   "source": [
    "Before we can build any models, we need to use `fit_transform()`, so that the object is actually modified with our the development pattern(s).\n",
    "\n",
    "Set the development of the triangle to use only 3 periods."
   ]
  },
  {
   "cell_type": "code",
   "execution_count": 24,
   "id": "9e5136d2-0c3c-44da-8440-57ca3cfbbb9d",
   "metadata": {},
   "outputs": [
    {
     "data": {
      "text/html": [
       "<table border=\"1\" class=\"dataframe\">\n",
       "  <thead>\n",
       "    <tr style=\"text-align: right;\">\n",
       "      <th></th>\n",
       "      <th>12</th>\n",
       "      <th>24</th>\n",
       "      <th>36</th>\n",
       "      <th>48</th>\n",
       "      <th>60</th>\n",
       "      <th>72</th>\n",
       "      <th>84</th>\n",
       "      <th>96</th>\n",
       "      <th>108</th>\n",
       "      <th>120</th>\n",
       "    </tr>\n",
       "  </thead>\n",
       "  <tbody>\n",
       "    <tr>\n",
       "      <th>1988</th>\n",
       "      <td>3,577,780</td>\n",
       "      <td>7,059,966</td>\n",
       "      <td>8,826,151</td>\n",
       "      <td>9,862,687</td>\n",
       "      <td>10,474,698</td>\n",
       "      <td>10,814,576</td>\n",
       "      <td>10,994,014</td>\n",
       "      <td>11,091,363</td>\n",
       "      <td>11,171,590</td>\n",
       "      <td>11,203,949</td>\n",
       "    </tr>\n",
       "    <tr>\n",
       "      <th>1989</th>\n",
       "      <td>4,090,680</td>\n",
       "      <td>7,964,702</td>\n",
       "      <td>9,937,520</td>\n",
       "      <td>11,098,588</td>\n",
       "      <td>11,766,488</td>\n",
       "      <td>12,118,790</td>\n",
       "      <td>12,311,629</td>\n",
       "      <td>12,434,826</td>\n",
       "      <td>12,492,899</td>\n",
       "      <td></td>\n",
       "    </tr>\n",
       "    <tr>\n",
       "      <th>1990</th>\n",
       "      <td>4,578,442</td>\n",
       "      <td>8,808,486</td>\n",
       "      <td>10,985,347</td>\n",
       "      <td>12,229,001</td>\n",
       "      <td>12,878,545</td>\n",
       "      <td>13,238,667</td>\n",
       "      <td>13,452,993</td>\n",
       "      <td>13,559,557</td>\n",
       "      <td></td>\n",
       "      <td></td>\n",
       "    </tr>\n",
       "    <tr>\n",
       "      <th>1991</th>\n",
       "      <td>4,648,756</td>\n",
       "      <td>8,961,755</td>\n",
       "      <td>11,154,244</td>\n",
       "      <td>12,409,592</td>\n",
       "      <td>13,092,037</td>\n",
       "      <td>13,447,481</td>\n",
       "      <td>13,642,414</td>\n",
       "      <td></td>\n",
       "      <td></td>\n",
       "      <td></td>\n",
       "    </tr>\n",
       "    <tr>\n",
       "      <th>1992</th>\n",
       "      <td>5,139,142</td>\n",
       "      <td>9,757,699</td>\n",
       "      <td>12,027,983</td>\n",
       "      <td>13,289,485</td>\n",
       "      <td>13,992,821</td>\n",
       "      <td>14,347,271</td>\n",
       "      <td></td>\n",
       "      <td></td>\n",
       "      <td></td>\n",
       "      <td></td>\n",
       "    </tr>\n",
       "    <tr>\n",
       "      <th>1993</th>\n",
       "      <td>5,653,379</td>\n",
       "      <td>10,599,423</td>\n",
       "      <td>12,953,812</td>\n",
       "      <td>14,292,516</td>\n",
       "      <td>15,005,138</td>\n",
       "      <td></td>\n",
       "      <td></td>\n",
       "      <td></td>\n",
       "      <td></td>\n",
       "      <td></td>\n",
       "    </tr>\n",
       "    <tr>\n",
       "      <th>1994</th>\n",
       "      <td>6,246,447</td>\n",
       "      <td>11,394,960</td>\n",
       "      <td>13,845,764</td>\n",
       "      <td>15,249,326</td>\n",
       "      <td></td>\n",
       "      <td></td>\n",
       "      <td></td>\n",
       "      <td></td>\n",
       "      <td></td>\n",
       "      <td></td>\n",
       "    </tr>\n",
       "    <tr>\n",
       "      <th>1995</th>\n",
       "      <td>6,473,843</td>\n",
       "      <td>11,612,151</td>\n",
       "      <td>14,010,098</td>\n",
       "      <td></td>\n",
       "      <td></td>\n",
       "      <td></td>\n",
       "      <td></td>\n",
       "      <td></td>\n",
       "      <td></td>\n",
       "      <td></td>\n",
       "    </tr>\n",
       "    <tr>\n",
       "      <th>1996</th>\n",
       "      <td>6,591,599</td>\n",
       "      <td>11,473,912</td>\n",
       "      <td></td>\n",
       "      <td></td>\n",
       "      <td></td>\n",
       "      <td></td>\n",
       "      <td></td>\n",
       "      <td></td>\n",
       "      <td></td>\n",
       "      <td></td>\n",
       "    </tr>\n",
       "    <tr>\n",
       "      <th>1997</th>\n",
       "      <td>6,451,896</td>\n",
       "      <td></td>\n",
       "      <td></td>\n",
       "      <td></td>\n",
       "      <td></td>\n",
       "      <td></td>\n",
       "      <td></td>\n",
       "      <td></td>\n",
       "      <td></td>\n",
       "      <td></td>\n",
       "    </tr>\n",
       "  </tbody>\n",
       "</table>"
      ],
      "text/plain": [
       "            12          24          36          48          60          72          84          96          108         120\n",
       "1988  3577780.0   7059966.0   8826151.0   9862687.0  10474698.0  10814576.0  10994014.0  11091363.0  11171590.0  11203949.0\n",
       "1989  4090680.0   7964702.0   9937520.0  11098588.0  11766488.0  12118790.0  12311629.0  12434826.0  12492899.0         NaN\n",
       "1990  4578442.0   8808486.0  10985347.0  12229001.0  12878545.0  13238667.0  13452993.0  13559557.0         NaN         NaN\n",
       "1991  4648756.0   8961755.0  11154244.0  12409592.0  13092037.0  13447481.0  13642414.0         NaN         NaN         NaN\n",
       "1992  5139142.0   9757699.0  12027983.0  13289485.0  13992821.0  14347271.0         NaN         NaN         NaN         NaN\n",
       "1993  5653379.0  10599423.0  12953812.0  14292516.0  15005138.0         NaN         NaN         NaN         NaN         NaN\n",
       "1994  6246447.0  11394960.0  13845764.0  15249326.0         NaN         NaN         NaN         NaN         NaN         NaN\n",
       "1995  6473843.0  11612151.0  14010098.0         NaN         NaN         NaN         NaN         NaN         NaN         NaN\n",
       "1996  6591599.0  11473912.0         NaN         NaN         NaN         NaN         NaN         NaN         NaN         NaN\n",
       "1997  6451896.0         NaN         NaN         NaN         NaN         NaN         NaN         NaN         NaN         NaN"
      ]
     },
     "execution_count": 24,
     "metadata": {},
     "output_type": "execute_result"
    },
    {
     "data": {
      "application/javascript": [
       "\n",
       "            setTimeout(function() {\n",
       "                var nbb_cell_id = 24;\n",
       "                var nbb_unformatted_code = \"cl.Development(n_periods=3).fit_transform(clrd_tri[\\\"CumPaidLoss\\\"].sum())\";\n",
       "                var nbb_formatted_code = \"cl.Development(n_periods=3).fit_transform(clrd_tri[\\\"CumPaidLoss\\\"].sum())\";\n",
       "                var nbb_cells = Jupyter.notebook.get_cells();\n",
       "                for (var i = 0; i < nbb_cells.length; ++i) {\n",
       "                    if (nbb_cells[i].input_prompt_number == nbb_cell_id) {\n",
       "                        if (nbb_cells[i].get_text() == nbb_unformatted_code) {\n",
       "                             nbb_cells[i].set_text(nbb_formatted_code);\n",
       "                        }\n",
       "                        break;\n",
       "                    }\n",
       "                }\n",
       "            }, 500);\n",
       "            "
      ],
      "text/plain": [
       "<IPython.core.display.Javascript object>"
      ]
     },
     "metadata": {},
     "output_type": "display_data"
    }
   ],
   "source": [
    "cl.Development(n_periods=3).fit_transform(clrd_tri[\"CumPaidLoss\"].sum())"
   ]
  },
  {
   "cell_type": "markdown",
   "id": "1bd89481-e5c7-4a84-b2cc-a2e386ccdb15",
   "metadata": {},
   "source": [
    "Let's fit a chainladder model to our paid triangle."
   ]
  },
  {
   "cell_type": "code",
   "execution_count": 25,
   "id": "022e22e9-92a8-427c-bf5c-cf352df1437c",
   "metadata": {},
   "outputs": [
    {
     "data": {
      "text/html": [
       "<style>#sk-container-id-1 {color: black;background-color: white;}#sk-container-id-1 pre{padding: 0;}#sk-container-id-1 div.sk-toggleable {background-color: white;}#sk-container-id-1 label.sk-toggleable__label {cursor: pointer;display: block;width: 100%;margin-bottom: 0;padding: 0.3em;box-sizing: border-box;text-align: center;}#sk-container-id-1 label.sk-toggleable__label-arrow:before {content: \"▸\";float: left;margin-right: 0.25em;color: #696969;}#sk-container-id-1 label.sk-toggleable__label-arrow:hover:before {color: black;}#sk-container-id-1 div.sk-estimator:hover label.sk-toggleable__label-arrow:before {color: black;}#sk-container-id-1 div.sk-toggleable__content {max-height: 0;max-width: 0;overflow: hidden;text-align: left;background-color: #f0f8ff;}#sk-container-id-1 div.sk-toggleable__content pre {margin: 0.2em;color: black;border-radius: 0.25em;background-color: #f0f8ff;}#sk-container-id-1 input.sk-toggleable__control:checked~div.sk-toggleable__content {max-height: 200px;max-width: 100%;overflow: auto;}#sk-container-id-1 input.sk-toggleable__control:checked~label.sk-toggleable__label-arrow:before {content: \"▾\";}#sk-container-id-1 div.sk-estimator input.sk-toggleable__control:checked~label.sk-toggleable__label {background-color: #d4ebff;}#sk-container-id-1 div.sk-label input.sk-toggleable__control:checked~label.sk-toggleable__label {background-color: #d4ebff;}#sk-container-id-1 input.sk-hidden--visually {border: 0;clip: rect(1px 1px 1px 1px);clip: rect(1px, 1px, 1px, 1px);height: 1px;margin: -1px;overflow: hidden;padding: 0;position: absolute;width: 1px;}#sk-container-id-1 div.sk-estimator {font-family: monospace;background-color: #f0f8ff;border: 1px dotted black;border-radius: 0.25em;box-sizing: border-box;margin-bottom: 0.5em;}#sk-container-id-1 div.sk-estimator:hover {background-color: #d4ebff;}#sk-container-id-1 div.sk-parallel-item::after {content: \"\";width: 100%;border-bottom: 1px solid gray;flex-grow: 1;}#sk-container-id-1 div.sk-label:hover label.sk-toggleable__label {background-color: #d4ebff;}#sk-container-id-1 div.sk-serial::before {content: \"\";position: absolute;border-left: 1px solid gray;box-sizing: border-box;top: 0;bottom: 0;left: 50%;z-index: 0;}#sk-container-id-1 div.sk-serial {display: flex;flex-direction: column;align-items: center;background-color: white;padding-right: 0.2em;padding-left: 0.2em;position: relative;}#sk-container-id-1 div.sk-item {position: relative;z-index: 1;}#sk-container-id-1 div.sk-parallel {display: flex;align-items: stretch;justify-content: center;background-color: white;position: relative;}#sk-container-id-1 div.sk-item::before, #sk-container-id-1 div.sk-parallel-item::before {content: \"\";position: absolute;border-left: 1px solid gray;box-sizing: border-box;top: 0;bottom: 0;left: 50%;z-index: -1;}#sk-container-id-1 div.sk-parallel-item {display: flex;flex-direction: column;z-index: 1;position: relative;background-color: white;}#sk-container-id-1 div.sk-parallel-item:first-child::after {align-self: flex-end;width: 50%;}#sk-container-id-1 div.sk-parallel-item:last-child::after {align-self: flex-start;width: 50%;}#sk-container-id-1 div.sk-parallel-item:only-child::after {width: 0;}#sk-container-id-1 div.sk-dashed-wrapped {border: 1px dashed gray;margin: 0 0.4em 0.5em 0.4em;box-sizing: border-box;padding-bottom: 0.4em;background-color: white;}#sk-container-id-1 div.sk-label label {font-family: monospace;font-weight: bold;display: inline-block;line-height: 1.2em;}#sk-container-id-1 div.sk-label-container {text-align: center;}#sk-container-id-1 div.sk-container {/* jupyter's `normalize.less` sets `[hidden] { display: none; }` but bootstrap.min.css set `[hidden] { display: none !important; }` so we also need the `!important` here to be able to override the default hidden behavior on the sphinx rendered scikit-learn.org. See: https://github.com/scikit-learn/scikit-learn/issues/21755 */display: inline-block !important;position: relative;}#sk-container-id-1 div.sk-text-repr-fallback {display: none;}</style><div id=\"sk-container-id-1\" class=\"sk-top-container\"><div class=\"sk-text-repr-fallback\"><pre>Chainladder()</pre><b>In a Jupyter environment, please rerun this cell to show the HTML representation or trust the notebook. <br />On GitHub, the HTML representation is unable to render, please try loading this page with nbviewer.org.</b></div><div class=\"sk-container\" hidden><div class=\"sk-item\"><div class=\"sk-estimator sk-toggleable\"><input class=\"sk-toggleable__control sk-hidden--visually\" id=\"sk-estimator-id-1\" type=\"checkbox\" checked><label for=\"sk-estimator-id-1\" class=\"sk-toggleable__label sk-toggleable__label-arrow\">Chainladder</label><div class=\"sk-toggleable__content\"><pre>Chainladder()</pre></div></div></div></div></div>"
      ],
      "text/plain": [
       "Chainladder()"
      ]
     },
     "execution_count": 25,
     "metadata": {},
     "output_type": "execute_result"
    },
    {
     "data": {
      "application/javascript": [
       "\n",
       "            setTimeout(function() {\n",
       "                var nbb_cell_id = 25;\n",
       "                var nbb_unformatted_code = \"cl_mod = cl.Chainladder().fit(clrd_tri[\\\"CumPaidLoss\\\"].sum())\\ncl_mod\";\n",
       "                var nbb_formatted_code = \"cl_mod = cl.Chainladder().fit(clrd_tri[\\\"CumPaidLoss\\\"].sum())\\ncl_mod\";\n",
       "                var nbb_cells = Jupyter.notebook.get_cells();\n",
       "                for (var i = 0; i < nbb_cells.length; ++i) {\n",
       "                    if (nbb_cells[i].input_prompt_number == nbb_cell_id) {\n",
       "                        if (nbb_cells[i].get_text() == nbb_unformatted_code) {\n",
       "                             nbb_cells[i].set_text(nbb_formatted_code);\n",
       "                        }\n",
       "                        break;\n",
       "                    }\n",
       "                }\n",
       "            }, 500);\n",
       "            "
      ],
      "text/plain": [
       "<IPython.core.display.Javascript object>"
      ]
     },
     "metadata": {},
     "output_type": "display_data"
    }
   ],
   "source": [
    "cl_mod = cl.Chainladder().fit(clrd_tri[\"CumPaidLoss\"].sum())\n",
    "cl_mod"
   ]
  },
  {
   "cell_type": "markdown",
   "id": "7b710342-5f86-408e-bf7e-76382b37f2d1",
   "metadata": {},
   "source": [
    "How can we get the model's ultimate estimates?"
   ]
  },
  {
   "cell_type": "code",
   "execution_count": 26,
   "id": "69f18923-73b1-4b80-9148-60a7bab5b118",
   "metadata": {},
   "outputs": [
    {
     "data": {
      "text/html": [
       "<table border=\"1\" class=\"dataframe\">\n",
       "  <thead>\n",
       "    <tr style=\"text-align: right;\">\n",
       "      <th></th>\n",
       "      <th>2261</th>\n",
       "    </tr>\n",
       "  </thead>\n",
       "  <tbody>\n",
       "    <tr>\n",
       "      <th>1988</th>\n",
       "      <td>11,203,949</td>\n",
       "    </tr>\n",
       "    <tr>\n",
       "      <th>1989</th>\n",
       "      <td>12,529,085</td>\n",
       "    </tr>\n",
       "    <tr>\n",
       "      <th>1990</th>\n",
       "      <td>13,678,774</td>\n",
       "    </tr>\n",
       "    <tr>\n",
       "      <th>1991</th>\n",
       "      <td>13,884,829</td>\n",
       "    </tr>\n",
       "    <tr>\n",
       "      <th>1992</th>\n",
       "      <td>14,832,204</td>\n",
       "    </tr>\n",
       "    <tr>\n",
       "      <th>1993</th>\n",
       "      <td>15,951,756</td>\n",
       "    </tr>\n",
       "    <tr>\n",
       "      <th>1994</th>\n",
       "      <td>17,103,605</td>\n",
       "    </tr>\n",
       "    <tr>\n",
       "      <th>1995</th>\n",
       "      <td>17,428,397</td>\n",
       "    </tr>\n",
       "    <tr>\n",
       "      <th>1996</th>\n",
       "      <td>17,568,511</td>\n",
       "    </tr>\n",
       "    <tr>\n",
       "      <th>1997</th>\n",
       "      <td>18,419,602</td>\n",
       "    </tr>\n",
       "  </tbody>\n",
       "</table>"
      ],
      "text/plain": [
       "              2261\n",
       "1988  1.120395e+07\n",
       "1989  1.252909e+07\n",
       "1990  1.367877e+07\n",
       "1991  1.388483e+07\n",
       "1992  1.483220e+07\n",
       "1993  1.595176e+07\n",
       "1994  1.710361e+07\n",
       "1995  1.742840e+07\n",
       "1996  1.756851e+07\n",
       "1997  1.841960e+07"
      ]
     },
     "execution_count": 26,
     "metadata": {},
     "output_type": "execute_result"
    },
    {
     "data": {
      "application/javascript": [
       "\n",
       "            setTimeout(function() {\n",
       "                var nbb_cell_id = 26;\n",
       "                var nbb_unformatted_code = \"cl_mod.ultimate_\";\n",
       "                var nbb_formatted_code = \"cl_mod.ultimate_\";\n",
       "                var nbb_cells = Jupyter.notebook.get_cells();\n",
       "                for (var i = 0; i < nbb_cells.length; ++i) {\n",
       "                    if (nbb_cells[i].input_prompt_number == nbb_cell_id) {\n",
       "                        if (nbb_cells[i].get_text() == nbb_unformatted_code) {\n",
       "                             nbb_cells[i].set_text(nbb_formatted_code);\n",
       "                        }\n",
       "                        break;\n",
       "                    }\n",
       "                }\n",
       "            }, 500);\n",
       "            "
      ],
      "text/plain": [
       "<IPython.core.display.Javascript object>"
      ]
     },
     "metadata": {},
     "output_type": "display_data"
    }
   ],
   "source": [
    "cl_mod.ultimate_"
   ]
  },
  {
   "cell_type": "markdown",
   "id": "b416a404-8d0f-46fc-a3e7-f5b5b884b4b4",
   "metadata": {},
   "source": [
    "How about just the IBNR?"
   ]
  },
  {
   "cell_type": "code",
   "execution_count": 27,
   "id": "5fad3aa0-03bc-4f84-a8b7-1a00dbdebe8d",
   "metadata": {},
   "outputs": [
    {
     "data": {
      "text/html": [
       "<table border=\"1\" class=\"dataframe\">\n",
       "  <thead>\n",
       "    <tr style=\"text-align: right;\">\n",
       "      <th></th>\n",
       "      <th>2261</th>\n",
       "    </tr>\n",
       "  </thead>\n",
       "  <tbody>\n",
       "    <tr>\n",
       "      <th>1988</th>\n",
       "      <td></td>\n",
       "    </tr>\n",
       "    <tr>\n",
       "      <th>1989</th>\n",
       "      <td>36,186</td>\n",
       "    </tr>\n",
       "    <tr>\n",
       "      <th>1990</th>\n",
       "      <td>119,217</td>\n",
       "    </tr>\n",
       "    <tr>\n",
       "      <th>1991</th>\n",
       "      <td>242,415</td>\n",
       "    </tr>\n",
       "    <tr>\n",
       "      <th>1992</th>\n",
       "      <td>484,933</td>\n",
       "    </tr>\n",
       "    <tr>\n",
       "      <th>1993</th>\n",
       "      <td>946,618</td>\n",
       "    </tr>\n",
       "    <tr>\n",
       "      <th>1994</th>\n",
       "      <td>1,854,279</td>\n",
       "    </tr>\n",
       "    <tr>\n",
       "      <th>1995</th>\n",
       "      <td>3,418,299</td>\n",
       "    </tr>\n",
       "    <tr>\n",
       "      <th>1996</th>\n",
       "      <td>6,094,599</td>\n",
       "    </tr>\n",
       "    <tr>\n",
       "      <th>1997</th>\n",
       "      <td>11,967,706</td>\n",
       "    </tr>\n",
       "  </tbody>\n",
       "</table>"
      ],
      "text/plain": [
       "              2261\n",
       "1988           NaN\n",
       "1989  3.618623e+04\n",
       "1990  1.192173e+05\n",
       "1991  2.424152e+05\n",
       "1992  4.849332e+05\n",
       "1993  9.466176e+05\n",
       "1994  1.854279e+06\n",
       "1995  3.418299e+06\n",
       "1996  6.094599e+06\n",
       "1997  1.196771e+07"
      ]
     },
     "execution_count": 27,
     "metadata": {},
     "output_type": "execute_result"
    },
    {
     "data": {
      "application/javascript": [
       "\n",
       "            setTimeout(function() {\n",
       "                var nbb_cell_id = 27;\n",
       "                var nbb_unformatted_code = \"cl_mod.ibnr_\";\n",
       "                var nbb_formatted_code = \"cl_mod.ibnr_\";\n",
       "                var nbb_cells = Jupyter.notebook.get_cells();\n",
       "                for (var i = 0; i < nbb_cells.length; ++i) {\n",
       "                    if (nbb_cells[i].input_prompt_number == nbb_cell_id) {\n",
       "                        if (nbb_cells[i].get_text() == nbb_unformatted_code) {\n",
       "                             nbb_cells[i].set_text(nbb_formatted_code);\n",
       "                        }\n",
       "                        break;\n",
       "                    }\n",
       "                }\n",
       "            }, 500);\n",
       "            "
      ],
      "text/plain": [
       "<IPython.core.display.Javascript object>"
      ]
     },
     "metadata": {},
     "output_type": "display_data"
    }
   ],
   "source": [
    "cl_mod.ibnr_"
   ]
  },
  {
   "cell_type": "markdown",
   "id": "70d8c018-21ca-4f2c-a764-433e310bb44a",
   "metadata": {},
   "source": [
    "Let's fit an Expected Loss model, with an aprior of 90% on `EarnedPremDIR`, and get its ultimates."
   ]
  },
  {
   "cell_type": "code",
   "execution_count": 28,
   "id": "22eba9fa-1890-4f6f-8a10-281142d2d58d",
   "metadata": {},
   "outputs": [
    {
     "data": {
      "text/html": [
       "<table border=\"1\" class=\"dataframe\">\n",
       "  <thead>\n",
       "    <tr style=\"text-align: right;\">\n",
       "      <th></th>\n",
       "      <th>2261</th>\n",
       "    </tr>\n",
       "  </thead>\n",
       "  <tbody>\n",
       "    <tr>\n",
       "      <th>1988</th>\n",
       "      <td>13,283,902</td>\n",
       "    </tr>\n",
       "    <tr>\n",
       "      <th>1989</th>\n",
       "      <td>14,626,345</td>\n",
       "    </tr>\n",
       "    <tr>\n",
       "      <th>1990</th>\n",
       "      <td>16,170,372</td>\n",
       "    </tr>\n",
       "    <tr>\n",
       "      <th>1991</th>\n",
       "      <td>17,696,674</td>\n",
       "    </tr>\n",
       "    <tr>\n",
       "      <th>1992</th>\n",
       "      <td>19,087,522</td>\n",
       "    </tr>\n",
       "    <tr>\n",
       "      <th>1993</th>\n",
       "      <td>20,656,746</td>\n",
       "    </tr>\n",
       "    <tr>\n",
       "      <th>1994</th>\n",
       "      <td>22,282,752</td>\n",
       "    </tr>\n",
       "    <tr>\n",
       "      <th>1995</th>\n",
       "      <td>23,509,366</td>\n",
       "    </tr>\n",
       "    <tr>\n",
       "      <th>1996</th>\n",
       "      <td>24,129,860</td>\n",
       "    </tr>\n",
       "    <tr>\n",
       "      <th>1997</th>\n",
       "      <td>24,368,800</td>\n",
       "    </tr>\n",
       "  </tbody>\n",
       "</table>"
      ],
      "text/plain": [
       "            2261\n",
       "1988  13283901.9\n",
       "1989  14626344.6\n",
       "1990  16170372.0\n",
       "1991  17696673.9\n",
       "1992  19087522.2\n",
       "1993  20656746.0\n",
       "1994  22282751.7\n",
       "1995  23509366.2\n",
       "1996  24129860.4\n",
       "1997  24368799.6"
      ]
     },
     "execution_count": 28,
     "metadata": {},
     "output_type": "execute_result"
    },
    {
     "data": {
      "application/javascript": [
       "\n",
       "            setTimeout(function() {\n",
       "                var nbb_cell_id = 28;\n",
       "                var nbb_unformatted_code = \"cl.ExpectedLoss(apriori=0.90).fit(\\n    clrd_tri[\\\"CumPaidLoss\\\"].sum(), sample_weight=clrd_tri[\\\"EarnedPremDIR\\\"].sum().latest_diagonal\\n).ultimate_\";\n",
       "                var nbb_formatted_code = \"cl.ExpectedLoss(apriori=0.90).fit(\\n    clrd_tri[\\\"CumPaidLoss\\\"].sum(),\\n    sample_weight=clrd_tri[\\\"EarnedPremDIR\\\"].sum().latest_diagonal,\\n).ultimate_\";\n",
       "                var nbb_cells = Jupyter.notebook.get_cells();\n",
       "                for (var i = 0; i < nbb_cells.length; ++i) {\n",
       "                    if (nbb_cells[i].input_prompt_number == nbb_cell_id) {\n",
       "                        if (nbb_cells[i].get_text() == nbb_unformatted_code) {\n",
       "                             nbb_cells[i].set_text(nbb_formatted_code);\n",
       "                        }\n",
       "                        break;\n",
       "                    }\n",
       "                }\n",
       "            }, 500);\n",
       "            "
      ],
      "text/plain": [
       "<IPython.core.display.Javascript object>"
      ]
     },
     "metadata": {},
     "output_type": "display_data"
    }
   ],
   "source": [
    "cl.ExpectedLoss(apriori=0.90).fit(\n",
    "    clrd_tri[\"CumPaidLoss\"].sum(), \n",
    "    sample_weight=clrd_tri[\"EarnedPremDIR\"].sum().latest_diagonal\n",
    ").ultimate_"
   ]
  },
  {
   "cell_type": "markdown",
   "id": "eb20b72a-4e49-4eaa-b8e8-d3801833e2d3",
   "metadata": {},
   "source": [
    "Try it on the incurred triangle, which again, is `IncurLoss` - `BulkLoss`, do you get the same estimates?"
   ]
  },
  {
   "cell_type": "code",
   "execution_count": 29,
   "id": "411f48b0-8b86-4175-80f2-f5f4a19e6c46",
   "metadata": {},
   "outputs": [
    {
     "data": {
      "text/html": [
       "<table border=\"1\" class=\"dataframe\">\n",
       "  <thead>\n",
       "    <tr style=\"text-align: right;\">\n",
       "      <th></th>\n",
       "      <th>2261</th>\n",
       "    </tr>\n",
       "  </thead>\n",
       "  <tbody>\n",
       "    <tr>\n",
       "      <th>1988</th>\n",
       "      <td>13,283,902</td>\n",
       "    </tr>\n",
       "    <tr>\n",
       "      <th>1989</th>\n",
       "      <td>14,626,345</td>\n",
       "    </tr>\n",
       "    <tr>\n",
       "      <th>1990</th>\n",
       "      <td>16,170,372</td>\n",
       "    </tr>\n",
       "    <tr>\n",
       "      <th>1991</th>\n",
       "      <td>17,696,674</td>\n",
       "    </tr>\n",
       "    <tr>\n",
       "      <th>1992</th>\n",
       "      <td>19,087,522</td>\n",
       "    </tr>\n",
       "    <tr>\n",
       "      <th>1993</th>\n",
       "      <td>20,656,746</td>\n",
       "    </tr>\n",
       "    <tr>\n",
       "      <th>1994</th>\n",
       "      <td>22,282,752</td>\n",
       "    </tr>\n",
       "    <tr>\n",
       "      <th>1995</th>\n",
       "      <td>23,509,366</td>\n",
       "    </tr>\n",
       "    <tr>\n",
       "      <th>1996</th>\n",
       "      <td>24,129,860</td>\n",
       "    </tr>\n",
       "    <tr>\n",
       "      <th>1997</th>\n",
       "      <td>24,368,800</td>\n",
       "    </tr>\n",
       "  </tbody>\n",
       "</table>"
      ],
      "text/plain": [
       "            2261\n",
       "1988  13283901.9\n",
       "1989  14626344.6\n",
       "1990  16170372.0\n",
       "1991  17696673.9\n",
       "1992  19087522.2\n",
       "1993  20656746.0\n",
       "1994  22282751.7\n",
       "1995  23509366.2\n",
       "1996  24129860.4\n",
       "1997  24368799.6"
      ]
     },
     "execution_count": 29,
     "metadata": {},
     "output_type": "execute_result"
    },
    {
     "data": {
      "application/javascript": [
       "\n",
       "            setTimeout(function() {\n",
       "                var nbb_cell_id = 29;\n",
       "                var nbb_unformatted_code = \"cl.ExpectedLoss(apriori=0.90).fit(\\n    clrd_tri[\\\"IncurLoss\\\"].sum() - clrd_tri[\\\"BulkLoss\\\"].sum(), \\n    sample_weight=clrd_tri[\\\"EarnedPremDIR\\\"].sum().latest_diagonal\\n).ultimate_\";\n",
       "                var nbb_formatted_code = \"cl.ExpectedLoss(apriori=0.90).fit(\\n    clrd_tri[\\\"IncurLoss\\\"].sum() - clrd_tri[\\\"BulkLoss\\\"].sum(),\\n    sample_weight=clrd_tri[\\\"EarnedPremDIR\\\"].sum().latest_diagonal,\\n).ultimate_\";\n",
       "                var nbb_cells = Jupyter.notebook.get_cells();\n",
       "                for (var i = 0; i < nbb_cells.length; ++i) {\n",
       "                    if (nbb_cells[i].input_prompt_number == nbb_cell_id) {\n",
       "                        if (nbb_cells[i].get_text() == nbb_unformatted_code) {\n",
       "                             nbb_cells[i].set_text(nbb_formatted_code);\n",
       "                        }\n",
       "                        break;\n",
       "                    }\n",
       "                }\n",
       "            }, 500);\n",
       "            "
      ],
      "text/plain": [
       "<IPython.core.display.Javascript object>"
      ]
     },
     "metadata": {},
     "output_type": "display_data"
    }
   ],
   "source": [
    "cl.ExpectedLoss(apriori=0.90).fit(\n",
    "    clrd_tri[\"IncurLoss\"].sum() - clrd_tri[\"BulkLoss\"].sum(), \n",
    "    sample_weight=clrd_tri[\"EarnedPremDIR\"].sum().latest_diagonal\n",
    ").ultimate_"
   ]
  },
  {
   "cell_type": "markdown",
   "id": "fb1d7eda-f4c6-4990-9488-47235492001a",
   "metadata": {},
   "source": [
    "How about a Bornhuetter-Ferguson model?"
   ]
  },
  {
   "cell_type": "code",
   "execution_count": 30,
   "id": "d66c7c9a-71eb-4d56-beea-f275da062fc0",
   "metadata": {},
   "outputs": [
    {
     "data": {
      "text/html": [
       "<table border=\"1\" class=\"dataframe\">\n",
       "  <thead>\n",
       "    <tr style=\"text-align: right;\">\n",
       "      <th></th>\n",
       "      <th>2261</th>\n",
       "    </tr>\n",
       "  </thead>\n",
       "  <tbody>\n",
       "    <tr>\n",
       "      <th>1988</th>\n",
       "      <td>11,203,949</td>\n",
       "    </tr>\n",
       "    <tr>\n",
       "      <th>1989</th>\n",
       "      <td>12,535,142</td>\n",
       "    </tr>\n",
       "    <tr>\n",
       "      <th>1990</th>\n",
       "      <td>13,700,490</td>\n",
       "    </tr>\n",
       "    <tr>\n",
       "      <th>1991</th>\n",
       "      <td>13,951,380</td>\n",
       "    </tr>\n",
       "    <tr>\n",
       "      <th>1992</th>\n",
       "      <td>14,971,330</td>\n",
       "    </tr>\n",
       "    <tr>\n",
       "      <th>1993</th>\n",
       "      <td>16,230,962</td>\n",
       "    </tr>\n",
       "    <tr>\n",
       "      <th>1994</th>\n",
       "      <td>17,665,100</td>\n",
       "    </tr>\n",
       "    <tr>\n",
       "      <th>1995</th>\n",
       "      <td>18,621,081</td>\n",
       "    </tr>\n",
       "    <tr>\n",
       "      <th>1996</th>\n",
       "      <td>19,844,674</td>\n",
       "    </tr>\n",
       "    <tr>\n",
       "      <th>1997</th>\n",
       "      <td>22,284,954</td>\n",
       "    </tr>\n",
       "  </tbody>\n",
       "</table>"
      ],
      "text/plain": [
       "              2261\n",
       "1988  1.120395e+07\n",
       "1989  1.253514e+07\n",
       "1990  1.370049e+07\n",
       "1991  1.395138e+07\n",
       "1992  1.497133e+07\n",
       "1993  1.623096e+07\n",
       "1994  1.766510e+07\n",
       "1995  1.862108e+07\n",
       "1996  1.984467e+07\n",
       "1997  2.228495e+07"
      ]
     },
     "execution_count": 30,
     "metadata": {},
     "output_type": "execute_result"
    },
    {
     "data": {
      "application/javascript": [
       "\n",
       "            setTimeout(function() {\n",
       "                var nbb_cell_id = 30;\n",
       "                var nbb_unformatted_code = \"cl.BornhuetterFerguson(apriori=0.90).fit(\\n    clrd_tri[\\\"CumPaidLoss\\\"].sum(), sample_weight=clrd_tri[\\\"EarnedPremDIR\\\"].sum().latest_diagonal\\n).ultimate_\";\n",
       "                var nbb_formatted_code = \"cl.BornhuetterFerguson(apriori=0.90).fit(\\n    clrd_tri[\\\"CumPaidLoss\\\"].sum(),\\n    sample_weight=clrd_tri[\\\"EarnedPremDIR\\\"].sum().latest_diagonal,\\n).ultimate_\";\n",
       "                var nbb_cells = Jupyter.notebook.get_cells();\n",
       "                for (var i = 0; i < nbb_cells.length; ++i) {\n",
       "                    if (nbb_cells[i].input_prompt_number == nbb_cell_id) {\n",
       "                        if (nbb_cells[i].get_text() == nbb_unformatted_code) {\n",
       "                             nbb_cells[i].set_text(nbb_formatted_code);\n",
       "                        }\n",
       "                        break;\n",
       "                    }\n",
       "                }\n",
       "            }, 500);\n",
       "            "
      ],
      "text/plain": [
       "<IPython.core.display.Javascript object>"
      ]
     },
     "metadata": {},
     "output_type": "display_data"
    }
   ],
   "source": [
    "cl.BornhuetterFerguson(apriori=0.90).fit(\n",
    "    clrd_tri[\"CumPaidLoss\"].sum(), sample_weight=clrd_tri[\"EarnedPremDIR\"].sum().latest_diagonal\n",
    ").ultimate_"
   ]
  },
  {
   "cell_type": "markdown",
   "id": "5564ead9-d059-4d2c-839a-f988238e50ee",
   "metadata": {},
   "source": [
    "How about Benktander, with 2 iterations?"
   ]
  },
  {
   "cell_type": "code",
   "execution_count": 48,
   "id": "d504e48d-1f5d-4fd6-975b-155235ffb577",
   "metadata": {},
   "outputs": [
    {
     "data": {
      "text/html": [
       "<table border=\"1\" class=\"dataframe\">\n",
       "  <thead>\n",
       "    <tr style=\"text-align: right;\">\n",
       "      <th></th>\n",
       "      <th>2261</th>\n",
       "    </tr>\n",
       "  </thead>\n",
       "  <tbody>\n",
       "    <tr>\n",
       "      <th>1988</th>\n",
       "      <td>11,203,949</td>\n",
       "    </tr>\n",
       "    <tr>\n",
       "      <th>1989</th>\n",
       "      <td>12,529,103</td>\n",
       "    </tr>\n",
       "    <tr>\n",
       "      <th>1990</th>\n",
       "      <td>13,678,964</td>\n",
       "    </tr>\n",
       "    <tr>\n",
       "      <th>1991</th>\n",
       "      <td>13,885,991</td>\n",
       "    </tr>\n",
       "    <tr>\n",
       "      <th>1992</th>\n",
       "      <td>14,836,753</td>\n",
       "    </tr>\n",
       "    <tr>\n",
       "      <th>1993</th>\n",
       "      <td>15,968,324</td>\n",
       "    </tr>\n",
       "    <tr>\n",
       "      <th>1994</th>\n",
       "      <td>17,164,479</td>\n",
       "    </tr>\n",
       "    <tr>\n",
       "      <th>1995</th>\n",
       "      <td>17,662,323</td>\n",
       "    </tr>\n",
       "    <tr>\n",
       "      <th>1996</th>\n",
       "      <td>18,358,122</td>\n",
       "    </tr>\n",
       "    <tr>\n",
       "      <th>1997</th>\n",
       "      <td>20,931,025</td>\n",
       "    </tr>\n",
       "  </tbody>\n",
       "</table>"
      ],
      "text/plain": [
       "              2261\n",
       "1988  1.120395e+07\n",
       "1989  1.252910e+07\n",
       "1990  1.367896e+07\n",
       "1991  1.388599e+07\n",
       "1992  1.483675e+07\n",
       "1993  1.596832e+07\n",
       "1994  1.716448e+07\n",
       "1995  1.766232e+07\n",
       "1996  1.835812e+07\n",
       "1997  2.093102e+07"
      ]
     },
     "execution_count": 48,
     "metadata": {},
     "output_type": "execute_result"
    },
    {
     "data": {
      "application/javascript": [
       "\n",
       "            setTimeout(function() {\n",
       "                var nbb_cell_id = 48;\n",
       "                var nbb_unformatted_code = \"cl.Benktander(apriori=0.90, n_iters=2).fit(\\n    clrd_tri[\\\"CumPaidLoss\\\"].sum(), \\n    sample_weight=clrd_tri[\\\"EarnedPremDIR\\\"].sum().latest_diagonal\\n).ultimate_\";\n",
       "                var nbb_formatted_code = \"cl.Benktander(apriori=0.90, n_iters=2).fit(\\n    clrd_tri[\\\"CumPaidLoss\\\"].sum(),\\n    sample_weight=clrd_tri[\\\"EarnedPremDIR\\\"].sum().latest_diagonal,\\n).ultimate_\";\n",
       "                var nbb_cells = Jupyter.notebook.get_cells();\n",
       "                for (var i = 0; i < nbb_cells.length; ++i) {\n",
       "                    if (nbb_cells[i].input_prompt_number == nbb_cell_id) {\n",
       "                        if (nbb_cells[i].get_text() == nbb_unformatted_code) {\n",
       "                             nbb_cells[i].set_text(nbb_formatted_code);\n",
       "                        }\n",
       "                        break;\n",
       "                    }\n",
       "                }\n",
       "            }, 500);\n",
       "            "
      ],
      "text/plain": [
       "<IPython.core.display.Javascript object>"
      ]
     },
     "metadata": {},
     "output_type": "display_data"
    }
   ],
   "source": [
    "cl.Benktander(apriori=0.90, n_iters=2).fit(\n",
    "    clrd_tri[\"CumPaidLoss\"].sum(), \n",
    "    sample_weight=clrd_tri[\"EarnedPremDIR\"].sum().latest_diagonal\n",
    ").ultimate_"
   ]
  },
  {
   "cell_type": "markdown",
   "id": "002a76c2-7989-46ba-954b-d84c09b4675a",
   "metadata": {},
   "source": [
    "How about Cape Cod?"
   ]
  },
  {
   "cell_type": "code",
   "execution_count": 49,
   "id": "7089ea42-ad28-4edc-9e83-723a7bc25443",
   "metadata": {},
   "outputs": [
    {
     "data": {
      "text/html": [
       "<table border=\"1\" class=\"dataframe\">\n",
       "  <thead>\n",
       "    <tr style=\"text-align: right;\">\n",
       "      <th></th>\n",
       "      <th>2261</th>\n",
       "    </tr>\n",
       "  </thead>\n",
       "  <tbody>\n",
       "    <tr>\n",
       "      <th>1988</th>\n",
       "      <td>11,203,949</td>\n",
       "    </tr>\n",
       "    <tr>\n",
       "      <th>1989</th>\n",
       "      <td>12,526,081</td>\n",
       "    </tr>\n",
       "    <tr>\n",
       "      <th>1990</th>\n",
       "      <td>13,670,257</td>\n",
       "    </tr>\n",
       "    <tr>\n",
       "      <th>1991</th>\n",
       "      <td>13,885,101</td>\n",
       "    </tr>\n",
       "    <tr>\n",
       "      <th>1992</th>\n",
       "      <td>14,837,458</td>\n",
       "    </tr>\n",
       "    <tr>\n",
       "      <th>1993</th>\n",
       "      <td>15,968,001</td>\n",
       "    </tr>\n",
       "    <tr>\n",
       "      <th>1994</th>\n",
       "      <td>17,146,874</td>\n",
       "    </tr>\n",
       "    <tr>\n",
       "      <th>1995</th>\n",
       "      <td>17,631,944</td>\n",
       "    </tr>\n",
       "    <tr>\n",
       "      <th>1996</th>\n",
       "      <td>18,048,998</td>\n",
       "    </tr>\n",
       "    <tr>\n",
       "      <th>1997</th>\n",
       "      <td>18,888,485</td>\n",
       "    </tr>\n",
       "  </tbody>\n",
       "</table>"
      ],
      "text/plain": [
       "              2261\n",
       "1988  1.120395e+07\n",
       "1989  1.252608e+07\n",
       "1990  1.367026e+07\n",
       "1991  1.388510e+07\n",
       "1992  1.483746e+07\n",
       "1993  1.596800e+07\n",
       "1994  1.714687e+07\n",
       "1995  1.763194e+07\n",
       "1996  1.804900e+07\n",
       "1997  1.888848e+07"
      ]
     },
     "execution_count": 49,
     "metadata": {},
     "output_type": "execute_result"
    },
    {
     "data": {
      "application/javascript": [
       "\n",
       "            setTimeout(function() {\n",
       "                var nbb_cell_id = 49;\n",
       "                var nbb_unformatted_code = \"cl.CapeCod().fit(\\n    clrd_tri[\\\"CumPaidLoss\\\"].sum(), \\n    sample_weight=clrd_tri[\\\"EarnedPremDIR\\\"].sum().latest_diagonal\\n).ultimate_\";\n",
       "                var nbb_formatted_code = \"cl.CapeCod().fit(\\n    clrd_tri[\\\"CumPaidLoss\\\"].sum(),\\n    sample_weight=clrd_tri[\\\"EarnedPremDIR\\\"].sum().latest_diagonal,\\n).ultimate_\";\n",
       "                var nbb_cells = Jupyter.notebook.get_cells();\n",
       "                for (var i = 0; i < nbb_cells.length; ++i) {\n",
       "                    if (nbb_cells[i].input_prompt_number == nbb_cell_id) {\n",
       "                        if (nbb_cells[i].get_text() == nbb_unformatted_code) {\n",
       "                             nbb_cells[i].set_text(nbb_formatted_code);\n",
       "                        }\n",
       "                        break;\n",
       "                    }\n",
       "                }\n",
       "            }, 500);\n",
       "            "
      ],
      "text/plain": [
       "<IPython.core.display.Javascript object>"
      ]
     },
     "metadata": {},
     "output_type": "display_data"
    }
   ],
   "source": [
    "cl.CapeCod().fit(\n",
    "    clrd_tri[\"CumPaidLoss\"].sum(), \n",
    "    sample_weight=clrd_tri[\"EarnedPremDIR\"].sum().latest_diagonal\n",
    ").ultimate_"
   ]
  },
  {
   "cell_type": "markdown",
   "id": "5a0d73a2-0e05-4be2-91f0-9ef1ef56a7be",
   "metadata": {},
   "source": [
    "Let's store the Cape Cod model as `cc_result`. We can also use `.to_frame()` to leave `chainladder` and go to a `DataFrame`. Let's make a bar chart over origin years to see what they look like."
   ]
  },
  {
   "cell_type": "code",
   "execution_count": 33,
   "id": "f2cd9f8c-454d-4b9f-b936-a2f39e8fefde",
   "metadata": {},
   "outputs": [
    {
     "name": "stderr",
     "output_type": "stream",
     "text": [
      "/Users/kennethhsu/opt/anaconda3/lib/python3.9/site-packages/chainladder/core/pandas.py:62: UserWarning: In an upcoming version of the package, `origin_as_datetime` will be defaulted to `True` in to_frame(...), use `origin_as_datetime=False` to preserve current setting.\n",
      "  warnings.warn(warning)\n",
      "/Users/kennethhsu/opt/anaconda3/lib/python3.9/site-packages/chainladder/core/pandas.py:62: UserWarning: In an upcoming version of the package, `origin_as_datetime` will be defaulted to `True` in to_frame(...), use `origin_as_datetime=False` to preserve current setting.\n",
      "  warnings.warn(warning)\n"
     ]
    },
    {
     "data": {
      "text/plain": [
       "<BarContainer object of 10 artists>"
      ]
     },
     "execution_count": 33,
     "metadata": {},
     "output_type": "execute_result"
    },
    {
     "data": {
      "image/png": "[encoded data removed]",
      "text/plain": [
       "<Figure size 640x480 with 1 Axes>"
      ]
     },
     "metadata": {},
     "output_type": "display_data"
    },
    {
     "data": {
      "application/javascript": [
       "\n",
       "            setTimeout(function() {\n",
       "                var nbb_cell_id = 33;\n",
       "                var nbb_unformatted_code = \"cc_result = cl.CapeCod().fit(\\n    clrd_tri[\\\"CumPaidLoss\\\"].sum(), sample_weight=clrd_tri[\\\"EarnedPremDIR\\\"].sum().latest_diagonal\\n)\\n\\nplt.bar(\\n    cc_result.ultimate_.to_frame().index.year,\\n    cc_result.ultimate_.to_frame()[\\\"2261\\\"],\\n)\";\n",
       "                var nbb_formatted_code = \"cc_result = cl.CapeCod().fit(\\n    clrd_tri[\\\"CumPaidLoss\\\"].sum(),\\n    sample_weight=clrd_tri[\\\"EarnedPremDIR\\\"].sum().latest_diagonal,\\n)\\n\\nplt.bar(\\n    cc_result.ultimate_.to_frame().index.year,\\n    cc_result.ultimate_.to_frame()[\\\"2261\\\"],\\n)\";\n",
       "                var nbb_cells = Jupyter.notebook.get_cells();\n",
       "                for (var i = 0; i < nbb_cells.length; ++i) {\n",
       "                    if (nbb_cells[i].input_prompt_number == nbb_cell_id) {\n",
       "                        if (nbb_cells[i].get_text() == nbb_unformatted_code) {\n",
       "                             nbb_cells[i].set_text(nbb_formatted_code);\n",
       "                        }\n",
       "                        break;\n",
       "                    }\n",
       "                }\n",
       "            }, 500);\n",
       "            "
      ],
      "text/plain": [
       "<IPython.core.display.Javascript object>"
      ]
     },
     "metadata": {},
     "output_type": "display_data"
    }
   ],
   "source": [
    "cc_result = cl.CapeCod().fit(\n",
    "    clrd_tri[\"CumPaidLoss\"].sum(), sample_weight=clrd_tri[\"EarnedPremDIR\"].sum().latest_diagonal\n",
    ")\n",
    "\n",
    "plt.bar(\n",
    "    cc_result.ultimate_.to_frame().index.year,\n",
    "    cc_result.ultimate_.to_frame()[\"2261\"],\n",
    ")"
   ]
  },
  {
   "cell_type": "markdown",
   "id": "cb905192-e96f-453d-a9bd-ef107f735d2a",
   "metadata": {},
   "source": [
    "# Pipelines"
   ]
  },
  {
   "cell_type": "markdown",
   "id": "97c50acb-cb65-408f-823e-abb8aa5a5614",
   "metadata": {},
   "source": [
    "Pipeline is a tool that can streamline your workflow, it is a way to wrap multiple estimators into a single compact object. Let's see an example that includes a selection of development pattern and the chainladder model."
   ]
  },
  {
   "cell_type": "code",
   "execution_count": 34,
   "id": "9e4e11ec-6c73-4d02-a7b9-484b1d4abf4e",
   "metadata": {},
   "outputs": [
    {
     "data": {
      "text/html": [
       "<style>#sk-container-id-2 {color: black;background-color: white;}#sk-container-id-2 pre{padding: 0;}#sk-container-id-2 div.sk-toggleable {background-color: white;}#sk-container-id-2 label.sk-toggleable__label {cursor: pointer;display: block;width: 100%;margin-bottom: 0;padding: 0.3em;box-sizing: border-box;text-align: center;}#sk-container-id-2 label.sk-toggleable__label-arrow:before {content: \"▸\";float: left;margin-right: 0.25em;color: #696969;}#sk-container-id-2 label.sk-toggleable__label-arrow:hover:before {color: black;}#sk-container-id-2 div.sk-estimator:hover label.sk-toggleable__label-arrow:before {color: black;}#sk-container-id-2 div.sk-toggleable__content {max-height: 0;max-width: 0;overflow: hidden;text-align: left;background-color: #f0f8ff;}#sk-container-id-2 div.sk-toggleable__content pre {margin: 0.2em;color: black;border-radius: 0.25em;background-color: #f0f8ff;}#sk-container-id-2 input.sk-toggleable__control:checked~div.sk-toggleable__content {max-height: 200px;max-width: 100%;overflow: auto;}#sk-container-id-2 input.sk-toggleable__control:checked~label.sk-toggleable__label-arrow:before {content: \"▾\";}#sk-container-id-2 div.sk-estimator input.sk-toggleable__control:checked~label.sk-toggleable__label {background-color: #d4ebff;}#sk-container-id-2 div.sk-label input.sk-toggleable__control:checked~label.sk-toggleable__label {background-color: #d4ebff;}#sk-container-id-2 input.sk-hidden--visually {border: 0;clip: rect(1px 1px 1px 1px);clip: rect(1px, 1px, 1px, 1px);height: 1px;margin: -1px;overflow: hidden;padding: 0;position: absolute;width: 1px;}#sk-container-id-2 div.sk-estimator {font-family: monospace;background-color: #f0f8ff;border: 1px dotted black;border-radius: 0.25em;box-sizing: border-box;margin-bottom: 0.5em;}#sk-container-id-2 div.sk-estimator:hover {background-color: #d4ebff;}#sk-container-id-2 div.sk-parallel-item::after {content: \"\";width: 100%;border-bottom: 1px solid gray;flex-grow: 1;}#sk-container-id-2 div.sk-label:hover label.sk-toggleable__label {background-color: #d4ebff;}#sk-container-id-2 div.sk-serial::before {content: \"\";position: absolute;border-left: 1px solid gray;box-sizing: border-box;top: 0;bottom: 0;left: 50%;z-index: 0;}#sk-container-id-2 div.sk-serial {display: flex;flex-direction: column;align-items: center;background-color: white;padding-right: 0.2em;padding-left: 0.2em;position: relative;}#sk-container-id-2 div.sk-item {position: relative;z-index: 1;}#sk-container-id-2 div.sk-parallel {display: flex;align-items: stretch;justify-content: center;background-color: white;position: relative;}#sk-container-id-2 div.sk-item::before, #sk-container-id-2 div.sk-parallel-item::before {content: \"\";position: absolute;border-left: 1px solid gray;box-sizing: border-box;top: 0;bottom: 0;left: 50%;z-index: -1;}#sk-container-id-2 div.sk-parallel-item {display: flex;flex-direction: column;z-index: 1;position: relative;background-color: white;}#sk-container-id-2 div.sk-parallel-item:first-child::after {align-self: flex-end;width: 50%;}#sk-container-id-2 div.sk-parallel-item:last-child::after {align-self: flex-start;width: 50%;}#sk-container-id-2 div.sk-parallel-item:only-child::after {width: 0;}#sk-container-id-2 div.sk-dashed-wrapped {border: 1px dashed gray;margin: 0 0.4em 0.5em 0.4em;box-sizing: border-box;padding-bottom: 0.4em;background-color: white;}#sk-container-id-2 div.sk-label label {font-family: monospace;font-weight: bold;display: inline-block;line-height: 1.2em;}#sk-container-id-2 div.sk-label-container {text-align: center;}#sk-container-id-2 div.sk-container {/* jupyter's `normalize.less` sets `[hidden] { display: none; }` but bootstrap.min.css set `[hidden] { display: none !important; }` so we also need the `!important` here to be able to override the default hidden behavior on the sphinx rendered scikit-learn.org. See: https://github.com/scikit-learn/scikit-learn/issues/21755 */display: inline-block !important;position: relative;}#sk-container-id-2 div.sk-text-repr-fallback {display: none;}</style><div id=\"sk-container-id-2\" class=\"sk-top-container\"><div class=\"sk-text-repr-fallback\"><pre>Pipeline(steps=[(&#x27;dev&#x27;, Development(average=&#x27;simple&#x27;)),\n",
       "                (&#x27;model&#x27;, Chainladder())])</pre><b>In a Jupyter environment, please rerun this cell to show the HTML representation or trust the notebook. <br />On GitHub, the HTML representation is unable to render, please try loading this page with nbviewer.org.</b></div><div class=\"sk-container\" hidden><div class=\"sk-item sk-dashed-wrapped\"><div class=\"sk-label-container\"><div class=\"sk-label sk-toggleable\"><input class=\"sk-toggleable__control sk-hidden--visually\" id=\"sk-estimator-id-2\" type=\"checkbox\" ><label for=\"sk-estimator-id-2\" class=\"sk-toggleable__label sk-toggleable__label-arrow\">Pipeline</label><div class=\"sk-toggleable__content\"><pre>Pipeline(steps=[(&#x27;dev&#x27;, Development(average=&#x27;simple&#x27;)),\n",
       "                (&#x27;model&#x27;, Chainladder())])</pre></div></div></div><div class=\"sk-serial\"><div class=\"sk-item\"><div class=\"sk-estimator sk-toggleable\"><input class=\"sk-toggleable__control sk-hidden--visually\" id=\"sk-estimator-id-3\" type=\"checkbox\" ><label for=\"sk-estimator-id-3\" class=\"sk-toggleable__label sk-toggleable__label-arrow\">Development</label><div class=\"sk-toggleable__content\"><pre>Development(average=&#x27;simple&#x27;)</pre></div></div></div><div class=\"sk-item\"><div class=\"sk-estimator sk-toggleable\"><input class=\"sk-toggleable__control sk-hidden--visually\" id=\"sk-estimator-id-4\" type=\"checkbox\" ><label for=\"sk-estimator-id-4\" class=\"sk-toggleable__label sk-toggleable__label-arrow\">Chainladder</label><div class=\"sk-toggleable__content\"><pre>Chainladder()</pre></div></div></div></div></div></div></div>"
      ],
      "text/plain": [
       "Pipeline(steps=[('dev', Development(average='simple')),\n",
       "                ('model', Chainladder())])"
      ]
     },
     "execution_count": 34,
     "metadata": {},
     "output_type": "execute_result"
    },
    {
     "data": {
      "application/javascript": [
       "\n",
       "            setTimeout(function() {\n",
       "                var nbb_cell_id = 34;\n",
       "                var nbb_unformatted_code = \"pipe = cl.Pipeline(\\n    steps=[\\n    ('dev', cl.Development(average='simple')),\\n    ('model', cl.Chainladder())])\\n\\npipe\";\n",
       "                var nbb_formatted_code = \"pipe = cl.Pipeline(\\n    steps=[(\\\"dev\\\", cl.Development(average=\\\"simple\\\")), (\\\"model\\\", cl.Chainladder())]\\n)\\n\\npipe\";\n",
       "                var nbb_cells = Jupyter.notebook.get_cells();\n",
       "                for (var i = 0; i < nbb_cells.length; ++i) {\n",
       "                    if (nbb_cells[i].input_prompt_number == nbb_cell_id) {\n",
       "                        if (nbb_cells[i].get_text() == nbb_unformatted_code) {\n",
       "                             nbb_cells[i].set_text(nbb_formatted_code);\n",
       "                        }\n",
       "                        break;\n",
       "                    }\n",
       "                }\n",
       "            }, 500);\n",
       "            "
      ],
      "text/plain": [
       "<IPython.core.display.Javascript object>"
      ]
     },
     "metadata": {},
     "output_type": "display_data"
    }
   ],
   "source": [
    "pipe = cl.Pipeline(\n",
    "    steps=[\n",
    "    ('dev', cl.Development(average='simple')),\n",
    "    ('model', cl.Chainladder())])\n",
    "\n",
    "pipe"
   ]
  },
  {
   "cell_type": "markdown",
   "id": "2703d62e-2abc-47f9-a9e9-d6f7d54d7706",
   "metadata": {},
   "source": [
    "Once the pipeline is built, we can apply to any dataset we like, let's try it on the paid triangle and get their ultimate estimates."
   ]
  },
  {
   "cell_type": "code",
   "execution_count": 35,
   "id": "12241691-d5c7-4fb8-a390-b8979424cc8e",
   "metadata": {},
   "outputs": [
    {
     "data": {
      "text/html": [
       "<table border=\"1\" class=\"dataframe\">\n",
       "  <thead>\n",
       "    <tr style=\"text-align: right;\">\n",
       "      <th></th>\n",
       "      <th>2261</th>\n",
       "    </tr>\n",
       "  </thead>\n",
       "  <tbody>\n",
       "    <tr>\n",
       "      <th>1988</th>\n",
       "      <td>11,203,949</td>\n",
       "    </tr>\n",
       "    <tr>\n",
       "      <th>1989</th>\n",
       "      <td>12,529,085</td>\n",
       "    </tr>\n",
       "    <tr>\n",
       "      <th>1990</th>\n",
       "      <td>13,679,770</td>\n",
       "    </tr>\n",
       "    <tr>\n",
       "      <th>1991</th>\n",
       "      <td>13,886,233</td>\n",
       "    </tr>\n",
       "    <tr>\n",
       "      <th>1992</th>\n",
       "      <td>14,834,389</td>\n",
       "    </tr>\n",
       "    <tr>\n",
       "      <th>1993</th>\n",
       "      <td>15,957,788</td>\n",
       "    </tr>\n",
       "    <tr>\n",
       "      <th>1994</th>\n",
       "      <td>17,117,886</td>\n",
       "    </tr>\n",
       "    <tr>\n",
       "      <th>1995</th>\n",
       "      <td>17,455,921</td>\n",
       "    </tr>\n",
       "    <tr>\n",
       "      <th>1996</th>\n",
       "      <td>17,630,515</td>\n",
       "    </tr>\n",
       "    <tr>\n",
       "      <th>1997</th>\n",
       "      <td>18,620,572</td>\n",
       "    </tr>\n",
       "  </tbody>\n",
       "</table>"
      ],
      "text/plain": [
       "              2261\n",
       "1988  1.120395e+07\n",
       "1989  1.252909e+07\n",
       "1990  1.367977e+07\n",
       "1991  1.388623e+07\n",
       "1992  1.483439e+07\n",
       "1993  1.595779e+07\n",
       "1994  1.711789e+07\n",
       "1995  1.745592e+07\n",
       "1996  1.763052e+07\n",
       "1997  1.862057e+07"
      ]
     },
     "execution_count": 35,
     "metadata": {},
     "output_type": "execute_result"
    },
    {
     "data": {
      "application/javascript": [
       "\n",
       "            setTimeout(function() {\n",
       "                var nbb_cell_id = 35;\n",
       "                var nbb_unformatted_code = \"pipe.fit(clrd_tri[\\\"CumPaidLoss\\\"].sum()).named_steps.model.ultimate_\";\n",
       "                var nbb_formatted_code = \"pipe.fit(clrd_tri[\\\"CumPaidLoss\\\"].sum()).named_steps.model.ultimate_\";\n",
       "                var nbb_cells = Jupyter.notebook.get_cells();\n",
       "                for (var i = 0; i < nbb_cells.length; ++i) {\n",
       "                    if (nbb_cells[i].input_prompt_number == nbb_cell_id) {\n",
       "                        if (nbb_cells[i].get_text() == nbb_unformatted_code) {\n",
       "                             nbb_cells[i].set_text(nbb_formatted_code);\n",
       "                        }\n",
       "                        break;\n",
       "                    }\n",
       "                }\n",
       "            }, 500);\n",
       "            "
      ],
      "text/plain": [
       "<IPython.core.display.Javascript object>"
      ]
     },
     "metadata": {},
     "output_type": "display_data"
    }
   ],
   "source": [
    "pipe.fit(clrd_tri[\"CumPaidLoss\"].sum()).named_steps.model.ultimate_"
   ]
  },
  {
   "cell_type": "markdown",
   "id": "c1b3dd0d-396b-4dd6-a380-bc75a066e1c0",
   "metadata": {},
   "source": [
    "You can use the same pipeline on other datasets as well, let's try it on the incurred triangle, which again, is `IncurLoss` - `BulkLoss`."
   ]
  },
  {
   "cell_type": "code",
   "execution_count": 36,
   "id": "12f4c6bc-92b2-4896-b4cc-ea6c5e248e3c",
   "metadata": {},
   "outputs": [
    {
     "data": {
      "text/html": [
       "<table border=\"1\" class=\"dataframe\">\n",
       "  <thead>\n",
       "    <tr style=\"text-align: right;\">\n",
       "      <th></th>\n",
       "      <th>2261</th>\n",
       "    </tr>\n",
       "  </thead>\n",
       "  <tbody>\n",
       "    <tr>\n",
       "      <th>1988</th>\n",
       "      <td>11,327,627</td>\n",
       "    </tr>\n",
       "    <tr>\n",
       "      <th>1989</th>\n",
       "      <td>12,643,312</td>\n",
       "    </tr>\n",
       "    <tr>\n",
       "      <th>1990</th>\n",
       "      <td>13,788,051</td>\n",
       "    </tr>\n",
       "    <tr>\n",
       "      <th>1991</th>\n",
       "      <td>14,004,129</td>\n",
       "    </tr>\n",
       "    <tr>\n",
       "      <th>1992</th>\n",
       "      <td>14,938,810</td>\n",
       "    </tr>\n",
       "    <tr>\n",
       "      <th>1993</th>\n",
       "      <td>15,972,778</td>\n",
       "    </tr>\n",
       "    <tr>\n",
       "      <th>1994</th>\n",
       "      <td>17,102,452</td>\n",
       "    </tr>\n",
       "    <tr>\n",
       "      <th>1995</th>\n",
       "      <td>17,252,958</td>\n",
       "    </tr>\n",
       "    <tr>\n",
       "      <th>1996</th>\n",
       "      <td>17,157,374</td>\n",
       "    </tr>\n",
       "    <tr>\n",
       "      <th>1997</th>\n",
       "      <td>18,014,765</td>\n",
       "    </tr>\n",
       "  </tbody>\n",
       "</table>"
      ],
      "text/plain": [
       "              2261\n",
       "1988  1.132763e+07\n",
       "1989  1.264331e+07\n",
       "1990  1.378805e+07\n",
       "1991  1.400413e+07\n",
       "1992  1.493881e+07\n",
       "1993  1.597278e+07\n",
       "1994  1.710245e+07\n",
       "1995  1.725296e+07\n",
       "1996  1.715737e+07\n",
       "1997  1.801477e+07"
      ]
     },
     "execution_count": 36,
     "metadata": {},
     "output_type": "execute_result"
    },
    {
     "data": {
      "application/javascript": [
       "\n",
       "            setTimeout(function() {\n",
       "                var nbb_cell_id = 36;\n",
       "                var nbb_unformatted_code = \"pipe.fit(clrd_tri[\\\"IncurLoss\\\"].sum() - clrd_tri[\\\"BulkLoss\\\"].sum()).named_steps.model.ultimate_\";\n",
       "                var nbb_formatted_code = \"pipe.fit(\\n    clrd_tri[\\\"IncurLoss\\\"].sum() - clrd_tri[\\\"BulkLoss\\\"].sum()\\n).named_steps.model.ultimate_\";\n",
       "                var nbb_cells = Jupyter.notebook.get_cells();\n",
       "                for (var i = 0; i < nbb_cells.length; ++i) {\n",
       "                    if (nbb_cells[i].input_prompt_number == nbb_cell_id) {\n",
       "                        if (nbb_cells[i].get_text() == nbb_unformatted_code) {\n",
       "                             nbb_cells[i].set_text(nbb_formatted_code);\n",
       "                        }\n",
       "                        break;\n",
       "                    }\n",
       "                }\n",
       "            }, 500);\n",
       "            "
      ],
      "text/plain": [
       "<IPython.core.display.Javascript object>"
      ]
     },
     "metadata": {},
     "output_type": "display_data"
    }
   ],
   "source": [
    "pipe.fit(clrd_tri[\"IncurLoss\"].sum() - clrd_tri[\"BulkLoss\"].sum()).named_steps.model.ultimate_"
   ]
  },
  {
   "cell_type": "markdown",
   "id": "3f9e62f8-225b-4046-8847-a6e8d971e14d",
   "metadata": {},
   "source": [
    "# Stochastic Models"
   ]
  },
  {
   "cell_type": "markdown",
   "id": "36105614-e317-4a87-a42d-282f59b1d339",
   "metadata": {},
   "source": [
    "The Mack's Chainladder model is available."
   ]
  },
  {
   "cell_type": "code",
   "execution_count": 37,
   "id": "e008ebdb-243d-4ed0-9256-86331df1070a",
   "metadata": {},
   "outputs": [
    {
     "data": {
      "text/html": [
       "<style>#sk-container-id-3 {color: black;background-color: white;}#sk-container-id-3 pre{padding: 0;}#sk-container-id-3 div.sk-toggleable {background-color: white;}#sk-container-id-3 label.sk-toggleable__label {cursor: pointer;display: block;width: 100%;margin-bottom: 0;padding: 0.3em;box-sizing: border-box;text-align: center;}#sk-container-id-3 label.sk-toggleable__label-arrow:before {content: \"▸\";float: left;margin-right: 0.25em;color: #696969;}#sk-container-id-3 label.sk-toggleable__label-arrow:hover:before {color: black;}#sk-container-id-3 div.sk-estimator:hover label.sk-toggleable__label-arrow:before {color: black;}#sk-container-id-3 div.sk-toggleable__content {max-height: 0;max-width: 0;overflow: hidden;text-align: left;background-color: #f0f8ff;}#sk-container-id-3 div.sk-toggleable__content pre {margin: 0.2em;color: black;border-radius: 0.25em;background-color: #f0f8ff;}#sk-container-id-3 input.sk-toggleable__control:checked~div.sk-toggleable__content {max-height: 200px;max-width: 100%;overflow: auto;}#sk-container-id-3 input.sk-toggleable__control:checked~label.sk-toggleable__label-arrow:before {content: \"▾\";}#sk-container-id-3 div.sk-estimator input.sk-toggleable__control:checked~label.sk-toggleable__label {background-color: #d4ebff;}#sk-container-id-3 div.sk-label input.sk-toggleable__control:checked~label.sk-toggleable__label {background-color: #d4ebff;}#sk-container-id-3 input.sk-hidden--visually {border: 0;clip: rect(1px 1px 1px 1px);clip: rect(1px, 1px, 1px, 1px);height: 1px;margin: -1px;overflow: hidden;padding: 0;position: absolute;width: 1px;}#sk-container-id-3 div.sk-estimator {font-family: monospace;background-color: #f0f8ff;border: 1px dotted black;border-radius: 0.25em;box-sizing: border-box;margin-bottom: 0.5em;}#sk-container-id-3 div.sk-estimator:hover {background-color: #d4ebff;}#sk-container-id-3 div.sk-parallel-item::after {content: \"\";width: 100%;border-bottom: 1px solid gray;flex-grow: 1;}#sk-container-id-3 div.sk-label:hover label.sk-toggleable__label {background-color: #d4ebff;}#sk-container-id-3 div.sk-serial::before {content: \"\";position: absolute;border-left: 1px solid gray;box-sizing: border-box;top: 0;bottom: 0;left: 50%;z-index: 0;}#sk-container-id-3 div.sk-serial {display: flex;flex-direction: column;align-items: center;background-color: white;padding-right: 0.2em;padding-left: 0.2em;position: relative;}#sk-container-id-3 div.sk-item {position: relative;z-index: 1;}#sk-container-id-3 div.sk-parallel {display: flex;align-items: stretch;justify-content: center;background-color: white;position: relative;}#sk-container-id-3 div.sk-item::before, #sk-container-id-3 div.sk-parallel-item::before {content: \"\";position: absolute;border-left: 1px solid gray;box-sizing: border-box;top: 0;bottom: 0;left: 50%;z-index: -1;}#sk-container-id-3 div.sk-parallel-item {display: flex;flex-direction: column;z-index: 1;position: relative;background-color: white;}#sk-container-id-3 div.sk-parallel-item:first-child::after {align-self: flex-end;width: 50%;}#sk-container-id-3 div.sk-parallel-item:last-child::after {align-self: flex-start;width: 50%;}#sk-container-id-3 div.sk-parallel-item:only-child::after {width: 0;}#sk-container-id-3 div.sk-dashed-wrapped {border: 1px dashed gray;margin: 0 0.4em 0.5em 0.4em;box-sizing: border-box;padding-bottom: 0.4em;background-color: white;}#sk-container-id-3 div.sk-label label {font-family: monospace;font-weight: bold;display: inline-block;line-height: 1.2em;}#sk-container-id-3 div.sk-label-container {text-align: center;}#sk-container-id-3 div.sk-container {/* jupyter's `normalize.less` sets `[hidden] { display: none; }` but bootstrap.min.css set `[hidden] { display: none !important; }` so we also need the `!important` here to be able to override the default hidden behavior on the sphinx rendered scikit-learn.org. See: https://github.com/scikit-learn/scikit-learn/issues/21755 */display: inline-block !important;position: relative;}#sk-container-id-3 div.sk-text-repr-fallback {display: none;}</style><div id=\"sk-container-id-3\" class=\"sk-top-container\"><div class=\"sk-text-repr-fallback\"><pre>MackChainladder()</pre><b>In a Jupyter environment, please rerun this cell to show the HTML representation or trust the notebook. <br />On GitHub, the HTML representation is unable to render, please try loading this page with nbviewer.org.</b></div><div class=\"sk-container\" hidden><div class=\"sk-item\"><div class=\"sk-estimator sk-toggleable\"><input class=\"sk-toggleable__control sk-hidden--visually\" id=\"sk-estimator-id-5\" type=\"checkbox\" checked><label for=\"sk-estimator-id-5\" class=\"sk-toggleable__label sk-toggleable__label-arrow\">MackChainladder</label><div class=\"sk-toggleable__content\"><pre>MackChainladder()</pre></div></div></div></div></div>"
      ],
      "text/plain": [
       "MackChainladder()"
      ]
     },
     "execution_count": 37,
     "metadata": {},
     "output_type": "execute_result"
    },
    {
     "data": {
      "application/javascript": [
       "\n",
       "            setTimeout(function() {\n",
       "                var nbb_cell_id = 37;\n",
       "                var nbb_unformatted_code = \"mcl_mod = cl.MackChainladder().fit(clrd_tri[\\\"CumPaidLoss\\\"].sum())\\nmcl_mod\";\n",
       "                var nbb_formatted_code = \"mcl_mod = cl.MackChainladder().fit(clrd_tri[\\\"CumPaidLoss\\\"].sum())\\nmcl_mod\";\n",
       "                var nbb_cells = Jupyter.notebook.get_cells();\n",
       "                for (var i = 0; i < nbb_cells.length; ++i) {\n",
       "                    if (nbb_cells[i].input_prompt_number == nbb_cell_id) {\n",
       "                        if (nbb_cells[i].get_text() == nbb_unformatted_code) {\n",
       "                             nbb_cells[i].set_text(nbb_formatted_code);\n",
       "                        }\n",
       "                        break;\n",
       "                    }\n",
       "                }\n",
       "            }, 500);\n",
       "            "
      ],
      "text/plain": [
       "<IPython.core.display.Javascript object>"
      ]
     },
     "metadata": {},
     "output_type": "display_data"
    }
   ],
   "source": [
    "mcl_mod = cl.MackChainladder().fit(clrd_tri[\"CumPaidLoss\"].sum())\n",
    "mcl_mod"
   ]
  },
  {
   "cell_type": "markdown",
   "id": "3298c63c-5356-4d69-afa3-058b68daf777",
   "metadata": {},
   "source": [
    "There are many attributes that are available, such as `full_std_err_`, `total_process_risk_`, `total_parameter_risk_`, `mack_std_err_` and `total_mack_std_err_`."
   ]
  },
  {
   "cell_type": "code",
   "execution_count": 38,
   "id": "67f5d99b-7a5e-4640-a6e0-f8b654e6ce27",
   "metadata": {},
   "outputs": [
    {
     "data": {
      "text/html": [
       "<table border=\"1\" class=\"dataframe\">\n",
       "  <thead>\n",
       "    <tr style=\"text-align: right;\">\n",
       "      <th></th>\n",
       "      <th>12</th>\n",
       "      <th>24</th>\n",
       "      <th>36</th>\n",
       "      <th>48</th>\n",
       "      <th>60</th>\n",
       "      <th>72</th>\n",
       "      <th>84</th>\n",
       "      <th>96</th>\n",
       "      <th>108</th>\n",
       "      <th>120</th>\n",
       "    </tr>\n",
       "  </thead>\n",
       "  <tbody>\n",
       "    <tr>\n",
       "      <th>1988</th>\n",
       "      <td>0.0944</td>\n",
       "      <td>0.0199</td>\n",
       "      <td>0.0075</td>\n",
       "      <td>0.0051</td>\n",
       "      <td>0.0029</td>\n",
       "      <td>0.0010</td>\n",
       "      <td>0.0011</td>\n",
       "      <td>0.0019</td>\n",
       "      <td>0.0004</td>\n",
       "      <td>0.0000</td>\n",
       "    </tr>\n",
       "    <tr>\n",
       "      <th>1989</th>\n",
       "      <td>0.0883</td>\n",
       "      <td>0.0187</td>\n",
       "      <td>0.0071</td>\n",
       "      <td>0.0048</td>\n",
       "      <td>0.0027</td>\n",
       "      <td>0.0009</td>\n",
       "      <td>0.0011</td>\n",
       "      <td>0.0018</td>\n",
       "      <td>0.0004</td>\n",
       "      <td>0.0000</td>\n",
       "    </tr>\n",
       "    <tr>\n",
       "      <th>1990</th>\n",
       "      <td>0.0835</td>\n",
       "      <td>0.0178</td>\n",
       "      <td>0.0067</td>\n",
       "      <td>0.0046</td>\n",
       "      <td>0.0026</td>\n",
       "      <td>0.0009</td>\n",
       "      <td>0.0010</td>\n",
       "      <td>0.0017</td>\n",
       "      <td>0.0004</td>\n",
       "      <td>0.0000</td>\n",
       "    </tr>\n",
       "    <tr>\n",
       "      <th>1991</th>\n",
       "      <td>0.0828</td>\n",
       "      <td>0.0176</td>\n",
       "      <td>0.0067</td>\n",
       "      <td>0.0045</td>\n",
       "      <td>0.0026</td>\n",
       "      <td>0.0009</td>\n",
       "      <td>0.0010</td>\n",
       "      <td>0.0017</td>\n",
       "      <td>0.0004</td>\n",
       "      <td>0.0000</td>\n",
       "    </tr>\n",
       "    <tr>\n",
       "      <th>1992</th>\n",
       "      <td>0.0788</td>\n",
       "      <td>0.0169</td>\n",
       "      <td>0.0064</td>\n",
       "      <td>0.0044</td>\n",
       "      <td>0.0025</td>\n",
       "      <td>0.0009</td>\n",
       "      <td>0.0010</td>\n",
       "      <td>0.0016</td>\n",
       "      <td>0.0004</td>\n",
       "      <td>0.0000</td>\n",
       "    </tr>\n",
       "    <tr>\n",
       "      <th>1993</th>\n",
       "      <td>0.0751</td>\n",
       "      <td>0.0162</td>\n",
       "      <td>0.0062</td>\n",
       "      <td>0.0042</td>\n",
       "      <td>0.0024</td>\n",
       "      <td>0.0008</td>\n",
       "      <td>0.0009</td>\n",
       "      <td>0.0016</td>\n",
       "      <td>0.0004</td>\n",
       "      <td>0.0000</td>\n",
       "    </tr>\n",
       "    <tr>\n",
       "      <th>1994</th>\n",
       "      <td>0.0715</td>\n",
       "      <td>0.0156</td>\n",
       "      <td>0.0060</td>\n",
       "      <td>0.0041</td>\n",
       "      <td>0.0023</td>\n",
       "      <td>0.0008</td>\n",
       "      <td>0.0009</td>\n",
       "      <td>0.0015</td>\n",
       "      <td>0.0004</td>\n",
       "      <td>0.0000</td>\n",
       "    </tr>\n",
       "    <tr>\n",
       "      <th>1995</th>\n",
       "      <td>0.0702</td>\n",
       "      <td>0.0155</td>\n",
       "      <td>0.0060</td>\n",
       "      <td>0.0040</td>\n",
       "      <td>0.0023</td>\n",
       "      <td>0.0008</td>\n",
       "      <td>0.0009</td>\n",
       "      <td>0.0015</td>\n",
       "      <td>0.0004</td>\n",
       "      <td>0.0000</td>\n",
       "    </tr>\n",
       "    <tr>\n",
       "      <th>1996</th>\n",
       "      <td>0.0696</td>\n",
       "      <td>0.0156</td>\n",
       "      <td>0.0059</td>\n",
       "      <td>0.0040</td>\n",
       "      <td>0.0023</td>\n",
       "      <td>0.0008</td>\n",
       "      <td>0.0009</td>\n",
       "      <td>0.0015</td>\n",
       "      <td>0.0004</td>\n",
       "      <td>0.0000</td>\n",
       "    </tr>\n",
       "    <tr>\n",
       "      <th>1997</th>\n",
       "      <td>0.0703</td>\n",
       "      <td>0.0152</td>\n",
       "      <td>0.0058</td>\n",
       "      <td>0.0039</td>\n",
       "      <td>0.0023</td>\n",
       "      <td>0.0008</td>\n",
       "      <td>0.0009</td>\n",
       "      <td>0.0015</td>\n",
       "      <td>0.0003</td>\n",
       "      <td>0.0000</td>\n",
       "    </tr>\n",
       "  </tbody>\n",
       "</table>"
      ],
      "text/plain": [
       "           12        24        36        48        60        72        84        96        108  120\n",
       "1988  0.094429  0.019861  0.007523  0.005068  0.002907  0.000988  0.001128  0.001863  0.000443  0.0\n",
       "1989  0.088311  0.018699  0.007090  0.004777  0.002742  0.000934  0.001066  0.001760  0.000419  0.0\n",
       "1990  0.083474  0.017781  0.006743  0.004551  0.002621  0.000893  0.001020  0.001685  0.000401  0.0\n",
       "1991  0.082840  0.017628  0.006692  0.004518  0.002600  0.000886  0.001013  0.001673  0.000398  0.0\n",
       "1992  0.078789  0.016894  0.006444  0.004366  0.002515  0.000858  0.000980  0.001618  0.000385  0.0\n",
       "1993  0.075120  0.016209  0.006210  0.004210  0.002428  0.000827  0.000945  0.001561  0.000371  0.0\n",
       "1994  0.071465  0.015633  0.006006  0.004076  0.002345  0.000799  0.000913  0.001507  0.000358  0.0\n",
       "1995  0.070199  0.015486  0.005971  0.004038  0.002323  0.000792  0.000904  0.001493  0.000355  0.0\n",
       "1996  0.069569  0.015579  0.005947  0.004021  0.002314  0.000789  0.000900  0.001487  0.000354  0.0\n",
       "1997  0.070318  0.015215  0.005808  0.003927  0.002260  0.000770  0.000879  0.001452  0.000345  0.0"
      ]
     },
     "execution_count": 38,
     "metadata": {},
     "output_type": "execute_result"
    },
    {
     "data": {
      "application/javascript": [
       "\n",
       "            setTimeout(function() {\n",
       "                var nbb_cell_id = 38;\n",
       "                var nbb_unformatted_code = \"mcl_mod.full_std_err_\";\n",
       "                var nbb_formatted_code = \"mcl_mod.full_std_err_\";\n",
       "                var nbb_cells = Jupyter.notebook.get_cells();\n",
       "                for (var i = 0; i < nbb_cells.length; ++i) {\n",
       "                    if (nbb_cells[i].input_prompt_number == nbb_cell_id) {\n",
       "                        if (nbb_cells[i].get_text() == nbb_unformatted_code) {\n",
       "                             nbb_cells[i].set_text(nbb_formatted_code);\n",
       "                        }\n",
       "                        break;\n",
       "                    }\n",
       "                }\n",
       "            }, 500);\n",
       "            "
      ],
      "text/plain": [
       "<IPython.core.display.Javascript object>"
      ]
     },
     "metadata": {},
     "output_type": "display_data"
    }
   ],
   "source": [
    "mcl_mod.full_std_err_"
   ]
  },
  {
   "cell_type": "markdown",
   "id": "bdb08c81-5921-4c41-ad63-96168ffd48b7",
   "metadata": {},
   "source": [
    "MackChainladder also has a `summary_` attribute."
   ]
  },
  {
   "cell_type": "code",
   "execution_count": 39,
   "id": "81fc38c1-d5b7-4262-94ae-bce5c7ac17e1",
   "metadata": {},
   "outputs": [
    {
     "data": {
      "text/html": [
       "<table border=\"1\" class=\"dataframe\">\n",
       "  <thead>\n",
       "    <tr style=\"text-align: right;\">\n",
       "      <th></th>\n",
       "      <th>Latest</th>\n",
       "      <th>IBNR</th>\n",
       "      <th>Ultimate</th>\n",
       "      <th>Mack Std Err</th>\n",
       "    </tr>\n",
       "  </thead>\n",
       "  <tbody>\n",
       "    <tr>\n",
       "      <th>1988</th>\n",
       "      <td>11,203,949</td>\n",
       "      <td></td>\n",
       "      <td>11,203,949</td>\n",
       "      <td></td>\n",
       "    </tr>\n",
       "    <tr>\n",
       "      <th>1989</th>\n",
       "      <td>12,492,899</td>\n",
       "      <td>36,186</td>\n",
       "      <td>12,529,085</td>\n",
       "      <td>7,613</td>\n",
       "    </tr>\n",
       "    <tr>\n",
       "      <th>1990</th>\n",
       "      <td>13,559,557</td>\n",
       "      <td>119,217</td>\n",
       "      <td>13,678,774</td>\n",
       "      <td>29,905</td>\n",
       "    </tr>\n",
       "    <tr>\n",
       "      <th>1991</th>\n",
       "      <td>13,642,414</td>\n",
       "      <td>242,415</td>\n",
       "      <td>13,884,829</td>\n",
       "      <td>34,341</td>\n",
       "    </tr>\n",
       "    <tr>\n",
       "      <th>1992</th>\n",
       "      <td>14,347,271</td>\n",
       "      <td>484,933</td>\n",
       "      <td>14,832,204</td>\n",
       "      <td>38,639</td>\n",
       "    </tr>\n",
       "    <tr>\n",
       "      <th>1993</th>\n",
       "      <td>15,005,138</td>\n",
       "      <td>946,618</td>\n",
       "      <td>15,951,756</td>\n",
       "      <td>58,394</td>\n",
       "    </tr>\n",
       "    <tr>\n",
       "      <th>1994</th>\n",
       "      <td>15,249,326</td>\n",
       "      <td>1,854,279</td>\n",
       "      <td>17,103,605</td>\n",
       "      <td>94,894</td>\n",
       "    </tr>\n",
       "    <tr>\n",
       "      <th>1995</th>\n",
       "      <td>14,010,098</td>\n",
       "      <td>3,418,299</td>\n",
       "      <td>17,428,397</td>\n",
       "      <td>139,873</td>\n",
       "    </tr>\n",
       "    <tr>\n",
       "      <th>1996</th>\n",
       "      <td>11,473,912</td>\n",
       "      <td>6,094,599</td>\n",
       "      <td>17,568,511</td>\n",
       "      <td>276,854</td>\n",
       "    </tr>\n",
       "    <tr>\n",
       "      <th>1997</th>\n",
       "      <td>6,451,896</td>\n",
       "      <td>11,967,706</td>\n",
       "      <td>18,419,602</td>\n",
       "      <td>793,559</td>\n",
       "    </tr>\n",
       "  </tbody>\n",
       "</table>"
      ],
      "text/plain": [
       "          Latest          IBNR      Ultimate   Mack Std Err\n",
       "1988  11203949.0           NaN  1.120395e+07            NaN\n",
       "1989  12492899.0  3.618623e+04  1.252909e+07    7612.690223\n",
       "1990  13559557.0  1.192173e+05  1.367877e+07   29904.992210\n",
       "1991  13642414.0  2.424152e+05  1.388483e+07   34341.474494\n",
       "1992  14347271.0  4.849332e+05  1.483220e+07   38638.874014\n",
       "1993  15005138.0  9.466176e+05  1.595176e+07   58393.849416\n",
       "1994  15249326.0  1.854279e+06  1.710361e+07   94894.193048\n",
       "1995  14010098.0  3.418299e+06  1.742840e+07  139872.884208\n",
       "1996  11473912.0  6.094599e+06  1.756851e+07  276854.086589\n",
       "1997   6451896.0  1.196771e+07  1.841960e+07  793559.126941"
      ]
     },
     "execution_count": 39,
     "metadata": {},
     "output_type": "execute_result"
    },
    {
     "data": {
      "application/javascript": [
       "\n",
       "            setTimeout(function() {\n",
       "                var nbb_cell_id = 39;\n",
       "                var nbb_unformatted_code = \"mcl_mod.summary_\";\n",
       "                var nbb_formatted_code = \"mcl_mod.summary_\";\n",
       "                var nbb_cells = Jupyter.notebook.get_cells();\n",
       "                for (var i = 0; i < nbb_cells.length; ++i) {\n",
       "                    if (nbb_cells[i].input_prompt_number == nbb_cell_id) {\n",
       "                        if (nbb_cells[i].get_text() == nbb_unformatted_code) {\n",
       "                             nbb_cells[i].set_text(nbb_formatted_code);\n",
       "                        }\n",
       "                        break;\n",
       "                    }\n",
       "                }\n",
       "            }, 500);\n",
       "            "
      ],
      "text/plain": [
       "<IPython.core.display.Javascript object>"
      ]
     },
     "metadata": {},
     "output_type": "display_data"
    }
   ],
   "source": [
    "mcl_mod.summary_"
   ]
  },
  {
   "cell_type": "markdown",
   "id": "0e285585-62b6-48e4-8b1d-c5824ae5df46",
   "metadata": {},
   "source": [
    "Let's make a graph, that shows the Paid and Unpaid as stacked bars, and error bars showing Mack Standard Errors."
   ]
  },
  {
   "cell_type": "code",
   "execution_count": 57,
   "id": "e615b86e-a907-4445-9e95-645090719f76",
   "metadata": {},
   "outputs": [
    {
     "name": "stderr",
     "output_type": "stream",
     "text": [
      "/Users/kennethhsu/opt/anaconda3/lib/python3.9/site-packages/chainladder/core/pandas.py:62: UserWarning: In an upcoming version of the package, `origin_as_datetime` will be defaulted to `True` in to_frame(...), use `origin_as_datetime=False` to preserve current setting.\n",
      "  warnings.warn(warning)\n",
      "/Users/kennethhsu/opt/anaconda3/lib/python3.9/site-packages/chainladder/core/pandas.py:62: UserWarning: In an upcoming version of the package, `origin_as_datetime` will be defaulted to `True` in to_frame(...), use `origin_as_datetime=False` to preserve current setting.\n",
      "  warnings.warn(warning)\n",
      "/Users/kennethhsu/opt/anaconda3/lib/python3.9/site-packages/chainladder/core/pandas.py:62: UserWarning: In an upcoming version of the package, `origin_as_datetime` will be defaulted to `True` in to_frame(...), use `origin_as_datetime=False` to preserve current setting.\n",
      "  warnings.warn(warning)\n",
      "/Users/kennethhsu/opt/anaconda3/lib/python3.9/site-packages/chainladder/core/pandas.py:62: UserWarning: In an upcoming version of the package, `origin_as_datetime` will be defaulted to `True` in to_frame(...), use `origin_as_datetime=False` to preserve current setting.\n",
      "  warnings.warn(warning)\n",
      "/Users/kennethhsu/opt/anaconda3/lib/python3.9/site-packages/chainladder/core/pandas.py:62: UserWarning: In an upcoming version of the package, `origin_as_datetime` will be defaulted to `True` in to_frame(...), use `origin_as_datetime=False` to preserve current setting.\n",
      "  warnings.warn(warning)\n",
      "/Users/kennethhsu/opt/anaconda3/lib/python3.9/site-packages/chainladder/core/pandas.py:62: UserWarning: In an upcoming version of the package, `origin_as_datetime` will be defaulted to `True` in to_frame(...), use `origin_as_datetime=False` to preserve current setting.\n",
      "  warnings.warn(warning)\n"
     ]
    },
    {
     "data": {
      "text/plain": [
       "<matplotlib.legend.Legend at 0x7fdbed0a8760>"
      ]
     },
     "execution_count": 57,
     "metadata": {},
     "output_type": "execute_result"
    },
    {
     "data": {
      "image/png": "[encoded data removed]",
      "text/plain": [
       "<Figure size 640x480 with 1 Axes>"
      ]
     },
     "metadata": {},
     "output_type": "display_data"
    },
    {
     "data": {
      "application/javascript": [
       "\n",
       "            setTimeout(function() {\n",
       "                var nbb_cell_id = 57;\n",
       "                var nbb_unformatted_code = \"# bottom bar chart\\nplt.bar(\\n    mcl_mod.summary_.to_frame().index.year,  # category, year\\n    mcl_mod.summary_.to_frame()[\\\"Latest\\\"],# height, paid\\n    label=\\\"Paid\\\",\\n)\\n\\nplt.bar(\\n    mcl_mod.summary_.to_frame().index.year,\\n    mcl_mod.summary_.to_frame()[\\\"IBNR\\\"],\\n    bottom=mcl_mod.summary_.to_frame()[\\\"Latest\\\"],\\n    yerr=mcl_mod.summary_.to_frame()[\\\"Mack Std Err\\\"],\\n    label=\\\"Unpaid\\\",\\n)\\n\\nplt.legend(loc=\\\"upper left\\\")\";\n",
       "                var nbb_formatted_code = \"# bottom bar chart\\nplt.bar(\\n    mcl_mod.summary_.to_frame().index.year,  # category, year\\n    mcl_mod.summary_.to_frame()[\\\"Latest\\\"],  # height, paid\\n    label=\\\"Paid\\\",\\n)\\n\\nplt.bar(\\n    mcl_mod.summary_.to_frame().index.year,\\n    mcl_mod.summary_.to_frame()[\\\"IBNR\\\"],\\n    bottom=mcl_mod.summary_.to_frame()[\\\"Latest\\\"],\\n    yerr=mcl_mod.summary_.to_frame()[\\\"Mack Std Err\\\"],\\n    label=\\\"Unpaid\\\",\\n)\\n\\nplt.legend(loc=\\\"upper left\\\")\";\n",
       "                var nbb_cells = Jupyter.notebook.get_cells();\n",
       "                for (var i = 0; i < nbb_cells.length; ++i) {\n",
       "                    if (nbb_cells[i].input_prompt_number == nbb_cell_id) {\n",
       "                        if (nbb_cells[i].get_text() == nbb_unformatted_code) {\n",
       "                             nbb_cells[i].set_text(nbb_formatted_code);\n",
       "                        }\n",
       "                        break;\n",
       "                    }\n",
       "                }\n",
       "            }, 500);\n",
       "            "
      ],
      "text/plain": [
       "<IPython.core.display.Javascript object>"
      ]
     },
     "metadata": {},
     "output_type": "display_data"
    }
   ],
   "source": [
    "# bottom bar chart\n",
    "plt.bar(\n",
    "    mcl_mod.summary_.to_frame().index.year, # category, year\n",
    "    mcl_mod.summary_.to_frame()[\"Latest\"], # height, paid\n",
    "    label=\"Paid\",\n",
    ")\n",
    "\n",
    "# top bar chart\n",
    "plt.bar(\n",
    "    mcl_mod.summary_.to_frame().index.year, # category, year\n",
    "    mcl_mod.summary_.to_frame()[\"IBNR\"], # height, unpaid\n",
    "    bottom=mcl_mod.summary_.to_frame()[\"Latest\"], # height, paid\n",
    "    yerr=mcl_mod.summary_.to_frame()[\"Mack Std Err\"], # Mack's standard error\n",
    "    label=\"Unpaid\",\n",
    ")\n",
    "\n",
    "plt.legend(loc=\"upper left\")"
   ]
  },
  {
   "cell_type": "markdown",
   "id": "785120ad-03cf-48a7-90d8-d1d56a75ef88",
   "metadata": {},
   "source": [
    "ODP Bootstrap is also available. Let's bootstrap 10,000 paid triangles."
   ]
  },
  {
   "cell_type": "code",
   "execution_count": 52,
   "id": "859e19f3-d526-435c-a845-4845a7a3956d",
   "metadata": {},
   "outputs": [
    {
     "data": {
      "text/html": [
       "<table border=\"1\" class=\"dataframe\">\n",
       "  <thead>\n",
       "    <tr style=\"text-align: right;\">\n",
       "      <th></th>\n",
       "      <th>Triangle Summary</th>\n",
       "    </tr>\n",
       "  </thead>\n",
       "  <tbody>\n",
       "    <tr>\n",
       "      <th>Valuation:</th>\n",
       "      <td>1997-12</td>\n",
       "    </tr>\n",
       "    <tr>\n",
       "      <th>Grain:</th>\n",
       "      <td>OYDY</td>\n",
       "    </tr>\n",
       "    <tr>\n",
       "      <th>Shape:</th>\n",
       "      <td>(10000, 1, 10, 10)</td>\n",
       "    </tr>\n",
       "    <tr>\n",
       "      <th>Index:</th>\n",
       "      <td>[LOB]</td>\n",
       "    </tr>\n",
       "    <tr>\n",
       "      <th>Columns:</th>\n",
       "      <td>[CumPaidLoss]</td>\n",
       "    </tr>\n",
       "  </tbody>\n",
       "</table>"
      ],
      "text/plain": [
       "              Triangle Summary\n",
       "Valuation:             1997-12\n",
       "Grain:                    OYDY\n",
       "Shape:      (10000, 1, 10, 10)\n",
       "Index:                   [LOB]\n",
       "Columns:         [CumPaidLoss]"
      ]
     },
     "execution_count": 52,
     "metadata": {},
     "output_type": "execute_result"
    },
    {
     "data": {
      "application/javascript": [
       "\n",
       "            setTimeout(function() {\n",
       "                var nbb_cell_id = 52;\n",
       "                var nbb_unformatted_code = \"clrd_tri_sampled = (\\n    cl.BootstrapODPSample(n_sims=10000).fit(clrd_tri[\\\"CumPaidLoss\\\"].sum()).resampled_triangles_\\n)\\nclrd_tri_sampled\";\n",
       "                var nbb_formatted_code = \"clrd_tri_sampled = (\\n    cl.BootstrapODPSample(n_sims=10000)\\n    .fit(clrd_tri[\\\"CumPaidLoss\\\"].sum())\\n    .resampled_triangles_\\n)\\nclrd_tri_sampled\";\n",
       "                var nbb_cells = Jupyter.notebook.get_cells();\n",
       "                for (var i = 0; i < nbb_cells.length; ++i) {\n",
       "                    if (nbb_cells[i].input_prompt_number == nbb_cell_id) {\n",
       "                        if (nbb_cells[i].get_text() == nbb_unformatted_code) {\n",
       "                             nbb_cells[i].set_text(nbb_formatted_code);\n",
       "                        }\n",
       "                        break;\n",
       "                    }\n",
       "                }\n",
       "            }, 500);\n",
       "            "
      ],
      "text/plain": [
       "<IPython.core.display.Javascript object>"
      ]
     },
     "metadata": {},
     "output_type": "display_data"
    }
   ],
   "source": [
    "clrd_tri_sampled = (\n",
    "    cl.BootstrapODPSample(n_sims=10000).fit(clrd_tri[\"CumPaidLoss\"].sum()).resampled_triangles_\n",
    ")\n",
    "clrd_tri_sampled"
   ]
  },
  {
   "cell_type": "markdown",
   "id": "4391f730-5309-49b2-9c19-0801e3e66c7c",
   "metadata": {},
   "source": [
    "We can fit a basic chainladder to all sampled triangles. We now have 10,000 simulated chainladder models, all (most) with unique LDFs."
   ]
  },
  {
   "cell_type": "code",
   "execution_count": 53,
   "id": "fe6dbe70-1b2a-4fb0-aa6b-56380534704f",
   "metadata": {},
   "outputs": [
    {
     "name": "stderr",
     "output_type": "stream",
     "text": [
      "/Users/kennethhsu/opt/anaconda3/lib/python3.9/site-packages/chainladder/tails/base.py:120: RuntimeWarning: overflow encountered in exp\n",
      "  sigma_ = xp.exp(time_pd * reg.slope_ + reg.intercept_)\n",
      "/Users/kennethhsu/opt/anaconda3/lib/python3.9/site-packages/chainladder/tails/base.py:124: RuntimeWarning: overflow encountered in exp\n",
      "  std_err_ = xp.exp(time_pd * reg.slope_ + reg.intercept_)\n",
      "/Users/kennethhsu/opt/anaconda3/lib/python3.9/site-packages/chainladder/tails/base.py:127: RuntimeWarning: invalid value encountered in multiply\n",
      "  sigma_ = sigma_ * 0\n",
      "/Users/kennethhsu/opt/anaconda3/lib/python3.9/site-packages/chainladder/tails/base.py:128: RuntimeWarning: invalid value encountered in multiply\n",
      "  std_err_ = std_err_* 0\n"
     ]
    },
    {
     "data": {
      "text/html": [
       "<style>#sk-container-id-5 {color: black;background-color: white;}#sk-container-id-5 pre{padding: 0;}#sk-container-id-5 div.sk-toggleable {background-color: white;}#sk-container-id-5 label.sk-toggleable__label {cursor: pointer;display: block;width: 100%;margin-bottom: 0;padding: 0.3em;box-sizing: border-box;text-align: center;}#sk-container-id-5 label.sk-toggleable__label-arrow:before {content: \"▸\";float: left;margin-right: 0.25em;color: #696969;}#sk-container-id-5 label.sk-toggleable__label-arrow:hover:before {color: black;}#sk-container-id-5 div.sk-estimator:hover label.sk-toggleable__label-arrow:before {color: black;}#sk-container-id-5 div.sk-toggleable__content {max-height: 0;max-width: 0;overflow: hidden;text-align: left;background-color: #f0f8ff;}#sk-container-id-5 div.sk-toggleable__content pre {margin: 0.2em;color: black;border-radius: 0.25em;background-color: #f0f8ff;}#sk-container-id-5 input.sk-toggleable__control:checked~div.sk-toggleable__content {max-height: 200px;max-width: 100%;overflow: auto;}#sk-container-id-5 input.sk-toggleable__control:checked~label.sk-toggleable__label-arrow:before {content: \"▾\";}#sk-container-id-5 div.sk-estimator input.sk-toggleable__control:checked~label.sk-toggleable__label {background-color: #d4ebff;}#sk-container-id-5 div.sk-label input.sk-toggleable__control:checked~label.sk-toggleable__label {background-color: #d4ebff;}#sk-container-id-5 input.sk-hidden--visually {border: 0;clip: rect(1px 1px 1px 1px);clip: rect(1px, 1px, 1px, 1px);height: 1px;margin: -1px;overflow: hidden;padding: 0;position: absolute;width: 1px;}#sk-container-id-5 div.sk-estimator {font-family: monospace;background-color: #f0f8ff;border: 1px dotted black;border-radius: 0.25em;box-sizing: border-box;margin-bottom: 0.5em;}#sk-container-id-5 div.sk-estimator:hover {background-color: #d4ebff;}#sk-container-id-5 div.sk-parallel-item::after {content: \"\";width: 100%;border-bottom: 1px solid gray;flex-grow: 1;}#sk-container-id-5 div.sk-label:hover label.sk-toggleable__label {background-color: #d4ebff;}#sk-container-id-5 div.sk-serial::before {content: \"\";position: absolute;border-left: 1px solid gray;box-sizing: border-box;top: 0;bottom: 0;left: 50%;z-index: 0;}#sk-container-id-5 div.sk-serial {display: flex;flex-direction: column;align-items: center;background-color: white;padding-right: 0.2em;padding-left: 0.2em;position: relative;}#sk-container-id-5 div.sk-item {position: relative;z-index: 1;}#sk-container-id-5 div.sk-parallel {display: flex;align-items: stretch;justify-content: center;background-color: white;position: relative;}#sk-container-id-5 div.sk-item::before, #sk-container-id-5 div.sk-parallel-item::before {content: \"\";position: absolute;border-left: 1px solid gray;box-sizing: border-box;top: 0;bottom: 0;left: 50%;z-index: -1;}#sk-container-id-5 div.sk-parallel-item {display: flex;flex-direction: column;z-index: 1;position: relative;background-color: white;}#sk-container-id-5 div.sk-parallel-item:first-child::after {align-self: flex-end;width: 50%;}#sk-container-id-5 div.sk-parallel-item:last-child::after {align-self: flex-start;width: 50%;}#sk-container-id-5 div.sk-parallel-item:only-child::after {width: 0;}#sk-container-id-5 div.sk-dashed-wrapped {border: 1px dashed gray;margin: 0 0.4em 0.5em 0.4em;box-sizing: border-box;padding-bottom: 0.4em;background-color: white;}#sk-container-id-5 div.sk-label label {font-family: monospace;font-weight: bold;display: inline-block;line-height: 1.2em;}#sk-container-id-5 div.sk-label-container {text-align: center;}#sk-container-id-5 div.sk-container {/* jupyter's `normalize.less` sets `[hidden] { display: none; }` but bootstrap.min.css set `[hidden] { display: none !important; }` so we also need the `!important` here to be able to override the default hidden behavior on the sphinx rendered scikit-learn.org. See: https://github.com/scikit-learn/scikit-learn/issues/21755 */display: inline-block !important;position: relative;}#sk-container-id-5 div.sk-text-repr-fallback {display: none;}</style><div id=\"sk-container-id-5\" class=\"sk-top-container\"><div class=\"sk-text-repr-fallback\"><pre>Chainladder()</pre><b>In a Jupyter environment, please rerun this cell to show the HTML representation or trust the notebook. <br />On GitHub, the HTML representation is unable to render, please try loading this page with nbviewer.org.</b></div><div class=\"sk-container\" hidden><div class=\"sk-item\"><div class=\"sk-estimator sk-toggleable\"><input class=\"sk-toggleable__control sk-hidden--visually\" id=\"sk-estimator-id-7\" type=\"checkbox\" checked><label for=\"sk-estimator-id-7\" class=\"sk-toggleable__label sk-toggleable__label-arrow\">Chainladder</label><div class=\"sk-toggleable__content\"><pre>Chainladder()</pre></div></div></div></div></div>"
      ],
      "text/plain": [
       "Chainladder()"
      ]
     },
     "execution_count": 53,
     "metadata": {},
     "output_type": "execute_result"
    },
    {
     "data": {
      "application/javascript": [
       "\n",
       "            setTimeout(function() {\n",
       "                var nbb_cell_id = 53;\n",
       "                var nbb_unformatted_code = \"cl_mod_bootstrapped = cl.Chainladder().fit(clrd_tri_sampled)\\ncl_mod_bootstrapped\";\n",
       "                var nbb_formatted_code = \"cl_mod_bootstrapped = cl.Chainladder().fit(clrd_tri_sampled)\\ncl_mod_bootstrapped\";\n",
       "                var nbb_cells = Jupyter.notebook.get_cells();\n",
       "                for (var i = 0; i < nbb_cells.length; ++i) {\n",
       "                    if (nbb_cells[i].input_prompt_number == nbb_cell_id) {\n",
       "                        if (nbb_cells[i].get_text() == nbb_unformatted_code) {\n",
       "                             nbb_cells[i].set_text(nbb_formatted_code);\n",
       "                        }\n",
       "                        break;\n",
       "                    }\n",
       "                }\n",
       "            }, 500);\n",
       "            "
      ],
      "text/plain": [
       "<IPython.core.display.Javascript object>"
      ]
     },
     "metadata": {},
     "output_type": "display_data"
    }
   ],
   "source": [
    "cl_mod_bootstrapped = cl.Chainladder().fit(clrd_tri_sampled)\n",
    "cl_mod_bootstrapped"
   ]
  },
  {
   "cell_type": "markdown",
   "id": "a6f81ac6-a2ab-496d-8d1f-4604aa464370",
   "metadata": {},
   "source": [
    "We can use `predict()` to use the model characteristics (their unique LDFs) to predict our basic Incurred triangle. Let's inspect the prediction's means. "
   ]
  },
  {
   "cell_type": "code",
   "execution_count": 54,
   "id": "4f304cf4-f973-4e98-b76f-8266de8659b6",
   "metadata": {},
   "outputs": [
    {
     "data": {
      "text/html": [
       "<table border=\"1\" class=\"dataframe\">\n",
       "  <thead>\n",
       "    <tr style=\"text-align: right;\">\n",
       "      <th></th>\n",
       "      <th>2261</th>\n",
       "    </tr>\n",
       "  </thead>\n",
       "  <tbody>\n",
       "    <tr>\n",
       "      <th>1988</th>\n",
       "      <td>11,203,949</td>\n",
       "    </tr>\n",
       "    <tr>\n",
       "      <th>1989</th>\n",
       "      <td>12,529,300</td>\n",
       "    </tr>\n",
       "    <tr>\n",
       "      <th>1990</th>\n",
       "      <td>13,678,741</td>\n",
       "    </tr>\n",
       "    <tr>\n",
       "      <th>1991</th>\n",
       "      <td>13,884,695</td>\n",
       "    </tr>\n",
       "    <tr>\n",
       "      <th>1992</th>\n",
       "      <td>14,831,965</td>\n",
       "    </tr>\n",
       "    <tr>\n",
       "      <th>1993</th>\n",
       "      <td>15,951,056</td>\n",
       "    </tr>\n",
       "    <tr>\n",
       "      <th>1994</th>\n",
       "      <td>17,102,541</td>\n",
       "    </tr>\n",
       "    <tr>\n",
       "      <th>1995</th>\n",
       "      <td>17,426,957</td>\n",
       "    </tr>\n",
       "    <tr>\n",
       "      <th>1996</th>\n",
       "      <td>17,567,195</td>\n",
       "    </tr>\n",
       "    <tr>\n",
       "      <th>1997</th>\n",
       "      <td>18,417,845</td>\n",
       "    </tr>\n",
       "  </tbody>\n",
       "</table>"
      ],
      "text/plain": [
       "              2261\n",
       "1988  1.120395e+07\n",
       "1989  1.252930e+07\n",
       "1990  1.367874e+07\n",
       "1991  1.388470e+07\n",
       "1992  1.483197e+07\n",
       "1993  1.595106e+07\n",
       "1994  1.710254e+07\n",
       "1995  1.742696e+07\n",
       "1996  1.756719e+07\n",
       "1997  1.841784e+07"
      ]
     },
     "execution_count": 54,
     "metadata": {},
     "output_type": "execute_result"
    },
    {
     "data": {
      "application/javascript": [
       "\n",
       "            setTimeout(function() {\n",
       "                var nbb_cell_id = 54;\n",
       "                var nbb_unformatted_code = \"cl_mod_bootstrapped.predict(clrd_tri[\\\"CumPaidLoss\\\"].sum()).ultimate_.mean()\";\n",
       "                var nbb_formatted_code = \"cl_mod_bootstrapped.predict(clrd_tri[\\\"CumPaidLoss\\\"].sum()).ultimate_.mean()\";\n",
       "                var nbb_cells = Jupyter.notebook.get_cells();\n",
       "                for (var i = 0; i < nbb_cells.length; ++i) {\n",
       "                    if (nbb_cells[i].input_prompt_number == nbb_cell_id) {\n",
       "                        if (nbb_cells[i].get_text() == nbb_unformatted_code) {\n",
       "                             nbb_cells[i].set_text(nbb_formatted_code);\n",
       "                        }\n",
       "                        break;\n",
       "                    }\n",
       "                }\n",
       "            }, 500);\n",
       "            "
      ],
      "text/plain": [
       "<IPython.core.display.Javascript object>"
      ]
     },
     "metadata": {},
     "output_type": "display_data"
    }
   ],
   "source": [
    "cl_mod_bootstrapped.predict(clrd_tri[\"CumPaidLoss\"].sum()).ultimate_.mean()"
   ]
  },
  {
   "cell_type": "markdown",
   "id": "bb3d7c32-9e75-4ae4-ab23-0ca3f2a436b5",
   "metadata": {},
   "source": [
    "Let's make another graph."
   ]
  },
  {
   "cell_type": "code",
   "execution_count": 55,
   "id": "edeba1db-97e6-43df-b1c0-590c2d7cd098",
   "metadata": {
    "tags": []
   },
   "outputs": [
    {
     "name": "stderr",
     "output_type": "stream",
     "text": [
      "/Users/kennethhsu/opt/anaconda3/lib/python3.9/site-packages/chainladder/core/pandas.py:62: UserWarning: In an upcoming version of the package, `origin_as_datetime` will be defaulted to `True` in to_frame(...), use `origin_as_datetime=False` to preserve current setting.\n",
      "  warnings.warn(warning)\n",
      "/Users/kennethhsu/opt/anaconda3/lib/python3.9/site-packages/chainladder/core/pandas.py:62: UserWarning: In an upcoming version of the package, `origin_as_datetime` will be defaulted to `True` in to_frame(...), use `origin_as_datetime=False` to preserve current setting.\n",
      "  warnings.warn(warning)\n",
      "/Users/kennethhsu/opt/anaconda3/lib/python3.9/site-packages/chainladder/core/pandas.py:62: UserWarning: In an upcoming version of the package, `origin_as_datetime` will be defaulted to `True` in to_frame(...), use `origin_as_datetime=False` to preserve current setting.\n",
      "  warnings.warn(warning)\n"
     ]
    },
    {
     "data": {
      "text/plain": [
       "<BarContainer object of 10 artists>"
      ]
     },
     "execution_count": 55,
     "metadata": {},
     "output_type": "execute_result"
    },
    {
     "data": {
      "image/png": "[encoded data removed]",
      "text/plain": [
       "<Figure size 640x480 with 1 Axes>"
      ]
     },
     "metadata": {},
     "output_type": "display_data"
    },
    {
     "data": {
      "application/javascript": [
       "\n",
       "            setTimeout(function() {\n",
       "                var nbb_cell_id = 55;\n",
       "                var nbb_unformatted_code = \"plt.bar(\\n    cl_mod_bootstrapped.ultimate_.mean().to_frame().index.year,\\n    cl_mod_bootstrapped.ultimate_.mean().to_frame()[\\\"2261\\\"],\\n    yerr=cl_mod_bootstrapped.ultimate_.std().to_frame()[\\\"2261\\\"],\\n)\";\n",
       "                var nbb_formatted_code = \"plt.bar(\\n    cl_mod_bootstrapped.ultimate_.mean().to_frame().index.year,\\n    cl_mod_bootstrapped.ultimate_.mean().to_frame()[\\\"2261\\\"],\\n    yerr=cl_mod_bootstrapped.ultimate_.std().to_frame()[\\\"2261\\\"],\\n)\";\n",
       "                var nbb_cells = Jupyter.notebook.get_cells();\n",
       "                for (var i = 0; i < nbb_cells.length; ++i) {\n",
       "                    if (nbb_cells[i].input_prompt_number == nbb_cell_id) {\n",
       "                        if (nbb_cells[i].get_text() == nbb_unformatted_code) {\n",
       "                             nbb_cells[i].set_text(nbb_formatted_code);\n",
       "                        }\n",
       "                        break;\n",
       "                    }\n",
       "                }\n",
       "            }, 500);\n",
       "            "
      ],
      "text/plain": [
       "<IPython.core.display.Javascript object>"
      ]
     },
     "metadata": {},
     "output_type": "display_data"
    }
   ],
   "source": [
    "plt.bar(\n",
    "    cl_mod_bootstrapped.ultimate_.mean().to_frame().index.year, #x-axis, accident year\n",
    "    cl_mod_bootstrapped.ultimate_.mean().to_frame()[\"2261\"], #y-axis, ultimates\n",
    "    yerr=cl_mod_bootstrapped.ultimate_.std().to_frame()[\"2261\"], #ultimates standard deviation\n",
    ")"
   ]
  }
 ],
 "metadata": {
  "kernelspec": {
   "display_name": "Python 3 (ipykernel)",
   "language": "python",
   "name": "python3"
  },
  "language_info": {
   "codemirror_mode": {
    "name": "ipython",
    "version": 3
   },
   "file_extension": ".py",
   "mimetype": "text/x-python",
   "name": "python",
   "nbconvert_exporter": "python",
   "pygments_lexer": "ipython3",
   "version": "3.9.16"
  }
 },
 "nbformat": 4,
 "nbformat_minor": 5
}
