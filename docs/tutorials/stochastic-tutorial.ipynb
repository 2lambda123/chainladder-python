{
 "cells": [
  {
   "cell_type": "markdown",
   "metadata": {},
   "source": [
    "## Applying Stochastic Methods\n",
    "### Getting Started\n",
    "This tutorial focuses on using stochastic methods to estimate ultimates. \n",
    "\n",
    "Note that a lot of the examples shown here might not be applicable in a real world scenario, and is only meant to demonstrate some of the functionalities included in the package. The user should always exercise their best actuarial judgement, and follow any applicable laws, the Code of Professional Conduct, and applicable Actuarial Standards of Practice.\n",
    "\n",
    "Be sure to make sure your packages are updated. For more info on how to update your pakages, visit [Keeping Packages Updated](https://chainladder-python.readthedocs.io/en/latest/install.html#keeping-packages-updated)."
   ]
  },
  {
   "cell_type": "code",
   "execution_count": 1,
   "metadata": {},
   "outputs": [
    {
     "name": "stdout",
     "output_type": "stream",
     "text": [
      "pandas: 1.3.2\n",
      "numpy: 1.20.3\n",
      "chainladder: 0.8.5\n"
     ]
    }
   ],
   "source": [
    "# Black linter, optional\n",
    "%load_ext lab_black\n",
    "\n",
    "import pandas as pd\n",
    "import numpy as np\n",
    "import chainladder as cl\n",
    "import matplotlib.pyplot as plt\n",
    "import statsmodels.api as sm\n",
    "import os\n",
    "\n",
    "%matplotlib inline\n",
    "\n",
    "print(\"pandas: \" + pd.__version__)\n",
    "print(\"numpy: \" + np.__version__)\n",
    "print(\"chainladder: \" + cl.__version__)"
   ]
  },
  {
   "cell_type": "markdown",
   "metadata": {},
   "source": [
    "### Intro to MackChainladder\n",
    "\n",
    "Like the basic `Chainladder` method, the `MackChainladder` is entirely specified by its selected development pattern. In fact, it is the basic `Chainladder`, but with extra features."
   ]
  },
  {
   "cell_type": "code",
   "execution_count": 2,
   "metadata": {},
   "outputs": [
    {
     "name": "stderr",
     "output_type": "stream",
     "text": [
      "/Users/kenneth.hsu/opt/anaconda3/lib/python3.8/site-packages/chainladder/core/base.py:124: FutureWarning: In a future version of pandas all arguments of DataFrame.drop except for the argument 'labels' will be keyword-only\n",
      "  data = data.drop(['__origin__', '__development__'], 1)\n",
      "/Users/kenneth.hsu/opt/anaconda3/lib/python3.8/site-packages/chainladder/core/base.py:204: FutureWarning: In a future version of pandas all arguments of DataFrame.drop except for the argument 'labels' will be keyword-only\n",
      "  self.kdims = kdims.drop(\"index\", 1).values\n"
     ]
    },
    {
     "data": {
      "text/plain": [
       "True"
      ]
     },
     "execution_count": 2,
     "metadata": {},
     "output_type": "execute_result"
    }
   ],
   "source": [
    "clrd = (\n",
    "    cl.load_sample(\"clrd\")\n",
    "    .groupby(\"LOB\")\n",
    "    .sum()\n",
    "    .loc[\"wkcomp\", [\"CumPaidLoss\", \"EarnedPremNet\"]]\n",
    ")\n",
    "\n",
    "cl.Chainladder().fit(clrd[\"CumPaidLoss\"]).ultimate_ == cl.MackChainladder().fit(\n",
    "    clrd[\"CumPaidLoss\"]\n",
    ").ultimate_"
   ]
  },
  {
   "cell_type": "markdown",
   "metadata": {},
   "source": [
    "Let's create a Mack's Chainladder model."
   ]
  },
  {
   "cell_type": "code",
   "execution_count": 3,
   "metadata": {},
   "outputs": [],
   "source": [
    "mack = cl.MackChainladder().fit(clrd[\"CumPaidLoss\"])"
   ]
  },
  {
   "cell_type": "markdown",
   "metadata": {},
   "source": [
    "MackChainladder has the following additional fitted features that the deterministic `Chainladder` does not:\n",
    "\n",
    "- `full_std_err_`:  The full standard error\n",
    "- `total_process_risk_`: The total process error\n",
    "- `total_parameter_risk_`: The total parameter error\n",
    "- `mack_std_err_`: The total prediction error by origin period\n",
    "- `total_mack_std_err_`: The total prediction error across all origin periods\n",
    "\n",
    "Notice these are all measures of uncertainty, but where can they be applied? Let's start by examining the `link_ratios` underlying the triangle between age 12 and 24."
   ]
  },
  {
   "cell_type": "code",
   "execution_count": 4,
   "metadata": {},
   "outputs": [
    {
     "data": {
      "text/html": [
       "<table border=\"1\" class=\"dataframe\">\n",
       "  <thead>\n",
       "    <tr style=\"text-align: right;\">\n",
       "      <th></th>\n",
       "      <th>12</th>\n",
       "      <th>24</th>\n",
       "    </tr>\n",
       "  </thead>\n",
       "  <tbody>\n",
       "    <tr>\n",
       "      <th>1988</th>\n",
       "      <td>285,804</td>\n",
       "      <td>638,532</td>\n",
       "    </tr>\n",
       "    <tr>\n",
       "      <th>1989</th>\n",
       "      <td>307,720</td>\n",
       "      <td>684,140</td>\n",
       "    </tr>\n",
       "    <tr>\n",
       "      <th>1990</th>\n",
       "      <td>320,124</td>\n",
       "      <td>757,479</td>\n",
       "    </tr>\n",
       "    <tr>\n",
       "      <th>1991</th>\n",
       "      <td>347,417</td>\n",
       "      <td>793,749</td>\n",
       "    </tr>\n",
       "    <tr>\n",
       "      <th>1992</th>\n",
       "      <td>342,982</td>\n",
       "      <td>781,402</td>\n",
       "    </tr>\n",
       "    <tr>\n",
       "      <th>1993</th>\n",
       "      <td>342,385</td>\n",
       "      <td>743,433</td>\n",
       "    </tr>\n",
       "    <tr>\n",
       "      <th>1994</th>\n",
       "      <td>351,060</td>\n",
       "      <td>750,392</td>\n",
       "    </tr>\n",
       "    <tr>\n",
       "      <th>1995</th>\n",
       "      <td>343,841</td>\n",
       "      <td>768,575</td>\n",
       "    </tr>\n",
       "    <tr>\n",
       "      <th>1996</th>\n",
       "      <td>381,484</td>\n",
       "      <td>736,040</td>\n",
       "    </tr>\n",
       "  </tbody>\n",
       "</table>"
      ],
      "text/plain": [
       "            12        24\n",
       "1988  285804.0  638532.0\n",
       "1989  307720.0  684140.0\n",
       "1990  320124.0  757479.0\n",
       "1991  347417.0  793749.0\n",
       "1992  342982.0  781402.0\n",
       "1993  342385.0  743433.0\n",
       "1994  351060.0  750392.0\n",
       "1995  343841.0  768575.0\n",
       "1996  381484.0  736040.0"
      ]
     },
     "execution_count": 4,
     "metadata": {},
     "output_type": "execute_result"
    }
   ],
   "source": [
    "clrd_first_lags = clrd[clrd.development <= 24][clrd.origin < \"1997\"][\"CumPaidLoss\"]\n",
    "clrd_first_lags"
   ]
  },
  {
   "cell_type": "markdown",
   "metadata": {},
   "source": [
    "A simple average link-ratio can be directly computed."
   ]
  },
  {
   "cell_type": "code",
   "execution_count": 5,
   "metadata": {},
   "outputs": [
    {
     "data": {
      "text/plain": [
       "2.2066789527531494"
      ]
     },
     "execution_count": 5,
     "metadata": {},
     "output_type": "execute_result"
    }
   ],
   "source": [
    "clrd_first_lags.link_ratio.to_frame().mean()[0]"
   ]
  },
  {
   "cell_type": "markdown",
   "metadata": {},
   "source": [
    "We can also verify that the result is the same as the `Development` object."
   ]
  },
  {
   "cell_type": "code",
   "execution_count": 6,
   "metadata": {},
   "outputs": [
    {
     "data": {
      "text/plain": [
       "2.2066789527531494"
      ]
     },
     "execution_count": 6,
     "metadata": {},
     "output_type": "execute_result"
    }
   ],
   "source": [
    "cl.Development(average=\"simple\").fit(clrd[\"CumPaidLoss\"]).ldf_.to_frame().values[0, 0]"
   ]
  },
  {
   "cell_type": "markdown",
   "metadata": {},
   "source": [
    "### The Linear Regression Framework\n",
    "\n",
    "Mack noted that the estimate for the LDF is really just a linear regression fit. In the case of using the `simple` average, it is a weighted regression where the weight is $\\left (\\frac{1}{X}  \\right )^{2}$.\n",
    "\n",
    "Let's take a look at the fitted coefficient and verify that this ties to the direct calculations that we made earlier.\n",
    "With the regression framework in hand, we can get more information about our LDF estimate than just the coefficient."
   ]
  },
  {
   "cell_type": "code",
   "execution_count": 7,
   "metadata": {},
   "outputs": [
    {
     "name": "stderr",
     "output_type": "stream",
     "text": [
      "/Users/kenneth.hsu/opt/anaconda3/lib/python3.8/site-packages/scipy/stats/stats.py:1541: UserWarning: kurtosistest only valid for n>=20 ... continuing anyway, n=9\n",
      "  warnings.warn(\"kurtosistest only valid for n>=20 ... continuing \"\n"
     ]
    },
    {
     "data": {
      "text/html": [
       "<table class=\"simpletable\">\n",
       "<caption>WLS Regression Results</caption>\n",
       "<tr>\n",
       "  <th>Dep. Variable:</th>            <td>y</td>        <th>  R-squared (uncentered):</th>      <td>   0.997</td>\n",
       "</tr>\n",
       "<tr>\n",
       "  <th>Model:</th>                   <td>WLS</td>       <th>  Adj. R-squared (uncentered):</th> <td>   0.997</td>\n",
       "</tr>\n",
       "<tr>\n",
       "  <th>Method:</th>             <td>Least Squares</td>  <th>  F-statistic:       </th>          <td>   2887.</td>\n",
       "</tr>\n",
       "<tr>\n",
       "  <th>Date:</th>             <td>Wed, 08 Sep 2021</td> <th>  Prob (F-statistic):</th>          <td>1.60e-11</td>\n",
       "</tr>\n",
       "<tr>\n",
       "  <th>Time:</th>                 <td>22:08:59</td>     <th>  Log-Likelihood:    </th>          <td> -107.89</td>\n",
       "</tr>\n",
       "<tr>\n",
       "  <th>No. Observations:</th>      <td>     9</td>      <th>  AIC:               </th>          <td>   217.8</td>\n",
       "</tr>\n",
       "<tr>\n",
       "  <th>Df Residuals:</th>          <td>     8</td>      <th>  BIC:               </th>          <td>   218.0</td>\n",
       "</tr>\n",
       "<tr>\n",
       "  <th>Df Model:</th>              <td>     1</td>      <th>                     </th>              <td> </td>   \n",
       "</tr>\n",
       "<tr>\n",
       "  <th>Covariance Type:</th>      <td>nonrobust</td>    <th>                     </th>              <td> </td>   \n",
       "</tr>\n",
       "</table>\n",
       "<table class=\"simpletable\">\n",
       "<tr>\n",
       "   <td></td>     <th>coef</th>     <th>std err</th>      <th>t</th>      <th>P>|t|</th>  <th>[0.025</th>    <th>0.975]</th>  \n",
       "</tr>\n",
       "<tr>\n",
       "  <th>x1</th> <td>    2.2067</td> <td>    0.041</td> <td>   53.735</td> <td> 0.000</td> <td>    2.112</td> <td>    2.301</td>\n",
       "</tr>\n",
       "</table>\n",
       "<table class=\"simpletable\">\n",
       "<tr>\n",
       "  <th>Omnibus:</th>       <td> 7.448</td> <th>  Durbin-Watson:     </th> <td>   1.177</td>\n",
       "</tr>\n",
       "<tr>\n",
       "  <th>Prob(Omnibus):</th> <td> 0.024</td> <th>  Jarque-Bera (JB):  </th> <td>   2.533</td>\n",
       "</tr>\n",
       "<tr>\n",
       "  <th>Skew:</th>          <td>-1.187</td> <th>  Prob(JB):          </th> <td>   0.282</td>\n",
       "</tr>\n",
       "<tr>\n",
       "  <th>Kurtosis:</th>      <td> 4.058</td> <th>  Cond. No.          </th> <td>    1.00</td>\n",
       "</tr>\n",
       "</table><br/><br/>Notes:<br/>[1] R² is computed without centering (uncentered) since the model does not contain a constant.<br/>[2] Standard Errors assume that the covariance matrix of the errors is correctly specified."
      ],
      "text/plain": [
       "<class 'statsmodels.iolib.summary.Summary'>\n",
       "\"\"\"\n",
       "                                 WLS Regression Results                                \n",
       "=======================================================================================\n",
       "Dep. Variable:                      y   R-squared (uncentered):                   0.997\n",
       "Model:                            WLS   Adj. R-squared (uncentered):              0.997\n",
       "Method:                 Least Squares   F-statistic:                              2887.\n",
       "Date:                Wed, 08 Sep 2021   Prob (F-statistic):                    1.60e-11\n",
       "Time:                        22:08:59   Log-Likelihood:                         -107.89\n",
       "No. Observations:                   9   AIC:                                      217.8\n",
       "Df Residuals:                       8   BIC:                                      218.0\n",
       "Df Model:                           1                                                  \n",
       "Covariance Type:            nonrobust                                                  \n",
       "==============================================================================\n",
       "                 coef    std err          t      P>|t|      [0.025      0.975]\n",
       "------------------------------------------------------------------------------\n",
       "x1             2.2067      0.041     53.735      0.000       2.112       2.301\n",
       "==============================================================================\n",
       "Omnibus:                        7.448   Durbin-Watson:                   1.177\n",
       "Prob(Omnibus):                  0.024   Jarque-Bera (JB):                2.533\n",
       "Skew:                          -1.187   Prob(JB):                        0.282\n",
       "Kurtosis:                       4.058   Cond. No.                         1.00\n",
       "==============================================================================\n",
       "\n",
       "Notes:\n",
       "[1] R² is computed without centering (uncentered) since the model does not contain a constant.\n",
       "[2] Standard Errors assume that the covariance matrix of the errors is correctly specified.\n",
       "\"\"\""
      ]
     },
     "execution_count": 7,
     "metadata": {},
     "output_type": "execute_result"
    }
   ],
   "source": [
    "y = clrd_first_lags.to_frame().values[:, 1]\n",
    "x = clrd_first_lags.to_frame().values[:, 0]\n",
    "\n",
    "model = sm.WLS(y, x, weights=(1 / x) ** 2)\n",
    "results = model.fit()\n",
    "results.summary()"
   ]
  },
  {
   "cell_type": "markdown",
   "metadata": {},
   "source": [
    "By toggling the weights of our regression, we can handle the most common types of averaging used in picking loss development factors.\n",
    "- For simple average, the weights are $\\left (\\frac{1}{X}  \\right )^{2}$\n",
    "- For volume-weighted average, the weights are $\\left (\\frac{1}{X}  \\right )$\n",
    "- For \"regression\" average, the weights are 1"
   ]
  },
  {
   "cell_type": "code",
   "execution_count": 8,
   "metadata": {},
   "outputs": [
    {
     "name": "stdout",
     "output_type": "stream",
     "text": [
      "Simple average:\n",
      "True\n",
      "Volume-weighted average:\n",
      "True\n",
      "Regression average:\n",
      "True\n"
     ]
    }
   ],
   "source": [
    "print(\"Simple average:\")\n",
    "print(\n",
    "    round(\n",
    "        cl.Development(average=\"simple\")\n",
    "        .fit(clrd_first_lags)\n",
    "        .ldf_.to_frame()\n",
    "        .values[0, 0],\n",
    "        10,\n",
    "    )\n",
    "    == round(sm.WLS(y, x, weights=(1 / x) ** 2).fit().params[0], 10)\n",
    ")\n",
    "\n",
    "print(\"Volume-weighted average:\")\n",
    "print(\n",
    "    round(\n",
    "        cl.Development(average=\"volume\")\n",
    "        .fit(clrd_first_lags)\n",
    "        .ldf_.to_frame()\n",
    "        .values[0, 0],\n",
    "        10,\n",
    "    )\n",
    "    == round(sm.WLS(y, x, weights=(1 / x)).fit().params[0], 10)\n",
    ")\n",
    "\n",
    "print(\"Regression average:\")\n",
    "print(\n",
    "    round(\n",
    "        cl.Development(average=\"regression\")\n",
    "        .fit(clrd_first_lags)\n",
    "        .ldf_.to_frame()\n",
    "        .values[0, 0],\n",
    "        10,\n",
    "    )\n",
    "    == round(sm.OLS(y, x, weights=1).fit().params[0], 10)\n",
    ")"
   ]
  },
  {
   "cell_type": "markdown",
   "metadata": {},
   "source": [
    "The regression framework is what the `Development` estimator uses to set development patterns. Although we discard the information in the deterministic methods, in the stochastic methods, `Development` has two useful statistics for estimating reserve variability, both of which come from the regression framework. The stastics are `sigma_` and `std_err_` , and they are used by the `MackChainladder` estimator to determine the prediction error of our reserves."
   ]
  },
  {
   "cell_type": "code",
   "execution_count": 9,
   "metadata": {},
   "outputs": [],
   "source": [
    "dev = cl.Development(average=\"simple\").fit(clrd[\"CumPaidLoss\"])"
   ]
  },
  {
   "cell_type": "code",
   "execution_count": 10,
   "metadata": {},
   "outputs": [
    {
     "data": {
      "text/html": [
       "<table border=\"1\" class=\"dataframe\">\n",
       "  <thead>\n",
       "    <tr style=\"text-align: right;\">\n",
       "      <th></th>\n",
       "      <th>12-24</th>\n",
       "      <th>24-36</th>\n",
       "      <th>36-48</th>\n",
       "      <th>48-60</th>\n",
       "      <th>60-72</th>\n",
       "      <th>72-84</th>\n",
       "      <th>84-96</th>\n",
       "      <th>96-108</th>\n",
       "      <th>108-120</th>\n",
       "    </tr>\n",
       "  </thead>\n",
       "  <tbody>\n",
       "    <tr>\n",
       "      <th>(All)</th>\n",
       "      <td>0.1232</td>\n",
       "      <td>0.0340</td>\n",
       "      <td>0.0135</td>\n",
       "      <td>0.0091</td>\n",
       "      <td>0.0074</td>\n",
       "      <td>0.0067</td>\n",
       "      <td>0.0073</td>\n",
       "      <td>0.0097</td>\n",
       "      <td>0.0032</td>\n",
       "    </tr>\n",
       "  </tbody>\n",
       "</table>"
      ],
      "text/plain": [
       "          12-24     24-36     36-48     48-60     60-72     72-84     84-96   96-108   108-120\n",
       "(All)  0.123197  0.034009  0.013495  0.009146  0.007386  0.006673  0.007257  0.00966  0.003222"
      ]
     },
     "execution_count": 10,
     "metadata": {},
     "output_type": "execute_result"
    }
   ],
   "source": [
    "dev.sigma_"
   ]
  },
  {
   "cell_type": "code",
   "execution_count": 11,
   "metadata": {},
   "outputs": [
    {
     "data": {
      "text/html": [
       "<table border=\"1\" class=\"dataframe\">\n",
       "  <thead>\n",
       "    <tr style=\"text-align: right;\">\n",
       "      <th></th>\n",
       "      <th>12-24</th>\n",
       "      <th>24-36</th>\n",
       "      <th>36-48</th>\n",
       "      <th>48-60</th>\n",
       "      <th>60-72</th>\n",
       "      <th>72-84</th>\n",
       "      <th>84-96</th>\n",
       "      <th>96-108</th>\n",
       "      <th>108-120</th>\n",
       "    </tr>\n",
       "  </thead>\n",
       "  <tbody>\n",
       "    <tr>\n",
       "      <th>(All)</th>\n",
       "      <td>0.0411</td>\n",
       "      <td>0.0120</td>\n",
       "      <td>0.0051</td>\n",
       "      <td>0.0037</td>\n",
       "      <td>0.0033</td>\n",
       "      <td>0.0033</td>\n",
       "      <td>0.0042</td>\n",
       "      <td>0.0068</td>\n",
       "      <td>0.0032</td>\n",
       "    </tr>\n",
       "  </tbody>\n",
       "</table>"
      ],
      "text/plain": [
       "          12-24     24-36     36-48     48-60     60-72     72-84    84-96    96-108   108-120\n",
       "(All)  0.041066  0.012024  0.005101  0.003734  0.003303  0.003337  0.00419  0.006831  0.003222"
      ]
     },
     "execution_count": 11,
     "metadata": {},
     "output_type": "execute_result"
    }
   ],
   "source": [
    "dev.std_err_"
   ]
  },
  {
   "cell_type": "markdown",
   "metadata": {},
   "source": [
    "Remember that `std_err_` is calculated as $\\frac{\\sigma}{\\sqrt{N}}$."
   ]
  },
  {
   "cell_type": "code",
   "execution_count": 12,
   "metadata": {},
   "outputs": [
    {
     "data": {
      "text/plain": [
       "array([0.0411, 0.012 , 0.0051, 0.0037, 0.0033, 0.0033, 0.0042, 0.0068,\n",
       "       0.0032])"
      ]
     },
     "execution_count": 12,
     "metadata": {},
     "output_type": "execute_result"
    }
   ],
   "source": [
    "np.round(\n",
    "    dev.sigma_.to_frame().transpose()[\"(All)\"].values\n",
    "    / np.sqrt(clrd[\"CumPaidLoss\"].age_to_age.to_frame().count()).values,\n",
    "    4,\n",
    ")"
   ]
  },
  {
   "cell_type": "markdown",
   "metadata": {},
   "source": [
    "Since the regression framework uses the weighting method, we can easily turn \"on and off\" any observation we want using the dropping capabilities such as `drop_valuation` in the `Development` estimator. Dropping link ratios not only affects the `ldf_` and `cdf_`, but also the `std_err_` and `sigma` of the estimates.\n",
    "\n",
    "Can we eliminate the 1988 valuation from our triangle, which is identical to eliminating the first observation from our 12-24 regression fit? Let's calculate the `std_err` for the `ldf_` of ages 12-24, and compare it to the value calculated using the weighted least squares regression."
   ]
  },
  {
   "cell_type": "code",
   "execution_count": 13,
   "metadata": {},
   "outputs": [
    {
     "data": {
      "text/html": [
       "<table border=\"1\" class=\"dataframe\">\n",
       "  <thead>\n",
       "    <tr style=\"text-align: right;\">\n",
       "      <th></th>\n",
       "      <th>12</th>\n",
       "      <th>24</th>\n",
       "      <th>36</th>\n",
       "      <th>48</th>\n",
       "      <th>60</th>\n",
       "      <th>72</th>\n",
       "      <th>84</th>\n",
       "      <th>96</th>\n",
       "      <th>108</th>\n",
       "      <th>120</th>\n",
       "    </tr>\n",
       "  </thead>\n",
       "  <tbody>\n",
       "    <tr>\n",
       "      <th>1988</th>\n",
       "      <td>285,804</td>\n",
       "      <td>638,532</td>\n",
       "      <td>865,100</td>\n",
       "      <td>996,363</td>\n",
       "      <td>1,084,351</td>\n",
       "      <td>1,133,188</td>\n",
       "      <td>1,169,749</td>\n",
       "      <td>1,196,917</td>\n",
       "      <td>1,229,203</td>\n",
       "      <td>1,241,715</td>\n",
       "    </tr>\n",
       "    <tr>\n",
       "      <th>1989</th>\n",
       "      <td>307,720</td>\n",
       "      <td>684,140</td>\n",
       "      <td>916,996</td>\n",
       "      <td>1,065,674</td>\n",
       "      <td>1,154,072</td>\n",
       "      <td>1,210,479</td>\n",
       "      <td>1,249,886</td>\n",
       "      <td>1,291,512</td>\n",
       "      <td>1,308,706</td>\n",
       "      <td></td>\n",
       "    </tr>\n",
       "    <tr>\n",
       "      <th>1990</th>\n",
       "      <td>320,124</td>\n",
       "      <td>757,479</td>\n",
       "      <td>1,017,144</td>\n",
       "      <td>1,169,014</td>\n",
       "      <td>1,258,975</td>\n",
       "      <td>1,315,368</td>\n",
       "      <td>1,368,374</td>\n",
       "      <td>1,394,675</td>\n",
       "      <td></td>\n",
       "      <td></td>\n",
       "    </tr>\n",
       "    <tr>\n",
       "      <th>1991</th>\n",
       "      <td>347,417</td>\n",
       "      <td>793,749</td>\n",
       "      <td>1,053,414</td>\n",
       "      <td>1,209,556</td>\n",
       "      <td>1,307,164</td>\n",
       "      <td>1,381,645</td>\n",
       "      <td>1,414,747</td>\n",
       "      <td></td>\n",
       "      <td></td>\n",
       "      <td></td>\n",
       "    </tr>\n",
       "    <tr>\n",
       "      <th>1992</th>\n",
       "      <td>342,982</td>\n",
       "      <td>781,402</td>\n",
       "      <td>1,014,982</td>\n",
       "      <td>1,172,915</td>\n",
       "      <td>1,281,864</td>\n",
       "      <td>1,328,801</td>\n",
       "      <td></td>\n",
       "      <td></td>\n",
       "      <td></td>\n",
       "      <td></td>\n",
       "    </tr>\n",
       "    <tr>\n",
       "      <th>1993</th>\n",
       "      <td>342,385</td>\n",
       "      <td>743,433</td>\n",
       "      <td>959,147</td>\n",
       "      <td>1,113,314</td>\n",
       "      <td>1,187,581</td>\n",
       "      <td></td>\n",
       "      <td></td>\n",
       "      <td></td>\n",
       "      <td></td>\n",
       "      <td></td>\n",
       "    </tr>\n",
       "    <tr>\n",
       "      <th>1994</th>\n",
       "      <td>351,060</td>\n",
       "      <td>750,392</td>\n",
       "      <td>993,751</td>\n",
       "      <td>1,114,842</td>\n",
       "      <td></td>\n",
       "      <td></td>\n",
       "      <td></td>\n",
       "      <td></td>\n",
       "      <td></td>\n",
       "      <td></td>\n",
       "    </tr>\n",
       "    <tr>\n",
       "      <th>1995</th>\n",
       "      <td>343,841</td>\n",
       "      <td>768,575</td>\n",
       "      <td>962,081</td>\n",
       "      <td></td>\n",
       "      <td></td>\n",
       "      <td></td>\n",
       "      <td></td>\n",
       "      <td></td>\n",
       "      <td></td>\n",
       "      <td></td>\n",
       "    </tr>\n",
       "    <tr>\n",
       "      <th>1996</th>\n",
       "      <td>381,484</td>\n",
       "      <td>736,040</td>\n",
       "      <td></td>\n",
       "      <td></td>\n",
       "      <td></td>\n",
       "      <td></td>\n",
       "      <td></td>\n",
       "      <td></td>\n",
       "      <td></td>\n",
       "      <td></td>\n",
       "    </tr>\n",
       "    <tr>\n",
       "      <th>1997</th>\n",
       "      <td>340,132</td>\n",
       "      <td></td>\n",
       "      <td></td>\n",
       "      <td></td>\n",
       "      <td></td>\n",
       "      <td></td>\n",
       "      <td></td>\n",
       "      <td></td>\n",
       "      <td></td>\n",
       "      <td></td>\n",
       "    </tr>\n",
       "  </tbody>\n",
       "</table>"
      ],
      "text/plain": [
       "           12        24         36         48         60         72         84         96         108        120\n",
       "1988  285804.0  638532.0   865100.0   996363.0  1084351.0  1133188.0  1169749.0  1196917.0  1229203.0  1241715.0\n",
       "1989  307720.0  684140.0   916996.0  1065674.0  1154072.0  1210479.0  1249886.0  1291512.0  1308706.0        NaN\n",
       "1990  320124.0  757479.0  1017144.0  1169014.0  1258975.0  1315368.0  1368374.0  1394675.0        NaN        NaN\n",
       "1991  347417.0  793749.0  1053414.0  1209556.0  1307164.0  1381645.0  1414747.0        NaN        NaN        NaN\n",
       "1992  342982.0  781402.0  1014982.0  1172915.0  1281864.0  1328801.0        NaN        NaN        NaN        NaN\n",
       "1993  342385.0  743433.0   959147.0  1113314.0  1187581.0        NaN        NaN        NaN        NaN        NaN\n",
       "1994  351060.0  750392.0   993751.0  1114842.0        NaN        NaN        NaN        NaN        NaN        NaN\n",
       "1995  343841.0  768575.0   962081.0        NaN        NaN        NaN        NaN        NaN        NaN        NaN\n",
       "1996  381484.0  736040.0        NaN        NaN        NaN        NaN        NaN        NaN        NaN        NaN\n",
       "1997  340132.0       NaN        NaN        NaN        NaN        NaN        NaN        NaN        NaN        NaN"
      ]
     },
     "execution_count": 13,
     "metadata": {},
     "output_type": "execute_result"
    }
   ],
   "source": [
    "clrd[\"CumPaidLoss\"]"
   ]
  },
  {
   "cell_type": "code",
   "execution_count": 14,
   "metadata": {},
   "outputs": [
    {
     "data": {
      "text/plain": [
       "True"
      ]
     },
     "execution_count": 14,
     "metadata": {},
     "output_type": "execute_result"
    }
   ],
   "source": [
    "round(\n",
    "    cl.Development(average=\"volume\", drop_valuation=\"1988\")\n",
    "    .fit(clrd[\"CumPaidLoss\"])\n",
    "    .std_err_.to_frame()\n",
    "    .values[0, 0],\n",
    "    8,\n",
    ") == round(sm.WLS(y[1:], x[1:], weights=(1 / x[1:])).fit().bse[0], 8)"
   ]
  },
  {
   "cell_type": "markdown",
   "metadata": {},
   "source": [
    "With `sigma_` and `std_err_` in hand, Mack goes on to develop recursive formulas to estimate `parameter_risk_` and `process_risk_`."
   ]
  },
  {
   "cell_type": "code",
   "execution_count": 15,
   "metadata": {},
   "outputs": [
    {
     "data": {
      "text/html": [
       "<table border=\"1\" class=\"dataframe\">\n",
       "  <thead>\n",
       "    <tr style=\"text-align: right;\">\n",
       "      <th></th>\n",
       "      <th>12</th>\n",
       "      <th>24</th>\n",
       "      <th>36</th>\n",
       "      <th>48</th>\n",
       "      <th>60</th>\n",
       "      <th>72</th>\n",
       "      <th>84</th>\n",
       "      <th>96</th>\n",
       "      <th>108</th>\n",
       "      <th>120</th>\n",
       "      <th>9999</th>\n",
       "    </tr>\n",
       "  </thead>\n",
       "  <tbody>\n",
       "    <tr>\n",
       "      <th>1988</th>\n",
       "      <td>0</td>\n",
       "      <td>0</td>\n",
       "      <td>0</td>\n",
       "      <td>0</td>\n",
       "      <td>0</td>\n",
       "      <td>0</td>\n",
       "      <td>0</td>\n",
       "      <td>0</td>\n",
       "      <td>0</td>\n",
       "      <td>0</td>\n",
       "      <td>1,646</td>\n",
       "    </tr>\n",
       "    <tr>\n",
       "      <th>1989</th>\n",
       "      <td>0</td>\n",
       "      <td>0</td>\n",
       "      <td>0</td>\n",
       "      <td>0</td>\n",
       "      <td>0</td>\n",
       "      <td>0</td>\n",
       "      <td>0</td>\n",
       "      <td>0</td>\n",
       "      <td>0</td>\n",
       "      <td>5,251</td>\n",
       "      <td>5,536</td>\n",
       "    </tr>\n",
       "    <tr>\n",
       "      <th>1990</th>\n",
       "      <td>0</td>\n",
       "      <td>0</td>\n",
       "      <td>0</td>\n",
       "      <td>0</td>\n",
       "      <td>0</td>\n",
       "      <td>0</td>\n",
       "      <td>0</td>\n",
       "      <td>0</td>\n",
       "      <td>9,520</td>\n",
       "      <td>11,183</td>\n",
       "      <td>11,344</td>\n",
       "    </tr>\n",
       "    <tr>\n",
       "      <th>1991</th>\n",
       "      <td>0</td>\n",
       "      <td>0</td>\n",
       "      <td>0</td>\n",
       "      <td>0</td>\n",
       "      <td>0</td>\n",
       "      <td>0</td>\n",
       "      <td>0</td>\n",
       "      <td>5,984</td>\n",
       "      <td>11,629</td>\n",
       "      <td>13,161</td>\n",
       "      <td>13,310</td>\n",
       "    </tr>\n",
       "    <tr>\n",
       "      <th>1992</th>\n",
       "      <td>0</td>\n",
       "      <td>0</td>\n",
       "      <td>0</td>\n",
       "      <td>0</td>\n",
       "      <td>0</td>\n",
       "      <td>0</td>\n",
       "      <td>4,588</td>\n",
       "      <td>7,468</td>\n",
       "      <td>12,252</td>\n",
       "      <td>13,648</td>\n",
       "      <td>13,783</td>\n",
       "    </tr>\n",
       "    <tr>\n",
       "      <th>1993</th>\n",
       "      <td>0</td>\n",
       "      <td>0</td>\n",
       "      <td>0</td>\n",
       "      <td>0</td>\n",
       "      <td>0</td>\n",
       "      <td>4,037</td>\n",
       "      <td>5,981</td>\n",
       "      <td>8,187</td>\n",
       "      <td>12,259</td>\n",
       "      <td>13,502</td>\n",
       "      <td>13,621</td>\n",
       "    </tr>\n",
       "    <tr>\n",
       "      <th>1994</th>\n",
       "      <td>0</td>\n",
       "      <td>0</td>\n",
       "      <td>0</td>\n",
       "      <td>0</td>\n",
       "      <td>4,163</td>\n",
       "      <td>5,980</td>\n",
       "      <td>7,555</td>\n",
       "      <td>9,503</td>\n",
       "      <td>13,302</td>\n",
       "      <td>14,506</td>\n",
       "      <td>14,620</td>\n",
       "    </tr>\n",
       "    <tr>\n",
       "      <th>1995</th>\n",
       "      <td>0</td>\n",
       "      <td>0</td>\n",
       "      <td>0</td>\n",
       "      <td>4,921</td>\n",
       "      <td>6,736</td>\n",
       "      <td>8,137</td>\n",
       "      <td>9,446</td>\n",
       "      <td>11,118</td>\n",
       "      <td>14,502</td>\n",
       "      <td>15,620</td>\n",
       "      <td>15,724</td>\n",
       "    </tr>\n",
       "    <tr>\n",
       "      <th>1996</th>\n",
       "      <td>0</td>\n",
       "      <td>0</td>\n",
       "      <td>8,824</td>\n",
       "      <td>11,289</td>\n",
       "      <td>12,895</td>\n",
       "      <td>14,101</td>\n",
       "      <td>15,190</td>\n",
       "      <td>16,513</td>\n",
       "      <td>19,141</td>\n",
       "      <td>20,090</td>\n",
       "      <td>20,172</td>\n",
       "    </tr>\n",
       "    <tr>\n",
       "      <th>1997</th>\n",
       "      <td>0</td>\n",
       "      <td>14,499</td>\n",
       "      <td>21,075</td>\n",
       "      <td>24,749</td>\n",
       "      <td>27,093</td>\n",
       "      <td>28,657</td>\n",
       "      <td>29,907</td>\n",
       "      <td>31,164</td>\n",
       "      <td>33,103</td>\n",
       "      <td>33,897</td>\n",
       "      <td>33,947</td>\n",
       "    </tr>\n",
       "  </tbody>\n",
       "</table>"
      ],
      "text/plain": [
       "      12            24            36            48            60            72            84            96            108           120           9999\n",
       "1988   0.0      0.000000      0.000000      0.000000      0.000000      0.000000      0.000000      0.000000      0.000000      0.000000   1645.721148\n",
       "1989   0.0      0.000000      0.000000      0.000000      0.000000      0.000000      0.000000      0.000000      0.000000   5251.180091   5535.789983\n",
       "1990   0.0      0.000000      0.000000      0.000000      0.000000      0.000000      0.000000      0.000000   9519.597764  11182.642025  11343.641090\n",
       "1991   0.0      0.000000      0.000000      0.000000      0.000000      0.000000      0.000000   5983.826435  11629.056593  13161.494851  13309.640159\n",
       "1992   0.0      0.000000      0.000000      0.000000      0.000000      0.000000   4587.550645   7467.757613  12251.618351  13648.337451  13782.697225\n",
       "1993   0.0      0.000000      0.000000      0.000000      0.000000   4036.584426   5980.685134   8186.842405  12258.771773  13502.229704  13621.095939\n",
       "1994   0.0      0.000000      0.000000      0.000000   4162.542848   5980.464847   7554.693620   9503.083404  13302.246384  14505.513836  14619.580834\n",
       "1995   0.0      0.000000      0.000000   4920.825234   6735.780467   8137.402853   9445.571257  11118.249482  14501.741876  15619.795959  15724.136183\n",
       "1996   0.0      0.000000   8823.893815  11288.653535  12894.776869  14100.808340  15189.795391  16513.301328  19140.782034  20089.868162  20172.099001\n",
       "1997   0.0  14499.310582  21075.422823  24748.584403  27093.408297  28657.082880  29907.337622  31164.059421  33102.891878  33896.767821  33947.259341"
      ]
     },
     "execution_count": 15,
     "metadata": {},
     "output_type": "execute_result"
    }
   ],
   "source": [
    "mack.parameter_risk_"
   ]
  },
  {
   "cell_type": "code",
   "execution_count": 16,
   "metadata": {},
   "outputs": [
    {
     "data": {
      "text/html": [
       "<table border=\"1\" class=\"dataframe\">\n",
       "  <thead>\n",
       "    <tr style=\"text-align: right;\">\n",
       "      <th></th>\n",
       "      <th>12</th>\n",
       "      <th>24</th>\n",
       "      <th>36</th>\n",
       "      <th>48</th>\n",
       "      <th>60</th>\n",
       "      <th>72</th>\n",
       "      <th>84</th>\n",
       "      <th>96</th>\n",
       "      <th>108</th>\n",
       "      <th>120</th>\n",
       "      <th>9999</th>\n",
       "    </tr>\n",
       "  </thead>\n",
       "  <tbody>\n",
       "    <tr>\n",
       "      <th>1988</th>\n",
       "      <td>0</td>\n",
       "      <td>0</td>\n",
       "      <td>0</td>\n",
       "      <td>0</td>\n",
       "      <td>0</td>\n",
       "      <td>0</td>\n",
       "      <td>0</td>\n",
       "      <td>0</td>\n",
       "      <td>0</td>\n",
       "      <td>0</td>\n",
       "      <td>1,786</td>\n",
       "    </tr>\n",
       "    <tr>\n",
       "      <th>1989</th>\n",
       "      <td>0</td>\n",
       "      <td>0</td>\n",
       "      <td>0</td>\n",
       "      <td>0</td>\n",
       "      <td>0</td>\n",
       "      <td>0</td>\n",
       "      <td>0</td>\n",
       "      <td>0</td>\n",
       "      <td>0</td>\n",
       "      <td>5,089</td>\n",
       "      <td>5,413</td>\n",
       "    </tr>\n",
       "    <tr>\n",
       "      <th>1990</th>\n",
       "      <td>0</td>\n",
       "      <td>0</td>\n",
       "      <td>0</td>\n",
       "      <td>0</td>\n",
       "      <td>0</td>\n",
       "      <td>0</td>\n",
       "      <td>0</td>\n",
       "      <td>0</td>\n",
       "      <td>12,716</td>\n",
       "      <td>13,898</td>\n",
       "      <td>14,030</td>\n",
       "    </tr>\n",
       "    <tr>\n",
       "      <th>1991</th>\n",
       "      <td>0</td>\n",
       "      <td>0</td>\n",
       "      <td>0</td>\n",
       "      <td>0</td>\n",
       "      <td>0</td>\n",
       "      <td>0</td>\n",
       "      <td>0</td>\n",
       "      <td>9,791</td>\n",
       "      <td>16,366</td>\n",
       "      <td>17,396</td>\n",
       "      <td>17,506</td>\n",
       "    </tr>\n",
       "    <tr>\n",
       "      <th>1992</th>\n",
       "      <td>0</td>\n",
       "      <td>0</td>\n",
       "      <td>0</td>\n",
       "      <td>0</td>\n",
       "      <td>0</td>\n",
       "      <td>0</td>\n",
       "      <td>8,935</td>\n",
       "      <td>13,298</td>\n",
       "      <td>18,626</td>\n",
       "      <td>19,555</td>\n",
       "      <td>19,650</td>\n",
       "    </tr>\n",
       "    <tr>\n",
       "      <th>1993</th>\n",
       "      <td>0</td>\n",
       "      <td>0</td>\n",
       "      <td>0</td>\n",
       "      <td>0</td>\n",
       "      <td>0</td>\n",
       "      <td>9,138</td>\n",
       "      <td>12,792</td>\n",
       "      <td>16,090</td>\n",
       "      <td>20,536</td>\n",
       "      <td>21,375</td>\n",
       "      <td>21,457</td>\n",
       "    </tr>\n",
       "    <tr>\n",
       "      <th>1994</th>\n",
       "      <td>0</td>\n",
       "      <td>0</td>\n",
       "      <td>0</td>\n",
       "      <td>0</td>\n",
       "      <td>10,225</td>\n",
       "      <td>14,116</td>\n",
       "      <td>16,973</td>\n",
       "      <td>19,773</td>\n",
       "      <td>23,695</td>\n",
       "      <td>24,492</td>\n",
       "      <td>24,564</td>\n",
       "    </tr>\n",
       "    <tr>\n",
       "      <th>1995</th>\n",
       "      <td>0</td>\n",
       "      <td>0</td>\n",
       "      <td>0</td>\n",
       "      <td>13,102</td>\n",
       "      <td>17,449</td>\n",
       "      <td>20,434</td>\n",
       "      <td>22,804</td>\n",
       "      <td>25,180</td>\n",
       "      <td>28,514</td>\n",
       "      <td>29,264</td>\n",
       "      <td>29,324</td>\n",
       "    </tr>\n",
       "    <tr>\n",
       "      <th>1996</th>\n",
       "      <td>0</td>\n",
       "      <td>0</td>\n",
       "      <td>25,020</td>\n",
       "      <td>31,626</td>\n",
       "      <td>35,692</td>\n",
       "      <td>38,468</td>\n",
       "      <td>40,646</td>\n",
       "      <td>42,711</td>\n",
       "      <td>45,298</td>\n",
       "      <td>46,052</td>\n",
       "      <td>46,091</td>\n",
       "    </tr>\n",
       "    <tr>\n",
       "      <th>1997</th>\n",
       "      <td>0</td>\n",
       "      <td>43,224</td>\n",
       "      <td>62,195</td>\n",
       "      <td>72,725</td>\n",
       "      <td>79,313</td>\n",
       "      <td>83,518</td>\n",
       "      <td>86,649</td>\n",
       "      <td>89,327</td>\n",
       "      <td>91,962</td>\n",
       "      <td>93,045</td>\n",
       "      <td>93,064</td>\n",
       "    </tr>\n",
       "  </tbody>\n",
       "</table>"
      ],
      "text/plain": [
       "      12            24            36            48            60            72            84            96            108           120           9999\n",
       "1988   0.0      0.000000      0.000000      0.000000      0.000000      0.000000      0.000000      0.000000      0.000000      0.000000   1786.361888\n",
       "1989   0.0      0.000000      0.000000      0.000000      0.000000      0.000000      0.000000      0.000000      0.000000   5089.178360   5412.690643\n",
       "1990   0.0      0.000000      0.000000      0.000000      0.000000      0.000000      0.000000      0.000000  12715.830121  13897.867439  14030.088287\n",
       "1991   0.0      0.000000      0.000000      0.000000      0.000000      0.000000      0.000000   9791.406888  16366.403244  17395.742449  17505.761711\n",
       "1992   0.0      0.000000      0.000000      0.000000      0.000000      0.000000   8935.018632  13297.970777  18626.292883  19555.442335  19650.390741\n",
       "1993   0.0      0.000000      0.000000      0.000000      0.000000   9138.261738  12791.894216  16089.736384  20536.049213  21375.214311  21456.500712\n",
       "1994   0.0      0.000000      0.000000      0.000000  10224.862489  14116.221900  16973.053193  19773.012411  23694.524776  24492.049755  24564.094599\n",
       "1995   0.0      0.000000      0.000000  13102.112109  17448.727071  20433.824628  22804.105513  25179.674557  28513.597608  29264.184137  29324.035626\n",
       "1996   0.0      0.000000  25019.931172  31625.831305  35691.638815  38467.636171  40646.204205  42710.593579  45298.452925  46052.488614  46090.778483\n",
       "1997   0.0  43224.455819  62195.286837  72725.026610  79312.695910  83518.132020  86648.812027  89327.026162  91961.614291  93044.819214  93064.102475"
      ]
     },
     "execution_count": 16,
     "metadata": {},
     "output_type": "execute_result"
    }
   ],
   "source": [
    "mack.process_risk_"
   ]
  },
  {
   "cell_type": "markdown",
   "metadata": {},
   "source": [
    "### Assumption of Independence\n",
    "The Mack model makes a lot of assumptions about independence (i.e. the covariance between random processes is 0). This means that many of the Variance estimates in the `MackChainladder` model follow the form of $Var(A+B) = Var(A)+Var(B)$. \n",
    "\n",
    "First, `mack_std_err_`<sup>2</sup> $=$ `parameter_risk_`<sup>2</sup> $+$ `process_risk_`<sup>2</sup>, the parameter risk and process risk is assumed to be independent. "
   ]
  },
  {
   "cell_type": "code",
   "execution_count": 17,
   "metadata": {},
   "outputs": [
    {
     "data": {
      "text/html": [
       "<table border=\"1\" class=\"dataframe\">\n",
       "  <thead>\n",
       "    <tr style=\"text-align: right;\">\n",
       "      <th></th>\n",
       "      <th>12</th>\n",
       "      <th>24</th>\n",
       "      <th>36</th>\n",
       "      <th>48</th>\n",
       "      <th>60</th>\n",
       "      <th>72</th>\n",
       "      <th>84</th>\n",
       "      <th>96</th>\n",
       "      <th>108</th>\n",
       "      <th>120</th>\n",
       "      <th>9999</th>\n",
       "    </tr>\n",
       "  </thead>\n",
       "  <tbody>\n",
       "    <tr>\n",
       "      <th>1988</th>\n",
       "      <td></td>\n",
       "      <td></td>\n",
       "      <td></td>\n",
       "      <td></td>\n",
       "      <td></td>\n",
       "      <td></td>\n",
       "      <td></td>\n",
       "      <td></td>\n",
       "      <td></td>\n",
       "      <td></td>\n",
       "      <td>5,899,487</td>\n",
       "    </tr>\n",
       "    <tr>\n",
       "      <th>1989</th>\n",
       "      <td></td>\n",
       "      <td></td>\n",
       "      <td></td>\n",
       "      <td></td>\n",
       "      <td></td>\n",
       "      <td></td>\n",
       "      <td></td>\n",
       "      <td></td>\n",
       "      <td></td>\n",
       "      <td>53,474,629</td>\n",
       "      <td>59,942,191</td>\n",
       "    </tr>\n",
       "    <tr>\n",
       "      <th>1990</th>\n",
       "      <td></td>\n",
       "      <td></td>\n",
       "      <td></td>\n",
       "      <td></td>\n",
       "      <td></td>\n",
       "      <td></td>\n",
       "      <td></td>\n",
       "      <td></td>\n",
       "      <td>252,315,077</td>\n",
       "      <td>318,202,202</td>\n",
       "      <td>325,521,571</td>\n",
       "    </tr>\n",
       "    <tr>\n",
       "      <th>1991</th>\n",
       "      <td></td>\n",
       "      <td></td>\n",
       "      <td></td>\n",
       "      <td></td>\n",
       "      <td></td>\n",
       "      <td></td>\n",
       "      <td></td>\n",
       "      <td>131,677,828</td>\n",
       "      <td>403,094,112</td>\n",
       "      <td>475,836,802</td>\n",
       "      <td>483,598,214</td>\n",
       "    </tr>\n",
       "    <tr>\n",
       "      <th>1992</th>\n",
       "      <td></td>\n",
       "      <td></td>\n",
       "      <td></td>\n",
       "      <td></td>\n",
       "      <td></td>\n",
       "      <td></td>\n",
       "      <td>100,880,179</td>\n",
       "      <td>232,603,431</td>\n",
       "      <td>497,040,939</td>\n",
       "      <td>568,692,440</td>\n",
       "      <td>576,100,599</td>\n",
       "    </tr>\n",
       "    <tr>\n",
       "      <th>1993</th>\n",
       "      <td></td>\n",
       "      <td></td>\n",
       "      <td></td>\n",
       "      <td></td>\n",
       "      <td></td>\n",
       "      <td>99,801,841</td>\n",
       "      <td>199,401,152</td>\n",
       "      <td>325,904,005</td>\n",
       "      <td>572,006,803</td>\n",
       "      <td>639,209,994</td>\n",
       "      <td>645,915,677</td>\n",
       "    </tr>\n",
       "    <tr>\n",
       "      <th>1994</th>\n",
       "      <td></td>\n",
       "      <td></td>\n",
       "      <td></td>\n",
       "      <td></td>\n",
       "      <td>121,874,576</td>\n",
       "      <td>235,033,680</td>\n",
       "      <td>345,157,930</td>\n",
       "      <td>481,280,614</td>\n",
       "      <td>738,380,263</td>\n",
       "      <td>810,270,433</td>\n",
       "      <td>817,126,887</td>\n",
       "    </tr>\n",
       "    <tr>\n",
       "      <th>1995</th>\n",
       "      <td></td>\n",
       "      <td></td>\n",
       "      <td></td>\n",
       "      <td>195,879,863</td>\n",
       "      <td>349,828,815</td>\n",
       "      <td>483,758,514</td>\n",
       "      <td>609,246,045</td>\n",
       "      <td>757,631,482</td>\n",
       "      <td>1,023,325,766</td>\n",
       "      <td>1,100,370,499</td>\n",
       "      <td>1,107,147,524</td>\n",
       "    </tr>\n",
       "    <tr>\n",
       "      <th>1996</th>\n",
       "      <td></td>\n",
       "      <td></td>\n",
       "      <td>703,858,058</td>\n",
       "      <td>1,127,626,904</td>\n",
       "      <td>1,440,168,352</td>\n",
       "      <td>1,678,591,828</td>\n",
       "      <td>1,882,843,800</td>\n",
       "      <td>2,096,883,925</td>\n",
       "      <td>2,418,319,374</td>\n",
       "      <td>2,524,434,510</td>\n",
       "      <td>2,531,273,439</td>\n",
       "    </tr>\n",
       "    <tr>\n",
       "      <th>1997</th>\n",
       "      <td></td>\n",
       "      <td>2,078,583,588</td>\n",
       "      <td>4,312,427,152</td>\n",
       "      <td>5,901,421,925</td>\n",
       "      <td>7,024,556,506</td>\n",
       "      <td>7,796,506,775</td>\n",
       "      <td>8,402,465,469</td>\n",
       "      <td>8,950,516,203</td>\n",
       "      <td>9,552,739,954</td>\n",
       "      <td>9,806,329,251</td>\n",
       "      <td>9,813,343,586</td>\n",
       "    </tr>\n",
       "  </tbody>\n",
       "</table>"
      ],
      "text/plain": [
       "      12            24            36            48            60            72            84            96            108           120           9999\n",
       "1988   NaN           NaN           NaN           NaN           NaN           NaN           NaN           NaN           NaN           NaN  5.899487e+06\n",
       "1989   NaN           NaN           NaN           NaN           NaN           NaN           NaN           NaN           NaN  5.347463e+07  5.994219e+07\n",
       "1990   NaN           NaN           NaN           NaN           NaN           NaN           NaN           NaN  2.523151e+08  3.182022e+08  3.255216e+08\n",
       "1991   NaN           NaN           NaN           NaN           NaN           NaN           NaN  1.316778e+08  4.030941e+08  4.758368e+08  4.835982e+08\n",
       "1992   NaN           NaN           NaN           NaN           NaN           NaN  1.008802e+08  2.326034e+08  4.970409e+08  5.686924e+08  5.761006e+08\n",
       "1993   NaN           NaN           NaN           NaN           NaN  9.980184e+07  1.994012e+08  3.259040e+08  5.720068e+08  6.392100e+08  6.459157e+08\n",
       "1994   NaN           NaN           NaN           NaN  1.218746e+08  2.350337e+08  3.451579e+08  4.812806e+08  7.383803e+08  8.102704e+08  8.171269e+08\n",
       "1995   NaN           NaN           NaN  1.958799e+08  3.498288e+08  4.837585e+08  6.092460e+08  7.576315e+08  1.023326e+09  1.100370e+09  1.107148e+09\n",
       "1996   NaN           NaN  7.038581e+08  1.127627e+09  1.440168e+09  1.678592e+09  1.882844e+09  2.096884e+09  2.418319e+09  2.524435e+09  2.531273e+09\n",
       "1997   NaN  2.078584e+09  4.312427e+09  5.901422e+09  7.024557e+09  7.796507e+09  8.402465e+09  8.950516e+09  9.552740e+09  9.806329e+09  9.813344e+09"
      ]
     },
     "execution_count": 17,
     "metadata": {},
     "output_type": "execute_result"
    }
   ],
   "source": [
    "mack.parameter_risk_ ** 2 + mack.process_risk_ ** 2"
   ]
  },
  {
   "cell_type": "code",
   "execution_count": 18,
   "metadata": {},
   "outputs": [
    {
     "data": {
      "text/html": [
       "<table border=\"1\" class=\"dataframe\">\n",
       "  <thead>\n",
       "    <tr style=\"text-align: right;\">\n",
       "      <th></th>\n",
       "      <th>12</th>\n",
       "      <th>24</th>\n",
       "      <th>36</th>\n",
       "      <th>48</th>\n",
       "      <th>60</th>\n",
       "      <th>72</th>\n",
       "      <th>84</th>\n",
       "      <th>96</th>\n",
       "      <th>108</th>\n",
       "      <th>120</th>\n",
       "      <th>9999</th>\n",
       "    </tr>\n",
       "  </thead>\n",
       "  <tbody>\n",
       "    <tr>\n",
       "      <th>1988</th>\n",
       "      <td>0</td>\n",
       "      <td>0</td>\n",
       "      <td>0</td>\n",
       "      <td>0</td>\n",
       "      <td>0</td>\n",
       "      <td>0</td>\n",
       "      <td>0</td>\n",
       "      <td>0</td>\n",
       "      <td>0</td>\n",
       "      <td>0</td>\n",
       "      <td>5,899,487</td>\n",
       "    </tr>\n",
       "    <tr>\n",
       "      <th>1989</th>\n",
       "      <td>0</td>\n",
       "      <td>0</td>\n",
       "      <td>0</td>\n",
       "      <td>0</td>\n",
       "      <td>0</td>\n",
       "      <td>0</td>\n",
       "      <td>0</td>\n",
       "      <td>0</td>\n",
       "      <td>0</td>\n",
       "      <td>53,474,629</td>\n",
       "      <td>59,942,191</td>\n",
       "    </tr>\n",
       "    <tr>\n",
       "      <th>1990</th>\n",
       "      <td>0</td>\n",
       "      <td>0</td>\n",
       "      <td>0</td>\n",
       "      <td>0</td>\n",
       "      <td>0</td>\n",
       "      <td>0</td>\n",
       "      <td>0</td>\n",
       "      <td>0</td>\n",
       "      <td>252,315,077</td>\n",
       "      <td>318,202,202</td>\n",
       "      <td>325,521,571</td>\n",
       "    </tr>\n",
       "    <tr>\n",
       "      <th>1991</th>\n",
       "      <td>0</td>\n",
       "      <td>0</td>\n",
       "      <td>0</td>\n",
       "      <td>0</td>\n",
       "      <td>0</td>\n",
       "      <td>0</td>\n",
       "      <td>0</td>\n",
       "      <td>131,677,828</td>\n",
       "      <td>403,094,112</td>\n",
       "      <td>475,836,802</td>\n",
       "      <td>483,598,214</td>\n",
       "    </tr>\n",
       "    <tr>\n",
       "      <th>1992</th>\n",
       "      <td>0</td>\n",
       "      <td>0</td>\n",
       "      <td>0</td>\n",
       "      <td>0</td>\n",
       "      <td>0</td>\n",
       "      <td>0</td>\n",
       "      <td>100,880,179</td>\n",
       "      <td>232,603,431</td>\n",
       "      <td>497,040,939</td>\n",
       "      <td>568,692,440</td>\n",
       "      <td>576,100,599</td>\n",
       "    </tr>\n",
       "    <tr>\n",
       "      <th>1993</th>\n",
       "      <td>0</td>\n",
       "      <td>0</td>\n",
       "      <td>0</td>\n",
       "      <td>0</td>\n",
       "      <td>0</td>\n",
       "      <td>99,801,841</td>\n",
       "      <td>199,401,152</td>\n",
       "      <td>325,904,005</td>\n",
       "      <td>572,006,803</td>\n",
       "      <td>639,209,994</td>\n",
       "      <td>645,915,677</td>\n",
       "    </tr>\n",
       "    <tr>\n",
       "      <th>1994</th>\n",
       "      <td>0</td>\n",
       "      <td>0</td>\n",
       "      <td>0</td>\n",
       "      <td>0</td>\n",
       "      <td>121,874,576</td>\n",
       "      <td>235,033,680</td>\n",
       "      <td>345,157,930</td>\n",
       "      <td>481,280,614</td>\n",
       "      <td>738,380,263</td>\n",
       "      <td>810,270,433</td>\n",
       "      <td>817,126,887</td>\n",
       "    </tr>\n",
       "    <tr>\n",
       "      <th>1995</th>\n",
       "      <td>0</td>\n",
       "      <td>0</td>\n",
       "      <td>0</td>\n",
       "      <td>195,879,863</td>\n",
       "      <td>349,828,815</td>\n",
       "      <td>483,758,514</td>\n",
       "      <td>609,246,045</td>\n",
       "      <td>757,631,482</td>\n",
       "      <td>1,023,325,766</td>\n",
       "      <td>1,100,370,499</td>\n",
       "      <td>1,107,147,524</td>\n",
       "    </tr>\n",
       "    <tr>\n",
       "      <th>1996</th>\n",
       "      <td>0</td>\n",
       "      <td>0</td>\n",
       "      <td>703,858,058</td>\n",
       "      <td>1,127,626,904</td>\n",
       "      <td>1,440,168,352</td>\n",
       "      <td>1,678,591,828</td>\n",
       "      <td>1,882,843,800</td>\n",
       "      <td>2,096,883,925</td>\n",
       "      <td>2,418,319,374</td>\n",
       "      <td>2,524,434,510</td>\n",
       "      <td>2,531,273,439</td>\n",
       "    </tr>\n",
       "    <tr>\n",
       "      <th>1997</th>\n",
       "      <td>0</td>\n",
       "      <td>2,078,583,588</td>\n",
       "      <td>4,312,427,152</td>\n",
       "      <td>5,901,421,925</td>\n",
       "      <td>7,024,556,506</td>\n",
       "      <td>7,796,506,775</td>\n",
       "      <td>8,402,465,469</td>\n",
       "      <td>8,950,516,203</td>\n",
       "      <td>9,552,739,954</td>\n",
       "      <td>9,806,329,251</td>\n",
       "      <td>9,813,343,586</td>\n",
       "    </tr>\n",
       "  </tbody>\n",
       "</table>"
      ],
      "text/plain": [
       "      12            24            36            48            60            72            84            96            108           120           9999\n",
       "1988   0.0  0.000000e+00  0.000000e+00  0.000000e+00  0.000000e+00  0.000000e+00  0.000000e+00  0.000000e+00  0.000000e+00  0.000000e+00  5.899487e+06\n",
       "1989   0.0  0.000000e+00  0.000000e+00  0.000000e+00  0.000000e+00  0.000000e+00  0.000000e+00  0.000000e+00  0.000000e+00  5.347463e+07  5.994219e+07\n",
       "1990   0.0  0.000000e+00  0.000000e+00  0.000000e+00  0.000000e+00  0.000000e+00  0.000000e+00  0.000000e+00  2.523151e+08  3.182022e+08  3.255216e+08\n",
       "1991   0.0  0.000000e+00  0.000000e+00  0.000000e+00  0.000000e+00  0.000000e+00  0.000000e+00  1.316778e+08  4.030941e+08  4.758368e+08  4.835982e+08\n",
       "1992   0.0  0.000000e+00  0.000000e+00  0.000000e+00  0.000000e+00  0.000000e+00  1.008802e+08  2.326034e+08  4.970409e+08  5.686924e+08  5.761006e+08\n",
       "1993   0.0  0.000000e+00  0.000000e+00  0.000000e+00  0.000000e+00  9.980184e+07  1.994012e+08  3.259040e+08  5.720068e+08  6.392100e+08  6.459157e+08\n",
       "1994   0.0  0.000000e+00  0.000000e+00  0.000000e+00  1.218746e+08  2.350337e+08  3.451579e+08  4.812806e+08  7.383803e+08  8.102704e+08  8.171269e+08\n",
       "1995   0.0  0.000000e+00  0.000000e+00  1.958799e+08  3.498288e+08  4.837585e+08  6.092460e+08  7.576315e+08  1.023326e+09  1.100370e+09  1.107148e+09\n",
       "1996   0.0  0.000000e+00  7.038581e+08  1.127627e+09  1.440168e+09  1.678592e+09  1.882844e+09  2.096884e+09  2.418319e+09  2.524435e+09  2.531273e+09\n",
       "1997   0.0  2.078584e+09  4.312427e+09  5.901422e+09  7.024557e+09  7.796507e+09  8.402465e+09  8.950516e+09  9.552740e+09  9.806329e+09  9.813344e+09"
      ]
     },
     "execution_count": 18,
     "metadata": {},
     "output_type": "execute_result"
    }
   ],
   "source": [
    "mack.mack_std_err_ ** 2"
   ]
  },
  {
   "cell_type": "markdown",
   "metadata": {},
   "source": [
    "Second, `total_process_risk_` <sup>2</sup> $= \\sum_{origin} $ `process_risk_` <sup>2</sup>, the process risk is assumed to be independent between origins."
   ]
  },
  {
   "cell_type": "code",
   "execution_count": 19,
   "metadata": {},
   "outputs": [
    {
     "data": {
      "text/html": [
       "<table border=\"1\" class=\"dataframe\">\n",
       "  <thead>\n",
       "    <tr style=\"text-align: right;\">\n",
       "      <th></th>\n",
       "      <th>12</th>\n",
       "      <th>24</th>\n",
       "      <th>36</th>\n",
       "      <th>48</th>\n",
       "      <th>60</th>\n",
       "      <th>72</th>\n",
       "      <th>84</th>\n",
       "      <th>96</th>\n",
       "      <th>108</th>\n",
       "      <th>120</th>\n",
       "      <th>9999</th>\n",
       "    </tr>\n",
       "  </thead>\n",
       "  <tbody>\n",
       "    <tr>\n",
       "      <th>1988</th>\n",
       "      <td>0</td>\n",
       "      <td>1,868,353,581</td>\n",
       "      <td>4,494,250,661</td>\n",
       "      <td>6,460,788,043</td>\n",
       "      <td>7,973,402,703</td>\n",
       "      <td>9,155,354,146</td>\n",
       "      <td>10,211,709,420</td>\n",
       "      <td>11,360,087,730</td>\n",
       "      <td>13,081,563,688</td>\n",
       "      <td>13,595,400,487</td>\n",
       "      <td>13,630,883,498</td>\n",
       "    </tr>\n",
       "  </tbody>\n",
       "</table>"
      ],
      "text/plain": [
       "      12            24            36            48            60            72            84            96            108           120           9999\n",
       "1988   0.0  1.868354e+09  4.494251e+09  6.460788e+09  7.973403e+09  9.155354e+09  1.021171e+10  1.136009e+10  1.308156e+10  1.359540e+10  1.363088e+10"
      ]
     },
     "execution_count": 19,
     "metadata": {},
     "output_type": "execute_result"
    }
   ],
   "source": [
    "mack.total_process_risk_ ** 2"
   ]
  },
  {
   "cell_type": "code",
   "execution_count": 20,
   "metadata": {},
   "outputs": [
    {
     "data": {
      "text/html": [
       "<table border=\"1\" class=\"dataframe\">\n",
       "  <thead>\n",
       "    <tr style=\"text-align: right;\">\n",
       "      <th></th>\n",
       "      <th>12</th>\n",
       "      <th>24</th>\n",
       "      <th>36</th>\n",
       "      <th>48</th>\n",
       "      <th>60</th>\n",
       "      <th>72</th>\n",
       "      <th>84</th>\n",
       "      <th>96</th>\n",
       "      <th>108</th>\n",
       "      <th>120</th>\n",
       "      <th>9999</th>\n",
       "    </tr>\n",
       "  </thead>\n",
       "  <tbody>\n",
       "    <tr>\n",
       "      <th>1988</th>\n",
       "      <td></td>\n",
       "      <td>1,868,353,581</td>\n",
       "      <td>4,494,250,661</td>\n",
       "      <td>6,460,788,043</td>\n",
       "      <td>7,973,402,703</td>\n",
       "      <td>9,155,354,146</td>\n",
       "      <td>10,211,709,420</td>\n",
       "      <td>11,360,087,730</td>\n",
       "      <td>13,081,563,688</td>\n",
       "      <td>13,595,400,487</td>\n",
       "      <td>13,630,883,498</td>\n",
       "    </tr>\n",
       "  </tbody>\n",
       "</table>"
      ],
      "text/plain": [
       "      12            24            36            48            60            72            84            96            108           120           9999\n",
       "1988   NaN  1.868354e+09  4.494251e+09  6.460788e+09  7.973403e+09  9.155354e+09  1.021171e+10  1.136009e+10  1.308156e+10  1.359540e+10  1.363088e+10"
      ]
     },
     "execution_count": 20,
     "metadata": {},
     "output_type": "execute_result"
    }
   ],
   "source": [
    "(mack.process_risk_ ** 2).sum(axis=\"origin\")"
   ]
  },
  {
   "cell_type": "markdown",
   "metadata": {},
   "source": [
    "Lastly, independence is also assumed to apply to the overall standard error of reserves, as expected."
   ]
  },
  {
   "cell_type": "code",
   "execution_count": 21,
   "metadata": {},
   "outputs": [
    {
     "data": {
      "text/plain": [
       "106186322665.56236"
      ]
     },
     "execution_count": 21,
     "metadata": {},
     "output_type": "execute_result"
    }
   ],
   "source": [
    "(mack.parameter_risk_ ** 2 + mack.process_risk_ ** 2).sum(axis=2).sum(axis=3)"
   ]
  },
  {
   "cell_type": "code",
   "execution_count": 22,
   "metadata": {},
   "outputs": [
    {
     "data": {
      "text/plain": [
       "106186322665.56236"
      ]
     },
     "execution_count": 22,
     "metadata": {},
     "output_type": "execute_result"
    }
   ],
   "source": [
    "(mack.mack_std_err_ ** 2).sum(axis=2).sum(axis=3)"
   ]
  },
  {
   "cell_type": "markdown",
   "metadata": {},
   "source": [
    "This over-reliance on independence is one of the weaknesses of the `MackChainladder` method. Nevertheless, if the data align with this assumption, then `total_mack_std_err_` is a reasonable esimator of reserve variability.\n",
    "\n",
    "### Mack Reserve Variability\n",
    "The `mack_std_err_` at ultimate is the reserve variability for each `origin` period."
   ]
  },
  {
   "cell_type": "code",
   "execution_count": 23,
   "metadata": {},
   "outputs": [
    {
     "data": {
      "text/html": [
       "<table border=\"1\" class=\"dataframe\">\n",
       "  <thead>\n",
       "    <tr style=\"text-align: right;\">\n",
       "      <th></th>\n",
       "      <th>9999</th>\n",
       "    </tr>\n",
       "  </thead>\n",
       "  <tbody>\n",
       "    <tr>\n",
       "      <th>1988</th>\n",
       "      <td>2,429</td>\n",
       "    </tr>\n",
       "    <tr>\n",
       "      <th>1989</th>\n",
       "      <td>7,742</td>\n",
       "    </tr>\n",
       "    <tr>\n",
       "      <th>1990</th>\n",
       "      <td>18,042</td>\n",
       "    </tr>\n",
       "    <tr>\n",
       "      <th>1991</th>\n",
       "      <td>21,991</td>\n",
       "    </tr>\n",
       "    <tr>\n",
       "      <th>1992</th>\n",
       "      <td>24,002</td>\n",
       "    </tr>\n",
       "    <tr>\n",
       "      <th>1993</th>\n",
       "      <td>25,415</td>\n",
       "    </tr>\n",
       "    <tr>\n",
       "      <th>1994</th>\n",
       "      <td>28,585</td>\n",
       "    </tr>\n",
       "    <tr>\n",
       "      <th>1995</th>\n",
       "      <td>33,274</td>\n",
       "    </tr>\n",
       "    <tr>\n",
       "      <th>1996</th>\n",
       "      <td>50,312</td>\n",
       "    </tr>\n",
       "    <tr>\n",
       "      <th>1997</th>\n",
       "      <td>99,062</td>\n",
       "    </tr>\n",
       "  </tbody>\n",
       "</table>"
      ],
      "text/plain": [
       "              9999\n",
       "1988   2428.885937\n",
       "1989   7742.234221\n",
       "1990  18042.216342\n",
       "1991  21990.866610\n",
       "1992  24002.095723\n",
       "1993  25414.871186\n",
       "1994  28585.431381\n",
       "1995  33273.826412\n",
       "1996  50311.762435\n",
       "1997  99062.321728"
      ]
     },
     "execution_count": 23,
     "metadata": {},
     "output_type": "execute_result"
    }
   ],
   "source": [
    "mack.mack_std_err_[\n",
    "    mack.mack_std_err_.development == mack.mack_std_err_.development.max()\n",
    "]"
   ]
  },
  {
   "cell_type": "markdown",
   "metadata": {},
   "source": [
    "With the `summary_` method, we can more easily look at the result of the `MackChainladder` model."
   ]
  },
  {
   "cell_type": "code",
   "execution_count": 24,
   "metadata": {},
   "outputs": [
    {
     "data": {
      "text/html": [
       "<table border=\"1\" class=\"dataframe\">\n",
       "  <thead>\n",
       "    <tr style=\"text-align: right;\">\n",
       "      <th></th>\n",
       "      <th>Latest</th>\n",
       "      <th>IBNR</th>\n",
       "      <th>Ultimate</th>\n",
       "      <th>Mack Std Err</th>\n",
       "    </tr>\n",
       "  </thead>\n",
       "  <tbody>\n",
       "    <tr>\n",
       "      <th>1988</th>\n",
       "      <td>1,241,715</td>\n",
       "      <td></td>\n",
       "      <td>1,241,715</td>\n",
       "      <td>2,429</td>\n",
       "    </tr>\n",
       "    <tr>\n",
       "      <th>1989</th>\n",
       "      <td>1,308,706</td>\n",
       "      <td>13,321</td>\n",
       "      <td>1,322,027</td>\n",
       "      <td>7,742</td>\n",
       "    </tr>\n",
       "    <tr>\n",
       "      <th>1990</th>\n",
       "      <td>1,394,675</td>\n",
       "      <td>42,210</td>\n",
       "      <td>1,436,885</td>\n",
       "      <td>18,042</td>\n",
       "    </tr>\n",
       "    <tr>\n",
       "      <th>1991</th>\n",
       "      <td>1,414,747</td>\n",
       "      <td>79,409</td>\n",
       "      <td>1,494,156</td>\n",
       "      <td>21,991</td>\n",
       "    </tr>\n",
       "    <tr>\n",
       "      <th>1992</th>\n",
       "      <td>1,328,801</td>\n",
       "      <td>119,709</td>\n",
       "      <td>1,448,510</td>\n",
       "      <td>24,002</td>\n",
       "    </tr>\n",
       "    <tr>\n",
       "      <th>1993</th>\n",
       "      <td>1,187,581</td>\n",
       "      <td>167,192</td>\n",
       "      <td>1,354,773</td>\n",
       "      <td>25,415</td>\n",
       "    </tr>\n",
       "    <tr>\n",
       "      <th>1994</th>\n",
       "      <td>1,114,842</td>\n",
       "      <td>260,401</td>\n",
       "      <td>1,375,243</td>\n",
       "      <td>28,585</td>\n",
       "    </tr>\n",
       "    <tr>\n",
       "      <th>1995</th>\n",
       "      <td>962,081</td>\n",
       "      <td>402,403</td>\n",
       "      <td>1,364,484</td>\n",
       "      <td>33,274</td>\n",
       "    </tr>\n",
       "    <tr>\n",
       "      <th>1996</th>\n",
       "      <td>736,040</td>\n",
       "      <td>636,834</td>\n",
       "      <td>1,372,874</td>\n",
       "      <td>50,312</td>\n",
       "    </tr>\n",
       "    <tr>\n",
       "      <th>1997</th>\n",
       "      <td>340,132</td>\n",
       "      <td>1,056,335</td>\n",
       "      <td>1,396,467</td>\n",
       "      <td>99,062</td>\n",
       "    </tr>\n",
       "  </tbody>\n",
       "</table>"
      ],
      "text/plain": [
       "         Latest          IBNR      Ultimate  Mack Std Err\n",
       "1988  1241715.0           NaN  1.241715e+06   2428.885937\n",
       "1989  1308706.0  1.332126e+04  1.322027e+06   7742.234221\n",
       "1990  1394675.0  4.221037e+04  1.436885e+06  18042.216342\n",
       "1991  1414747.0  7.940888e+04  1.494156e+06  21990.866610\n",
       "1992  1328801.0  1.197087e+05  1.448510e+06  24002.095723\n",
       "1993  1187581.0  1.671916e+05  1.354773e+06  25414.871186\n",
       "1994  1114842.0  2.604007e+05  1.375243e+06  28585.431381\n",
       "1995   962081.0  4.024025e+05  1.364484e+06  33273.826412\n",
       "1996   736040.0  6.368335e+05  1.372874e+06  50311.762435\n",
       "1997   340132.0  1.056335e+06  1.396467e+06  99062.321728"
      ]
     },
     "execution_count": 24,
     "metadata": {},
     "output_type": "execute_result"
    }
   ],
   "source": [
    "mack.summary_"
   ]
  },
  {
   "cell_type": "markdown",
   "metadata": {},
   "source": [
    "Let's visualize the paid to date, the estimated reserves, and their standard errors with a histogram."
   ]
  },
  {
   "cell_type": "code",
   "execution_count": 25,
   "metadata": {},
   "outputs": [
    {
     "data": {
      "text/plain": [
       "(0.0, 1800000.0)"
      ]
     },
     "execution_count": 25,
     "metadata": {},
     "output_type": "execute_result"
    },
    {
     "data": {
      "image/png": "[encoded data removed]",
      "text/plain": [
       "<Figure size 432x288 with 1 Axes>"
      ]
     },
     "metadata": {
      "needs_background": "light"
     },
     "output_type": "display_data"
    }
   ],
   "source": [
    "plt.bar(\n",
    "    mack.summary_.to_frame().index.year,\n",
    "    mack.summary_.to_frame()[\"Latest\"],\n",
    "    label=\"Paid\",\n",
    ")\n",
    "plt.bar(\n",
    "    mack.summary_.to_frame().index.year,\n",
    "    mack.summary_.to_frame()[\"IBNR\"],\n",
    "    bottom=mack.summary_.to_frame()[\"Latest\"],\n",
    "    yerr=mack.summary_.to_frame()[\"Mack Std Err\"],\n",
    "    label=\"Reserves\",\n",
    ")\n",
    "plt.legend(loc=\"upper left\")\n",
    "plt.ylim(0, 1800000)"
   ]
  },
  {
   "cell_type": "markdown",
   "metadata": {},
   "source": [
    "We can also simulate the (assumed) normally distributed IBNR with `np.random.normal()`."
   ]
  },
  {
   "cell_type": "code",
   "execution_count": 26,
   "metadata": {},
   "outputs": [
    {
     "data": {
      "text/plain": [
       "(array([  1.,   2.,   8.,   7.,  13.,  17.,  30.,  29.,  41.,  72.,  66.,\n",
       "         94., 142., 185., 195., 274., 312., 351., 392., 419., 509., 491.,\n",
       "        546., 540., 577., 537., 534., 524., 483., 448., 401., 348., 300.,\n",
       "        268., 210., 163., 118.,  94.,  68.,  59.,  41.,  25.,  19.,  18.,\n",
       "          7.,   5.,   3.,   5.,   5.,   4.]),\n",
       " array([2205914.99241981, 2229332.0230648 , 2252749.05370978,\n",
       "        2276166.08435476, 2299583.11499975, 2323000.14564473,\n",
       "        2346417.17628971, 2369834.2069347 , 2393251.23757968,\n",
       "        2416668.26822466, 2440085.29886965, 2463502.32951463,\n",
       "        2486919.36015961, 2510336.3908046 , 2533753.42144958,\n",
       "        2557170.45209456, 2580587.48273955, 2604004.51338453,\n",
       "        2627421.54402951, 2650838.5746745 , 2674255.60531948,\n",
       "        2697672.63596446, 2721089.66660945, 2744506.69725443,\n",
       "        2767923.72789941, 2791340.7585444 , 2814757.78918938,\n",
       "        2838174.81983436, 2861591.85047935, 2885008.88112433,\n",
       "        2908425.91176931, 2931842.9424143 , 2955259.97305928,\n",
       "        2978677.00370426, 3002094.03434925, 3025511.06499423,\n",
       "        3048928.09563921, 3072345.1262842 , 3095762.15692918,\n",
       "        3119179.18757416, 3142596.21821915, 3166013.24886413,\n",
       "        3189430.27950911, 3212847.3101541 , 3236264.34079908,\n",
       "        3259681.37144406, 3283098.40208905, 3306515.43273403,\n",
       "        3329932.46337901, 3353349.494024  , 3376766.52466898]),\n",
       " <BarContainer object of 50 artists>)"
      ]
     },
     "execution_count": 26,
     "metadata": {},
     "output_type": "execute_result"
    },
    {
     "data": {
      "image/png": "[encoded data removed]",
      "text/plain": [
       "<Figure size 432x288 with 1 Axes>"
      ]
     },
     "metadata": {
      "needs_background": "light"
     },
     "output_type": "display_data"
    }
   ],
   "source": [
    "ibnr_mean = mack.ibnr_.sum()\n",
    "ibnr_sd = mack.total_mack_std_err_.values[0, 0]\n",
    "n_trials = 10000\n",
    "\n",
    "np.random.seed(2021)\n",
    "dist = np.random.normal(ibnr_mean, ibnr_sd, size=n_trials)\n",
    "\n",
    "plt.hist(dist, bins=50)"
   ]
  },
  {
   "cell_type": "markdown",
   "metadata": {},
   "source": [
    "### ODP Bootstrap Model\n",
    "The `MackChainladder` focuses on a regression framework for determining the variability of reserve estimates. An alternative approach is to use the statistical bootstrapping, or sampling from a triangle with replacement to simulate new triangles.\n",
    "\n",
    "Bootstrapping imposes less model constraints than the `MackChainladder`, which allows for greater applicability in different scenarios. Sampling new triangles can be accomplished through the `BootstrapODPSample` estimator. This estimator will take a single triangle and simulate new ones from it. To simulate new triangles randomly from an existing triangle, we specify `n_sims` with how many triangles we want to simulate, and access the `resampled_triangles_` attribute to get the simulated triangles. Notice that the shape of `resampled_triangles_` matches `n_sims` at the first index."
   ]
  },
  {
   "cell_type": "code",
   "execution_count": 27,
   "metadata": {},
   "outputs": [
    {
     "data": {
      "text/html": [
       "<table border=\"1\" class=\"dataframe\">\n",
       "  <thead>\n",
       "    <tr style=\"text-align: right;\">\n",
       "      <th></th>\n",
       "      <th>Triangle Summary</th>\n",
       "    </tr>\n",
       "  </thead>\n",
       "  <tbody>\n",
       "    <tr>\n",
       "      <th>Valuation:</th>\n",
       "      <td>1997-12</td>\n",
       "    </tr>\n",
       "    <tr>\n",
       "      <th>Grain:</th>\n",
       "      <td>OYDY</td>\n",
       "    </tr>\n",
       "    <tr>\n",
       "      <th>Shape:</th>\n",
       "      <td>(10000, 1, 10, 10)</td>\n",
       "    </tr>\n",
       "    <tr>\n",
       "      <th>Index:</th>\n",
       "      <td>[LOB]</td>\n",
       "    </tr>\n",
       "    <tr>\n",
       "      <th>Columns:</th>\n",
       "      <td>[CumPaidLoss]</td>\n",
       "    </tr>\n",
       "  </tbody>\n",
       "</table>"
      ],
      "text/plain": [
       "              Triangle Summary\n",
       "Valuation:             1997-12\n",
       "Grain:                    OYDY\n",
       "Shape:      (10000, 1, 10, 10)\n",
       "Index:                   [LOB]\n",
       "Columns:         [CumPaidLoss]"
      ]
     },
     "execution_count": 27,
     "metadata": {},
     "output_type": "execute_result"
    }
   ],
   "source": [
    "samples = (\n",
    "    cl.BootstrapODPSample(n_sims=10000).fit(clrd[\"CumPaidLoss\"]).resampled_triangles_\n",
    ")\n",
    "samples"
   ]
  },
  {
   "cell_type": "markdown",
   "metadata": {},
   "source": [
    "Alternatively, we could use `BootstrapODPSample` to transform our triangle into a resampled set."
   ]
  },
  {
   "cell_type": "markdown",
   "metadata": {},
   "source": [
    "The notion of the ODP Bootstrap is that as our simulations approach infinity, we should expect our mean simulation to converge on the basic `Chainladder` estimate of of reserves.\n",
    "\n",
    "Let's apply the basic chainladder to our original triangle and also to our simulated triangles to see whether this holds true."
   ]
  },
  {
   "cell_type": "code",
   "execution_count": 28,
   "metadata": {},
   "outputs": [
    {
     "name": "stdout",
     "output_type": "stream",
     "text": [
      "Chainladder's IBNR estimate: 2777812.6890986315\n",
      "BootstrapODPSample's mean IBNR estimate: 2777751.418177213\n",
      "Difference $: 61.27092141844332\n",
      "Difference %: 2.205725449339964e-05\n"
     ]
    }
   ],
   "source": [
    "ibnr_cl = cl.Chainladder().fit(clrd[\"CumPaidLoss\"]).ibnr_.sum()\n",
    "ibnr_bootstrap = cl.Chainladder().fit(samples).ibnr_.sum(\"origin\").mean()\n",
    "\n",
    "print(\n",
    "    \"Chainladder's IBNR estimate:\", ibnr_cl,\n",
    ")\n",
    "print(\n",
    "    \"BootstrapODPSample's mean IBNR estimate:\", ibnr_bootstrap,\n",
    ")\n",
    "print(\"Difference $:\", ibnr_cl - ibnr_bootstrap)\n",
    "print(\"Difference %:\", abs(ibnr_cl - ibnr_bootstrap) / ibnr_cl)"
   ]
  },
  {
   "cell_type": "markdown",
   "metadata": {},
   "source": [
    "### Using Deterministic Methods with Bootstrapped Samples\n",
    "Our `samples` is just another triangle object with all the functionality of a regular triangle.  This means we can apply any functionality we want to our `samples` including any deterministic methods we learned about previously."
   ]
  },
  {
   "cell_type": "code",
   "execution_count": 29,
   "metadata": {},
   "outputs": [
    {
     "data": {
      "text/plain": [
       "Pipeline(steps=[('dev', Development(average='simple')),\n",
       "                ('tail', TailConstant(tail=1.05))])"
      ]
     },
     "execution_count": 29,
     "metadata": {},
     "output_type": "execute_result"
    }
   ],
   "source": [
    "pipe = cl.Pipeline(\n",
    "    [(\"dev\", cl.Development(average=\"simple\")), (\"tail\", cl.TailConstant(1.05))]\n",
    ")\n",
    "pipe.fit(samples)"
   ]
  },
  {
   "cell_type": "markdown",
   "metadata": {},
   "source": [
    "Now instead of a single `ldf_` (and `cdf_`) array across developmental ages, we have 10,000 arrays of `ldf_` (and `cdf_`)."
   ]
  },
  {
   "cell_type": "code",
   "execution_count": 30,
   "metadata": {},
   "outputs": [
    {
     "data": {
      "text/html": [
       "<table border=\"1\" class=\"dataframe\">\n",
       "  <thead>\n",
       "    <tr style=\"text-align: right;\">\n",
       "      <th></th>\n",
       "      <th>12-24</th>\n",
       "      <th>24-36</th>\n",
       "      <th>36-48</th>\n",
       "      <th>48-60</th>\n",
       "      <th>60-72</th>\n",
       "      <th>72-84</th>\n",
       "      <th>84-96</th>\n",
       "      <th>96-108</th>\n",
       "      <th>108-120</th>\n",
       "    </tr>\n",
       "  </thead>\n",
       "  <tbody>\n",
       "    <tr>\n",
       "      <th>(All)</th>\n",
       "      <td>2.2080</td>\n",
       "      <td>1.3250</td>\n",
       "      <td>1.1672</td>\n",
       "      <td>1.0761</td>\n",
       "      <td>1.0471</td>\n",
       "      <td>1.0329</td>\n",
       "      <td>1.0204</td>\n",
       "      <td>1.0174</td>\n",
       "      <td>1.0105</td>\n",
       "    </tr>\n",
       "  </tbody>\n",
       "</table>"
      ],
      "text/plain": [
       "          12-24     24-36     36-48     48-60     60-72     72-84     84-96    96-108   108-120\n",
       "(All)  2.207989  1.325008  1.167155  1.076068  1.047123  1.032928  1.020411  1.017407  1.010549"
      ]
     },
     "execution_count": 30,
     "metadata": {},
     "output_type": "execute_result"
    }
   ],
   "source": [
    "pipe.named_steps.dev.ldf_.iloc[0]"
   ]
  },
  {
   "cell_type": "code",
   "execution_count": 31,
   "metadata": {},
   "outputs": [
    {
     "data": {
      "text/html": [
       "<table border=\"1\" class=\"dataframe\">\n",
       "  <thead>\n",
       "    <tr style=\"text-align: right;\">\n",
       "      <th></th>\n",
       "      <th>12-24</th>\n",
       "      <th>24-36</th>\n",
       "      <th>36-48</th>\n",
       "      <th>48-60</th>\n",
       "      <th>60-72</th>\n",
       "      <th>72-84</th>\n",
       "      <th>84-96</th>\n",
       "      <th>96-108</th>\n",
       "      <th>108-120</th>\n",
       "    </tr>\n",
       "  </thead>\n",
       "  <tbody>\n",
       "    <tr>\n",
       "      <th>(All)</th>\n",
       "      <td>2.1982</td>\n",
       "      <td>1.3443</td>\n",
       "      <td>1.1435</td>\n",
       "      <td>1.0754</td>\n",
       "      <td>1.0495</td>\n",
       "      <td>1.0310</td>\n",
       "      <td>1.0235</td>\n",
       "      <td>1.0167</td>\n",
       "      <td>1.0098</td>\n",
       "    </tr>\n",
       "  </tbody>\n",
       "</table>"
      ],
      "text/plain": [
       "          12-24     24-36     36-48    48-60     60-72     72-84     84-96    96-108   108-120\n",
       "(All)  2.198162  1.344314  1.143485  1.07541  1.049499  1.030998  1.023473  1.016676  1.009836"
      ]
     },
     "execution_count": 31,
     "metadata": {},
     "output_type": "execute_result"
    }
   ],
   "source": [
    "pipe.named_steps.dev.ldf_.iloc[1]"
   ]
  },
  {
   "cell_type": "code",
   "execution_count": 32,
   "metadata": {},
   "outputs": [
    {
     "data": {
      "text/html": [
       "<table border=\"1\" class=\"dataframe\">\n",
       "  <thead>\n",
       "    <tr style=\"text-align: right;\">\n",
       "      <th></th>\n",
       "      <th>12-24</th>\n",
       "      <th>24-36</th>\n",
       "      <th>36-48</th>\n",
       "      <th>48-60</th>\n",
       "      <th>60-72</th>\n",
       "      <th>72-84</th>\n",
       "      <th>84-96</th>\n",
       "      <th>96-108</th>\n",
       "      <th>108-120</th>\n",
       "    </tr>\n",
       "  </thead>\n",
       "  <tbody>\n",
       "    <tr>\n",
       "      <th>(All)</th>\n",
       "      <td>2.2577</td>\n",
       "      <td>1.3272</td>\n",
       "      <td>1.1487</td>\n",
       "      <td>1.0828</td>\n",
       "      <td>1.0526</td>\n",
       "      <td>1.0329</td>\n",
       "      <td>1.0147</td>\n",
       "      <td>1.0231</td>\n",
       "      <td>1.0072</td>\n",
       "    </tr>\n",
       "  </tbody>\n",
       "</table>"
      ],
      "text/plain": [
       "          12-24     24-36    36-48     48-60     60-72     72-84     84-96    96-108   108-120\n",
       "(All)  2.257655  1.327199  1.14872  1.082789  1.052585  1.032851  1.014651  1.023083  1.007182"
      ]
     },
     "execution_count": 32,
     "metadata": {},
     "output_type": "execute_result"
    }
   ],
   "source": [
    "pipe.named_steps.dev.ldf_.iloc[9999]"
   ]
  },
  {
   "cell_type": "markdown",
   "metadata": {},
   "source": [
    "This allows us to look at the varibility of any fitted property used. Let's look at the distribution of the age-to-age factor between age 12 and 24, and compare it against the LDF calculated from the non-bootstrapped triangle."
   ]
  },
  {
   "cell_type": "code",
   "execution_count": 33,
   "metadata": {},
   "outputs": [
    {
     "data": {
      "text/plain": [
       "<matplotlib.lines.Line2D at 0x7fc188403a90>"
      ]
     },
     "execution_count": 33,
     "metadata": {},
     "output_type": "execute_result"
    },
    {
     "data": {
      "image/png": "[encoded data removed]",
      "text/plain": [
       "<Figure size 432x288 with 1 Axes>"
      ]
     },
     "metadata": {
      "needs_background": "light"
     },
     "output_type": "display_data"
    }
   ],
   "source": [
    "resampled_ldf = pipe.named_steps.dev.ldf_\n",
    "plt.hist(pipe.named_steps.dev.ldf_.values[:, 0, 0, 0], bins=50)\n",
    "\n",
    "orig_dev = cl.Development(average=\"simple\").fit(clrd[\"CumPaidLoss\"])\n",
    "plt.axvline(orig_dev.ldf_.values[0, 0, 0, 0], color=\"black\", linestyle=\"dashed\")"
   ]
  },
  {
   "cell_type": "markdown",
   "metadata": {
    "tags": []
   },
   "source": [
    "### Bootstrap vs Mack\n",
    "We can approximate some of the Mack's parameters calculated using the regression framework."
   ]
  },
  {
   "cell_type": "code",
   "execution_count": 34,
   "metadata": {},
   "outputs": [
    {
     "data": {
      "text/html": [
       "<div>\n",
       "<style scoped>\n",
       "    .dataframe tbody tr th:only-of-type {\n",
       "        vertical-align: middle;\n",
       "    }\n",
       "\n",
       "    .dataframe tbody tr th {\n",
       "        vertical-align: top;\n",
       "    }\n",
       "\n",
       "    .dataframe thead th {\n",
       "        text-align: right;\n",
       "    }\n",
       "</style>\n",
       "<table border=\"1\" class=\"dataframe\">\n",
       "  <thead>\n",
       "    <tr style=\"text-align: right;\">\n",
       "      <th></th>\n",
       "      <th>Std_Bootstrap</th>\n",
       "      <th>Std_Mack</th>\n",
       "    </tr>\n",
       "  </thead>\n",
       "  <tbody>\n",
       "    <tr>\n",
       "      <th>12-24</th>\n",
       "      <td>0.043741</td>\n",
       "      <td>0.041066</td>\n",
       "    </tr>\n",
       "    <tr>\n",
       "      <th>24-36</th>\n",
       "      <td>0.012166</td>\n",
       "      <td>0.012024</td>\n",
       "    </tr>\n",
       "    <tr>\n",
       "      <th>36-48</th>\n",
       "      <td>0.007251</td>\n",
       "      <td>0.005101</td>\n",
       "    </tr>\n",
       "    <tr>\n",
       "      <th>48-60</th>\n",
       "      <td>0.005219</td>\n",
       "      <td>0.003734</td>\n",
       "    </tr>\n",
       "    <tr>\n",
       "      <th>60-72</th>\n",
       "      <td>0.004133</td>\n",
       "      <td>0.003303</td>\n",
       "    </tr>\n",
       "    <tr>\n",
       "      <th>72-84</th>\n",
       "      <td>0.003709</td>\n",
       "      <td>0.003337</td>\n",
       "    </tr>\n",
       "    <tr>\n",
       "      <th>84-96</th>\n",
       "      <td>0.003744</td>\n",
       "      <td>0.004190</td>\n",
       "    </tr>\n",
       "    <tr>\n",
       "      <th>96-108</th>\n",
       "      <td>0.004128</td>\n",
       "      <td>0.006831</td>\n",
       "    </tr>\n",
       "    <tr>\n",
       "      <th>108-120</th>\n",
       "      <td>0.004109</td>\n",
       "      <td>0.003222</td>\n",
       "    </tr>\n",
       "  </tbody>\n",
       "</table>\n",
       "</div>"
      ],
      "text/plain": [
       "         Std_Bootstrap  Std_Mack\n",
       "12-24         0.043741  0.041066\n",
       "24-36         0.012166  0.012024\n",
       "36-48         0.007251  0.005101\n",
       "48-60         0.005219  0.003734\n",
       "60-72         0.004133  0.003303\n",
       "72-84         0.003709  0.003337\n",
       "84-96         0.003744  0.004190\n",
       "96-108        0.004128  0.006831\n",
       "108-120       0.004109  0.003222"
      ]
     },
     "execution_count": 34,
     "metadata": {},
     "output_type": "execute_result"
    }
   ],
   "source": [
    "bootstrap_vs_mack = resampled_ldf.std(\"index\").to_frame().T\n",
    "bootstrap_vs_mack.rename(columns={\"(All)\": \"Std_Bootstrap\"}, inplace=True)\n",
    "bootstrap_vs_mack = bootstrap_vs_mack.merge(\n",
    "    orig_dev.std_err_.to_frame().T, left_index=True, right_index=True\n",
    ")\n",
    "bootstrap_vs_mack.rename(columns={\"(All)\": \"Std_Mack\"}, inplace=True)\n",
    "\n",
    "bootstrap_vs_mack"
   ]
  },
  {
   "cell_type": "code",
   "execution_count": 35,
   "metadata": {},
   "outputs": [
    {
     "data": {
      "text/plain": [
       "([<matplotlib.axis.XTick at 0x7fc1aaa45d00>,\n",
       "  <matplotlib.axis.XTick at 0x7fc1aaa45dc0>,\n",
       "  <matplotlib.axis.XTick at 0x7fc1aaa26730>,\n",
       "  <matplotlib.axis.XTick at 0x7fc1782b9c10>,\n",
       "  <matplotlib.axis.XTick at 0x7fc1782b9e20>,\n",
       "  <matplotlib.axis.XTick at 0x7fc1782c1700>,\n",
       "  <matplotlib.axis.XTick at 0x7fc1782c1e50>,\n",
       "  <matplotlib.axis.XTick at 0x7fc1aaa605e0>,\n",
       "  <matplotlib.axis.XTick at 0x7fc1aaa60d30>],\n",
       " [Text(0, 0, '12-24'),\n",
       "  Text(1, 0, '24-36'),\n",
       "  Text(2, 0, '36-48'),\n",
       "  Text(3, 0, '48-60'),\n",
       "  Text(4, 0, '60-72'),\n",
       "  Text(5, 0, '72-84'),\n",
       "  Text(6, 0, '84-96'),\n",
       "  Text(7, 0, '96-108'),\n",
       "  Text(8, 0, '108-120')])"
      ]
     },
     "execution_count": 35,
     "metadata": {},
     "output_type": "execute_result"
    },
    {
     "data": {
      "image/png": "[encoded data removed]",
      "text/plain": [
       "<Figure size 432x288 with 1 Axes>"
      ]
     },
     "metadata": {
      "needs_background": "light"
     },
     "output_type": "display_data"
    }
   ],
   "source": [
    "width = 0.3\n",
    "ages = np.arange(len(bootstrap_vs_mack))\n",
    "\n",
    "plt.bar(\n",
    "    ages - width / 2,\n",
    "    bootstrap_vs_mack[\"Std_Bootstrap\"],\n",
    "    width=width,\n",
    "    label=\"Bootstrap\",\n",
    ")\n",
    "plt.bar(ages + width / 2, bootstrap_vs_mack[\"Std_Mack\"], width=width, label=\"Mack\")\n",
    "plt.legend(loc=\"upper right\")\n",
    "plt.xticks(ages, bootstrap_vs_mack.index)"
   ]
  },
  {
   "cell_type": "markdown",
   "metadata": {},
   "source": [
    "While the `MackChainladder` produces statistics about the mean and variance of reserve estimates, the variance or precentile of reserves would need to be fited using maximum likelihood estimation or method of moments. However, for `BootstrapODPSample` based fits, we can use the empirical distribution from the samples directly to get information about variance or the precentile of the IBNR reserves."
   ]
  },
  {
   "cell_type": "code",
   "execution_count": 36,
   "metadata": {},
   "outputs": [
    {
     "name": "stdout",
     "output_type": "stream",
     "text": [
      "Standard deviation of reserve estimate: 134,881.0\n",
      "99th percentile of reserve estimate: 3,092,038.0\n"
     ]
    }
   ],
   "source": [
    "ibnr = cl.Chainladder().fit(samples).ibnr_.sum(\"origin\")\n",
    "\n",
    "ibnr_std = ibnr.std()\n",
    "print(\"Standard deviation of reserve estimate: \" + f\"{round(ibnr_std,0):,}\")\n",
    "ibnr_99 = ibnr.quantile(q=0.99)\n",
    "print(\"99th percentile of reserve estimate: \" + f\"{round(ibnr_99,0):,}\")"
   ]
  },
  {
   "cell_type": "markdown",
   "metadata": {},
   "source": [
    "Let's see how the `MackChainladder` reserve distribution compares to the `BootstrapODPSample` reserve distribution."
   ]
  },
  {
   "cell_type": "code",
   "execution_count": 37,
   "metadata": {},
   "outputs": [
    {
     "data": {
      "text/plain": [
       "<matplotlib.legend.Legend at 0x7fc1aaa85a30>"
      ]
     },
     "execution_count": 37,
     "metadata": {},
     "output_type": "execute_result"
    },
    {
     "data": {
      "image/png": "[encoded data removed]",
      "text/plain": [
       "<Figure size 432x288 with 1 Axes>"
      ]
     },
     "metadata": {
      "needs_background": "light"
     },
     "output_type": "display_data"
    }
   ],
   "source": [
    "plt.hist(ibnr.to_frame(), bins=50, label=\"Bootstrap\", alpha=0.3)\n",
    "plt.hist(dist, bins=50, label=\"Mack\", alpha=0.3)\n",
    "plt.legend(loc=\"upper right\")"
   ]
  },
  {
   "cell_type": "markdown",
   "metadata": {},
   "source": [
    "### Expected Loss Methods with Bootstrap\n",
    "\n",
    "So far, we've only applied the multiplicative methods (i.e. basic chainladder) in a stochastic context. It is possible to use an expected loss method like the `BornhuetterFerguson` method does. \n",
    "\n",
    "To do this, we will need an exposure vector."
   ]
  },
  {
   "cell_type": "code",
   "execution_count": 40,
   "metadata": {},
   "outputs": [
    {
     "data": {
      "text/html": [
       "<table border=\"1\" class=\"dataframe\">\n",
       "  <thead>\n",
       "    <tr style=\"text-align: right;\">\n",
       "      <th></th>\n",
       "      <th>1997</th>\n",
       "    </tr>\n",
       "  </thead>\n",
       "  <tbody>\n",
       "    <tr>\n",
       "      <th>1988</th>\n",
       "      <td>1,691,130</td>\n",
       "    </tr>\n",
       "    <tr>\n",
       "      <th>1989</th>\n",
       "      <td>1,797,930</td>\n",
       "    </tr>\n",
       "    <tr>\n",
       "      <th>1990</th>\n",
       "      <td>1,880,315</td>\n",
       "    </tr>\n",
       "    <tr>\n",
       "      <th>1991</th>\n",
       "      <td>2,064,835</td>\n",
       "    </tr>\n",
       "    <tr>\n",
       "      <th>1992</th>\n",
       "      <td>2,189,448</td>\n",
       "    </tr>\n",
       "    <tr>\n",
       "      <th>1993</th>\n",
       "      <td>2,482,657</td>\n",
       "    </tr>\n",
       "    <tr>\n",
       "      <th>1994</th>\n",
       "      <td>2,594,787</td>\n",
       "    </tr>\n",
       "    <tr>\n",
       "      <th>1995</th>\n",
       "      <td>2,616,831</td>\n",
       "    </tr>\n",
       "    <tr>\n",
       "      <th>1996</th>\n",
       "      <td>2,420,655</td>\n",
       "    </tr>\n",
       "    <tr>\n",
       "      <th>1997</th>\n",
       "      <td>2,207,902</td>\n",
       "    </tr>\n",
       "  </tbody>\n",
       "</table>"
      ],
      "text/plain": [
       "           1997\n",
       "1988  1691130.0\n",
       "1989  1797930.0\n",
       "1990  1880315.0\n",
       "1991  2064835.0\n",
       "1992  2189448.0\n",
       "1993  2482657.0\n",
       "1994  2594787.0\n",
       "1995  2616831.0\n",
       "1996  2420655.0\n",
       "1997  2207902.0"
      ]
     },
     "execution_count": 40,
     "metadata": {},
     "output_type": "execute_result"
    }
   ],
   "source": [
    "clrd[\"EarnedPremNet\"].latest_diagonal"
   ]
  },
  {
   "cell_type": "markdown",
   "metadata": {},
   "source": [
    "Passing an `apriori_sigma` to the `BornhuetterFerguson` estimator tells it to consider the apriori selection itself as a random variable.  Fitting a stochastic `BornhuetterFerguson` looks very much like the determinsitic version."
   ]
  },
  {
   "cell_type": "code",
   "execution_count": 41,
   "metadata": {},
   "outputs": [
    {
     "ename": "TypeError",
     "evalue": "no implementation found for 'numpy.prod' on types that implement __array_function__: [<class 'chainladder.core.triangle.Triangle'>]",
     "output_type": "error",
     "traceback": [
      "\u001b[0;31m---------------------------------------------------------------------------\u001b[0m",
      "\u001b[0;31mTypeError\u001b[0m                                 Traceback (most recent call last)",
      "\u001b[0;32m/var/folders/2v/07w7jthx23l3_fxv3t2c2x8m0000gn/T/ipykernel_45770/1650645963.py\u001b[0m in \u001b[0;36m<module>\u001b[0;34m\u001b[0m\n\u001b[0;32m----> 1\u001b[0;31m \u001b[0mnp\u001b[0m\u001b[0;34m.\u001b[0m\u001b[0mprod\u001b[0m\u001b[0;34m(\u001b[0m\u001b[0mclrd\u001b[0m\u001b[0;34m,\u001b[0m \u001b[0maxis\u001b[0m\u001b[0;34m=\u001b[0m\u001b[0;36m3\u001b[0m\u001b[0;34m)\u001b[0m\u001b[0;34m\u001b[0m\u001b[0;34m\u001b[0m\u001b[0m\n\u001b[0m",
      "\u001b[0;32m<__array_function__ internals>\u001b[0m in \u001b[0;36mprod\u001b[0;34m(*args, **kwargs)\u001b[0m\n",
      "\u001b[0;31mTypeError\u001b[0m: no implementation found for 'numpy.prod' on types that implement __array_function__: [<class 'chainladder.core.triangle.Triangle'>]"
     ]
    }
   ],
   "source": [
    "np.prod(clrd, axis=3)"
   ]
  },
  {
   "cell_type": "code",
   "execution_count": null,
   "metadata": {},
   "outputs": [],
   "source": [
    "np.tan(cl.load_sample('raa')).T.plot()"
   ]
  },
  {
   "cell_type": "markdown",
   "metadata": {},
   "source": [
    "We can use our knowledge of `Triangle` manipulation to grab most things we would want out of our model."
   ]
  },
  {
   "cell_type": "code",
   "execution_count": null,
   "metadata": {},
   "outputs": [],
   "source": [
    "# Grab completed triangle replacing simulated known data with actual known data\n",
    "full_triangle = bf.full_triangle_ - bf.X_ + tri['CumPaidLoss']\n",
    "# Limiting to the current year for plotting\n",
    "current_year = full_triangle[full_triangle.origin==full_triangle.origin.max()].to_frame().T"
   ]
  },
  {
   "cell_type": "markdown",
   "metadata": {},
   "source": [
    "As expected, plotting the expected development of our full triangle over time from the Bootstrap `BornhuetterFerguson` model fans out to greater uncertainty the farther we get from our valuation date."
   ]
  },
  {
   "cell_type": "code",
   "execution_count": null,
   "metadata": {},
   "outputs": [],
   "source": [
    "# Plot the data\n",
    "current_year.iloc[:, :200].reset_index(drop=True).plot(\n",
    "    color='green', legend=False, alpha=0.1,\n",
    "    title='Current Accident Year Expected Development Distribution', grid=True);"
   ]
  },
  {
   "cell_type": "markdown",
   "metadata": {},
   "source": [
    "### Recap\n",
    "- The Mack method approaches stochastic reserving from a regression point of view<br>\n",
    "- Bootstrap methods approach stochastic reserving from a simulation point of view<br>\n",
    "- Where they assumptions of each model are not violated, they produce resonably consistent estimates of reserve variability<br>\n",
    "- Mack does impose more assumptions (i.e. constraints) on the reserve estimate making the Bootstrap approach more suitable in a broader set of applciations<br>\n",
    "- Both methods converge to their corresponding deterministic point estimates<br>"
   ]
  },
  {
   "cell_type": "code",
   "execution_count": null,
   "metadata": {},
   "outputs": [],
   "source": [
    "import chainladder as cl\n",
    "\n",
    "raa = cl.load_sample(\"raa\")\n",
    "cl.options.set_option(\"ULT_VAL\", \"2261-12-31 23:59:59.999999999\")\n",
    "cl.Chainladder().fit(raa).ldf_"
   ]
  }
 ],
 "metadata": {
  "kernelspec": {
   "display_name": "Python 3 (ipykernel)",
   "language": "python",
   "name": "python3"
  },
  "language_info": {
   "codemirror_mode": {
    "name": "ipython",
    "version": 3
   },
   "file_extension": ".py",
   "mimetype": "text/x-python",
   "name": "python",
   "nbconvert_exporter": "python",
   "pygments_lexer": "ipython3",
   "version": "3.8.11"
  }
 },
 "nbformat": 4,
 "nbformat_minor": 4
}
