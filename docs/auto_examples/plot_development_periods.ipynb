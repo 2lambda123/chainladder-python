{
  "cells": [
    {
      "cell_type": "code",
      "execution_count": null,
      "metadata": {
        "collapsed": false
      },
      "outputs": [],
      "source": [
        "%matplotlib inline"
      ]
    },
    {
      "cell_type": "markdown",
      "metadata": {},
      "source": [
        "\n# Basic Assumption Tuning with Pipeline and Gridsearch\n\n\nThis example demonstrates testing multiple number of periods in the development\ntransformer to see its influence on the overall ultimate estimate.\n\n"
      ]
    },
    {
      "cell_type": "code",
      "execution_count": null,
      "metadata": {
        "collapsed": false
      },
      "outputs": [],
      "source": [
        "import seaborn as sns\nsns.set_style('whitegrid')\n\nimport chainladder as cl\n\ntri = cl.load_dataset('abc')\n\n# Set up Pipeline\nsteps = [('dev',cl.Development()),\n         ('chainladder',cl.Chainladder())]\nparams = dict(dev__n_periods=[item for item in range(2,11)])\npipe = cl.Pipeline(steps=steps)\n\n# Develop scoring function that returns an Ultimate/Incurred Ratio\nscoring = lambda x: x.named_steps.chainladder.ultimate_.sum()[0] / tri.latest_diagonal.sum()[0]\n\n# Run GridSearch\ngrid = cl.GridSearch(pipe, params, scoring).fit(tri)\n\n# Plot Results\ng = sns.pointplot(data=grid.results_,x='dev__n_periods',y='score')"
      ]
    }
  ],
  "metadata": {
    "kernelspec": {
      "display_name": "Python 3",
      "language": "python",
      "name": "python3"
    },
    "language_info": {
      "codemirror_mode": {
        "name": "ipython",
        "version": 3
      },
      "file_extension": ".py",
      "mimetype": "text/x-python",
      "name": "python",
      "nbconvert_exporter": "python",
      "pygments_lexer": "ipython3",
      "version": "3.6.3"
    }
  },
  "nbformat": 4,
  "nbformat_minor": 0
}