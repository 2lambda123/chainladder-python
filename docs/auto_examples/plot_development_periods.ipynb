{
  "cells": [
    {
      "cell_type": "code",
      "execution_count": null,
      "metadata": {
        "collapsed": false
      },
      "outputs": [],
      "source": [
        "%matplotlib inline"
      ]
    },
    {
      "cell_type": "markdown",
      "metadata": {},
      "source": [
        "\n# Development scenario tuning\n\n\nThis example demonstrates testing multiple number of periods in the development\ntransformer to see its influence on the overall ultimate estimate.\n\n"
      ]
    },
    {
      "cell_type": "code",
      "execution_count": null,
      "metadata": {
        "collapsed": false
      },
      "outputs": [],
      "source": [
        "import chainladder as cl\nimport seaborn as sns\nimport pandas as pd\nsns.set_style('whitegrid')\n\n# Loop through 2 through 10 year weighted average development\nult_ratio = {}\nfor n_periods in range(2, 11):\n    abc = cl.load_dataset('abc')\n    dev = cl.Development(n_periods=n_periods).fit_transform(abc)\n    ult = cl.Chainladder().fit(abc)\n    ult_ratio[n_periods] = ult.ultimate_.sum()[0]/dev.latest_diagonal.sum()[0]\n\n# Plot the data\nplot_data = pd.DataFrame([ult_ratio.keys(), ult_ratio.values()],\n                         index=['n_period', 'Ultimate to Latest Factor']).T\ng = sns.pointplot(data=plot_data, x='n_period', y='Ultimate to Latest Factor')"
      ]
    }
  ],
  "metadata": {
    "kernelspec": {
      "display_name": "Python 3",
      "language": "python",
      "name": "python3"
    },
    "language_info": {
      "codemirror_mode": {
        "name": "ipython",
        "version": 3
      },
      "file_extension": ".py",
      "mimetype": "text/x-python",
      "name": "python",
      "nbconvert_exporter": "python",
      "pygments_lexer": "ipython3",
      "version": "3.6.3"
    }
  },
  "nbformat": 4,
  "nbformat_minor": 0
}