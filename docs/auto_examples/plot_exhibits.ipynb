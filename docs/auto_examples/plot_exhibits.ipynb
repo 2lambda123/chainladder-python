{
  "cells": [
    {
      "cell_type": "code",
      "execution_count": null,
      "metadata": {
        "collapsed": false
      },
      "outputs": [],
      "source": [
        "%matplotlib inline"
      ]
    },
    {
      "cell_type": "markdown",
      "metadata": {},
      "source": [
        "\n# Sample Excel Exhibit functionality\n\n\nThis example demonstrates some of the flexibility of the ``Exhibits`` class. It\ncreates an Excel file called 'clrd.xlsx' that includes various statistics on\nindustry development patterns for each line of business in the CAS loss reserve\ndatabase.\n\nSee `Exhibits<exhibits>` for more detail.\n\n\n"
      ]
    },
    {
      "cell_type": "code",
      "execution_count": null,
      "metadata": {
        "collapsed": false
      },
      "outputs": [],
      "source": [
        "import chainladder as cl\nimport pandas as pd\n\n# Grab industry Paid Triangles\nclrd = cl.load_dataset('clrd').groupby('LOB').sum()['CumPaidLoss']\n\n# Create instance of Exhibits\nexhibits = cl.Exhibits()\n\n# Line of Business Dictionary for looping\nlobs = dict(comauto='Commercial Auto',\n            medmal='Medical Malpractice',\n            othliab='Other Liability',\n            ppauto='Private Passenger Auto',\n            prodliab='Product Liability',\n            wkcomp='Workers\\' Compensation')\n\n# Loop through each LOB\nfor key, value in lobs.items():\n    title = ['CAS Loss Reserve Database',\n             value, 'Cumulative Paid Loss',\n             'Evaluated as of 31-December-1997']\n    # Show Raw Triangle\n    exhibits.add_exhibit(key, clrd.loc[key],\n                         header=True, formats='money',\n                         title=title, col_nums=False,\n                         index_label='Accident Year')\n    # Show Link Ratios\n    exhibits.add_exhibit(key, clrd.loc[key].link_ratio,\n                         header=True, formats='decimal',\n                         col_nums=False,\n                         index_label='Accident Year',\n                         start_row=clrd.shape[2]+6)\n    # Show various Various Averages\n    df = pd.concat(\n        (cl.Development(n_periods=2).fit(clrd.loc[key]).ldf_.drop_duplicates(),\n         cl.Development(n_periods=3).fit(clrd.loc[key]).ldf_.drop_duplicates(),\n         cl.Development(n_periods=7).fit(clrd.loc[key]).ldf_.drop_duplicates(),\n         cl.Development().fit(clrd.loc[key]).ldf_.drop_duplicates(),\n         cl.Development().fit(clrd.loc[key]).ldf_.drop_duplicates()),\n        axis=0)\n    df.index = ['2 Yr Wtd', '3 Yr Wtd', '7 Yr Wtd', '10 Yr Wtd', 'Selected']\n    exhibits.add_exhibit(key, df, col_nums=False, formats='decimal',\n                         index_label='Averages', start_row=clrd.shape[2]*2+7)\n\n# Create Excel File\nexhibits.to_excel('clrd.xlsx')"
      ]
    }
  ],
  "metadata": {
    "kernelspec": {
      "display_name": "Python 3",
      "language": "python",
      "name": "python3"
    },
    "language_info": {
      "codemirror_mode": {
        "name": "ipython",
        "version": 3
      },
      "file_extension": ".py",
      "mimetype": "text/x-python",
      "name": "python",
      "nbconvert_exporter": "python",
      "pygments_lexer": "ipython3",
      "version": "3.6.3"
    }
  },
  "nbformat": 4,
  "nbformat_minor": 0
}