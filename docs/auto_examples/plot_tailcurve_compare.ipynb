{
  "cells": [
    {
      "cell_type": "code",
      "execution_count": null,
      "metadata": {
        "collapsed": false
      },
      "outputs": [],
      "source": [
        "%matplotlib inline"
      ]
    },
    {
      "cell_type": "markdown",
      "metadata": {},
      "source": [
        "\n# Tail Curve Fit Comparison\n\n\nThis example demonstrates how the ``inverse_power`` curve generally produces more\nconservative tail factors than the ``exponential`` fit.\n\n"
      ]
    },
    {
      "cell_type": "code",
      "execution_count": null,
      "metadata": {
        "collapsed": false
      },
      "outputs": [],
      "source": [
        "import chainladder as cl\nimport pandas as pd\n\nclrd = cl.load_sample('clrd').groupby('LOB').sum()['CumPaidLoss']\ncdf_ip = cl.TailCurve(curve='inverse_power').fit(clrd).cdf_\ncdf_xp = cl.TailCurve(curve='exponential').fit(clrd).cdf_\ntail_ip = cdf_ip[cdf_ip.development==cdf_ip.development.iloc[-2]][cdf_ip.origin==cdf_ip.origin.max()]\ntail_xp = cdf_xp[cdf_xp.development==cdf_xp.development.iloc[-2]][cdf_xp.origin==cdf_xp.origin.max()]\n\npd.concat((tail_ip.to_frame().rename(\"Inverse Power\"),\n           tail_xp.to_frame().rename(\"Exponential\")), axis=1).plot(\n        kind='bar', grid=True, title='Curve Fit Comparison').set(\n        xlabel='Industry', ylabel='Tail Factor');"
      ]
    }
  ],
  "metadata": {
    "kernelspec": {
      "display_name": "Python 3",
      "language": "python",
      "name": "python3"
    },
    "language_info": {
      "codemirror_mode": {
        "name": "ipython",
        "version": 3
      },
      "file_extension": ".py",
      "mimetype": "text/x-python",
      "name": "python",
      "nbconvert_exporter": "python",
      "pygments_lexer": "ipython3",
      "version": "3.6.3"
    }
  },
  "nbformat": 4,
  "nbformat_minor": 0
}