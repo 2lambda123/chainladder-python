{
  "cells": [
    {
      "cell_type": "code",
      "execution_count": null,
      "metadata": {
        "collapsed": false
      },
      "outputs": [],
      "source": [
        "%matplotlib inline"
      ]
    },
    {
      "cell_type": "markdown",
      "metadata": {},
      "source": [
        "\n# Changing grain of a triangle\n\n\nIf your triangle has origin and development grains that are more frequent then\nyearly, you can easily swap to a higher grain using the `grain` method of the\n:class:`Triangle`.\nIn this example, we will convert an Origin Year/Development Quarter (OYDQ)\ntriangle into an Origin Year/Development Year triangle.  The `grain` method\nrecognizes Yearly (Y), Quarterly (Q), and Monthly (M) grains for both the\norigin period and development period.\n\n"
      ]
    },
    {
      "cell_type": "code",
      "execution_count": null,
      "metadata": {
        "collapsed": false
      },
      "outputs": [],
      "source": [
        "import chainladder as cl\n\n# The base Triangle Class:\ncl.Triangle\n\n\nquarterly = cl.load_dataset('quarterly')\nprint(quarterly)\nprint()\nprint(quarterly.grain('OYDY'))"
      ]
    }
  ],
  "metadata": {
    "kernelspec": {
      "display_name": "Python 3",
      "language": "python",
      "name": "python3"
    },
    "language_info": {
      "codemirror_mode": {
        "name": "ipython",
        "version": 3
      },
      "file_extension": ".py",
      "mimetype": "text/x-python",
      "name": "python",
      "nbconvert_exporter": "python",
      "pygments_lexer": "ipython3",
      "version": "3.6.3"
    }
  },
  "nbformat": 4,
  "nbformat_minor": 0
}