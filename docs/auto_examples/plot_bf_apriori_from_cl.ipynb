{
  "cells": [
    {
      "cell_type": "code",
      "execution_count": null,
      "metadata": {
        "collapsed": false
      },
      "outputs": [],
      "source": [
        "%matplotlib inline"
      ]
    },
    {
      "cell_type": "markdown",
      "metadata": {},
      "source": [
        "\n# Picking Bornhuetter-Ferguson Apriori\n\n\nThis example demonstrates how you can can use the output of one method as the\napriori selection for the Bornhuetter-Ferguson Method.\n\n"
      ]
    },
    {
      "cell_type": "code",
      "execution_count": null,
      "metadata": {
        "collapsed": false
      },
      "outputs": [],
      "source": [
        "import chainladder as cl\nimport pandas as pd\nimport seaborn as sns\nsns.set_style('whitegrid')\n\n# Create Aprioris as the mean AY chainladder ultimate\nraa = cl.load_dataset('RAA')\ncl_ult = cl.Chainladder().fit(raa).ultimate_  # Chainladder Ultimate\napriori = cl_ult*0+(cl_ult.sum()/10)  # Mean Chainladder Ultimate\nbf_ult = cl.BornhuetterFerguson(apriori=1).fit(raa, sample_weight=apriori).ultimate_\n\n# Plot of Ultimates\nplot_data = cl_ult.to_frame().rename({'values': 'Chainladder'}, axis=1)\nplot_data['BornhuetterFerguson'] = bf_ult.to_frame()\nplot_data = plot_data.stack().reset_index()\nplot_data.columns = ['Accident Year', 'Method', 'Ultimate']\nplot_data['Accident Year'] = plot_data['Accident Year'].dt.year\npd.pivot_table(plot_data, index='Accident Year', columns='Method', values='Ultimate').plot();"
      ]
    }
  ],
  "metadata": {
    "kernelspec": {
      "display_name": "Python 3",
      "language": "python",
      "name": "python3"
    },
    "language_info": {
      "codemirror_mode": {
        "name": "ipython",
        "version": 3
      },
      "file_extension": ".py",
      "mimetype": "text/x-python",
      "name": "python",
      "nbconvert_exporter": "python",
      "pygments_lexer": "ipython3",
      "version": "3.6.3"
    }
  },
  "nbformat": 4,
  "nbformat_minor": 0
}