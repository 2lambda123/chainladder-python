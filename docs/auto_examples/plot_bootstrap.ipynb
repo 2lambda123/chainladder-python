{
  "cells": [
    {
      "cell_type": "code",
      "execution_count": null,
      "metadata": {
        "collapsed": false
      },
      "outputs": [],
      "source": [
        "%matplotlib inline"
      ]
    },
    {
      "cell_type": "markdown",
      "metadata": {},
      "source": [
        "\n# ODP Bootstrap Example\n\n\nThis example demonstrates how you can can use the Overdispersed Poisson\nBootstrap sampler and get various properties about parameter uncertainty.\n\n"
      ]
    },
    {
      "cell_type": "code",
      "execution_count": null,
      "metadata": {
        "collapsed": false
      },
      "outputs": [],
      "source": [
        "import chainladder as cl\n\nimport seaborn as sns\nimport matplotlib.pyplot as plt\nsns.set_style('whitegrid')\n\n\n#  Grab a Triangle\ntri = cl.load_dataset('bs_sample')\n# Generate bootstrap samples\nsims = cl.BootstrapODPSample().fit_transform(tri)\n# Calculate LDF for each simulation\nsim_ldf = cl.Development().fit(sims).ldf_\nsim_ldf = sim_ldf[sim_ldf.origin==sim_ldf.origin.max()]\n\n# Plot the Data\nfig, ((ax00, ax01), (ax10, ax11)) = plt.subplots(ncols=2, nrows=2, figsize=(10,10))\ntri.T.plot(ax=ax00).set(title='Raw Data', xlabel='Development', ylabel='Incurred')\nsims.mean().T.plot(ax=ax01).set(title='Mean Simulation', xlabel='Development', ylabel='Incurred')\nsim_ldf.T.plot(legend=False, color='lightgray', ax=ax10) \\\n       .set(title='Simulated LDF', xlabel='Development', ylabel='LDF')\ncl.Development().fit(tri).ldf_.drop_duplicates().T \\\n                .plot(legend=False, color='red', ax=ax10)\nsim_ldf.T.loc['12-24'].plot(kind='hist', bins=50, alpha=0.5, ax=ax11) \\\n                      .set(title='Age 12-24 LDF Distribution', xlabel='LDF');"
      ]
    }
  ],
  "metadata": {
    "kernelspec": {
      "display_name": "Python 3",
      "language": "python",
      "name": "python3"
    },
    "language_info": {
      "codemirror_mode": {
        "name": "ipython",
        "version": 3
      },
      "file_extension": ".py",
      "mimetype": "text/x-python",
      "name": "python",
      "nbconvert_exporter": "python",
      "pygments_lexer": "ipython3",
      "version": "3.6.3"
    }
  },
  "nbformat": 4,
  "nbformat_minor": 0
}