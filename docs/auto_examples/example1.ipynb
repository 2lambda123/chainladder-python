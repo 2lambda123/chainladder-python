{
  "cells": [
    {
      "cell_type": "code",
      "execution_count": null,
      "metadata": {
        "collapsed": false
      },
      "outputs": [],
      "source": [
        "%matplotlib inline"
      ]
    },
    {
      "cell_type": "markdown",
      "metadata": {},
      "source": [
        "\nUsing Industry Patterns\n=======================\n\nThis example demonstrates how you can create development patterns at a\nparticular `key` grain and apply them to another.\n\n"
      ]
    },
    {
      "cell_type": "code",
      "execution_count": null,
      "metadata": {
        "collapsed": false
      },
      "outputs": [],
      "source": [
        "import chainladder as cl\n\nclrd = cl.load_dataset('clrd')['CumPaidLoss']\nclrd = clrd[clrd['LOB'] == 'wkcomp']\n\nindustry = clrd.sum()\nallstate_industry_cl = cl.Chainladder().fit(industry).predict(clrd).ultimate_.loc['Allstate Ins Co Grp']\nallstate_company_cl = cl.Chainladder().fit(clrd.loc['Allstate Ins Co Grp']).ultimate_\ndiff = (allstate_industry_cl - allstate_company_cl)\n\nprint(diff.rename(development='Industry to Company LDF Diff'))\n\nimport numpy as np\nimport matplotlib.pyplot as plt\nimport sphinx_gallery\n\nnp.random.seed(32)\n\n\ndef layers(n, m):\n    \"\"\"\n    Return *n* random Gaussian mixtures, each of length *m*.\n    \"\"\"\n    def bump(a):\n        x = 1 / (.1 + np.random.random())\n        y = 2 * np.random.random() - .3\n        z = 13 / (.1 + np.random.random())\n        for i in range(m):\n            w = (i / float(m) - y) * z\n            a[i] += x * np.exp(-w * w)\n    a = np.zeros((m, n))\n    for i in range(n):\n        for j in range(12):\n            bump(a[:, i])\n    return np.abs(a)\n\n\nfig = plt.figure()\nd = layers(3, 100)\nx = range(100)\nfor mixture in d.T:\n    mixture[[0, -1]] = 0.\n    plt.fill(x, mixture, alpha=0.9)\n\nplt.annotate('Introducing Sphinx-Gallery ' + sphinx_gallery.__version__,\n             xy=(12, 4), arrowprops=dict(arrowstyle='->'), xytext=(22, 6))\n\nplt.xticks([])\nplt.yticks([])\n\n\nplt.show()"
      ]
    }
  ],
  "metadata": {
    "kernelspec": {
      "display_name": "Python 3",
      "language": "python",
      "name": "python3"
    },
    "language_info": {
      "codemirror_mode": {
        "name": "ipython",
        "version": 3
      },
      "file_extension": ".py",
      "mimetype": "text/x-python",
      "name": "python",
      "nbconvert_exporter": "python",
      "pygments_lexer": "ipython3",
      "version": "3.6.3"
    }
  },
  "nbformat": 4,
  "nbformat_minor": 0
}