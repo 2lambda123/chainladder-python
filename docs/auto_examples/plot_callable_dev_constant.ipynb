{
  "cells": [
    {
      "cell_type": "code",
      "execution_count": null,
      "metadata": {
        "collapsed": false
      },
      "outputs": [],
      "source": [
        "%matplotlib inline"
      ]
    },
    {
      "cell_type": "markdown",
      "metadata": {},
      "source": [
        "\n# DevelopmentConstant Function\n\n`DevelopmentConstant` takes a dictionary of development factors and stores them\nin a development estimator.  This example demonstrates how a function can be\npassed into `DevelopmentConstant` rather than a static dictionary of patterns.\nThe function should return development patterns for each element of the Triangle's\nindex. When passing a function to the estimator, it behaves as if calling the\npandas `apply` method on the Triangle's index.\n"
      ]
    },
    {
      "cell_type": "code",
      "execution_count": null,
      "metadata": {
        "collapsed": false
      },
      "outputs": [],
      "source": [
        "import chainladder as cl\nimport pandas as pd\n\n# Sample Data\nagway = cl.load_sample('clrd').loc['Agway Ins Co', 'CumPaidLoss']\n\ndef paid_cdfs(x):\n    \"\"\" A function that returns different CDFs depending on a specified LOB \"\"\"\n    cdfs = {\n    'comauto': [3.832, 1.874, 1.386, 1.181, 1.085, 1.043, 1.022, 1.013, 1.007, 1],\n    'medmal': [24.168, 4.127, 2.103, 1.528, 1.275, 1.161, 1.088, 1.047, 1.018, 1],\n    'othliab': [10.887, 3.416, 1.957, 1.433, 1.231, 1.119, 1.06, 1.031, 1.011, 1],\n    'ppauto': [2.559, 1.417, 1.181, 1.084, 1.04, 1.019, 1.009, 1.004, 1.001, 1],\n    'prodliab': [13.703, 5.613, 2.92, 1.765, 1.385, 1.177, 1.072, 1.034, 1.008, 1],\n    'wkcomp': [4.106, 1.865, 1.418, 1.234, 1.141, 1.09, 1.056, 1.03, 1.01, 1]}\n    patterns = pd.DataFrame(cdfs, index=range(12, 132, 12)).T\n    return patterns.loc[x.loc['LOB']].to_dict()\n\n# If it works with pandas apply on the triangle index...\nagway.index.apply(paid_cdfs, axis=1)\n# ... then it will work in DevelopmentConstant\nmodel = cl.DevelopmentConstant(patterns=paid_cdfs, callable_axis=1, style='cdf')\n\nmodel.fit(agway)\nmodel.ldf_.T.plot(kind='bar', grid=True, title='Agway Insurance LDFs');"
      ]
    }
  ],
  "metadata": {
    "kernelspec": {
      "display_name": "Python 3",
      "language": "python",
      "name": "python3"
    },
    "language_info": {
      "codemirror_mode": {
        "name": "ipython",
        "version": 3
      },
      "file_extension": ".py",
      "mimetype": "text/x-python",
      "name": "python",
      "nbconvert_exporter": "python",
      "pygments_lexer": "ipython3",
      "version": "3.7.0"
    }
  },
  "nbformat": 4,
  "nbformat_minor": 0
}