{
  "cells": [
    {
      "cell_type": "code",
      "execution_count": null,
      "metadata": {
        "collapsed": false
      },
      "outputs": [],
      "source": [
        "%matplotlib inline"
      ]
    },
    {
      "cell_type": "markdown",
      "metadata": {},
      "source": [
        "\n# Mack Chainladder Example\n\n\nThis example demonstrates how you can can use the Mack Chainladder method.\n\n"
      ]
    },
    {
      "cell_type": "code",
      "execution_count": null,
      "metadata": {
        "collapsed": false
      },
      "outputs": [],
      "source": [
        "import pandas as pd\nimport chainladder as cl\nimport seaborn as sns\nsns.set_style('whitegrid')\n\n# Load the data\ndata = cl.load_dataset('raa')\n\n# Compute Mack Chainladder ultimates and Std Err using 'simple' average\nmack = cl.MackChainladder()\ndev = cl.Development(average='simple')\nmack.fit(dev.fit_transform(data))\n\n# Plotting\nplot_data = mack.summary_.to_frame()\ng = plot_data[['Latest', 'IBNR']] \\\n    .plot(kind='bar', stacked=True,\n          yerr=pd.DataFrame({'latest': plot_data['Mack Std Err']*0,\n                             'IBNR': plot_data['Mack Std Err']}),\n          ylim=(0, None), title='Mack Chainladder Ultimate')\ng.set_xlabel('Accident Year')\n_ = g.set_ylabel('Loss')"
      ]
    }
  ],
  "metadata": {
    "kernelspec": {
      "display_name": "Python 3",
      "language": "python",
      "name": "python3"
    },
    "language_info": {
      "codemirror_mode": {
        "name": "ipython",
        "version": 3
      },
      "file_extension": ".py",
      "mimetype": "text/x-python",
      "name": "python",
      "nbconvert_exporter": "python",
      "pygments_lexer": "ipython3",
      "version": "3.6.3"
    }
  },
  "nbformat": 4,
  "nbformat_minor": 0
}