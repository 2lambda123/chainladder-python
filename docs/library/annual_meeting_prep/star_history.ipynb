{
 "cells": [
  {
   "cell_type": "code",
   "execution_count": 1,
   "id": "8f6681ca-c6b4-43aa-a736-5824a29ebca5",
   "metadata": {},
   "outputs": [
    {
     "data": {
      "application/javascript": [
       "\n",
       "            setTimeout(function() {\n",
       "                var nbb_cell_id = 1;\n",
       "                var nbb_unformatted_code = \"import numpy as np\\nimport pandas as pd\\nimport matplotlib.pyplot as plt\\n\\n%load_ext nb_black\";\n",
       "                var nbb_formatted_code = \"import numpy as np\\nimport pandas as pd\\nimport matplotlib.pyplot as plt\\n\\n%load_ext nb_black\";\n",
       "                var nbb_cells = Jupyter.notebook.get_cells();\n",
       "                for (var i = 0; i < nbb_cells.length; ++i) {\n",
       "                    if (nbb_cells[i].input_prompt_number == nbb_cell_id) {\n",
       "                        if (nbb_cells[i].get_text() == nbb_unformatted_code) {\n",
       "                             nbb_cells[i].set_text(nbb_formatted_code);\n",
       "                        }\n",
       "                        break;\n",
       "                    }\n",
       "                }\n",
       "            }, 500);\n",
       "            "
      ],
      "text/plain": [
       "<IPython.core.display.Javascript object>"
      ]
     },
     "metadata": {},
     "output_type": "display_data"
    }
   ],
   "source": [
    "import numpy as np\n",
    "import pandas as pd\n",
    "import matplotlib.pyplot as plt\n",
    "\n",
    "%load_ext nb_black"
   ]
  },
  {
   "cell_type": "code",
   "execution_count": 2,
   "id": "5d3bcd27-40ff-4d7b-b7be-3be93a20dd2e",
   "metadata": {},
   "outputs": [
    {
     "data": {
      "text/html": [
       "<div>\n",
       "<style scoped>\n",
       "    .dataframe tbody tr th:only-of-type {\n",
       "        vertical-align: middle;\n",
       "    }\n",
       "\n",
       "    .dataframe tbody tr th {\n",
       "        vertical-align: top;\n",
       "    }\n",
       "\n",
       "    .dataframe thead th {\n",
       "        text-align: right;\n",
       "    }\n",
       "</style>\n",
       "<table border=\"1\" class=\"dataframe\">\n",
       "  <thead>\n",
       "    <tr style=\"text-align: right;\">\n",
       "      <th></th>\n",
       "      <th>Package</th>\n",
       "      <th>Record_Date</th>\n",
       "      <th>Stars</th>\n",
       "    </tr>\n",
       "  </thead>\n",
       "  <tbody>\n",
       "    <tr>\n",
       "      <th>0</th>\n",
       "      <td>casact/chainladder-python</td>\n",
       "      <td>Mon Oct 09 2017 00:15:42 GMT-0700 (Pacific Day...</td>\n",
       "      <td>1</td>\n",
       "    </tr>\n",
       "    <tr>\n",
       "      <th>1</th>\n",
       "      <td>casact/chainladder-python</td>\n",
       "      <td>Thu Sep 27 2018 20:31:36 GMT-0700 (Pacific Day...</td>\n",
       "      <td>9</td>\n",
       "    </tr>\n",
       "    <tr>\n",
       "      <th>2</th>\n",
       "      <td>casact/chainladder-python</td>\n",
       "      <td>Tue Jun 11 2019 01:50:51 GMT-0700 (Pacific Day...</td>\n",
       "      <td>17</td>\n",
       "    </tr>\n",
       "    <tr>\n",
       "      <th>3</th>\n",
       "      <td>casact/chainladder-python</td>\n",
       "      <td>Sat Jan 25 2020 15:33:28 GMT-0800 (Pacific Sta...</td>\n",
       "      <td>25</td>\n",
       "    </tr>\n",
       "    <tr>\n",
       "      <th>4</th>\n",
       "      <td>casact/chainladder-python</td>\n",
       "      <td>Fri Apr 24 2020 06:26:04 GMT-0700 (Pacific Day...</td>\n",
       "      <td>33</td>\n",
       "    </tr>\n",
       "    <tr>\n",
       "      <th>...</th>\n",
       "      <td>...</td>\n",
       "      <td>...</td>\n",
       "      <td>...</td>\n",
       "    </tr>\n",
       "    <tr>\n",
       "      <th>63</th>\n",
       "      <td>fumitoh/modelx</td>\n",
       "      <td>Sat Feb 19 2022 04:59:52 GMT-0800 (Pacific Sta...</td>\n",
       "      <td>40</td>\n",
       "    </tr>\n",
       "    <tr>\n",
       "      <th>64</th>\n",
       "      <td>fumitoh/modelx</td>\n",
       "      <td>Fri Apr 15 2022 14:37:30 GMT-0700 (Pacific Day...</td>\n",
       "      <td>43</td>\n",
       "    </tr>\n",
       "    <tr>\n",
       "      <th>65</th>\n",
       "      <td>fumitoh/modelx</td>\n",
       "      <td>Sat Jul 23 2022 12:08:54 GMT-0700 (Pacific Day...</td>\n",
       "      <td>46</td>\n",
       "    </tr>\n",
       "    <tr>\n",
       "      <th>66</th>\n",
       "      <td>fumitoh/modelx</td>\n",
       "      <td>Sun Aug 21 2022 00:49:08 GMT-0700 (Pacific Day...</td>\n",
       "      <td>49</td>\n",
       "    </tr>\n",
       "    <tr>\n",
       "      <th>67</th>\n",
       "      <td>fumitoh/modelx</td>\n",
       "      <td>Mon Oct 03 2022 18:22:37 GMT-0700 (Pacific Day...</td>\n",
       "      <td>51</td>\n",
       "    </tr>\n",
       "  </tbody>\n",
       "</table>\n",
       "<p>68 rows × 3 columns</p>\n",
       "</div>"
      ],
      "text/plain": [
       "                      Package  \\\n",
       "0   casact/chainladder-python   \n",
       "1   casact/chainladder-python   \n",
       "2   casact/chainladder-python   \n",
       "3   casact/chainladder-python   \n",
       "4   casact/chainladder-python   \n",
       "..                        ...   \n",
       "63             fumitoh/modelx   \n",
       "64             fumitoh/modelx   \n",
       "65             fumitoh/modelx   \n",
       "66             fumitoh/modelx   \n",
       "67             fumitoh/modelx   \n",
       "\n",
       "                                          Record_Date  Stars  \n",
       "0   Mon Oct 09 2017 00:15:42 GMT-0700 (Pacific Day...      1  \n",
       "1   Thu Sep 27 2018 20:31:36 GMT-0700 (Pacific Day...      9  \n",
       "2   Tue Jun 11 2019 01:50:51 GMT-0700 (Pacific Day...     17  \n",
       "3   Sat Jan 25 2020 15:33:28 GMT-0800 (Pacific Sta...     25  \n",
       "4   Fri Apr 24 2020 06:26:04 GMT-0700 (Pacific Day...     33  \n",
       "..                                                ...    ...  \n",
       "63  Sat Feb 19 2022 04:59:52 GMT-0800 (Pacific Sta...     40  \n",
       "64  Fri Apr 15 2022 14:37:30 GMT-0700 (Pacific Day...     43  \n",
       "65  Sat Jul 23 2022 12:08:54 GMT-0700 (Pacific Day...     46  \n",
       "66  Sun Aug 21 2022 00:49:08 GMT-0700 (Pacific Day...     49  \n",
       "67  Mon Oct 03 2022 18:22:37 GMT-0700 (Pacific Day...     51  \n",
       "\n",
       "[68 rows x 3 columns]"
      ]
     },
     "execution_count": 2,
     "metadata": {},
     "output_type": "execute_result"
    },
    {
     "data": {
      "application/javascript": [
       "\n",
       "            setTimeout(function() {\n",
       "                var nbb_cell_id = 2;\n",
       "                var nbb_unformatted_code = \"# data source: https://star-history.com/#casact/chainladder-python&lifelib-dev/lifelib&mages/ChainLadder&fumitoh/modelx&Date\\ndata = pd.read_csv(\\\"star-history-2022103.csv\\\")\\ndata\";\n",
       "                var nbb_formatted_code = \"# data source: https://star-history.com/#casact/chainladder-python&lifelib-dev/lifelib&mages/ChainLadder&fumitoh/modelx&Date\\ndata = pd.read_csv(\\\"star-history-2022103.csv\\\")\\ndata\";\n",
       "                var nbb_cells = Jupyter.notebook.get_cells();\n",
       "                for (var i = 0; i < nbb_cells.length; ++i) {\n",
       "                    if (nbb_cells[i].input_prompt_number == nbb_cell_id) {\n",
       "                        if (nbb_cells[i].get_text() == nbb_unformatted_code) {\n",
       "                             nbb_cells[i].set_text(nbb_formatted_code);\n",
       "                        }\n",
       "                        break;\n",
       "                    }\n",
       "                }\n",
       "            }, 500);\n",
       "            "
      ],
      "text/plain": [
       "<IPython.core.display.Javascript object>"
      ]
     },
     "metadata": {},
     "output_type": "display_data"
    }
   ],
   "source": [
    "# data source: https://star-history.com/#casact/chainladder-python&lifelib-dev/lifelib&mages/ChainLadder&fumitoh/modelx&Date\n",
    "data = pd.read_csv(\"star-history-2022103.csv\")\n",
    "data"
   ]
  },
  {
   "cell_type": "code",
   "execution_count": 3,
   "id": "d5742f9e-5fed-48df-bcfa-6e43ff1f3547",
   "metadata": {},
   "outputs": [
    {
     "data": {
      "text/html": [
       "<div>\n",
       "<style scoped>\n",
       "    .dataframe tbody tr th:only-of-type {\n",
       "        vertical-align: middle;\n",
       "    }\n",
       "\n",
       "    .dataframe tbody tr th {\n",
       "        vertical-align: top;\n",
       "    }\n",
       "\n",
       "    .dataframe thead th {\n",
       "        text-align: right;\n",
       "    }\n",
       "</style>\n",
       "<table border=\"1\" class=\"dataframe\">\n",
       "  <thead>\n",
       "    <tr style=\"text-align: right;\">\n",
       "      <th></th>\n",
       "      <th>Package</th>\n",
       "      <th>Record_Date</th>\n",
       "      <th>Stars</th>\n",
       "      <th>Record_Date_P</th>\n",
       "    </tr>\n",
       "  </thead>\n",
       "  <tbody>\n",
       "    <tr>\n",
       "      <th>0</th>\n",
       "      <td>casact/chainladder-python</td>\n",
       "      <td>Mon Oct 09 2017 00:15:42 GMT-0700 (Pacific Day...</td>\n",
       "      <td>1</td>\n",
       "      <td>2017-10-09</td>\n",
       "    </tr>\n",
       "    <tr>\n",
       "      <th>1</th>\n",
       "      <td>casact/chainladder-python</td>\n",
       "      <td>Thu Sep 27 2018 20:31:36 GMT-0700 (Pacific Day...</td>\n",
       "      <td>9</td>\n",
       "      <td>2018-09-27</td>\n",
       "    </tr>\n",
       "    <tr>\n",
       "      <th>2</th>\n",
       "      <td>casact/chainladder-python</td>\n",
       "      <td>Tue Jun 11 2019 01:50:51 GMT-0700 (Pacific Day...</td>\n",
       "      <td>17</td>\n",
       "      <td>2019-06-11</td>\n",
       "    </tr>\n",
       "    <tr>\n",
       "      <th>3</th>\n",
       "      <td>casact/chainladder-python</td>\n",
       "      <td>Sat Jan 25 2020 15:33:28 GMT-0800 (Pacific Sta...</td>\n",
       "      <td>25</td>\n",
       "      <td>2020-01-25</td>\n",
       "    </tr>\n",
       "    <tr>\n",
       "      <th>4</th>\n",
       "      <td>casact/chainladder-python</td>\n",
       "      <td>Fri Apr 24 2020 06:26:04 GMT-0700 (Pacific Day...</td>\n",
       "      <td>33</td>\n",
       "      <td>2020-04-24</td>\n",
       "    </tr>\n",
       "    <tr>\n",
       "      <th>...</th>\n",
       "      <td>...</td>\n",
       "      <td>...</td>\n",
       "      <td>...</td>\n",
       "      <td>...</td>\n",
       "    </tr>\n",
       "    <tr>\n",
       "      <th>63</th>\n",
       "      <td>fumitoh/modelx</td>\n",
       "      <td>Sat Feb 19 2022 04:59:52 GMT-0800 (Pacific Sta...</td>\n",
       "      <td>40</td>\n",
       "      <td>2022-02-19</td>\n",
       "    </tr>\n",
       "    <tr>\n",
       "      <th>64</th>\n",
       "      <td>fumitoh/modelx</td>\n",
       "      <td>Fri Apr 15 2022 14:37:30 GMT-0700 (Pacific Day...</td>\n",
       "      <td>43</td>\n",
       "      <td>2022-04-15</td>\n",
       "    </tr>\n",
       "    <tr>\n",
       "      <th>65</th>\n",
       "      <td>fumitoh/modelx</td>\n",
       "      <td>Sat Jul 23 2022 12:08:54 GMT-0700 (Pacific Day...</td>\n",
       "      <td>46</td>\n",
       "      <td>2022-07-23</td>\n",
       "    </tr>\n",
       "    <tr>\n",
       "      <th>66</th>\n",
       "      <td>fumitoh/modelx</td>\n",
       "      <td>Sun Aug 21 2022 00:49:08 GMT-0700 (Pacific Day...</td>\n",
       "      <td>49</td>\n",
       "      <td>2022-08-21</td>\n",
       "    </tr>\n",
       "    <tr>\n",
       "      <th>67</th>\n",
       "      <td>fumitoh/modelx</td>\n",
       "      <td>Mon Oct 03 2022 18:22:37 GMT-0700 (Pacific Day...</td>\n",
       "      <td>51</td>\n",
       "      <td>2022-10-03</td>\n",
       "    </tr>\n",
       "  </tbody>\n",
       "</table>\n",
       "<p>68 rows × 4 columns</p>\n",
       "</div>"
      ],
      "text/plain": [
       "                      Package  \\\n",
       "0   casact/chainladder-python   \n",
       "1   casact/chainladder-python   \n",
       "2   casact/chainladder-python   \n",
       "3   casact/chainladder-python   \n",
       "4   casact/chainladder-python   \n",
       "..                        ...   \n",
       "63             fumitoh/modelx   \n",
       "64             fumitoh/modelx   \n",
       "65             fumitoh/modelx   \n",
       "66             fumitoh/modelx   \n",
       "67             fumitoh/modelx   \n",
       "\n",
       "                                          Record_Date  Stars Record_Date_P  \n",
       "0   Mon Oct 09 2017 00:15:42 GMT-0700 (Pacific Day...      1    2017-10-09  \n",
       "1   Thu Sep 27 2018 20:31:36 GMT-0700 (Pacific Day...      9    2018-09-27  \n",
       "2   Tue Jun 11 2019 01:50:51 GMT-0700 (Pacific Day...     17    2019-06-11  \n",
       "3   Sat Jan 25 2020 15:33:28 GMT-0800 (Pacific Sta...     25    2020-01-25  \n",
       "4   Fri Apr 24 2020 06:26:04 GMT-0700 (Pacific Day...     33    2020-04-24  \n",
       "..                                                ...    ...           ...  \n",
       "63  Sat Feb 19 2022 04:59:52 GMT-0800 (Pacific Sta...     40    2022-02-19  \n",
       "64  Fri Apr 15 2022 14:37:30 GMT-0700 (Pacific Day...     43    2022-04-15  \n",
       "65  Sat Jul 23 2022 12:08:54 GMT-0700 (Pacific Day...     46    2022-07-23  \n",
       "66  Sun Aug 21 2022 00:49:08 GMT-0700 (Pacific Day...     49    2022-08-21  \n",
       "67  Mon Oct 03 2022 18:22:37 GMT-0700 (Pacific Day...     51    2022-10-03  \n",
       "\n",
       "[68 rows x 4 columns]"
      ]
     },
     "execution_count": 3,
     "metadata": {},
     "output_type": "execute_result"
    },
    {
     "data": {
      "application/javascript": [
       "\n",
       "            setTimeout(function() {\n",
       "                var nbb_cell_id = 3;\n",
       "                var nbb_unformatted_code = \"data[\\\"Record_Date_P\\\"] = pd.to_datetime(data[\\\"Record_Date\\\"].str.slice(start=4, stop=15))\\ndata\";\n",
       "                var nbb_formatted_code = \"data[\\\"Record_Date_P\\\"] = pd.to_datetime(data[\\\"Record_Date\\\"].str.slice(start=4, stop=15))\\ndata\";\n",
       "                var nbb_cells = Jupyter.notebook.get_cells();\n",
       "                for (var i = 0; i < nbb_cells.length; ++i) {\n",
       "                    if (nbb_cells[i].input_prompt_number == nbb_cell_id) {\n",
       "                        if (nbb_cells[i].get_text() == nbb_unformatted_code) {\n",
       "                             nbb_cells[i].set_text(nbb_formatted_code);\n",
       "                        }\n",
       "                        break;\n",
       "                    }\n",
       "                }\n",
       "            }, 500);\n",
       "            "
      ],
      "text/plain": [
       "<IPython.core.display.Javascript object>"
      ]
     },
     "metadata": {},
     "output_type": "display_data"
    }
   ],
   "source": [
    "data[\"Record_Date_P\"] = pd.to_datetime(data[\"Record_Date\"].str.slice(start=4, stop=15))\n",
    "data"
   ]
  },
  {
   "cell_type": "code",
   "execution_count": 4,
   "id": "de3cc1cb-92ae-4711-a887-f9690216c5cb",
   "metadata": {},
   "outputs": [
    {
     "data": {
      "text/plain": [
       "array(['casact/chainladder-python', 'lifelib-dev/lifelib',\n",
       "       'mages/ChainLadder', 'fumitoh/modelx'], dtype=object)"
      ]
     },
     "execution_count": 4,
     "metadata": {},
     "output_type": "execute_result"
    },
    {
     "data": {
      "application/javascript": [
       "\n",
       "            setTimeout(function() {\n",
       "                var nbb_cell_id = 4;\n",
       "                var nbb_unformatted_code = \"data[\\\"Package\\\"].unique()\";\n",
       "                var nbb_formatted_code = \"data[\\\"Package\\\"].unique()\";\n",
       "                var nbb_cells = Jupyter.notebook.get_cells();\n",
       "                for (var i = 0; i < nbb_cells.length; ++i) {\n",
       "                    if (nbb_cells[i].input_prompt_number == nbb_cell_id) {\n",
       "                        if (nbb_cells[i].get_text() == nbb_unformatted_code) {\n",
       "                             nbb_cells[i].set_text(nbb_formatted_code);\n",
       "                        }\n",
       "                        break;\n",
       "                    }\n",
       "                }\n",
       "            }, 500);\n",
       "            "
      ],
      "text/plain": [
       "<IPython.core.display.Javascript object>"
      ]
     },
     "metadata": {},
     "output_type": "display_data"
    }
   ],
   "source": [
    "data[\"Package\"].unique()"
   ]
  },
  {
   "cell_type": "code",
   "execution_count": 5,
   "id": "8e54af1b-b73c-4894-af99-c824535806a4",
   "metadata": {},
   "outputs": [
    {
     "data": {
      "text/plain": [
       "Timestamp('2015-01-07 00:00:00')"
      ]
     },
     "execution_count": 5,
     "metadata": {},
     "output_type": "execute_result"
    },
    {
     "data": {
      "application/javascript": [
       "\n",
       "            setTimeout(function() {\n",
       "                var nbb_cell_id = 5;\n",
       "                var nbb_unformatted_code = \"data[\\\"Record_Date_P\\\"].min()\";\n",
       "                var nbb_formatted_code = \"data[\\\"Record_Date_P\\\"].min()\";\n",
       "                var nbb_cells = Jupyter.notebook.get_cells();\n",
       "                for (var i = 0; i < nbb_cells.length; ++i) {\n",
       "                    if (nbb_cells[i].input_prompt_number == nbb_cell_id) {\n",
       "                        if (nbb_cells[i].get_text() == nbb_unformatted_code) {\n",
       "                             nbb_cells[i].set_text(nbb_formatted_code);\n",
       "                        }\n",
       "                        break;\n",
       "                    }\n",
       "                }\n",
       "            }, 500);\n",
       "            "
      ],
      "text/plain": [
       "<IPython.core.display.Javascript object>"
      ]
     },
     "metadata": {},
     "output_type": "display_data"
    }
   ],
   "source": [
    "data[\"Record_Date_P\"].min()"
   ]
  },
  {
   "cell_type": "code",
   "execution_count": 18,
   "id": "cf1b0a71-9b38-4ef6-873d-dcebe4c96203",
   "metadata": {},
   "outputs": [
    {
     "data": {
      "text/plain": [
       "<matplotlib.legend.Legend at 0x7fb672ce3400>"
      ]
     },
     "execution_count": 18,
     "metadata": {},
     "output_type": "execute_result"
    },
    {
     "data": {
      "image/png": "[encoded data removed]",
      "text/plain": [
       "<Figure size 1200x900 with 1 Axes>"
      ]
     },
     "metadata": {
      "needs_background": "light"
     },
     "output_type": "display_data"
    },
    {
     "data": {
      "application/javascript": [
       "\n",
       "            setTimeout(function() {\n",
       "                var nbb_cell_id = 18;\n",
       "                var nbb_unformatted_code = \"plt.figure(figsize=(8, 6), dpi=150)\\n\\nplt.plot(\\n    data[data[\\\"Package\\\"]==\\\"mages/ChainLadder\\\"][\\\"Record_Date_P\\\"], \\n    data[data[\\\"Package\\\"]==\\\"mages/ChainLadder\\\"][\\\"Stars\\\"],\\n    label = \\\"mages/ChainLadder\\\"\\n)\\nplt.plot(\\n    data[data[\\\"Package\\\"]==\\\"lifelib-dev/lifelib\\\"][\\\"Record_Date_P\\\"], \\n    data[data[\\\"Package\\\"]==\\\"lifelib-dev/lifelib\\\"][\\\"Stars\\\"],\\n    label = \\\"lifelib-dev/lifelib\\\"\\n)\\nplt.plot(\\n    data[data[\\\"Package\\\"]==\\\"casact/chainladder-python\\\"][\\\"Record_Date_P\\\"], \\n    data[data[\\\"Package\\\"]==\\\"casact/chainladder-python\\\"][\\\"Stars\\\"],\\n    label = \\\"casact/chainladder-python\\\"\\n)\\nplt.ylabel('Github Stars')\\nplt.xticks(pd.Series(\\n    pd.date_range(\\\"2015/01/01\\\", periods=5, freq=\\\"2YS\\\")\\n),pd.Series(\\n    pd.date_range(\\\"2015/01/01\\\", periods=5, freq=\\\"2YS\\\")\\n).dt.year)\\nplt.legend()\";\n",
       "                var nbb_formatted_code = \"plt.figure(figsize=(8, 6), dpi=150)\\n\\nplt.plot(\\n    data[data[\\\"Package\\\"] == \\\"mages/ChainLadder\\\"][\\\"Record_Date_P\\\"],\\n    data[data[\\\"Package\\\"] == \\\"mages/ChainLadder\\\"][\\\"Stars\\\"],\\n    label=\\\"mages/ChainLadder\\\",\\n)\\nplt.plot(\\n    data[data[\\\"Package\\\"] == \\\"lifelib-dev/lifelib\\\"][\\\"Record_Date_P\\\"],\\n    data[data[\\\"Package\\\"] == \\\"lifelib-dev/lifelib\\\"][\\\"Stars\\\"],\\n    label=\\\"lifelib-dev/lifelib\\\",\\n)\\nplt.plot(\\n    data[data[\\\"Package\\\"] == \\\"casact/chainladder-python\\\"][\\\"Record_Date_P\\\"],\\n    data[data[\\\"Package\\\"] == \\\"casact/chainladder-python\\\"][\\\"Stars\\\"],\\n    label=\\\"casact/chainladder-python\\\",\\n)\\nplt.ylabel(\\\"Github Stars\\\")\\nplt.xticks(\\n    pd.Series(pd.date_range(\\\"2015/01/01\\\", periods=5, freq=\\\"2YS\\\")),\\n    pd.Series(pd.date_range(\\\"2015/01/01\\\", periods=5, freq=\\\"2YS\\\")).dt.year,\\n)\\nplt.legend()\";\n",
       "                var nbb_cells = Jupyter.notebook.get_cells();\n",
       "                for (var i = 0; i < nbb_cells.length; ++i) {\n",
       "                    if (nbb_cells[i].input_prompt_number == nbb_cell_id) {\n",
       "                        if (nbb_cells[i].get_text() == nbb_unformatted_code) {\n",
       "                             nbb_cells[i].set_text(nbb_formatted_code);\n",
       "                        }\n",
       "                        break;\n",
       "                    }\n",
       "                }\n",
       "            }, 500);\n",
       "            "
      ],
      "text/plain": [
       "<IPython.core.display.Javascript object>"
      ]
     },
     "metadata": {},
     "output_type": "display_data"
    }
   ],
   "source": [
    "plt.figure(figsize=(8, 6), dpi=150)\n",
    "\n",
    "plt.plot(\n",
    "    data[data[\"Package\"]==\"mages/ChainLadder\"][\"Record_Date_P\"], \n",
    "    data[data[\"Package\"]==\"mages/ChainLadder\"][\"Stars\"],\n",
    "    label = \"mages/ChainLadder\"\n",
    ")\n",
    "plt.plot(\n",
    "    data[data[\"Package\"]==\"lifelib-dev/lifelib\"][\"Record_Date_P\"], \n",
    "    data[data[\"Package\"]==\"lifelib-dev/lifelib\"][\"Stars\"],\n",
    "    label = \"lifelib-dev/lifelib\"\n",
    ")\n",
    "plt.plot(\n",
    "    data[data[\"Package\"]==\"casact/chainladder-python\"][\"Record_Date_P\"], \n",
    "    data[data[\"Package\"]==\"casact/chainladder-python\"][\"Stars\"],\n",
    "    label = \"casact/chainladder-python\"\n",
    ")\n",
    "plt.ylabel('Github Stars')\n",
    "plt.xticks(pd.Series(\n",
    "    pd.date_range(\"2015/01/01\", periods=5, freq=\"2YS\")\n",
    "),pd.Series(\n",
    "    pd.date_range(\"2015/01/01\", periods=5, freq=\"2YS\")\n",
    ").dt.year)\n",
    "plt.legend()"
   ]
  }
 ],
 "metadata": {
  "kernelspec": {
   "display_name": "Python 3 (ipykernel)",
   "language": "python",
   "name": "python3"
  },
  "language_info": {
   "codemirror_mode": {
    "name": "ipython",
    "version": 3
   },
   "file_extension": ".py",
   "mimetype": "text/x-python",
   "name": "python",
   "nbconvert_exporter": "python",
   "pygments_lexer": "ipython3",
   "version": "3.9.12"
  }
 },
 "nbformat": 4,
 "nbformat_minor": 5
}
