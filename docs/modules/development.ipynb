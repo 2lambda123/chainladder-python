{
 "cells": [
  {
   "cell_type": "markdown",
   "id": "colored-filter",
   "metadata": {},
   "source": [
    "# Development Estimators\n"
   ]
  },
  {
   "cell_type": "markdown",
   "id": "figured-cemetery",
   "metadata": {},
   "source": [
    "## Basics and Commonalities\n",
    "\n",
    "Before stepping into fitting development patterns, its worth reviewing the basics\n",
    "of Estimators. The main modeling API implemented by chainladder follows that of\n",
    "the scikit-learn estimator. An estimator is any object that learns from data."
   ]
  },
  {
   "cell_type": "markdown",
   "id": "protecting-customer",
   "metadata": {},
   "source": [
    "### Scikit-Learn API\n",
    "\n",
    "The scikit-learn API is a common modeling interface that is used to construct and\n",
    "fit a countless variety of machine learning algorithms.  The common interface\n",
    "allows for very quick swapping between models with minimal code changes.  The\n",
    "``chainladder`` package has adopted the interface to promote a standardized approach\n",
    "to fitting reserving models.\n",
    "\n",
    "All estimator objects can optionally be configured with parameters to uniquely\n",
    "specify the model being built.  This is done ahead of pushing any data through\n",
    "the model.\n",
    "\n",
    "```python\n",
    "estimator = Estimator(param1=1, param2=2)\n",
    "```\n",
    "All estimator objects expose a `fit` method that takes a `Triangle` as input, `X`:\n",
    "\n",
    "```python\n",
    "estimator.fit(X=data)\n",
    "```\n",
    "\n",
    "All estimators include a `sample_weight` option to the `fit` method to specify\n",
    "an exposure basis.  If an exposure base is not applicable, then this argument is\n",
    "ignored.\n",
    "\n",
    "```python\n",
    "estimator.fit(X=data, sample_weight=weight)\n",
    "```\n",
    "\n",
    "All estimators either `transform` the input Triangle or `predict` an outcome."
   ]
  },
  {
   "cell_type": "markdown",
   "id": "compatible-secondary",
   "metadata": {},
   "source": [
    "### Transformers\n",
    "\n",
    "All transformers include a ``transform`` method.  The method is used to transform a\n",
    "Triangle and it will always return a Triangle with added features based on the\n",
    "specifics of the transformer.\n",
    "\n",
    "```python\n",
    "transformed_data = estimator.transform(data)\n",
    "```\n",
    "\n",
    "Other than final IBNR models, ``chainladder`` estimators are transformers.\n",
    "That is, they return your `Triangle` back to you with additional properties.\n",
    "\n",
    "Transforming can be done at the time of fit.\n",
    "\n",
    "```python\n",
    "# Fitting and Transforming\n",
    "estimator.fit(data)\n",
    "transformed_data = estimator.transform(data)\n",
    "# One line equivalent\n",
    "transformed_data = estimator.fit_transform(data)\n",
    "assert isinstance(transformed_data, cl.Triangle)\n",
    "```"
   ]
  },
  {
   "cell_type": "markdown",
   "id": "common-mileage",
   "metadata": {},
   "source": [
    "### Predictors\n",
    "\n",
    "All predictors include a ``predict`` method.\n",
    "\n",
    "```python\n",
    "prediction = estimator.predict(new_data)\n",
    "```\n",
    "\n",
    "Predictors are intended to create new predictions. It is not uncommon to fit a\n",
    "model on a more aggregate view, say national level, of data and predict on a\n",
    "more granular triangle, state or provincial."
   ]
  },
  {
   "cell_type": "markdown",
   "id": "lyric-syracuse",
   "metadata": {},
   "source": [
    "### Parameter Types\n",
    "\n",
    "Estimator parameters: All the parameters of an estimator can be set when it is\n",
    "instantiated or by modifying the corresponding attribute.  These parameters\n",
    "define how you'd like to fit an estimator and are chosen before the fitting\n",
    "process.  These are often referred to as hyperparameters in the context of\n",
    "Machine Learning, and throughout these documents.  Most of the hyperparameters\n",
    "of the ``chainladder`` package take on sensible defaults.\n",
    "\n",
    "```python\n",
    "estimator = Estimator(param1=1, param2=2)\n",
    "assert estimator.param1 == 1\n",
    "```\n",
    "\n",
    "Estimated parameters: When data is fitted with an estimator, parameters are\n",
    "estimated from the data at hand. All the estimated parameters are attributes\n",
    "of the estimator object ending by an underscore.  The use of the underscore is\n",
    "a key API design style of scikit-learn that allows for the quicker recognition\n",
    "of fitted parameters vs hyperparameters:\n",
    "\n",
    "```python\n",
    "estimator.estimated_param_\n",
    "```\n",
    "\n",
    "In many cases the estimated parameters are themselves Triangles and can be\n",
    "manipulated using the same methods we learned about in the :class:`Triangle` class.\n",
    "\n"
   ]
  },
  {
   "cell_type": "code",
   "execution_count": 1,
   "id": "mysterious-translation",
   "metadata": {},
   "outputs": [
    {
     "data": {
      "text/plain": [
       "chainladder.core.triangle.Triangle"
      ]
     },
     "execution_count": 1,
     "metadata": {},
     "output_type": "execute_result"
    }
   ],
   "source": [
    "import chainladder as cl\n",
    "dev = cl.Development().fit(cl.load_sample('ukmotor'))\n",
    "type(dev.cdf_)"
   ]
  },
  {
   "cell_type": "markdown",
   "id": "accessible-uganda",
   "metadata": {},
   "source": [
    "### Commonalities\n",
    "\n",
    "All \"Development Estimators\" are transformers and reveal common a set of properties\n",
    "when they are fit.\n",
    "\n",
    "1. ``ldf_`` represents the fitted age-to-age factors of the model.\n",
    "2. ``cdf_`` represents the fitted age-to-ultimate factors of the model.\n",
    "3. All \"Development estimators\" implement the ``transform`` method.\n",
    "\n",
    "\n",
    "``cdf_`` is nothing more than the cumulative representation of the ``ldf_`` vectors.\n"
   ]
  },
  {
   "cell_type": "code",
   "execution_count": 2,
   "id": "naughty-survivor",
   "metadata": {},
   "outputs": [
    {
     "data": {
      "text/plain": [
       "True"
      ]
     },
     "execution_count": 2,
     "metadata": {},
     "output_type": "execute_result"
    }
   ],
   "source": [
    "dev = cl.Development().fit(cl.load_sample('raa'))\n",
    "dev.ldf_.incr_to_cum() == dev.cdf_"
   ]
  },
  {
   "cell_type": "markdown",
   "id": "tamil-terminology",
   "metadata": {},
   "source": [
    "(development:development)=\n",
    "## Development\n",
    "\n",
    ":class:`Development` allows for the selection of loss development patterns. Many\n",
    "of the typical averaging techniques are available in this class: ``simple``,\n",
    "``volume`` and  ``regression`` through the origin. Additionally, :class:`Development`\n",
    "includes patterns to allow for fine-tuned exclusion of link-ratios from the LDF\n",
    "calculation.\n"
   ]
  },
  {
   "cell_type": "code",
   "execution_count": 3,
   "id": "timely-illinois",
   "metadata": {},
   "outputs": [
    {
     "data": {
      "text/plain": [
       "Development(average='simple')"
      ]
     },
     "execution_count": 3,
     "metadata": {},
     "output_type": "execute_result"
    }
   ],
   "source": [
    "raa = cl.load_sample('raa')\n",
    "cl.Development(average='simple')"
   ]
  },
  {
   "cell_type": "markdown",
   "id": "cosmetic-correction",
   "metadata": {},
   "source": [
    "Alternatively, you can provide a list to parameterize each development period\n",
    "separately.  When adjusting individual development periods the list must be\n",
    "the same length as your triangles ``link_ratio`` development axis."
   ]
  },
  {
   "cell_type": "code",
   "execution_count": 4,
   "id": "female-function",
   "metadata": {},
   "outputs": [
    {
     "data": {
      "text/plain": [
       "9"
      ]
     },
     "execution_count": 4,
     "metadata": {},
     "output_type": "execute_result"
    }
   ],
   "source": [
    "len(raa.link_ratio.development)"
   ]
  },
  {
   "cell_type": "code",
   "execution_count": 5,
   "id": "meaningful-aviation",
   "metadata": {},
   "outputs": [
    {
     "data": {
      "text/plain": [
       "Development(average=['volume', 'simple', 'simple', 'simple', 'simple', 'simple',\n",
       "                     'simple', 'simple', 'simple'])"
      ]
     },
     "execution_count": 5,
     "metadata": {},
     "output_type": "execute_result"
    }
   ],
   "source": [
    "cl.Development(average=['volume']+['simple']*8)"
   ]
  },
  {
   "cell_type": "markdown",
   "id": "indian-bench",
   "metadata": {},
   "source": [
    "This approach works for ``average``, ``n_periods``, ``drop_high`` and ``drop_low``.\n",
    "\n",
    "Notice where you have not specified a parameter, a sensible default\n",
    "is chosen for you."
   ]
  },
  {
   "cell_type": "markdown",
   "id": "cubic-xerox",
   "metadata": {},
   "source": [
    "### Omitting link ratios\n",
    "\n",
    "There are several arguments for dropping individual cells from the triangle as\n",
    "well as excluding whole valuation periods or highs and lows.  Any combination\n",
    "of the 'drop' arguments is permissible.\n"
   ]
  },
  {
   "cell_type": "code",
   "execution_count": 6,
   "id": "naughty-writing",
   "metadata": {},
   "outputs": [
    {
     "data": {
      "text/plain": [
       "Development(drop_high=[True, True, True, True, True, False, False, False,\n",
       "                       False],\n",
       "            drop_low=[True, True, True, True, True, False, False, False, False])"
      ]
     },
     "execution_count": 6,
     "metadata": {},
     "output_type": "execute_result"
    }
   ],
   "source": [
    "cl.Development(\n",
    "    drop_high=[True]*5+[False]*4, \n",
    "    drop_low=[True]*5+[False]*4).fit(raa)"
   ]
  },
  {
   "cell_type": "code",
   "execution_count": 7,
   "id": "alive-cooperative",
   "metadata": {},
   "outputs": [
    {
     "data": {
      "text/plain": [
       "Development(drop_valuation='1985')"
      ]
     },
     "execution_count": 7,
     "metadata": {},
     "output_type": "execute_result"
    }
   ],
   "source": [
    "cl.Development(drop_valuation='1985').fit(raa)\n"
   ]
  },
  {
   "cell_type": "code",
   "execution_count": 8,
   "id": "restricted-herald",
   "metadata": {},
   "outputs": [
    {
     "data": {
      "text/plain": [
       "Development(drop=[('1985', 12), ('1987', 24)])"
      ]
     },
     "execution_count": 8,
     "metadata": {},
     "output_type": "execute_result"
    }
   ],
   "source": [
    "cl.Development(drop=[('1985', 12), ('1987', 24)]).fit(raa)"
   ]
  },
  {
   "cell_type": "code",
   "execution_count": 9,
   "id": "democratic-wheel",
   "metadata": {},
   "outputs": [
    {
     "data": {
      "text/plain": [
       "Development(drop=('1985', 12), drop_valuation='1988')"
      ]
     },
     "execution_count": 9,
     "metadata": {},
     "output_type": "execute_result"
    }
   ],
   "source": [
    "cl.Development(drop=('1985', 12), drop_valuation='1988').fit(raa)"
   ]
  },
  {
   "cell_type": "markdown",
   "id": "final-alpha",
   "metadata": {},
   "source": [
    "When using `drop`, the earliest age of the `link_ratio` should be referenced.\n",
    "For example, use `12` to drop the `12-24` ratio.\n",
    "\n",
    "```{note}\n",
    "`drop_high` and `drop_low` are ignored in cases where the number of link ratios available for a given development period is less than 3.\n"
   ]
  },
  {
   "cell_type": "markdown",
   "id": "electrical-shell",
   "metadata": {},
   "source": [
    "### Extended Link Ratio Family\n",
    "\n",
    "The `Development` estimator is based on the regression framework known as the\n",
    "Extended Link Ratio Family (ELRF).  A nice property of this family is that we\n",
    "not only get estimates for our patterns (`cdf_`, and `ldf_`), but also\n",
    "measures of variability of our estimates (`sigma_`, `std_err_` and `std_residuals_`\n",
    ").  These variability properties are used to develop the stochastic features in the\n",
    "`MackChainladder` method, but even for deterministic methods these variability\n",
    "estimates can be used as a diagnostic tool to validate the appropriateness of using\n",
    "multiplicative link ratios.\n",
    "\n",
    "```{eval-rst}\n",
    ".. figure:: /auto_examples/images/sphx_glr_plot_elrf_resid_001.png\n",
    "   :target: ../auto_examples/plot_elrf_resid.html\n",
    "   :align: center\n",
    "   :scale: 50%\n",
    "```\n",
    "\n",
    "These residual plots which should should look random are used to highlight whether\n",
    "the chainladder model is violated.  Violations generally occur due to trends in the\n",
    "valuation axis which are not accounted for in the basic chainladder method.\n",
    "\n",
    "```{eval-rst}\n",
    ".. topic:: References\n",
    "\n",
    "  .. [B2000] Barnett, G. and Zehnwirth, B., \"Best Estimates for Reserves\", Proceedings of the CAS, Volume LXXXVII, 2000\n",
    "```"
   ]
  },
  {
   "cell_type": "markdown",
   "id": "realistic-collins",
   "metadata": {},
   "source": [
    "### Transforming\n",
    "\n",
    "When transforming a `Triangle`, you will receive a copy of the original\n",
    "triangle back along with the fitted properties of the `Development`\n",
    "estimator.  Where the original Triangle contains all link ratios, the transformed\n",
    "version recognizes any ommissions you specify."
   ]
  },
  {
   "cell_type": "code",
   "execution_count": null,
   "id": "determined-preserve",
   "metadata": {},
   "outputs": [],
   "source": [
    "triangle = cl.load_sample('raa')\n",
    "dev = cl.Development(drop=('1982', 12), drop_valuation='1988')\n",
    "transformed_triangle = dev.fit_transform(triangle)\n",
    "transformed_triangle.ldf_"
   ]
  },
  {
   "cell_type": "code",
   "execution_count": null,
   "id": "improving-adjustment",
   "metadata": {},
   "outputs": [],
   "source": [
    "transformed_triangle.link_ratio.heatmap()"
   ]
  },
  {
   "cell_type": "markdown",
   "id": "global-reviewer",
   "metadata": {},
   "source": [
    "By decoupling the `fit` and `transform` methods, we can apply our :class:`Development`\n",
    "estimator to new data.  This is a common pattern of the scikit-learn API. In this\n",
    "example we generate development patterns at an industry level and apply those\n",
    "patterns to individual companies."
   ]
  },
  {
   "cell_type": "code",
   "execution_count": null,
   "id": "unlikely-lucas",
   "metadata": {},
   "outputs": [],
   "source": [
    "clrd = cl.load_sample('clrd')\n",
    "clrd = clrd[clrd['LOB']=='wkcomp']['CumPaidLoss']\n",
    "# Summarize Triangle to industry level to estimate patterns\n",
    "dev = cl.Development().fit(clrd.sum())\n",
    "# Apply Industry patterns to individual companies\n",
    "dev.transform(clrd)"
   ]
  },
  {
   "cell_type": "markdown",
   "id": "warming-politics",
   "metadata": {},
   "source": [
    "## DevelopmentConstant\n",
    "\n",
    "The :class:`DevelopmentConstant` estimator simply allows you to hard code development\n",
    "patterns into a Development Estimator.  A common example would be to include a\n",
    "set of industry development patterns in your workflow that are not directly\n",
    "estimated from any of your own data."
   ]
  },
  {
   "cell_type": "code",
   "execution_count": null,
   "id": "personalized-explorer",
   "metadata": {},
   "outputs": [],
   "source": [
    "triangle = cl.load_sample('ukmotor')\n",
    "patterns={12: 2, 24: 1.25, 36: 1.1, 48: 1.08, 60: 1.05, 72: 1.02}\n",
    "cl.DevelopmentConstant(patterns=patterns, style='ldf').fit(triangle).ldf_"
   ]
  },
  {
   "cell_type": "markdown",
   "id": "polish-income",
   "metadata": {},
   "source": [
    "By wrapping patterns in the :class:`DevelopmentConstant` estimator, we can integrate\n",
    "into a larger workflow with tail extrapolation and IBNR calculations.\n",
    "\n",
    "```{eval-rst}\n",
    ".. figure:: /auto_examples/images/sphx_glr_plot_callable_dev_constant_001.png\n",
    "   :target: ../auto_examples/plot_callable_dev_constant.html\n",
    "   :align: center\n",
    "   :scale: 75%\n",
    "``` "
   ]
  },
  {
   "cell_type": "markdown",
   "id": "naval-hacker",
   "metadata": {},
   "source": [
    "## IncrementalAdditive\n",
    "\n",
    "\n",
    "The :class:`IncrementalAdditive` method uses both the triangle of incremental\n",
    "losses and the exposure vector for each accident year as a base. Incremental\n",
    "additive ratios are computed by taking the ratio of incremental loss to the\n",
    "exposure (which has been adjusted for the measurable effect of inflation), for\n",
    "each accident year. This gives the amount of incremental loss in each year and\n",
    "at each age expressed as a percentage of exposure, which we then use to square\n",
    "the incremental triangle."
   ]
  },
  {
   "cell_type": "code",
   "execution_count": null,
   "id": "collect-zimbabwe",
   "metadata": {},
   "outputs": [],
   "source": [
    "tri = cl.load_sample(\"ia_sample\")\n",
    "ia = cl.IncrementalAdditive().fit(\n",
    "    X=tri['loss'], \n",
    "    sample_weight=tri['exposure'].latest_diagonal)\n",
    "ia.incremental_.round(0)"
   ]
  },
  {
   "cell_type": "markdown",
   "id": "mechanical-thirty",
   "metadata": {},
   "source": [
    "These `incremental_` values are then used to determine an implied set of\n",
    "mutiplicative development patterns.  Because incremental additive values are\n",
    "unique for each `origin`, so too will be the `ldf_`."
   ]
  },
  {
   "cell_type": "code",
   "execution_count": null,
   "id": "leading-relevance",
   "metadata": {},
   "outputs": [],
   "source": [
    "ia.ldf_"
   ]
  },
  {
   "cell_type": "markdown",
   "id": "junior-assessment",
   "metadata": {},
   "source": [
    "### Incremental calculation\n",
    "The estimation of the incremental triangle can be done with varying hyperparameters\n",
    "of `n_period` and `average` similar to the `Development` estimator.  Additionally,\n",
    "a `trend` in the origin period can also be selected.\n",
    "\n",
    "Suppose there is a vector `zeta_` that represents an estimate of the incremental\n",
    "losses, `X` for a development period as a percentage of some exposure or `sample_weight`.\n",
    "Using a 'volume' weighted estimate for all origin periods, we can manually estimate `zeta_`."
   ]
  },
  {
   "cell_type": "code",
   "execution_count": null,
   "id": "gentle-checkout",
   "metadata": {},
   "outputs": [],
   "source": [
    "zeta_ = tri['loss'].cum_to_incr().sum('origin') / tri['exposure'].sum('origin')\n",
    "zeta_"
   ]
  },
  {
   "cell_type": "markdown",
   "id": "meaning-concern",
   "metadata": {},
   "source": [
    "The `zeta_` vector along with the `sample_weight` and optionally a `trend`\n",
    "are used to propagate incremental losses to the lower half of the `Triangle`.\n",
    "In the trivial case of no trend, we can estimate the incrementals for age 72."
   ]
  },
  {
   "cell_type": "code",
   "execution_count": null,
   "id": "above-finland",
   "metadata": {},
   "outputs": [],
   "source": [
    "zeta_.loc[..., 72] * tri['exposure'].latest_diagonal"
   ]
  },
  {
   "cell_type": "markdown",
   "id": "convinced-fiction",
   "metadata": {},
   "source": [
    "These are the same incrementals that the IncrementalAdditive method produces."
   ]
  },
  {
   "cell_type": "code",
   "execution_count": null,
   "id": "located-nothing",
   "metadata": {},
   "outputs": [],
   "source": [
    "zeta_.loc[..., 72]*tri['exposure'].latest_diagonal == ia.incremental_.loc[..., 72]"
   ]
  },
  {
   "cell_type": "markdown",
   "id": "dominican-appraisal",
   "metadata": {},
   "source": [
    "### Trending\n",
    "\n",
    "The `IncrementalAdditive` method supports trending through the `trend`\n",
    "and the `future_trend` hyperparameters.  The `trend` parameter is used in the\n",
    "fitting of `zeta_` and it trends all inner diagonals of the `Triangle` to its\n",
    "`latest_diagonal` before estimating `zeta_`.\n",
    "\n",
    "The `future_trend` hyperparameter is used to trend beyond the `latest_diagonal`\n",
    "into the lower half of the `Triangle`.  If no future trend is supplied, then\n",
    "the `future_trend` is assumed to be that of the `trend` parameter."
   ]
  },
  {
   "cell_type": "code",
   "execution_count": null,
   "id": "viral-paraguay",
   "metadata": {},
   "outputs": [],
   "source": [
    "cl.IncrementalAdditive(trend=0.02, future_trend=0.05).fit(\n",
    "    X=tri['loss'], \n",
    "    sample_weight=tri['exposure'].latest_diagonal\n",
    ").incremental_.round(0)"
   ]
  },
  {
   "cell_type": "markdown",
   "id": "continued-donor",
   "metadata": {},
   "source": [
    "```{note}\n",
    "These trend assumptions are applied to the incremental Triangle which produces\n",
    "drastically different answers from the same trends applied to a cumulative Triangle.\n",
    "```\n",
    "\n",
    "A nice property of this estimator is that it really only requires incremental amounts\n",
    "so a `Triangle` that has cumulative data censored data in earlier diagonals can\n",
    "leverage this method.  Another nice property is that it allows for more explicit recognition\n",
    "of future inflation in your estimate via the `trend` factor.\n",
    "\n",
    "```{eval-rst}\n",
    ".. topic:: References\n",
    "\n",
    "  .. [S2006] K Schmidt, \"Methods and Models of Loss Reserving Based on Run–Off Triangles: A Unifying Survey\"\n",
    "```"
   ]
  },
  {
   "cell_type": "markdown",
   "id": "modified-interview",
   "metadata": {},
   "source": [
    "## MunichAdjustment\n",
    "\n",
    "The :class:`MunichAdjustment` is a bivariate adjustment to loss development factors.\n",
    "There is a fundamental correlation between the paid and the case incurred data\n",
    "of a triangle. The ratio of paid to incurred **(P/I)** has information that can\n",
    "be used to simultaneously adjust the basic development factor selections for the\n",
    "two separate triangles.\n",
    "\n",
    "Depending on whether the momentary **(P/I)** ratio is below or above average,\n",
    "one should use an above-average or below-average paid development factor and/or\n",
    "a below-average or above-average incurred development factor.  In doing so, the\n",
    "model replaces a set of development patterns that would be used for all\n",
    "`origins` with individualized development curves that reflect the unique levels\n",
    "of **(P/I)** per origin period.\n",
    "\n",
    "### Residuals\n",
    "\n",
    "The :class:`MunichAdjustment` uses the correlation between the residuals of the\n",
    "univariate (basic) model and the (P/I) model.  These correlations spin off a\n",
    "property ``lambda_`` which is represented by the line through the origin of\n",
    "the correlation plots.\n",
    "\n",
    "```{eval-rst}\n",
    ".. figure:: /auto_examples/images/sphx_glr_plot_munich_resid_001.png\n",
    "   :target: ../auto_examples/plot_munich_resid.html\n",
    "   :align: center\n",
    "   :scale: 50%\n",
    "```\n",
    "\n",
    "With the correlations, `lambda_` known, the basic development patterns can\n",
    "be adjusted based on the **(P/I)** ratio at any given cell of the `Triangle`.\n",
    "\n",
    "### BerquistSherman Comparison\n",
    "\n",
    "This method is similar to the `BerquistSherman` approach in that it tries to\n",
    "adjust for case reserve adequacy.  However it is different in two distinct ways.\n",
    "\n",
    "  1.  The `BerquistSherman` method is a direct adjustment to the data whereas\n",
    "      the `MunichAdjustment` keeps the `Triangle` intact and adjusts the development\n",
    "      patterns.\n",
    "  2.  The `MunichAdjustment` is built in the context of a stochastic framework.\n",
    "\n",
    "```{eval-rst}\n",
    ".. topic:: References\n",
    "\n",
    "  .. [QM2004] `G Quarg, Gerhard, and T Mack, \"Munich Chain Ladder: A Reserving Method that Reduces the Gap between IBNR\" <http://www.variancejournal.org/issues/02-02/266.pdf>`__\n",
    "```"
   ]
  },
  {
   "cell_type": "markdown",
   "id": "academic-battlefield",
   "metadata": {},
   "source": [
    "## ClarkLDF\n",
    "\n",
    ":class:`ClarkLDF` estimates growth curves of the form 'loglogistic' or 'weibull'\n",
    "for the incremental loss development of a `Triangle`.  These growth curves are\n",
    "monotonic increasing and are more relevant for paid data.  While the model can\n",
    "be used for case incurred data, if there is too much \"negative\" development,\n",
    "other Estimators should be used.\n",
    "\n",
    "The `Loglogistic` Growth Function:\n",
    "\n",
    "$G(x|\\omega, \\theta) =\\frac{x^{\\omega }}{x^{\\omega } + \\theta^{\\omega }}$\n",
    "\n",
    "The ``Weibull`` Growth Function:\n",
    "\n",
    "$G(x|\\omega, \\theta) =1-exp(-\\left (\\frac{x}{\\theta}  \\right )^\\omega)$\n",
    "\n",
    "```{eval-rst}\n",
    ".. figure:: /auto_examples/images/sphx_glr_plot_clarkldf_001.png\n",
    "   :target: ../auto_examples/plot_clarkldf.html\n",
    "   :align: center\n",
    "   :scale: 50%\n",
    "```\n",
    "\n",
    "Parameterized growth curves can produce patterns for any age and can even be used\n",
    "to estimate a tail beyond the latest age in a Triangle.  In general, the\n",
    "loglogistic growth curve produces a larger tail than the weibull growth curve.\n",
    "\n",
    "### LDF and Cape Cod methods\n",
    "\n",
    "Clark approaches curve fitting with two different methods, an LDF approach and\n",
    "a Cape Cod approach.  The LDF approach only requires a loss triangle whereas\n",
    "the Cape Cod approach would also need a premium vector.  Choosing between the\n",
    "two methods occurs at the time you fit the estimator.  When a premium vector\n",
    "is included, the Cape Cod method is invoked.\n",
    "\n",
    "A simple example of using :class:`ClarkLDF` LDF Method. Upon fitting the Estimator,\n",
    "we obtain both `omega_` and `theta_`.\n"
   ]
  },
  {
   "cell_type": "code",
   "execution_count": null,
   "id": "african-combat",
   "metadata": {},
   "outputs": [],
   "source": [
    "clrd = cl.load_sample('clrd').groupby('LOB').sum()\n",
    "dev = cl.ClarkLDF(growth='weibull').fit(clrd['CumPaidLoss'])\n",
    "dev.omega_"
   ]
  },
  {
   "cell_type": "markdown",
   "id": "royal-millennium",
   "metadata": {},
   "source": [
    "Perhaps more useful than the parameters is the growth curve `G_` function they\n",
    "represent which can be used to deetermine the development factor at any age."
   ]
  },
  {
   "cell_type": "code",
   "execution_count": null,
   "id": "congressional-virtue",
   "metadata": {},
   "outputs": [],
   "source": [
    "1/dev.G_(37.5).to_frame()"
   ]
  },
  {
   "cell_type": "markdown",
   "id": "packed-electron",
   "metadata": {},
   "source": [
    "Another example showing the usage of the :class:`ClarkLDF` Cape Cod approach. With\n",
    "the Cape Cod, an Expected Loss Ratio is included as an extra feature in the `elr_` property."
   ]
  },
  {
   "cell_type": "code",
   "execution_count": null,
   "id": "clean-massage",
   "metadata": {},
   "outputs": [],
   "source": [
    "cl.ClarkLDF().fit(\n",
    "    X=clrd['CumPaidLoss'], \n",
    "    sample_weight=clrd['EarnedPremDIR'].latest_diagonal\n",
    ").elr_"
   ]
  },
  {
   "cell_type": "markdown",
   "id": "iraqi-breach",
   "metadata": {},
   "source": [
    "### Residuals\n",
    "\n",
    "Clark's model assumes Incremental losses are independent and identically\n",
    "distributed.  To ensure compatibility with this assumption, he suggests\n",
    "reviewing the \"Normalized Residuals\" of the fitted incremental losses to ensure\n",
    "the assumption is not violated.\n",
    "\n",
    "```{eval-rst}\n",
    ".. figure:: /auto_examples/images/sphx_glr_plot_clarkldf_resid_001.png\n",
    "   :target: ../auto_examples/plot_clarkldf_resid.html\n",
    "   :align: center\n",
    "   :scale: 50%\n",
    "```\n",
    "\n",
    "### Stochastics\n",
    "\n",
    "Using MLE to solve for the growth curves, we can produce statistics about the\n",
    "parameter and process uncertainty of our model.\n",
    "\n",
    "```{eval-rst}\n",
    ".. topic:: References\n",
    "\n",
    "  .. [CD2003] `Clark, David R., \"LDF Curve-Fitting and Stochastic Reserving: A Maximum Likelihood Approach\",\n",
    "               Casualty Actuarial Society Forum, Fall, 2003 <https://www.casact.org/sites/default/files/database/forum_03fforum_03ff041.pdf>`__\n",
    "```"
   ]
  },
  {
   "cell_type": "markdown",
   "id": "established-accreditation",
   "metadata": {},
   "source": [
    "## CaseOutstanding\n",
    "\n",
    "\n",
    "The :class:`CaseOutstanding` method is a deterministic method that estimates\n",
    "incremental payment patterns from prior lag carried case reserves.  Included\n",
    "in this is also patterns for the carried case reserves based on the prior lag\n",
    "carried case reserve.\n",
    "\n",
    "Like the :class:`MunichAdjustment` and :class:`BerquistSherman`, this estimator\n",
    "is useful when you want to incorporate information about case reserves into paid\n",
    "ultimates.\n",
    "\n",
    "To use it, a triangle with both paid and incurred amounts must be available."
   ]
  },
  {
   "cell_type": "code",
   "execution_count": null,
   "id": "rising-vancouver",
   "metadata": {},
   "outputs": [],
   "source": [
    "tri = cl.load_sample('usauto')\n",
    "model = cl.CaseOutstanding(paid_to_incurred=('paid', 'incurred')).fit(tri)\n",
    "model.paid_ldf_"
   ]
  },
  {
   "cell_type": "markdown",
   "id": "tracked-institution",
   "metadata": {},
   "source": [
    "In the example above, the incremental paid losses during the period 12-24 is expected to be\n",
    "84.28% of the outstanding case reserve at lag 12.  The set of patterns produced by\n",
    ":class:`CaseOutstanding` don't follow the multiplicative approach commonly used in the\n",
    "various IBNR methods making them not directly usable.  Because of this, the estimator\n",
    "determines the 'implied' multiplicative pattern so that a broader set of IBNR\n",
    "methods can be used.  Due to the origin period specifics on case reserves, each\n",
    "origin gets its own set of multiplicative `ldf_` patterns."
   ]
  },
  {
   "cell_type": "code",
   "execution_count": 24,
   "id": "listed-advocate",
   "metadata": {},
   "outputs": [
    {
     "data": {
      "text/html": [
       "<table border=\"1\" class=\"dataframe\">\n",
       "  <thead>\n",
       "    <tr style=\"text-align: right;\">\n",
       "      <th></th>\n",
       "      <th>12-24</th>\n",
       "      <th>24-36</th>\n",
       "      <th>36-48</th>\n",
       "      <th>48-60</th>\n",
       "      <th>60-72</th>\n",
       "      <th>72-84</th>\n",
       "      <th>84-96</th>\n",
       "      <th>96-108</th>\n",
       "      <th>108-120</th>\n",
       "    </tr>\n",
       "  </thead>\n",
       "  <tbody>\n",
       "    <tr>\n",
       "      <th>1998</th>\n",
       "      <td>1.7925</td>\n",
       "      <td>1.2056</td>\n",
       "      <td>1.0956</td>\n",
       "      <td>1.0457</td>\n",
       "      <td>1.0189</td>\n",
       "      <td>1.0097</td>\n",
       "      <td>1.0048</td>\n",
       "      <td>1.0023</td>\n",
       "      <td>1.0019</td>\n",
       "    </tr>\n",
       "    <tr>\n",
       "      <th>1999</th>\n",
       "      <td>1.7683</td>\n",
       "      <td>1.1986</td>\n",
       "      <td>1.0902</td>\n",
       "      <td>1.0435</td>\n",
       "      <td>1.0194</td>\n",
       "      <td>1.0092</td>\n",
       "      <td>1.0050</td>\n",
       "      <td>1.0024</td>\n",
       "      <td>1.0019</td>\n",
       "    </tr>\n",
       "    <tr>\n",
       "      <th>2000</th>\n",
       "      <td>1.7620</td>\n",
       "      <td>1.1902</td>\n",
       "      <td>1.0900</td>\n",
       "      <td>1.0430</td>\n",
       "      <td>1.0191</td>\n",
       "      <td>1.0101</td>\n",
       "      <td>1.0046</td>\n",
       "      <td>1.0024</td>\n",
       "      <td>1.0020</td>\n",
       "    </tr>\n",
       "    <tr>\n",
       "      <th>2001</th>\n",
       "      <td>1.7439</td>\n",
       "      <td>1.1913</td>\n",
       "      <td>1.0906</td>\n",
       "      <td>1.0436</td>\n",
       "      <td>1.0187</td>\n",
       "      <td>1.0090</td>\n",
       "      <td>1.0042</td>\n",
       "      <td>1.0021</td>\n",
       "      <td>1.0017</td>\n",
       "    </tr>\n",
       "    <tr>\n",
       "      <th>2002</th>\n",
       "      <td>1.7348</td>\n",
       "      <td>1.1940</td>\n",
       "      <td>1.0892</td>\n",
       "      <td>1.0442</td>\n",
       "      <td>1.0186</td>\n",
       "      <td>1.0085</td>\n",
       "      <td>1.0041</td>\n",
       "      <td>1.0020</td>\n",
       "      <td>1.0016</td>\n",
       "    </tr>\n",
       "    <tr>\n",
       "      <th>2003</th>\n",
       "      <td>1.7189</td>\n",
       "      <td>1.1853</td>\n",
       "      <td>1.0920</td>\n",
       "      <td>1.0438</td>\n",
       "      <td>1.0186</td>\n",
       "      <td>1.0092</td>\n",
       "      <td>1.0045</td>\n",
       "      <td>1.0022</td>\n",
       "      <td>1.0018</td>\n",
       "    </tr>\n",
       "    <tr>\n",
       "      <th>2004</th>\n",
       "      <td>1.7025</td>\n",
       "      <td>1.1867</td>\n",
       "      <td>1.0922</td>\n",
       "      <td>1.0415</td>\n",
       "      <td>1.0179</td>\n",
       "      <td>1.0088</td>\n",
       "      <td>1.0043</td>\n",
       "      <td>1.0021</td>\n",
       "      <td>1.0017</td>\n",
       "    </tr>\n",
       "    <tr>\n",
       "      <th>2005</th>\n",
       "      <td>1.7012</td>\n",
       "      <td>1.1860</td>\n",
       "      <td>1.0859</td>\n",
       "      <td>1.0412</td>\n",
       "      <td>1.0177</td>\n",
       "      <td>1.0087</td>\n",
       "      <td>1.0042</td>\n",
       "      <td>1.0021</td>\n",
       "      <td>1.0017</td>\n",
       "    </tr>\n",
       "    <tr>\n",
       "      <th>2006</th>\n",
       "      <td>1.7028</td>\n",
       "      <td>1.1797</td>\n",
       "      <td>1.0857</td>\n",
       "      <td>1.0411</td>\n",
       "      <td>1.0177</td>\n",
       "      <td>1.0087</td>\n",
       "      <td>1.0042</td>\n",
       "      <td>1.0021</td>\n",
       "      <td>1.0017</td>\n",
       "    </tr>\n",
       "    <tr>\n",
       "      <th>2007</th>\n",
       "      <td>1.6693</td>\n",
       "      <td>1.1804</td>\n",
       "      <td>1.0860</td>\n",
       "      <td>1.0412</td>\n",
       "      <td>1.0178</td>\n",
       "      <td>1.0087</td>\n",
       "      <td>1.0042</td>\n",
       "      <td>1.0021</td>\n",
       "      <td>1.0017</td>\n",
       "    </tr>\n",
       "  </tbody>\n",
       "</table>"
      ],
      "text/plain": [
       "         12-24     24-36     36-48     48-60     60-72     72-84     84-96    96-108   108-120\n",
       "1998  1.792469  1.205560  1.095603  1.045669  1.018931  1.009749  1.004777  1.002288  1.001866\n",
       "1999  1.768268  1.198631  1.090150  1.043455  1.019377  1.009244  1.004998  1.002392  1.001904\n",
       "2000  1.761959  1.190201  1.089958  1.042975  1.019054  1.010127  1.004585  1.002444  1.001969\n",
       "2001  1.743900  1.191331  1.090565  1.043566  1.018677  1.009022  1.004171  1.002074  1.001672\n",
       "2002  1.734765  1.194005  1.089153  1.044183  1.018551  1.008452  1.004106  1.002042  1.001646\n",
       "2003  1.718935  1.185285  1.091988  1.043790  1.018635  1.009171  1.004452  1.002213  1.001784\n",
       "2004  1.702514  1.186716  1.092167  1.041492  1.017863  1.008798  1.004272  1.002124  1.001712\n",
       "2005  1.701237  1.186004  1.085897  1.041211  1.017746  1.008741  1.004245  1.002111  1.001701\n",
       "2006  1.702795  1.179664  1.085678  1.041114  1.017706  1.008722  1.004236  1.002106  1.001698\n",
       "2007  1.669287  1.180366  1.085961  1.041239  1.017758  1.008747  1.004248  1.002112  1.001702"
      ]
     },
     "execution_count": 24,
     "metadata": {},
     "output_type": "execute_result"
    }
   ],
   "source": [
    "model.ldf_['paid']"
   ]
  },
  {
   "cell_type": "markdown",
   "id": "recovered-english",
   "metadata": {},
   "source": [
    "### Incremental patterns\n",
    "\n",
    "The incremental patterns of the :class:`CaseOutstanding` method are avilable as\n",
    "additional properties for review. They are the `paid_to_prior_case_` and the\n",
    "`case_to_prior_case_`. These are useful to review when deciding on the appropriate\n",
    "hyperparameters for `paid_n_periods` and `case_n_periods`.  Once you are satisfied\n",
    "with your hyperparameter tuning, you can see the fitted selections in the\n",
    "`paid_ldf_` and `case_ldf_` incremental patterns."
   ]
  },
  {
   "cell_type": "code",
   "execution_count": 25,
   "id": "sized-adoption",
   "metadata": {},
   "outputs": [
    {
     "data": {
      "text/html": [
       "<table border=\"1\" class=\"dataframe\">\n",
       "  <thead>\n",
       "    <tr style=\"text-align: right;\">\n",
       "      <th></th>\n",
       "      <th>24-36</th>\n",
       "      <th>36-48</th>\n",
       "      <th>48-60</th>\n",
       "      <th>60-72</th>\n",
       "      <th>72-84</th>\n",
       "      <th>84-96</th>\n",
       "      <th>96-108</th>\n",
       "      <th>108-120</th>\n",
       "      <th>120-132</th>\n",
       "    </tr>\n",
       "  </thead>\n",
       "  <tbody>\n",
       "    <tr>\n",
       "      <th>1998</th>\n",
       "      <td>0.5378</td>\n",
       "      <td>0.5541</td>\n",
       "      <td>0.5253</td>\n",
       "      <td>0.4981</td>\n",
       "      <td>0.5329</td>\n",
       "      <td>0.5380</td>\n",
       "      <td>0.5877</td>\n",
       "      <td>0.6970</td>\n",
       "      <td>0.5798</td>\n",
       "    </tr>\n",
       "    <tr>\n",
       "      <th>1999</th>\n",
       "      <td>0.5368</td>\n",
       "      <td>0.5649</td>\n",
       "      <td>0.5442</td>\n",
       "      <td>0.4969</td>\n",
       "      <td>0.5029</td>\n",
       "      <td>0.5800</td>\n",
       "      <td>0.6420</td>\n",
       "      <td>0.6506</td>\n",
       "      <td></td>\n",
       "    </tr>\n",
       "    <tr>\n",
       "      <th>2000</th>\n",
       "      <td>0.5461</td>\n",
       "      <td>0.5742</td>\n",
       "      <td>0.5391</td>\n",
       "      <td>0.4872</td>\n",
       "      <td>0.5376</td>\n",
       "      <td>0.5432</td>\n",
       "      <td>0.6655</td>\n",
       "      <td></td>\n",
       "      <td></td>\n",
       "    </tr>\n",
       "    <tr>\n",
       "      <th>2001</th>\n",
       "      <td>0.5406</td>\n",
       "      <td>0.5660</td>\n",
       "      <td>0.5148</td>\n",
       "      <td>0.5013</td>\n",
       "      <td>0.5077</td>\n",
       "      <td>0.5414</td>\n",
       "      <td></td>\n",
       "      <td></td>\n",
       "      <td></td>\n",
       "    </tr>\n",
       "    <tr>\n",
       "      <th>2002</th>\n",
       "      <td>0.5409</td>\n",
       "      <td>0.5546</td>\n",
       "      <td>0.5406</td>\n",
       "      <td>0.4802</td>\n",
       "      <td>0.4881</td>\n",
       "      <td></td>\n",
       "      <td></td>\n",
       "      <td></td>\n",
       "      <td></td>\n",
       "    </tr>\n",
       "    <tr>\n",
       "      <th>2003</th>\n",
       "      <td>0.5265</td>\n",
       "      <td>0.5765</td>\n",
       "      <td>0.5363</td>\n",
       "      <td>0.4764</td>\n",
       "      <td></td>\n",
       "      <td></td>\n",
       "      <td></td>\n",
       "      <td></td>\n",
       "      <td></td>\n",
       "    </tr>\n",
       "    <tr>\n",
       "      <th>2004</th>\n",
       "      <td>0.5298</td>\n",
       "      <td>0.5665</td>\n",
       "      <td>0.5069</td>\n",
       "      <td></td>\n",
       "      <td></td>\n",
       "      <td></td>\n",
       "      <td></td>\n",
       "      <td></td>\n",
       "      <td></td>\n",
       "    </tr>\n",
       "    <tr>\n",
       "      <th>2005</th>\n",
       "      <td>0.5215</td>\n",
       "      <td>0.5539</td>\n",
       "      <td></td>\n",
       "      <td></td>\n",
       "      <td></td>\n",
       "      <td></td>\n",
       "      <td></td>\n",
       "      <td></td>\n",
       "      <td></td>\n",
       "    </tr>\n",
       "    <tr>\n",
       "      <th>2006</th>\n",
       "      <td>0.5261</td>\n",
       "      <td></td>\n",
       "      <td></td>\n",
       "      <td></td>\n",
       "      <td></td>\n",
       "      <td></td>\n",
       "      <td></td>\n",
       "      <td></td>\n",
       "      <td></td>\n",
       "    </tr>\n",
       "    <tr>\n",
       "      <th>2007</th>\n",
       "      <td></td>\n",
       "      <td></td>\n",
       "      <td></td>\n",
       "      <td></td>\n",
       "      <td></td>\n",
       "      <td></td>\n",
       "      <td></td>\n",
       "      <td></td>\n",
       "      <td></td>\n",
       "    </tr>\n",
       "  </tbody>\n",
       "</table>"
      ],
      "text/plain": [
       "         24-36     36-48     48-60     60-72     72-84     84-96    96-108   108-120   120-132\n",
       "1998  0.537820  0.554128  0.525253  0.498107  0.532934  0.537997  0.587702  0.697024  0.579812\n",
       "1999  0.536825  0.564892  0.544220  0.496910  0.502864  0.579975  0.641971  0.650552       NaN\n",
       "2000  0.546126  0.574211  0.539091  0.487208  0.537598  0.543222  0.665505       NaN       NaN\n",
       "2001  0.540564  0.566029  0.514819  0.501324  0.507736  0.541364       NaN       NaN       NaN\n",
       "2002  0.540900  0.554610  0.540609  0.480216  0.488133       NaN       NaN       NaN       NaN\n",
       "2003  0.526510  0.576514  0.536276  0.476418       NaN       NaN       NaN       NaN       NaN\n",
       "2004  0.529775  0.566523  0.506884       NaN       NaN       NaN       NaN       NaN       NaN\n",
       "2005  0.521531  0.553888       NaN       NaN       NaN       NaN       NaN       NaN       NaN\n",
       "2006  0.526122       NaN       NaN       NaN       NaN       NaN       NaN       NaN       NaN\n",
       "2007       NaN       NaN       NaN       NaN       NaN       NaN       NaN       NaN       NaN"
      ]
     },
     "execution_count": 25,
     "metadata": {},
     "output_type": "execute_result"
    }
   ],
   "source": [
    "model.case_to_prior_case_"
   ]
  },
  {
   "cell_type": "code",
   "execution_count": 26,
   "id": "meaningful-stage",
   "metadata": {},
   "outputs": [
    {
     "data": {
      "text/html": [
       "<table border=\"1\" class=\"dataframe\">\n",
       "  <thead>\n",
       "    <tr style=\"text-align: right;\">\n",
       "      <th></th>\n",
       "      <th>24-36</th>\n",
       "      <th>36-48</th>\n",
       "      <th>48-60</th>\n",
       "      <th>60-72</th>\n",
       "      <th>72-84</th>\n",
       "      <th>84-96</th>\n",
       "      <th>96-108</th>\n",
       "      <th>108-120</th>\n",
       "      <th>120-132</th>\n",
       "    </tr>\n",
       "  </thead>\n",
       "  <tbody>\n",
       "    <tr>\n",
       "      <th>(All)</th>\n",
       "      <td>0.5340</td>\n",
       "      <td>0.5638</td>\n",
       "      <td>0.5296</td>\n",
       "      <td>0.4900</td>\n",
       "      <td>0.5139</td>\n",
       "      <td>0.5506</td>\n",
       "      <td>0.6317</td>\n",
       "      <td>0.6738</td>\n",
       "      <td>0.5798</td>\n",
       "    </tr>\n",
       "  </tbody>\n",
       "</table>"
      ],
      "text/plain": [
       "          24-36    36-48     48-60     60-72     72-84    84-96    96-108   108-120   120-132\n",
       "(All)  0.534019  0.56385  0.529593  0.490031  0.513853  0.55064  0.631726  0.673788  0.579812"
      ]
     },
     "execution_count": 26,
     "metadata": {},
     "output_type": "execute_result"
    }
   ],
   "source": [
    "model.case_ldf_"
   ]
  },
  {
   "cell_type": "markdown",
   "id": "crucial-jefferson",
   "metadata": {},
   "source": [
    "```{eval-rst}\n",
    ".. topic:: References\n",
    "\n",
    "  .. [F2010] J.  Friedland, \"Estimating Unpaid Claims Using Basic Techniques\", Version 3, Ch. 12, 2010.\n",
    "```"
   ]
  },
  {
   "cell_type": "markdown",
   "id": "informed-suite",
   "metadata": {},
   "source": [
    "## TweedieGLM\n",
    "\n",
    "The `TweedieGLM` implements the GLM reserving structure discussed by Taylor and McGuire.\n",
    "A nice property of the GLM framework is that it is highly flexible in terms of including\n",
    "covariates that may be predictive of loss reserves while maintaining a close relationship\n",
    "to traditional methods.  Additionally, the framework can be extended in a straightforward\n",
    "way to incorporate various approaches to measuring prediction errors.  Behind the\n",
    "scenes, `TweedieGLM` is using scikit-learn's `TweedieRegressor` estimator.\n",
    "\n",
    "### Long Format\n",
    "\n",
    "GLMs are fit to triangles in \"Long Format\".  That is, they are converted to pandas\n",
    "DataFrames behind the scenes.  Each axis of the `Triangle` is included in the\n",
    "dataframe. The ``origin`` and ``development`` axes are in columns of the same name.\n",
    "You can inspect what your `Triangle` looks like in long format by calling `to_frame`\n",
    "with ``keepdims=True``\n"
   ]
  },
  {
   "cell_type": "code",
   "execution_count": 27,
   "id": "bulgarian-bookmark",
   "metadata": {},
   "outputs": [
    {
     "data": {
      "text/html": [
       "<div>\n",
       "<style scoped>\n",
       "    .dataframe tbody tr th:only-of-type {\n",
       "        vertical-align: middle;\n",
       "    }\n",
       "\n",
       "    .dataframe tbody tr th {\n",
       "        vertical-align: top;\n",
       "    }\n",
       "\n",
       "    .dataframe thead th {\n",
       "        text-align: right;\n",
       "    }\n",
       "</style>\n",
       "<table border=\"1\" class=\"dataframe\">\n",
       "  <thead>\n",
       "    <tr style=\"text-align: right;\">\n",
       "      <th></th>\n",
       "      <th>GRNAME</th>\n",
       "      <th>LOB</th>\n",
       "      <th>origin</th>\n",
       "      <th>development</th>\n",
       "      <th>IncurLoss</th>\n",
       "      <th>CumPaidLoss</th>\n",
       "      <th>BulkLoss</th>\n",
       "      <th>EarnedPremDIR</th>\n",
       "      <th>EarnedPremCeded</th>\n",
       "      <th>EarnedPremNet</th>\n",
       "    </tr>\n",
       "  </thead>\n",
       "  <tbody>\n",
       "    <tr>\n",
       "      <th>0</th>\n",
       "      <td>Adriatic Ins Co</td>\n",
       "      <td>othliab</td>\n",
       "      <td>1995-01-01</td>\n",
       "      <td>12</td>\n",
       "      <td>8.0</td>\n",
       "      <td>NaN</td>\n",
       "      <td>8.0</td>\n",
       "      <td>139.0</td>\n",
       "      <td>131.0</td>\n",
       "      <td>8.0</td>\n",
       "    </tr>\n",
       "    <tr>\n",
       "      <th>1</th>\n",
       "      <td>Adriatic Ins Co</td>\n",
       "      <td>othliab</td>\n",
       "      <td>1995-01-01</td>\n",
       "      <td>24</td>\n",
       "      <td>11.0</td>\n",
       "      <td>NaN</td>\n",
       "      <td>4.0</td>\n",
       "      <td>139.0</td>\n",
       "      <td>131.0</td>\n",
       "      <td>8.0</td>\n",
       "    </tr>\n",
       "    <tr>\n",
       "      <th>2</th>\n",
       "      <td>Adriatic Ins Co</td>\n",
       "      <td>othliab</td>\n",
       "      <td>1995-01-01</td>\n",
       "      <td>36</td>\n",
       "      <td>7.0</td>\n",
       "      <td>3.0</td>\n",
       "      <td>4.0</td>\n",
       "      <td>139.0</td>\n",
       "      <td>131.0</td>\n",
       "      <td>8.0</td>\n",
       "    </tr>\n",
       "    <tr>\n",
       "      <th>3</th>\n",
       "      <td>Adriatic Ins Co</td>\n",
       "      <td>othliab</td>\n",
       "      <td>1996-01-01</td>\n",
       "      <td>12</td>\n",
       "      <td>40.0</td>\n",
       "      <td>NaN</td>\n",
       "      <td>40.0</td>\n",
       "      <td>410.0</td>\n",
       "      <td>359.0</td>\n",
       "      <td>51.0</td>\n",
       "    </tr>\n",
       "    <tr>\n",
       "      <th>4</th>\n",
       "      <td>Adriatic Ins Co</td>\n",
       "      <td>othliab</td>\n",
       "      <td>1996-01-01</td>\n",
       "      <td>24</td>\n",
       "      <td>40.0</td>\n",
       "      <td>NaN</td>\n",
       "      <td>40.0</td>\n",
       "      <td>410.0</td>\n",
       "      <td>359.0</td>\n",
       "      <td>51.0</td>\n",
       "    </tr>\n",
       "  </tbody>\n",
       "</table>\n",
       "</div>"
      ],
      "text/plain": [
       "            GRNAME      LOB     origin  development  IncurLoss  CumPaidLoss  \\\n",
       "0  Adriatic Ins Co  othliab 1995-01-01           12        8.0          NaN   \n",
       "1  Adriatic Ins Co  othliab 1995-01-01           24       11.0          NaN   \n",
       "2  Adriatic Ins Co  othliab 1995-01-01           36        7.0          3.0   \n",
       "3  Adriatic Ins Co  othliab 1996-01-01           12       40.0          NaN   \n",
       "4  Adriatic Ins Co  othliab 1996-01-01           24       40.0          NaN   \n",
       "\n",
       "   BulkLoss  EarnedPremDIR  EarnedPremCeded  EarnedPremNet  \n",
       "0       8.0          139.0            131.0            8.0  \n",
       "1       4.0          139.0            131.0            8.0  \n",
       "2       4.0          139.0            131.0            8.0  \n",
       "3      40.0          410.0            359.0           51.0  \n",
       "4      40.0          410.0            359.0           51.0  "
      ]
     },
     "execution_count": 27,
     "metadata": {},
     "output_type": "execute_result"
    }
   ],
   "source": [
    "cl.load_sample('clrd').to_frame(keepdims=True).reset_index().head()"
   ]
  },
  {
   "cell_type": "markdown",
   "id": "social-price",
   "metadata": {},
   "source": [
    "```{warning}\n",
    "'origin', 'development', and 'valuation' are reserved keywords for the dataframe.  Declaring columns with these names separately will result in error.\n",
    "```\n",
    "\n",
    "While you can inspect the `Triangle` in long format, you will not directly convert\n",
    "to long format yourself.  The `TweedieGLM` does this for you.  Additionally,\n",
    "the `origin` of the design matrix is restated in years from the earliest origin\n",
    "period.  That is, is if the earliest origin is '1995-01-01' then it gets replaced with\n",
    "0.  Consequently, '1996-04-01' would be replaced with 1.25. This is done because\n",
    "datetimes have limited support in scikit-learn. Finally, the `TweedieGLM`\n",
    "will automatically convert the response to an incremental basis.\n",
    "\n",
    "### R-style formulas\n",
    "\n",
    "We use the `patsy` library to allow formulation of the the feature set `X`\n",
    "of the GLM.  Because `X` is a parameter that used extensively throughout\n",
    "`chainladder`, the `TweedieGLM` refers to it as the `design_matrix`.  Those\n",
    "familiar with the R programming language will be familiar with the notation\n",
    "used by `patsy`.  For example, we can include both `origin` and `development`\n",
    "as terms in a model."
   ]
  },
  {
   "cell_type": "code",
   "execution_count": 28,
   "id": "broad-stephen",
   "metadata": {},
   "outputs": [
    {
     "data": {
      "text/html": [
       "<div>\n",
       "<style scoped>\n",
       "    .dataframe tbody tr th:only-of-type {\n",
       "        vertical-align: middle;\n",
       "    }\n",
       "\n",
       "    .dataframe tbody tr th {\n",
       "        vertical-align: top;\n",
       "    }\n",
       "\n",
       "    .dataframe thead th {\n",
       "        text-align: right;\n",
       "    }\n",
       "</style>\n",
       "<table border=\"1\" class=\"dataframe\">\n",
       "  <thead>\n",
       "    <tr style=\"text-align: right;\">\n",
       "      <th></th>\n",
       "      <th>coef_</th>\n",
       "    </tr>\n",
       "  </thead>\n",
       "  <tbody>\n",
       "    <tr>\n",
       "      <th>Intercept</th>\n",
       "      <td>13.516322</td>\n",
       "    </tr>\n",
       "    <tr>\n",
       "      <th>development</th>\n",
       "      <td>-0.006251</td>\n",
       "    </tr>\n",
       "    <tr>\n",
       "      <th>origin</th>\n",
       "      <td>0.033863</td>\n",
       "    </tr>\n",
       "  </tbody>\n",
       "</table>\n",
       "</div>"
      ],
      "text/plain": [
       "                 coef_\n",
       "Intercept    13.516322\n",
       "development  -0.006251\n",
       "origin        0.033863"
      ]
     },
     "execution_count": 28,
     "metadata": {},
     "output_type": "execute_result"
    }
   ],
   "source": [
    "genins = cl.load_sample('genins')\n",
    "glm = cl.TweedieGLM(design_matrix='development + origin').fit(genins)\n",
    "glm.coef_"
   ]
  },
  {
   "cell_type": "markdown",
   "id": "heated-cardiff",
   "metadata": {},
   "source": [
    "### ODP Chainladder\n",
    "\n",
    "Replicating the results of the volume weighted chainladder development patterns\n",
    "can be done by fitting a Poisson-log GLM to incremental paids.  To do this, we\n",
    "can specify the `power` and `link` of the estimator as well as the `design_matrix`.\n",
    "The volume-weighted chainladder method can be replicated by including both\n",
    "`origin` and `development` as categorical features."
   ]
  },
  {
   "cell_type": "code",
   "execution_count": 29,
   "id": "signed-realtor",
   "metadata": {},
   "outputs": [],
   "source": [
    "dev = cl.TweedieGLM(\n",
    "    design_matrix='C(development) + C(origin)',\n",
    "    power=1, link='log').fit(genins)"
   ]
  },
  {
   "cell_type": "markdown",
   "id": "mounted-judge",
   "metadata": {},
   "source": [
    "A trivial comparison against the traditional `Development` estimator shows\n",
    "a comparable set of `ldf_` patterns.\n",
    "\n",
    "```{eval-rst}\n",
    ".. figure:: /auto_examples/images/sphx_glr_plot_glm_ldf_001.png\n",
    "   :target: ../auto_examples/plot_glm_ldf.html\n",
    "   :align: center\n",
    "   :scale: 75%\n",
    "```\n",
    "\n",
    "### Parsimonious modeling\n",
    "\n",
    "Having full access to all axes of the `Triangle` along with the powerful formulation\n",
    "of `patsy` allows for substantial customization of the model fit.  For example,\n",
    "we can include 'LOB' interactions with piecewise linear coefficients to reduce\n",
    "model complexity.\n"
   ]
  },
  {
   "cell_type": "code",
   "execution_count": 30,
   "id": "improved-corps",
   "metadata": {},
   "outputs": [
    {
     "data": {
      "text/html": [
       "<div>\n",
       "<style scoped>\n",
       "    .dataframe tbody tr th:only-of-type {\n",
       "        vertical-align: middle;\n",
       "    }\n",
       "\n",
       "    .dataframe tbody tr th {\n",
       "        vertical-align: top;\n",
       "    }\n",
       "\n",
       "    .dataframe thead th {\n",
       "        text-align: right;\n",
       "    }\n",
       "</style>\n",
       "<table border=\"1\" class=\"dataframe\">\n",
       "  <thead>\n",
       "    <tr style=\"text-align: right;\">\n",
       "      <th></th>\n",
       "      <th>coef_</th>\n",
       "    </tr>\n",
       "  </thead>\n",
       "  <tbody>\n",
       "    <tr>\n",
       "      <th>Intercept</th>\n",
       "      <td>12.549945</td>\n",
       "    </tr>\n",
       "    <tr>\n",
       "      <th>LOB[T.ppauto]</th>\n",
       "      <td>3.202703</td>\n",
       "    </tr>\n",
       "    <tr>\n",
       "      <th>LOB[comauto]:C(np.minimum(development, 36))[T.24]</th>\n",
       "      <td>0.578694</td>\n",
       "    </tr>\n",
       "    <tr>\n",
       "      <th>LOB[ppauto]:C(np.minimum(development, 36))[T.24]</th>\n",
       "      <td>0.449832</td>\n",
       "    </tr>\n",
       "    <tr>\n",
       "      <th>LOB[comauto]:C(np.minimum(development, 36))[T.36]</th>\n",
       "      <td>0.790516</td>\n",
       "    </tr>\n",
       "    <tr>\n",
       "      <th>LOB[ppauto]:C(np.minimum(development, 36))[T.36]</th>\n",
       "      <td>0.321206</td>\n",
       "    </tr>\n",
       "    <tr>\n",
       "      <th>LOB[comauto]:development</th>\n",
       "      <td>-0.044627</td>\n",
       "    </tr>\n",
       "    <tr>\n",
       "      <th>LOB[ppauto]:development</th>\n",
       "      <td>-0.054814</td>\n",
       "    </tr>\n",
       "    <tr>\n",
       "      <th>LOB[comauto]:origin</th>\n",
       "      <td>0.054581</td>\n",
       "    </tr>\n",
       "    <tr>\n",
       "      <th>LOB[ppauto]:origin</th>\n",
       "      <td>0.057790</td>\n",
       "    </tr>\n",
       "  </tbody>\n",
       "</table>\n",
       "</div>"
      ],
      "text/plain": [
       "                                                       coef_\n",
       "Intercept                                          12.549945\n",
       "LOB[T.ppauto]                                       3.202703\n",
       "LOB[comauto]:C(np.minimum(development, 36))[T.24]   0.578694\n",
       "LOB[ppauto]:C(np.minimum(development, 36))[T.24]    0.449832\n",
       "LOB[comauto]:C(np.minimum(development, 36))[T.36]   0.790516\n",
       "LOB[ppauto]:C(np.minimum(development, 36))[T.36]    0.321206\n",
       "LOB[comauto]:development                           -0.044627\n",
       "LOB[ppauto]:development                            -0.054814\n",
       "LOB[comauto]:origin                                 0.054581\n",
       "LOB[ppauto]:origin                                  0.057790"
      ]
     },
     "execution_count": 30,
     "metadata": {},
     "output_type": "execute_result"
    }
   ],
   "source": [
    "clrd = cl.load_sample('clrd')['CumPaidLoss'].groupby('LOB').sum()\n",
    "clrd=clrd[clrd['LOB'].isin(['ppauto', 'comauto'])]\n",
    "dev = cl.TweedieGLM(\n",
    "    design_matrix='LOB+LOB:C(np.minimum(development, 36))+LOB:development+LOB:origin',\n",
    "    max_iter=1000).fit(clrd)\n",
    "dev.coef_"
   ]
  },
  {
   "cell_type": "markdown",
   "id": "republican-candle",
   "metadata": {},
   "source": [
    "This model is limited to 10 coefficients across two lines of business.  The basic\n",
    "chainladder model is known to be overparameterized with at least 18 parameters\n",
    "requiring estimation. Despite drastically simplifying the model, the `cdf_`\n",
    "patterns of the GLM are within 1% of the traditional chainladder for every lag\n",
    "and for both lines of business:"
   ]
  },
  {
   "cell_type": "code",
   "execution_count": 31,
   "id": "secure-committee",
   "metadata": {},
   "outputs": [
    {
     "data": {
      "text/html": [
       "<div>\n",
       "<style scoped>\n",
       "    .dataframe tbody tr th:only-of-type {\n",
       "        vertical-align: middle;\n",
       "    }\n",
       "\n",
       "    .dataframe tbody tr th {\n",
       "        vertical-align: top;\n",
       "    }\n",
       "\n",
       "    .dataframe thead th {\n",
       "        text-align: right;\n",
       "    }\n",
       "</style>\n",
       "<table border=\"1\" class=\"dataframe\">\n",
       "  <thead>\n",
       "    <tr style=\"text-align: right;\">\n",
       "      <th>development</th>\n",
       "      <th>12-Ult</th>\n",
       "      <th>24-Ult</th>\n",
       "      <th>36-Ult</th>\n",
       "      <th>48-Ult</th>\n",
       "      <th>60-Ult</th>\n",
       "      <th>72-Ult</th>\n",
       "      <th>84-Ult</th>\n",
       "      <th>96-Ult</th>\n",
       "      <th>108-Ult</th>\n",
       "    </tr>\n",
       "    <tr>\n",
       "      <th>LOB</th>\n",
       "      <th></th>\n",
       "      <th></th>\n",
       "      <th></th>\n",
       "      <th></th>\n",
       "      <th></th>\n",
       "      <th></th>\n",
       "      <th></th>\n",
       "      <th></th>\n",
       "      <th></th>\n",
       "    </tr>\n",
       "  </thead>\n",
       "  <tbody>\n",
       "    <tr>\n",
       "      <th>comauto</th>\n",
       "      <td>0.002</td>\n",
       "      <td>0.003</td>\n",
       "      <td>-0.01</td>\n",
       "      <td>0.003</td>\n",
       "      <td>0.011</td>\n",
       "      <td>0.008</td>\n",
       "      <td>0.005</td>\n",
       "      <td>-0.000</td>\n",
       "      <td>-0.002</td>\n",
       "    </tr>\n",
       "    <tr>\n",
       "      <th>ppauto</th>\n",
       "      <td>0.006</td>\n",
       "      <td>0.003</td>\n",
       "      <td>-0.00</td>\n",
       "      <td>0.001</td>\n",
       "      <td>0.002</td>\n",
       "      <td>0.001</td>\n",
       "      <td>0.001</td>\n",
       "      <td>0.001</td>\n",
       "      <td>0.001</td>\n",
       "    </tr>\n",
       "  </tbody>\n",
       "</table>\n",
       "</div>"
      ],
      "text/plain": [
       "development  12-Ult  24-Ult  36-Ult  48-Ult  60-Ult  72-Ult  84-Ult  96-Ult  \\\n",
       "LOB                                                                           \n",
       "comauto       0.002   0.003   -0.01   0.003   0.011   0.008   0.005  -0.000   \n",
       "ppauto        0.006   0.003   -0.00   0.001   0.002   0.001   0.001   0.001   \n",
       "\n",
       "development  108-Ult  \n",
       "LOB                   \n",
       "comauto       -0.002  \n",
       "ppauto         0.001  "
      ]
     },
     "execution_count": 31,
     "metadata": {},
     "output_type": "execute_result"
    }
   ],
   "source": [
    "((dev.cdf_.iloc[..., 0, :] / \n",
    "  cl.Development().fit(clrd).cdf_) - 1\n",
    ").to_frame().round(3)"
   ]
  },
  {
   "cell_type": "markdown",
   "id": "according-headset",
   "metadata": {},
   "source": [
    "Like every other Development estimator, the `TweedieGLM` produces a set of `ldf_`\n",
    "patterns and can be used in a larger workflow with tail extrapolation and reserve\n",
    "estimation.\n",
    "\n",
    "```{eval-rst}\n",
    ".. topic:: References\n",
    "\n",
    "  .. [T2016] Taylor, G. and McGuire G., \"Stochastic Loss Reserving Using Generalized Linear Models\", CAS Monograph #3\n",
    "```"
   ]
  },
  {
   "cell_type": "markdown",
   "id": "killing-constitution",
   "metadata": {},
   "source": [
    "## DevelopmentML\n",
    "\n",
    "`DevelopmentML` is a general development estimator that works as an interface to\n",
    "scikit-learn compliant machine learning (ML) estimators.  The `TweedieGLM` is\n",
    "a special case of `DevelopmentML` with the ML algorithm limited to scikit-learn's\n",
    "`TweedieRegressor` estimator.\n",
    "\n",
    "### The Interface\n",
    "\n",
    "ML algorithms are designed to be fit against tabular data like a pandas DataFrame\n",
    "or a 2D numpy array.  A `Triangle` does not meet the definition and so `DevelopmentML`\n",
    "is provided to incorporate ML into a broader reserving workflow. This includes:\n",
    "\n",
    "  1. Automatic conversion of Triangle to a dataframe for fitting\n",
    "  2. Flexibility in expressing any preprocessing as part of a scikit-learn `Pipeline`\n",
    "  3. Predictions through the terminal development age of a `Triangle` to fill in the\n",
    "     lower half\n",
    "  4. Predictions converted to `ldf_` patterns so that the results of the estimator\n",
    "     are compliant with the rest of `chainladder`, like tail selection and IBNR modeling.\n",
    "\n",
    "### Features\n",
    "\n",
    "Data from any axis of a `Triangle` is available to be used in the `DevelopmentML`\n",
    "estimator.  For example, we can use many of the scikit-learn components to\n",
    "generate development patterns from both the time axes as well as the `index` of\n",
    "the `Triangle`."
   ]
  },
  {
   "cell_type": "code",
   "execution_count": 32,
   "id": "middle-machinery",
   "metadata": {},
   "outputs": [
    {
     "data": {
      "text/html": [
       "<table border=\"1\" class=\"dataframe\">\n",
       "  <thead>\n",
       "    <tr style=\"text-align: right;\">\n",
       "      <th></th>\n",
       "      <th>Triangle Summary</th>\n",
       "    </tr>\n",
       "  </thead>\n",
       "  <tbody>\n",
       "    <tr>\n",
       "      <th>Valuation:</th>\n",
       "      <td>2261-12</td>\n",
       "    </tr>\n",
       "    <tr>\n",
       "      <th>Grain:</th>\n",
       "      <td>OYDY</td>\n",
       "    </tr>\n",
       "    <tr>\n",
       "      <th>Shape:</th>\n",
       "      <td>(6, 1, 10, 9)</td>\n",
       "    </tr>\n",
       "    <tr>\n",
       "      <th>Index:</th>\n",
       "      <td>[LOB]</td>\n",
       "    </tr>\n",
       "    <tr>\n",
       "      <th>Columns:</th>\n",
       "      <td>[CumPaidLoss]</td>\n",
       "    </tr>\n",
       "  </tbody>\n",
       "</table>"
      ],
      "text/plain": [
       "           Triangle Summary\n",
       "Valuation:          2261-12\n",
       "Grain:                 OYDY\n",
       "Shape:        (6, 1, 10, 9)\n",
       "Index:                [LOB]\n",
       "Columns:      [CumPaidLoss]"
      ]
     },
     "execution_count": 32,
     "metadata": {},
     "output_type": "execute_result"
    }
   ],
   "source": [
    "from sklearn.ensemble import RandomForestRegressor\n",
    "from sklearn.pipeline import Pipeline\n",
    "from sklearn.preprocessing import OneHotEncoder\n",
    "from sklearn.compose import ColumnTransformer\n",
    "\n",
    "clrd = cl.load_sample('clrd').groupby('LOB').sum()['CumPaidLoss']\n",
    "\n",
    "# Decide how to preprocess the X (ML) dataset using sklearn\n",
    "design_matrix = ColumnTransformer(transformers=[\n",
    "    ('dummy', OneHotEncoder(drop='first'), ['LOB', 'development']),\n",
    "    ('passthrough', 'passthrough', ['origin'])\n",
    "])\n",
    "\n",
    "# Wrap preprocessing and model in a larger sklearn Pipeline\n",
    "estimator_ml = Pipeline(steps=[\n",
    "    ('design_matrix', design_matrix),\n",
    "    ('model', RandomForestRegressor())\n",
    "])\n",
    "\n",
    "# Fitting DevelopmentML fits the underlying ML model and gives access to ldf_\n",
    "cl.DevelopmentML(estimator_ml=estimator_ml, y_ml='CumPaidLoss').fit(clrd).ldf_"
   ]
  },
  {
   "cell_type": "markdown",
   "id": "atlantic-venice",
   "metadata": {},
   "source": [
    "### Autoregressive\n",
    "\n",
    "The time-series nature of loss development naturally lends to an urge for autoregressive\n",
    "features.  That is, features that are based on predictions, albeit on a lagged basis.\n",
    "`DevelopmentML` includes an `autoregressive` parameter that can be used to\n",
    "express the response as a lagged feature as well.\n",
    "\n",
    "```{note}\n",
    "When using `autoregressive` features, you must also declare it as a column\n",
    "in your `estimator_ml` Pipeline.\n",
    "```\n",
    "\n",
    "### PatsyFormula\n",
    "\n",
    "While the sklearn preprocessing API is powerful, it can be tedious work with in\n",
    "some instances. In particular, modeling complex interactions is much easier to do\n",
    "with Patsy.  The `chainladder` package includes a custom sklearn estimator\n",
    "to gain access to the patsy API.  This is done through the `PatsyFormula` estimator."
   ]
  },
  {
   "cell_type": "code",
   "execution_count": 33,
   "id": "civil-state",
   "metadata": {},
   "outputs": [
    {
     "data": {
      "text/html": [
       "<table border=\"1\" class=\"dataframe\">\n",
       "  <thead>\n",
       "    <tr style=\"text-align: right;\">\n",
       "      <th></th>\n",
       "      <th>12-24</th>\n",
       "      <th>24-36</th>\n",
       "      <th>36-48</th>\n",
       "      <th>48-60</th>\n",
       "      <th>60-72</th>\n",
       "      <th>72-84</th>\n",
       "      <th>84-96</th>\n",
       "      <th>96-108</th>\n",
       "      <th>108-120</th>\n",
       "    </tr>\n",
       "  </thead>\n",
       "  <tbody>\n",
       "    <tr>\n",
       "      <th>(All)</th>\n",
       "      <td>2.6500</td>\n",
       "      <td>1.4100</td>\n",
       "      <td>1.1900</td>\n",
       "      <td>1.1000</td>\n",
       "      <td>1.0400</td>\n",
       "      <td>1.0200</td>\n",
       "      <td>1.0100</td>\n",
       "      <td>1.0100</td>\n",
       "      <td>1.0100</td>\n",
       "    </tr>\n",
       "  </tbody>\n",
       "</table>"
      ],
      "text/plain": [
       "       12-24  24-36  36-48  48-60  60-72  72-84  84-96  96-108  108-120\n",
       "(All)   2.65   1.41   1.19    1.1   1.04   1.02   1.01    1.01     1.01"
      ]
     },
     "execution_count": 33,
     "metadata": {},
     "output_type": "execute_result"
    }
   ],
   "source": [
    "estimator_ml = Pipeline(steps=[\n",
    "    ('design_matrix', cl.PatsyFormula('LOB:C(origin)+LOB:C(development)+development')),\n",
    "    ('model', RandomForestRegressor())\n",
    "])\n",
    "cl.DevelopmentML(\n",
    "    estimator_ml=estimator_ml, \n",
    "    y_ml='CumPaidLoss').fit(clrd).ldf_.iloc[0, 0, 0].round(2)"
   ]
  },
  {
   "cell_type": "markdown",
   "id": "prime-teacher",
   "metadata": {},
   "source": [
    "```{note}\n",
    "`PatsyFormula` is not an estimator designed to work with triangles.  It is an sklearn transformer designed to work with pandas DataFrames allowing it to work directly in an sklearn Pipeline.\n",
    "```"
   ]
  },
  {
   "cell_type": "markdown",
   "id": "weird-stone",
   "metadata": {},
   "source": [
    "## BarnettZehnwirth\n",
    "\n",
    "The `BarnettZehnwirth` estimator solves for development patterns using the\n",
    "Probabilistic Trend Family (PTF) regression framework.  Unlike the ELRF framework,\n",
    "which assumes no ``valuation`` covariate, the PTF framework allows for this.\n",
    "\n",
    "```{eval-rst}\n",
    ".. figure:: ../images/prob_trend_family.PNG\n",
    "   :align: center\n",
    "   :scale: 40%\n",
    "```\n",
    "\n",
    "Structurally, the PTF regression is different from the `ELRF` (ELRF) regression framework in\n",
    "two distinct ways:\n",
    "\n",
    "  1. Where the ELRF fits independent regressions to each adjacent development lag, the PTF\n",
    "     regression is fit to the entire triangle\n",
    "  2. Where the ELRF is fit to cumulative amounts, the PTF is fit to the log of\n",
    "     the incremental amounts of the `Triangle`.\n",
    "\n",
    "### Formulation\n",
    "\n",
    "The PTF framework is an ordinary least squares (OLS) model with the response, `y`\n",
    "being the log of the incremental amounts of a Triangle. These are assumed to be\n",
    "normally distributed which implies the incrementals themselves are log-normal\n",
    "distributed.\n",
    "\n",
    "The framework includes coefficients for origin periods (alpha), development periods (gamma)\n",
    "and calendar period (iota).\n",
    "\n",
    "\n",
    "$y(i, j) = \\alpha _{i} + \\sum_{k=1}^{j}\\gamma _{k}+ \\sum_{\\iota =1}^{i+j}\\gamma _{\\iota}+ \\varepsilon  _{i,j}$\n",
    "\n",
    "These coefficients can be categorical or continuous, and to support a wide range of\n",
    "model forms, patsy formulas are used.\n"
   ]
  },
  {
   "cell_type": "code",
   "execution_count": 34,
   "id": "innovative-attachment",
   "metadata": {},
   "outputs": [
    {
     "data": {
      "text/html": [
       "<div>\n",
       "<style scoped>\n",
       "    .dataframe tbody tr th:only-of-type {\n",
       "        vertical-align: middle;\n",
       "    }\n",
       "\n",
       "    .dataframe tbody tr th {\n",
       "        vertical-align: top;\n",
       "    }\n",
       "\n",
       "    .dataframe thead th {\n",
       "        text-align: right;\n",
       "    }\n",
       "</style>\n",
       "<table border=\"1\" class=\"dataframe\">\n",
       "  <thead>\n",
       "    <tr style=\"text-align: right;\">\n",
       "      <th></th>\n",
       "      <th>Intercept</th>\n",
       "      <th>C(origin)[T.1.0]</th>\n",
       "      <th>C(origin)[T.2.0]</th>\n",
       "      <th>C(origin)[T.3.0]</th>\n",
       "      <th>C(origin)[T.4.0]</th>\n",
       "      <th>C(origin)[T.5.0]</th>\n",
       "      <th>C(origin)[T.6.0]</th>\n",
       "      <th>C(origin)[T.7.0]</th>\n",
       "      <th>C(origin)[T.8.0]</th>\n",
       "      <th>C(origin)[T.9.0]</th>\n",
       "      <th>...</th>\n",
       "      <th>C(development)[T.24]</th>\n",
       "      <th>C(development)[T.36]</th>\n",
       "      <th>C(development)[T.48]</th>\n",
       "      <th>C(development)[T.60]</th>\n",
       "      <th>C(development)[T.72]</th>\n",
       "      <th>C(development)[T.84]</th>\n",
       "      <th>C(development)[T.96]</th>\n",
       "      <th>C(development)[T.108]</th>\n",
       "      <th>C(development)[T.120]</th>\n",
       "      <th>C(development)[T.132]</th>\n",
       "    </tr>\n",
       "  </thead>\n",
       "  <tbody>\n",
       "    <tr>\n",
       "      <th>coef_</th>\n",
       "      <td>11.836863</td>\n",
       "      <td>0.178824</td>\n",
       "      <td>0.345112</td>\n",
       "      <td>0.378133</td>\n",
       "      <td>0.405093</td>\n",
       "      <td>0.427041</td>\n",
       "      <td>0.431076</td>\n",
       "      <td>0.660383</td>\n",
       "      <td>0.963223</td>\n",
       "      <td>1.1568</td>\n",
       "      <td>...</td>\n",
       "      <td>0.251091</td>\n",
       "      <td>-0.055824</td>\n",
       "      <td>-0.448589</td>\n",
       "      <td>-0.828917</td>\n",
       "      <td>-1.16913</td>\n",
       "      <td>-1.507561</td>\n",
       "      <td>-1.798345</td>\n",
       "      <td>-2.0231</td>\n",
       "      <td>-2.238333</td>\n",
       "      <td>-2.427672</td>\n",
       "    </tr>\n",
       "  </tbody>\n",
       "</table>\n",
       "<p>1 rows × 21 columns</p>\n",
       "</div>"
      ],
      "text/plain": [
       "       Intercept  C(origin)[T.1.0]  C(origin)[T.2.0]  C(origin)[T.3.0]  \\\n",
       "coef_  11.836863          0.178824          0.345112          0.378133   \n",
       "\n",
       "       C(origin)[T.4.0]  C(origin)[T.5.0]  C(origin)[T.6.0]  C(origin)[T.7.0]  \\\n",
       "coef_          0.405093          0.427041          0.431076          0.660383   \n",
       "\n",
       "       C(origin)[T.8.0]  C(origin)[T.9.0]  ...  C(development)[T.24]  \\\n",
       "coef_          0.963223            1.1568  ...              0.251091   \n",
       "\n",
       "       C(development)[T.36]  C(development)[T.48]  C(development)[T.60]  \\\n",
       "coef_             -0.055824             -0.448589             -0.828917   \n",
       "\n",
       "       C(development)[T.72]  C(development)[T.84]  C(development)[T.96]  \\\n",
       "coef_              -1.16913             -1.507561             -1.798345   \n",
       "\n",
       "       C(development)[T.108]  C(development)[T.120]  C(development)[T.132]  \n",
       "coef_                -2.0231              -2.238333              -2.427672  \n",
       "\n",
       "[1 rows x 21 columns]"
      ]
     },
     "execution_count": 34,
     "metadata": {},
     "output_type": "execute_result"
    }
   ],
   "source": [
    "abc = cl.load_sample('abc')\n",
    "\n",
    "# Discrete origin, development, valuation\n",
    "cl.BarnettZehnwirth(formula='C(origin)+C(development)').fit(abc).coef_.T"
   ]
  },
  {
   "cell_type": "code",
   "execution_count": 35,
   "id": "nominated-zimbabwe",
   "metadata": {},
   "outputs": [
    {
     "data": {
      "text/html": [
       "<div>\n",
       "<style scoped>\n",
       "    .dataframe tbody tr th:only-of-type {\n",
       "        vertical-align: middle;\n",
       "    }\n",
       "\n",
       "    .dataframe tbody tr th {\n",
       "        vertical-align: top;\n",
       "    }\n",
       "\n",
       "    .dataframe thead th {\n",
       "        text-align: right;\n",
       "    }\n",
       "</style>\n",
       "<table border=\"1\" class=\"dataframe\">\n",
       "  <thead>\n",
       "    <tr style=\"text-align: right;\">\n",
       "      <th></th>\n",
       "      <th>Intercept</th>\n",
       "      <th>origin</th>\n",
       "      <th>development</th>\n",
       "      <th>valuation</th>\n",
       "    </tr>\n",
       "  </thead>\n",
       "  <tbody>\n",
       "    <tr>\n",
       "      <th>coef_</th>\n",
       "      <td>8.359157</td>\n",
       "      <td>4.215981</td>\n",
       "      <td>0.319288</td>\n",
       "      <td>-4.116569</td>\n",
       "    </tr>\n",
       "  </tbody>\n",
       "</table>\n",
       "</div>"
      ],
      "text/plain": [
       "       Intercept    origin  development  valuation\n",
       "coef_   8.359157  4.215981     0.319288  -4.116569"
      ]
     },
     "execution_count": 35,
     "metadata": {},
     "output_type": "execute_result"
    }
   ],
   "source": [
    "# Linear coefficients for origin, development, and valuation\n",
    "cl.BarnettZehnwirth(formula='origin+development+valuation').fit(abc).coef_.T"
   ]
  },
  {
   "cell_type": "markdown",
   "id": "pending-breakdown",
   "metadata": {},
   "source": [
    "The PTF framework is particularly useful when there is calendar period inflation\n",
    "influences on loss development.\n",
    "\n",
    "```{eval-rst}\n",
    ".. topic:: References\n",
    "\n",
    " .. [B2000] Barnett, G. and Zehnwirth, B., \"Best Estimates for Reserves\", Proceedings of the CAS, Volume LXXXVII, 2000\n",
    "```"
   ]
  },
  {
   "cell_type": "code",
   "execution_count": null,
   "id": "blank-enemy",
   "metadata": {},
   "outputs": [],
   "source": []
  }
 ],
 "metadata": {
  "kernelspec": {
   "display_name": "Python 3 (ipykernel)",
   "language": "python",
   "name": "python3"
  },
  "language_info": {
   "codemirror_mode": {
    "name": "ipython",
    "version": 3
   },
   "file_extension": ".py",
   "mimetype": "text/x-python",
   "name": "python",
   "nbconvert_exporter": "python",
   "pygments_lexer": "ipython3",
   "version": "3.9.7"
  }
 },
 "nbformat": 4,
 "nbformat_minor": 5
}
