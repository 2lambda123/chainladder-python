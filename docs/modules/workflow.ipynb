{
 "cells": [
  {
   "cell_type": "markdown",
   "id": "c3660882-d3f0-49ee-8793-1472a60c77be",
   "metadata": {},
   "source": [
    "# Workflow\n",
    "``chainladder`` facilitates practical reserving workflows.\n",
    "\n",
    "## Pipeline\n",
    "The :class:`Pipeline` class implements utilities to build a composite\n",
    "estimator, as a chain of transforms and estimators.  Said differently, a\n",
    "`Pipeline` is a way to wrap multiple estimators into a single compact object.\n",
    "The `Pipeline` is borrowed from scikit-learn.  As an example of compactness,\n",
    "we can simulate a set of triangles using bootstrap sampling, apply volume-weigted\n",
    "development, exponential tail curve fitting, and get the 95%-ile IBNR estimate.\n"
   ]
  },
  {
   "cell_type": "code",
   "execution_count": 4,
   "id": "1f11205a-81fc-4e74-8c8b-9a0a823f2a78",
   "metadata": {},
   "outputs": [
    {
     "data": {
      "text/plain": [
       "26063265.939845018"
      ]
     },
     "execution_count": 4,
     "metadata": {},
     "output_type": "execute_result"
    }
   ],
   "source": [
    "import chainladder as cl\n",
    "import numpy as np\n",
    "\n",
    "steps=[\n",
    "    ('sample', cl.BootstrapODPSample(random_state=42)),\n",
    "    ('dev', cl.Development(average='volume')),\n",
    "    ('tail', cl.TailCurve('exponential')),\n",
    "    ('model', cl.Chainladder())]\n",
    "pipe = cl.Pipeline(steps=steps)\n",
    "pipe.fit(cl.load_sample('genins'))\n",
    "pipe.named_steps.model.ibnr_.sum('origin').quantile(q=.95)"
   ]
  },
  {
   "cell_type": "markdown",
   "id": "cbc68b86-3d18-48fe-a262-01a19d8576ed",
   "metadata": {},
   "source": [
    "Each estimator contained within a pipelines ``steps`` can be accessed by name\n",
    "using the ``named_steps`` attribute of the `Pipeline`."
   ]
  },
  {
   "cell_type": "markdown",
   "id": "2e81528d-3637-4151-bac6-d6168312b5dd",
   "metadata": {},
   "source": [
    "## VotingChainladder\n",
    "\n",
    "The :class:`VotingChainladder` ensemble method allows the actuary to vote between\n",
    "different underlying ``ibnr_`` by way of a matrix of weights.\n",
    "\n",
    "For example, the actuary may choose \n",
    "* the :class:`Chainladder` method for the first 4 origin periods, \n",
    "* the :class:`BornhuetterFerguson` method for the next 3 origin periods,\n",
    "* and the :class:`CapeCod` method for the final 3."
   ]
  },
  {
   "cell_type": "code",
   "execution_count": 5,
   "id": "748cd4db-8234-4504-a641-29cc1cda5fc1",
   "metadata": {},
   "outputs": [
    {
     "data": {
      "text/html": [
       "<table border=\"1\" class=\"dataframe\">\n",
       "  <thead>\n",
       "    <tr style=\"text-align: right;\">\n",
       "      <th></th>\n",
       "      <th>2261</th>\n",
       "    </tr>\n",
       "  </thead>\n",
       "  <tbody>\n",
       "    <tr>\n",
       "      <th>1981</th>\n",
       "      <td>18,834</td>\n",
       "    </tr>\n",
       "    <tr>\n",
       "      <th>1982</th>\n",
       "      <td>16,858</td>\n",
       "    </tr>\n",
       "    <tr>\n",
       "      <th>1983</th>\n",
       "      <td>24,083</td>\n",
       "    </tr>\n",
       "    <tr>\n",
       "      <th>1984</th>\n",
       "      <td>28,703</td>\n",
       "    </tr>\n",
       "    <tr>\n",
       "      <th>1985</th>\n",
       "      <td>28,204</td>\n",
       "    </tr>\n",
       "    <tr>\n",
       "      <th>1986</th>\n",
       "      <td>19,840</td>\n",
       "    </tr>\n",
       "    <tr>\n",
       "      <th>1987</th>\n",
       "      <td>18,840</td>\n",
       "    </tr>\n",
       "    <tr>\n",
       "      <th>1988</th>\n",
       "      <td>23,107</td>\n",
       "    </tr>\n",
       "    <tr>\n",
       "      <th>1989</th>\n",
       "      <td>20,005</td>\n",
       "    </tr>\n",
       "    <tr>\n",
       "      <th>1990</th>\n",
       "      <td>21,606</td>\n",
       "    </tr>\n",
       "  </tbody>\n",
       "</table>"
      ],
      "text/plain": [
       "              2261\n",
       "1981  18834.000000\n",
       "1982  16857.953917\n",
       "1983  24083.370924\n",
       "1984  28703.142163\n",
       "1985  28203.700714\n",
       "1986  19840.005163\n",
       "1987  18840.362337\n",
       "1988  23106.943030\n",
       "1989  20004.502125\n",
       "1990  21605.832631"
      ]
     },
     "execution_count": 5,
     "metadata": {},
     "output_type": "execute_result"
    }
   ],
   "source": [
    "raa = cl.load_sample('RAA')\n",
    "cl_ult = cl.Chainladder().fit(raa).ultimate_ # Chainladder Ultimate\n",
    "apriori = cl_ult*0+(cl_ult.sum()/10) # Mean Chainladder Ultimate\n",
    "\n",
    "bcl = cl.Chainladder()\n",
    "bf = cl.BornhuetterFerguson()\n",
    "cc = cl.CapeCod()\n",
    "\n",
    "estimators = [('bcl', bcl), ('bf', bf), ('cc', cc)]\n",
    "weights = np.array([[1, 0, 0]] * 4 + [[0, 1, 0]] * 3 + [[0, 0, 1]] * 3)\n",
    "vot = cl.VotingChainladder(estimators=estimators, weights=weights)\n",
    "vot.fit(raa, sample_weight=apriori)\n",
    "vot.ultimate_"
   ]
  },
  {
   "cell_type": "markdown",
   "id": "e219ba10-79e5-444a-b810-ce57163e1276",
   "metadata": {},
   "source": [
    "Alternatively, the actuary may choose to combine all methods using weights. Omitting\n",
    "the weights parameter results in the average of all predictions assuming a weight of 1.\n",
    "Alternatively, a default weight can be enforced through the `default_weight` parameter.\n"
   ]
  },
  {
   "cell_type": "code",
   "execution_count": 6,
   "id": "15074fdb-e2f1-4353-9500-d842e9c56283",
   "metadata": {},
   "outputs": [
    {
     "data": {
      "text/html": [
       "<table border=\"1\" class=\"dataframe\">\n",
       "  <thead>\n",
       "    <tr style=\"text-align: right;\">\n",
       "      <th></th>\n",
       "      <th>2261</th>\n",
       "    </tr>\n",
       "  </thead>\n",
       "  <tbody>\n",
       "    <tr>\n",
       "      <th>1981</th>\n",
       "      <td>18,834</td>\n",
       "    </tr>\n",
       "    <tr>\n",
       "      <th>1982</th>\n",
       "      <td>16,887</td>\n",
       "    </tr>\n",
       "    <tr>\n",
       "      <th>1983</th>\n",
       "      <td>24,042</td>\n",
       "    </tr>\n",
       "    <tr>\n",
       "      <th>1984</th>\n",
       "      <td>28,436</td>\n",
       "    </tr>\n",
       "    <tr>\n",
       "      <th>1985</th>\n",
       "      <td>28,467</td>\n",
       "    </tr>\n",
       "    <tr>\n",
       "      <th>1986</th>\n",
       "      <td>19,771</td>\n",
       "    </tr>\n",
       "    <tr>\n",
       "      <th>1987</th>\n",
       "      <td>18,548</td>\n",
       "    </tr>\n",
       "    <tr>\n",
       "      <th>1988</th>\n",
       "      <td>23,305</td>\n",
       "    </tr>\n",
       "    <tr>\n",
       "      <th>1989</th>\n",
       "      <td>18,530</td>\n",
       "    </tr>\n",
       "    <tr>\n",
       "      <th>1990</th>\n",
       "      <td>20,331</td>\n",
       "    </tr>\n",
       "  </tbody>\n",
       "</table>"
      ],
      "text/plain": [
       "              2261\n",
       "1981  18834.000000\n",
       "1982  16887.197765\n",
       "1983  24041.977401\n",
       "1984  28435.540175\n",
       "1985  28466.807537\n",
       "1986  19770.579236\n",
       "1987  18547.931167\n",
       "1988  23305.361472\n",
       "1989  18530.213787\n",
       "1990  20331.432662"
      ]
     },
     "execution_count": 6,
     "metadata": {},
     "output_type": "execute_result"
    }
   ],
   "source": [
    "raa = cl.load_sample('RAA')\n",
    "cl_ult = cl.Chainladder().fit(raa).ultimate_ # Chainladder Ultimate\n",
    "apriori = cl_ult * 0 + (float(cl_ult.sum()) / 10) # Mean Chainladder Ultimate\n",
    "\n",
    "bcl = cl.Chainladder()\n",
    "bf = cl.BornhuetterFerguson()\n",
    "cc = cl.CapeCod()\n",
    "\n",
    "estimators = [('bcl', bcl), ('bf', bf), ('cc', cc)]\n",
    "vot = cl.VotingChainladder(estimators=estimators)\n",
    "vot.fit(raa, sample_weight=apriori)\n",
    "vot.ultimate_"
   ]
  },
  {
   "cell_type": "markdown",
   "id": "d4251092-6d4c-4782-9380-e42e8dd1c207",
   "metadata": {},
   "source": [
    "The weights can take the form of an array (as above), a dict, or a callable:\n"
   ]
  },
  {
   "cell_type": "code",
   "execution_count": 7,
   "id": "176da773-eedc-4183-89f2-142945c2e4d4",
   "metadata": {},
   "outputs": [],
   "source": [
    "callable_weight = lambda origin : np.where(origin.year < 1985, (1, 0, 0), np.where(origin.year > 1987, (0, 0, 1), (0, 1, 0)))\n",
    "\n",
    "dict_weight = {\n",
    "    '1992': (0, 1, 0),\n",
    "    '1993': (0, 1, 0),\n",
    "    '1994': (0, 1, 0),\n",
    "    '1995': (0, 0, 1),\n",
    "    '1996': (0, 0, 1),\n",
    "    '1997': (0, 0, 1),\n",
    "}  # Unmapped origins will get `default_weight`\n"
   ]
  },
  {
   "cell_type": "markdown",
   "id": "43cd39c7-e0e1-428c-ad21-cf96a94fd7a4",
   "metadata": {},
   "source": [
    "GridSearch\n",
    "==========\n",
    "The grid search provided by :class:`GridSearch` exhaustively generates\n",
    "candidates from a grid of parameter values specified with the ``param_grid``\n",
    "parameter.  Like `Pipeline`, `GridSearch` borrows from its scikit-learn counterpart\n",
    "``GridSearchCV``.\n",
    "\n",
    "Because reserving techniques are different from supervised machine learning,\n",
    "`GridSearch` does not try to pick optimal hyperparameters for you. It is more of\n",
    "a scenario-testing estimator.\n",
    "\n",
    "`GridSearch` can be applied to all other estimators, including the `Pipeline`\n",
    "estimator.  To use it, one must specify a ``param_grid`` as well as a ``scoring``\n",
    "function which defines the estimator property(s) you wish to capture.  If capturing\n",
    "multiple properties is desired, multiple scoring functions can be created and\n",
    "stored in a dictionary.\n",
    "\n",
    "Here we capture multiple properties of the `TailBondy` estimator using the\n",
    "`GridSearch` routine to test the sensitivity of the model to changing hyperparameters.\n",
    "\n",
    "```{eval-rst}\n",
    ".. figure:: /auto_examples/images/sphx_glr_plot_bondy_sensitivity_001.png\n",
    "   :target: ../auto_examples/plot_bondy_sensitivity.html\n",
    "   :align: center\n",
    "   :scale: 70%\n",
    "```\n",
    "\n",
    "Using `GridSearch` for scenario testing is entirely optional.  You can write\n",
    "your own looping mechanisms to achieve the same result.  For example:\n",
    "\n",
    "```{eval-rst}\n",
    ".. figure:: /auto_examples/images/sphx_glr_plot_capecod_001.png\n",
    "   :target: ../auto_examples/plot_capecod.html\n",
    "   :align: center\n",
    "   :scale: 50%\n",
    "```"
   ]
  },
  {
   "cell_type": "code",
   "execution_count": null,
   "id": "1e6da076-3f0b-4db6-9552-7007720ab608",
   "metadata": {},
   "outputs": [],
   "source": []
  }
 ],
 "metadata": {
  "kernelspec": {
   "display_name": "Python 3 (ipykernel)",
   "language": "python",
   "name": "python3"
  },
  "language_info": {
   "codemirror_mode": {
    "name": "ipython",
    "version": 3
   },
   "file_extension": ".py",
   "mimetype": "text/x-python",
   "name": "python",
   "nbconvert_exporter": "python",
   "pygments_lexer": "ipython3",
   "version": "3.7.11"
  }
 },
 "nbformat": 4,
 "nbformat_minor": 5
}
